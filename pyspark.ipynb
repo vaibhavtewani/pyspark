{
 "cells": [
  {
   "cell_type": "code",
   "execution_count": 1,
   "id": "d84115f0",
   "metadata": {
    "ExecuteTime": {
     "end_time": "2022-08-28T22:05:21.038897Z",
     "start_time": "2022-08-28T22:05:15.903529Z"
    }
   },
   "outputs": [],
   "source": [
    "\n",
    "import pyspark"
   ]
  },
  {
   "cell_type": "code",
   "execution_count": 2,
   "id": "1f977222",
   "metadata": {
    "ExecuteTime": {
     "end_time": "2022-08-28T22:05:22.544582Z",
     "start_time": "2022-08-28T22:05:22.532580Z"
    }
   },
   "outputs": [],
   "source": [
    "\n",
    "from pyspark.sql import SparkSession \n",
    "from pyspark import SparkConf,SparkContext"
   ]
  },
  {
   "cell_type": "code",
   "execution_count": 3,
   "id": "a3c7276f",
   "metadata": {
    "ExecuteTime": {
     "end_time": "2022-08-28T22:05:58.876325Z",
     "start_time": "2022-08-28T22:05:24.692861Z"
    }
   },
   "outputs": [],
   "source": [
    "spark = SparkSession.builder.appName('first').getOrCreate()"
   ]
  },
  {
   "cell_type": "code",
   "execution_count": 4,
   "id": "56554b59",
   "metadata": {
    "ExecuteTime": {
     "end_time": "2022-08-28T21:14:00.849804Z",
     "start_time": "2022-08-28T21:14:00.833095Z"
    }
   },
   "outputs": [
    {
     "ename": "SyntaxError",
     "evalue": "invalid syntax (Temp/ipykernel_10624/39927228.py, line 1)",
     "output_type": "error",
     "traceback": [
      "\u001b[1;36m  File \u001b[1;32m\"C:\\Users\\HP\\AppData\\Local\\Temp/ipykernel_10624/39927228.py\"\u001b[1;36m, line \u001b[1;32m1\u001b[0m\n\u001b[1;33m    df_pyspark =\u001b[0m\n\u001b[1;37m                 ^\u001b[0m\n\u001b[1;31mSyntaxError\u001b[0m\u001b[1;31m:\u001b[0m invalid syntax\n"
     ]
    }
   ],
   "source": [
    "df_pyspark = "
   ]
  },
  {
   "cell_type": "code",
   "execution_count": 56,
   "id": "f522c20e",
   "metadata": {
    "ExecuteTime": {
     "end_time": "2022-08-28T11:59:17.882978Z",
     "start_time": "2022-08-28T11:59:17.853952Z"
    }
   },
   "outputs": [
    {
     "ename": "NameError",
     "evalue": "name 'sc' is not defined",
     "output_type": "error",
     "traceback": [
      "\u001b[1;31m---------------------------------------------------------------------------\u001b[0m",
      "\u001b[1;31mNameError\u001b[0m                                 Traceback (most recent call last)",
      "\u001b[1;32m~\\AppData\\Local\\Temp/ipykernel_832/3725497997.py\u001b[0m in \u001b[0;36m<module>\u001b[1;34m\u001b[0m\n\u001b[1;32m----> 1\u001b[1;33m \u001b[0mspark\u001b[0m \u001b[1;33m=\u001b[0m \u001b[0mSparkSession\u001b[0m\u001b[1;33m(\u001b[0m\u001b[0msc\u001b[0m\u001b[1;33m)\u001b[0m\u001b[1;33m\u001b[0m\u001b[1;33m\u001b[0m\u001b[0m\n\u001b[0m",
      "\u001b[1;31mNameError\u001b[0m: name 'sc' is not defined"
     ]
    }
   ],
   "source": [
    "spark = SparkSession(sc)"
   ]
  },
  {
   "cell_type": "code",
   "execution_count": 11,
   "id": "57545b6f",
   "metadata": {
    "ExecuteTime": {
     "end_time": "2022-08-22T13:32:01.006595Z",
     "start_time": "2022-08-22T13:31:29.835200Z"
    }
   },
   "outputs": [],
   "source": [
    "df_pyspark = spark.read.csv('D:\\python for data science introduction\\stackoverflow dataset\\survey_results_public.csv')"
   ]
  },
  {
   "cell_type": "code",
   "execution_count": 15,
   "id": "ce1ffc53",
   "metadata": {
    "ExecuteTime": {
     "end_time": "2022-08-22T13:37:21.324235Z",
     "start_time": "2022-08-22T13:37:21.028027Z"
    }
   },
   "outputs": [
    {
     "data": {
      "text/plain": [
       "[Row(_c0='Respondent', _c1='MainBranch', _c2='Hobbyist', _c3='Age', _c4='Age1stCode', _c5='CompFreq', _c6='CompTotal', _c7='ConvertedComp', _c8='Country', _c9='CurrencyDesc', _c10='CurrencySymbol', _c11='DatabaseDesireNextYear', _c12='DatabaseWorkedWith', _c13='DevType', _c14='EdLevel', _c15='Employment', _c16='Ethnicity', _c17='Gender', _c18='JobFactors', _c19='JobSat', _c20='JobSeek', _c21='LanguageDesireNextYear', _c22='LanguageWorkedWith', _c23='MiscTechDesireNextYear', _c24='MiscTechWorkedWith', _c25='NEWCollabToolsDesireNextYear', _c26='NEWCollabToolsWorkedWith', _c27='NEWDevOps', _c28='NEWDevOpsImpt', _c29='NEWEdImpt', _c30='NEWJobHunt', _c31='NEWJobHuntResearch', _c32='NEWLearn', _c33='NEWOffTopic', _c34='NEWOnboardGood', _c35='NEWOtherComms', _c36='NEWOvertime', _c37='NEWPurchaseResearch', _c38='NEWPurpleLink', _c39='NEWSOSites', _c40='NEWStuck', _c41='OpSys', _c42='OrgSize', _c43='PlatformDesireNextYear', _c44='PlatformWorkedWith', _c45='PurchaseWhat', _c46='Sexuality', _c47='SOAccount', _c48='SOComm', _c49='SOPartFreq', _c50='SOVisitFreq', _c51='SurveyEase', _c52='SurveyLength', _c53='Trans', _c54='UndergradMajor', _c55='WebframeDesireNextYear', _c56='WebframeWorkedWith', _c57='WelcomeChange', _c58='WorkWeekHrs', _c59='YearsCode', _c60='YearsCodePro'),\n",
       " Row(_c0='1', _c1='I am a developer by profession', _c2='Yes', _c3='NA', _c4='13', _c5='Monthly', _c6='NA', _c7='NA', _c8='Germany', _c9='European Euro', _c10='EUR', _c11='Microsoft SQL Server', _c12='Elasticsearch;Microsoft SQL Server;Oracle', _c13='Developer, desktop or enterprise applications;Developer, full-stack', _c14='Master’s degree (M.A., M.S., M.Eng., MBA, etc.)', _c15='Independent contractor, freelancer, or self-employed', _c16='White or of European descent', _c17='Man', _c18='Languages, frameworks, and other technologies I’d be working with;Remote work options;Opportunities for professional development', _c19='Slightly satisfied', _c20='I am not interested in new job opportunities', _c21='C#;HTML/CSS;JavaScript', _c22='C#;HTML/CSS;JavaScript', _c23='.NET Core;Xamarin', _c24='.NET;.NET Core', _c25='Microsoft Teams;Microsoft Azure;Trello', _c26='Confluence;Jira;Slack;Microsoft Azure;Trello', _c27='No', _c28='Somewhat important', _c29='Fairly important', _c30='NA', _c31='NA', _c32='Once a year', _c33='Not sure', _c34='NA', _c35='No', _c36='Often: 1-2 days per week or more', _c37='Start a free trial;Ask developers I know/work with', _c38='Amused', _c39='Stack Overflow (public Q&A for anyone who codes)', _c40='Visit Stack Overflow;Go for a walk or other physical activity;Do other work and come back later', _c41='Windows', _c42='2 to 9 employees', _c43='Android;iOS;Kubernetes;Microsoft Azure;Windows', _c44='Windows', _c45='NA', _c46='Straight / Heterosexual', _c47='No', _c48='No, not at all', _c49='NA', _c50='Multiple times per day', _c51='Neither easy nor difficult', _c52='Appropriate in length', _c53='No', _c54='Computer science, computer engineering, or software engineering', _c55='ASP.NET Core', _c56='ASP.NET;ASP.NET Core', _c57='Just as welcome now as I felt last year', _c58='50', _c59='36', _c60='27'),\n",
       " Row(_c0='2', _c1='I am a developer by profession', _c2='No', _c3='NA', _c4='19', _c5='NA', _c6='NA', _c7='NA', _c8='United Kingdom', _c9='Pound sterling', _c10='GBP', _c11='NA', _c12='NA', _c13='Developer, full-stack;Developer, mobile', _c14='Bachelor’s degree (B.A., B.S., B.Eng., etc.)', _c15='Employed full-time', _c16='NA', _c17='NA', _c18='NA', _c19='Very dissatisfied', _c20='I am not interested in new job opportunities', _c21='Python;Swift', _c22='JavaScript;Swift', _c23='React Native;TensorFlow;Unity 3D', _c24='React Native', _c25='Github;Slack', _c26='Confluence;Jira;Github;Gitlab;Slack', _c27='NA', _c28='NA', _c29='Fairly important', _c30='NA', _c31='NA', _c32='Once a year', _c33='Not sure', _c34='NA', _c35='No', _c36='NA', _c37='NA', _c38='Amused', _c39='Stack Overflow (public Q&A for anyone who codes);Stack Exchange (public Q&A for a variety of topics);Stack Overflow Jobs (for job seekers)', _c40='Visit Stack Overflow;Go for a walk or other physical activity', _c41='MacOS', _c42='1,000 to 4,999 employees', _c43='iOS;Kubernetes;Linux;MacOS', _c44='iOS', _c45='I have little or no influence', _c46='NA', _c47='Yes', _c48='Yes, definitely', _c49='Less than once per month or monthly', _c50='Multiple times per day', _c51='NA', _c52='NA', _c53='NA', _c54='Computer science, computer engineering, or software engineering', _c55='NA', _c56='NA', _c57='Somewhat more welcome now than last year', _c58='NA', _c59='7', _c60='4')]"
      ]
     },
     "execution_count": 15,
     "metadata": {},
     "output_type": "execute_result"
    }
   ],
   "source": [
    "df_pyspark.head(3)"
   ]
  },
  {
   "cell_type": "code",
   "execution_count": 16,
   "id": "92bd4b09",
   "metadata": {
    "ExecuteTime": {
     "end_time": "2022-08-22T13:38:14.968240Z",
     "start_time": "2022-08-22T13:38:14.949291Z"
    }
   },
   "outputs": [
    {
     "name": "stdout",
     "output_type": "stream",
     "text": [
      "root\n",
      " |-- _c0: string (nullable = true)\n",
      " |-- _c1: string (nullable = true)\n",
      " |-- _c2: string (nullable = true)\n",
      " |-- _c3: string (nullable = true)\n",
      " |-- _c4: string (nullable = true)\n",
      " |-- _c5: string (nullable = true)\n",
      " |-- _c6: string (nullable = true)\n",
      " |-- _c7: string (nullable = true)\n",
      " |-- _c8: string (nullable = true)\n",
      " |-- _c9: string (nullable = true)\n",
      " |-- _c10: string (nullable = true)\n",
      " |-- _c11: string (nullable = true)\n",
      " |-- _c12: string (nullable = true)\n",
      " |-- _c13: string (nullable = true)\n",
      " |-- _c14: string (nullable = true)\n",
      " |-- _c15: string (nullable = true)\n",
      " |-- _c16: string (nullable = true)\n",
      " |-- _c17: string (nullable = true)\n",
      " |-- _c18: string (nullable = true)\n",
      " |-- _c19: string (nullable = true)\n",
      " |-- _c20: string (nullable = true)\n",
      " |-- _c21: string (nullable = true)\n",
      " |-- _c22: string (nullable = true)\n",
      " |-- _c23: string (nullable = true)\n",
      " |-- _c24: string (nullable = true)\n",
      " |-- _c25: string (nullable = true)\n",
      " |-- _c26: string (nullable = true)\n",
      " |-- _c27: string (nullable = true)\n",
      " |-- _c28: string (nullable = true)\n",
      " |-- _c29: string (nullable = true)\n",
      " |-- _c30: string (nullable = true)\n",
      " |-- _c31: string (nullable = true)\n",
      " |-- _c32: string (nullable = true)\n",
      " |-- _c33: string (nullable = true)\n",
      " |-- _c34: string (nullable = true)\n",
      " |-- _c35: string (nullable = true)\n",
      " |-- _c36: string (nullable = true)\n",
      " |-- _c37: string (nullable = true)\n",
      " |-- _c38: string (nullable = true)\n",
      " |-- _c39: string (nullable = true)\n",
      " |-- _c40: string (nullable = true)\n",
      " |-- _c41: string (nullable = true)\n",
      " |-- _c42: string (nullable = true)\n",
      " |-- _c43: string (nullable = true)\n",
      " |-- _c44: string (nullable = true)\n",
      " |-- _c45: string (nullable = true)\n",
      " |-- _c46: string (nullable = true)\n",
      " |-- _c47: string (nullable = true)\n",
      " |-- _c48: string (nullable = true)\n",
      " |-- _c49: string (nullable = true)\n",
      " |-- _c50: string (nullable = true)\n",
      " |-- _c51: string (nullable = true)\n",
      " |-- _c52: string (nullable = true)\n",
      " |-- _c53: string (nullable = true)\n",
      " |-- _c54: string (nullable = true)\n",
      " |-- _c55: string (nullable = true)\n",
      " |-- _c56: string (nullable = true)\n",
      " |-- _c57: string (nullable = true)\n",
      " |-- _c58: string (nullable = true)\n",
      " |-- _c59: string (nullable = true)\n",
      " |-- _c60: string (nullable = true)\n",
      "\n"
     ]
    }
   ],
   "source": [
    "df_pyspark.printSchema()"
   ]
  },
  {
   "cell_type": "code",
   "execution_count": 22,
   "id": "34bce44f",
   "metadata": {
    "ExecuteTime": {
     "end_time": "2022-08-22T13:50:57.704373Z",
     "start_time": "2022-08-22T13:50:56.541481Z"
    }
   },
   "outputs": [],
   "source": [
    "#reading a csv file \n",
    "df_pyspark = spark.read.option('header','true').csv('D:\\python for data science introduction\\stackoverflow dataset\\survey_results_public.csv',inferSchema=True)"
   ]
  },
  {
   "cell_type": "code",
   "execution_count": 23,
   "id": "c5afec91",
   "metadata": {
    "ExecuteTime": {
     "end_time": "2022-08-22T13:51:00.028912Z",
     "start_time": "2022-08-22T13:51:00.007008Z"
    }
   },
   "outputs": [
    {
     "name": "stdout",
     "output_type": "stream",
     "text": [
      "root\n",
      " |-- Respondent: integer (nullable = true)\n",
      " |-- MainBranch: string (nullable = true)\n",
      " |-- Hobbyist: string (nullable = true)\n",
      " |-- Age: string (nullable = true)\n",
      " |-- Age1stCode: string (nullable = true)\n",
      " |-- CompFreq: string (nullable = true)\n",
      " |-- CompTotal: string (nullable = true)\n",
      " |-- ConvertedComp: string (nullable = true)\n",
      " |-- Country: string (nullable = true)\n",
      " |-- CurrencyDesc: string (nullable = true)\n",
      " |-- CurrencySymbol: string (nullable = true)\n",
      " |-- DatabaseDesireNextYear: string (nullable = true)\n",
      " |-- DatabaseWorkedWith: string (nullable = true)\n",
      " |-- DevType: string (nullable = true)\n",
      " |-- EdLevel: string (nullable = true)\n",
      " |-- Employment: string (nullable = true)\n",
      " |-- Ethnicity: string (nullable = true)\n",
      " |-- Gender: string (nullable = true)\n",
      " |-- JobFactors: string (nullable = true)\n",
      " |-- JobSat: string (nullable = true)\n",
      " |-- JobSeek: string (nullable = true)\n",
      " |-- LanguageDesireNextYear: string (nullable = true)\n",
      " |-- LanguageWorkedWith: string (nullable = true)\n",
      " |-- MiscTechDesireNextYear: string (nullable = true)\n",
      " |-- MiscTechWorkedWith: string (nullable = true)\n",
      " |-- NEWCollabToolsDesireNextYear: string (nullable = true)\n",
      " |-- NEWCollabToolsWorkedWith: string (nullable = true)\n",
      " |-- NEWDevOps: string (nullable = true)\n",
      " |-- NEWDevOpsImpt: string (nullable = true)\n",
      " |-- NEWEdImpt: string (nullable = true)\n",
      " |-- NEWJobHunt: string (nullable = true)\n",
      " |-- NEWJobHuntResearch: string (nullable = true)\n",
      " |-- NEWLearn: string (nullable = true)\n",
      " |-- NEWOffTopic: string (nullable = true)\n",
      " |-- NEWOnboardGood: string (nullable = true)\n",
      " |-- NEWOtherComms: string (nullable = true)\n",
      " |-- NEWOvertime: string (nullable = true)\n",
      " |-- NEWPurchaseResearch: string (nullable = true)\n",
      " |-- NEWPurpleLink: string (nullable = true)\n",
      " |-- NEWSOSites: string (nullable = true)\n",
      " |-- NEWStuck: string (nullable = true)\n",
      " |-- OpSys: string (nullable = true)\n",
      " |-- OrgSize: string (nullable = true)\n",
      " |-- PlatformDesireNextYear: string (nullable = true)\n",
      " |-- PlatformWorkedWith: string (nullable = true)\n",
      " |-- PurchaseWhat: string (nullable = true)\n",
      " |-- Sexuality: string (nullable = true)\n",
      " |-- SOAccount: string (nullable = true)\n",
      " |-- SOComm: string (nullable = true)\n",
      " |-- SOPartFreq: string (nullable = true)\n",
      " |-- SOVisitFreq: string (nullable = true)\n",
      " |-- SurveyEase: string (nullable = true)\n",
      " |-- SurveyLength: string (nullable = true)\n",
      " |-- Trans: string (nullable = true)\n",
      " |-- UndergradMajor: string (nullable = true)\n",
      " |-- WebframeDesireNextYear: string (nullable = true)\n",
      " |-- WebframeWorkedWith: string (nullable = true)\n",
      " |-- WelcomeChange: string (nullable = true)\n",
      " |-- WorkWeekHrs: string (nullable = true)\n",
      " |-- YearsCode: string (nullable = true)\n",
      " |-- YearsCodePro: string (nullable = true)\n",
      "\n"
     ]
    }
   ],
   "source": [
    "df_pyspark.printSchema()"
   ]
  },
  {
   "cell_type": "code",
   "execution_count": 24,
   "id": "4296ac8e",
   "metadata": {
    "ExecuteTime": {
     "end_time": "2022-08-22T13:52:41.910412Z",
     "start_time": "2022-08-22T13:52:41.887473Z"
    }
   },
   "outputs": [
    {
     "data": {
      "text/plain": [
       "pyspark.sql.dataframe.DataFrame"
      ]
     },
     "execution_count": 24,
     "metadata": {},
     "output_type": "execute_result"
    }
   ],
   "source": [
    "type(df_pyspark)"
   ]
  },
  {
   "cell_type": "code",
   "execution_count": 31,
   "id": "142a6e74",
   "metadata": {
    "ExecuteTime": {
     "end_time": "2022-08-22T18:02:15.042029Z",
     "start_time": "2022-08-22T18:02:14.740835Z"
    }
   },
   "outputs": [
    {
     "name": "stdout",
     "output_type": "stream",
     "text": [
      "+----------+\n",
      "|Respondent|\n",
      "+----------+\n",
      "|         1|\n",
      "|         2|\n",
      "|         3|\n",
      "|         4|\n",
      "|         5|\n",
      "|         6|\n",
      "|         7|\n",
      "|         8|\n",
      "|         9|\n",
      "|        10|\n",
      "|        11|\n",
      "|        12|\n",
      "|        13|\n",
      "|        14|\n",
      "|        15|\n",
      "|        16|\n",
      "|        17|\n",
      "|        18|\n",
      "|        19|\n",
      "|        20|\n",
      "+----------+\n",
      "only showing top 20 rows\n",
      "\n"
     ]
    }
   ],
   "source": [
    "df_pyspark.select('Respondent'\n",
    "                 ).show()"
   ]
  },
  {
   "cell_type": "code",
   "execution_count": null,
   "id": "8e3e27bf",
   "metadata": {},
   "outputs": [],
   "source": [
    "df_pyspark()"
   ]
  },
  {
   "cell_type": "code",
   "execution_count": 32,
   "id": "df774a3e",
   "metadata": {
    "ExecuteTime": {
     "end_time": "2022-08-22T18:06:16.740319Z",
     "start_time": "2022-08-22T18:05:19.037564Z"
    }
   },
   "outputs": [
    {
     "name": "stdout",
     "output_type": "stream",
     "text": [
      "+-------+------------------+--------------------+--------+-----------------+--------------------+--------+--------------------+------------------+-----------+----------------+--------------+----------------------+------------------+--------------------+--------------------+------------------+--------------------+--------------------+--------------------+--------------+--------------------+----------------------+------------------+----------------------+------------------+----------------------------+------------------------+---------+-------------------+--------------------+--------------------+--------------------+--------------------+-----------+--------------+-------------+--------------------+--------------------+-------------+--------------------+--------------------+-------+--------------------+----------------------+------------------+--------------------+--------------------+---------+-------------+--------------------+--------------------+--------------------+--------------------+-----+--------------------+----------------------+------------------+--------------------+------------------+------------------+-----------------+\n",
      "|summary|        Respondent|          MainBranch|Hobbyist|              Age|          Age1stCode|CompFreq|           CompTotal|     ConvertedComp|    Country|    CurrencyDesc|CurrencySymbol|DatabaseDesireNextYear|DatabaseWorkedWith|             DevType|             EdLevel|        Employment|           Ethnicity|              Gender|          JobFactors|        JobSat|             JobSeek|LanguageDesireNextYear|LanguageWorkedWith|MiscTechDesireNextYear|MiscTechWorkedWith|NEWCollabToolsDesireNextYear|NEWCollabToolsWorkedWith|NEWDevOps|      NEWDevOpsImpt|           NEWEdImpt|          NEWJobHunt|  NEWJobHuntResearch|            NEWLearn|NEWOffTopic|NEWOnboardGood|NEWOtherComms|         NEWOvertime| NEWPurchaseResearch|NEWPurpleLink|          NEWSOSites|            NEWStuck|  OpSys|             OrgSize|PlatformDesireNextYear|PlatformWorkedWith|        PurchaseWhat|           Sexuality|SOAccount|       SOComm|          SOPartFreq|         SOVisitFreq|          SurveyEase|        SurveyLength|Trans|      UndergradMajor|WebframeDesireNextYear|WebframeWorkedWith|       WelcomeChange|       WorkWeekHrs|         YearsCode|     YearsCodePro|\n",
      "+-------+------------------+--------------------+--------+-----------------+--------------------+--------+--------------------+------------------+-----------+----------------+--------------+----------------------+------------------+--------------------+--------------------+------------------+--------------------+--------------------+--------------------+--------------+--------------------+----------------------+------------------+----------------------+------------------+----------------------------+------------------------+---------+-------------------+--------------------+--------------------+--------------------+--------------------+-----------+--------------+-------------+--------------------+--------------------+-------------+--------------------+--------------------+-------+--------------------+----------------------+------------------+--------------------+--------------------+---------+-------------+--------------------+--------------------+--------------------+--------------------+-----+--------------------+----------------------+------------------+--------------------+------------------+------------------+-----------------+\n",
      "|  count|             64461|               64461|   64461|            64461|               64461|   64461|               64461|             64461|      64461|           64461|         64461|                 64461|             64461|               64461|               64461|             64461|               64461|               64461|               64461|         64461|               64461|                 64461|             64461|                 64461|             64461|                       64461|                   64461|    64461|              64461|               64461|               64461|               64461|               64461|      64461|         64461|        64461|               64461|               64461|        64461|               64461|               64461|  64461|               64461|                 64461|             64461|               64461|               64461|    64461|        64461|               64461|               64461|               64461|               64461|64461|               64461|                 64461|             64461|               64461|             64461|             64461|            64461|\n",
      "|   mean| 32554.07973813624|                null|    null|30.83411081283281|  15.476571607537453|    null|3.190464340180066...|103756.05014961446|       null|            null|          null|                  null|              null|                null|                null|              null|                null|                null|                null|          null|                null|                  null|              null|                  null|              null|                        null|                    null|     null|               null|                null|                null|                null|                null|       null|          null|         null|                null|                null|         null|                null|                null|   null|                null|                  null|              null|                null|                null|     null|         null|                null|                null|                null|                null| null|                null|                  null|              null|                null| 40.78217399901455|12.782051282051283|8.869666689325449|\n",
      "| stddev|18967.442359929824|                null|    null| 9.58539232884474|   5.114081176015281|    null|            Infinity|226885.29624346833|       null|            null|          null|                  null|              null|                null|                null|              null|                null|                null|                null|          null|                null|                  null|              null|                  null|              null|                        null|                    null|     null|               null|                null|                null|                null|                null|       null|          null|         null|                null|                null|         null|                null|                null|   null|                null|                  null|              null|                null|                null|     null|         null|                null|                null|                null|                null| null|                null|                  null|              null|                null|17.816383421991524|  9.49065691445291|7.759960871149197|\n",
      "|    min|                 1|I am a developer ...|      NA|                1|                  10| Monthly|                   0|                 0|Afghanistan|  Afghan afghani|           AED|             Cassandra|         Cassandra| Academic researcher|Associate degree ...|Employed full-time|            Biracial|                 Man|Diversity of the ...|            NA|I am actively loo...|              Assembly|          Assembly|                  .NET|              .NET|                  Confluence|              Confluence|       NA|Extremely important|Critically important| Better compensation|Company reviews f...|    Every few months|         NA|            NA|           NA|                  NA|Ask developers I ...|       Amused|I have never visi...|Call a coworker o...|    BSD|1,000 to 4,999 em...|                   AWS|               AWS|I have a great de...|            Bisexual|       NA|           NA|A few times per m...|A few times per m...|           Difficult|Appropriate in le...|   NA|A business discip...|               ASP.NET|           ASP.NET|A lot less welcom...|                 1|                 1|                1|\n",
      "|    max|             65639|                  NA|     Yes|               NA|Younger than 5 years|  Yearly|                  NA|                NA|   Zimbabwe|e\\tFaroese krona|           non|                SQLite|            SQLite|System administrator|Some college/univ...|           Student|White or of Europ...|Woman;Non-binary,...|Specific departme...|Very satisfied|                  NA|                   VBA|               VBA|               Xamarin|           Xamarin|        Trello;Stack Over...|    Trello;Stack Over...|      Yes| Somewhat important|      Very important|Wanting to work w...|Read other media ...|Once every few years|        Yes|           Yes|          Yes|Sometimes: 1-2 da...|Visit developer c...|           NA|Stack Overflow fo...|Watch help / tuto...|Windows|                  NA|         iOS;WordPress|     iOS;WordPress|                  NA|Straight / Hetero...|      Yes|Yes, somewhat|                  NA|                  NA|Neither easy nor ...|           Too short|  Yes|Web development o...|         jQuery;Vue.js|     jQuery;Vue.js|Somewhat more wel...|                NA|                NA|               NA|\n",
      "+-------+------------------+--------------------+--------+-----------------+--------------------+--------+--------------------+------------------+-----------+----------------+--------------+----------------------+------------------+--------------------+--------------------+------------------+--------------------+--------------------+--------------------+--------------+--------------------+----------------------+------------------+----------------------+------------------+----------------------------+------------------------+---------+-------------------+--------------------+--------------------+--------------------+--------------------+-----------+--------------+-------------+--------------------+--------------------+-------------+--------------------+--------------------+-------+--------------------+----------------------+------------------+--------------------+--------------------+---------+-------------+--------------------+--------------------+--------------------+--------------------+-----+--------------------+----------------------+------------------+--------------------+------------------+------------------+-----------------+\n",
      "\n"
     ]
    }
   ],
   "source": [
    "df_pyspark.describe().show()"
   ]
  },
  {
   "cell_type": "code",
   "execution_count": null,
   "id": "38c89ab7",
   "metadata": {},
   "outputs": [],
   "source": [
    "#adding a new column \n",
    "df_pyspark.withColumn('')"
   ]
  },
  {
   "cell_type": "code",
   "execution_count": null,
   "id": "4cd10a43",
   "metadata": {},
   "outputs": [],
   "source": [
    "#drop a column \n",
    "df_pyspark.drop()"
   ]
  },
  {
   "cell_type": "code",
   "execution_count": null,
   "id": "bf9690ab",
   "metadata": {},
   "outputs": [],
   "source": [
    "#rename a column\n",
    "df_pyspark.withColumnRenamed\n"
   ]
  },
  {
   "cell_type": "code",
   "execution_count": 34,
   "id": "17ad5788",
   "metadata": {
    "ExecuteTime": {
     "end_time": "2022-08-22T18:17:52.687488Z",
     "start_time": "2022-08-22T18:17:52.618673Z"
    }
   },
   "outputs": [
    {
     "data": {
      "text/plain": [
       "DataFrame[Respondent: int, MainBranch: string, Hobbyist: string, Age: string, Age1stCode: string, CompFreq: string, CompTotal: string, ConvertedComp: string, Country: string, CurrencyDesc: string, CurrencySymbol: string, DatabaseDesireNextYear: string, DatabaseWorkedWith: string, DevType: string, EdLevel: string, Employment: string, Ethnicity: string, Gender: string, JobFactors: string, JobSat: string, JobSeek: string, LanguageDesireNextYear: string, LanguageWorkedWith: string, MiscTechDesireNextYear: string, MiscTechWorkedWith: string, NEWCollabToolsDesireNextYear: string, NEWCollabToolsWorkedWith: string, NEWDevOps: string, NEWDevOpsImpt: string, NEWEdImpt: string, NEWJobHunt: string, NEWJobHuntResearch: string, NEWLearn: string, NEWOffTopic: string, NEWOnboardGood: string, NEWOtherComms: string, NEWOvertime: string, NEWPurchaseResearch: string, NEWPurpleLink: string, NEWSOSites: string, NEWStuck: string, OpSys: string, OrgSize: string, PlatformDesireNextYear: string, PlatformWorkedWith: string, PurchaseWhat: string, Sexuality: string, SOAccount: string, SOComm: string, SOPartFreq: string, SOVisitFreq: string, SurveyEase: string, SurveyLength: string, Trans: string, UndergradMajor: string, WebframeDesireNextYear: string, WebframeWorkedWith: string, WelcomeChange: string, WorkWeekHrs: string, YearsCode: string, YearsCodePro: string]"
      ]
     },
     "execution_count": 34,
     "metadata": {},
     "output_type": "execute_result"
    }
   ],
   "source": [
    "#dropping a null valE\n",
    "#droppig a column wuth a null value \n",
    "df_pyspark.na.drop()"
   ]
  },
  {
   "cell_type": "code",
   "execution_count": null,
   "id": "84fff703",
   "metadata": {},
   "outputs": [],
   "source": [
    "#any or how \n"
   ]
  },
  {
   "cell_type": "code",
   "execution_count": null,
   "id": "386b5b4e",
   "metadata": {},
   "outputs": [],
   "source": [
    "#threshold tellls us how many null values we can have if we have thresh = 2 , minimum of two non null values has to be there  \n",
    "df_pyspark.na.drop(how=\"any\",thresh=2).show()"
   ]
  },
  {
   "cell_type": "code",
   "execution_count": null,
   "id": "35cd173a",
   "metadata": {},
   "outputs": [],
   "source": [
    "#subset drops the nan values from a specific  column\n"
   ]
  },
  {
   "cell_type": "code",
   "execution_count": null,
   "id": "d127f48d",
   "metadata": {},
   "outputs": [],
   "source": [
    "#filliing the missing value \n",
    "df_pyspark.na.fill('type the value you want to fill',['type the column name you want to change the mising values from']).show()\n"
   ]
  },
  {
   "cell_type": "code",
   "execution_count": 37,
   "id": "bb2ae016",
   "metadata": {
    "ExecuteTime": {
     "end_time": "2022-08-22T19:28:38.978823Z",
     "start_time": "2022-08-22T19:28:38.957882Z"
    }
   },
   "outputs": [
    {
     "data": {
      "text/plain": [
       "['Respondent',\n",
       " 'MainBranch',\n",
       " 'Hobbyist',\n",
       " 'Age',\n",
       " 'Age1stCode',\n",
       " 'CompFreq',\n",
       " 'CompTotal',\n",
       " 'ConvertedComp',\n",
       " 'Country',\n",
       " 'CurrencyDesc',\n",
       " 'CurrencySymbol',\n",
       " 'DatabaseDesireNextYear',\n",
       " 'DatabaseWorkedWith',\n",
       " 'DevType',\n",
       " 'EdLevel',\n",
       " 'Employment',\n",
       " 'Ethnicity',\n",
       " 'Gender',\n",
       " 'JobFactors',\n",
       " 'JobSat',\n",
       " 'JobSeek',\n",
       " 'LanguageDesireNextYear',\n",
       " 'LanguageWorkedWith',\n",
       " 'MiscTechDesireNextYear',\n",
       " 'MiscTechWorkedWith',\n",
       " 'NEWCollabToolsDesireNextYear',\n",
       " 'NEWCollabToolsWorkedWith',\n",
       " 'NEWDevOps',\n",
       " 'NEWDevOpsImpt',\n",
       " 'NEWEdImpt',\n",
       " 'NEWJobHunt',\n",
       " 'NEWJobHuntResearch',\n",
       " 'NEWLearn',\n",
       " 'NEWOffTopic',\n",
       " 'NEWOnboardGood',\n",
       " 'NEWOtherComms',\n",
       " 'NEWOvertime',\n",
       " 'NEWPurchaseResearch',\n",
       " 'NEWPurpleLink',\n",
       " 'NEWSOSites',\n",
       " 'NEWStuck',\n",
       " 'OpSys',\n",
       " 'OrgSize',\n",
       " 'PlatformDesireNextYear',\n",
       " 'PlatformWorkedWith',\n",
       " 'PurchaseWhat',\n",
       " 'Sexuality',\n",
       " 'SOAccount',\n",
       " 'SOComm',\n",
       " 'SOPartFreq',\n",
       " 'SOVisitFreq',\n",
       " 'SurveyEase',\n",
       " 'SurveyLength',\n",
       " 'Trans',\n",
       " 'UndergradMajor',\n",
       " 'WebframeDesireNextYear',\n",
       " 'WebframeWorkedWith',\n",
       " 'WelcomeChange',\n",
       " 'WorkWeekHrs',\n",
       " 'YearsCode',\n",
       " 'YearsCodePro']"
      ]
     },
     "execution_count": 37,
     "metadata": {},
     "output_type": "execute_result"
    }
   ],
   "source": [
    "df_pyspark.columns"
   ]
  },
  {
   "cell_type": "code",
   "execution_count": 46,
   "id": "a442dab9",
   "metadata": {
    "ExecuteTime": {
     "end_time": "2022-08-22T20:18:16.369722Z",
     "start_time": "2022-08-22T20:18:11.982422Z"
    }
   },
   "outputs": [
    {
     "name": "stdout",
     "output_type": "stream",
     "text": [
      "+-----------------+\n",
      "|         avg(Age)|\n",
      "+-----------------+\n",
      "|30.83411081283281|\n",
      "+-----------------+\n",
      "\n"
     ]
    }
   ],
   "source": [
    "#imputer function\n",
    "df_pyspark.agg({'Age':'mean'}).show()"
   ]
  },
  {
   "cell_type": "code",
   "execution_count": 47,
   "id": "14142544",
   "metadata": {
    "ExecuteTime": {
     "end_time": "2022-08-22T20:22:22.928407Z",
     "start_time": "2022-08-22T20:22:21.640748Z"
    }
   },
   "outputs": [
    {
     "name": "stdout",
     "output_type": "stream",
     "text": [
      "+----------------+\n",
      "|   variance(Age)|\n",
      "+----------------+\n",
      "|91.8797460978756|\n",
      "+----------------+\n",
      "\n"
     ]
    }
   ],
   "source": [
    "df_pyspark.agg({'Age':'variance'}).show()"
   ]
  },
  {
   "cell_type": "code",
   "execution_count": 48,
   "id": "45231651",
   "metadata": {
    "ExecuteTime": {
     "end_time": "2022-08-22T21:26:50.854263Z",
     "start_time": "2022-08-22T21:26:49.321640Z"
    }
   },
   "outputs": [
    {
     "name": "stdout",
     "output_type": "stream",
     "text": [
      "+----------------+\n",
      "|     stddev(Age)|\n",
      "+----------------+\n",
      "|9.58539232884474|\n",
      "+----------------+\n",
      "\n"
     ]
    }
   ],
   "source": [
    "df_pyspark.agg({'Age':'stddev'}).show()"
   ]
  },
  {
   "cell_type": "code",
   "execution_count": 52,
   "id": "a9663139",
   "metadata": {
    "ExecuteTime": {
     "end_time": "2022-08-22T21:38:34.037089Z",
     "start_time": "2022-08-22T21:38:33.848195Z"
    }
   },
   "outputs": [
    {
     "name": "stdout",
     "output_type": "stream",
     "text": [
      "+----------+--------------+\n",
      "|Respondent|CurrencySymbol|\n",
      "+----------+--------------+\n",
      "|         4|           ALL|\n",
      "|         5|            NA|\n",
      "|         8|           USD|\n",
      "|         9|           USD|\n",
      "|        10|           GBP|\n",
      "|        11|           GBP|\n",
      "|        12|           EUR|\n",
      "|        13|           EUR|\n",
      "|        14|           USD|\n",
      "|        16|           GBP|\n",
      "|        17|           USD|\n",
      "|        18|           USD|\n",
      "|        19|           USD|\n",
      "|        20|           EUR|\n",
      "|        21|            NA|\n",
      "|        23|           EUR|\n",
      "|        24|           EUR|\n",
      "|        32|           CAD|\n",
      "|        33|           EUR|\n",
      "|        34|            NA|\n",
      "+----------+--------------+\n",
      "only showing top 20 rows\n",
      "\n"
     ]
    }
   ],
   "source": [
    "#pyspark df filter options\n",
    "df_pyspark.filter(\"Age>=20\").select(['Respondent','CurrencySymbol']).show()"
   ]
  },
  {
   "cell_type": "code",
   "execution_count": 75,
   "id": "f5873631",
   "metadata": {
    "ExecuteTime": {
     "end_time": "2022-08-22T23:04:09.032958Z",
     "start_time": "2022-08-22T23:04:09.009525Z"
    }
   },
   "outputs": [
    {
     "ename": "TypeError",
     "evalue": "unsupported operand type(s) for &: 'str' and 'str'",
     "output_type": "error",
     "traceback": [
      "\u001b[1;31m---------------------------------------------------------------------------\u001b[0m",
      "\u001b[1;31mTypeError\u001b[0m                                 Traceback (most recent call last)",
      "\u001b[1;32m~\\AppData\\Local\\Temp/ipykernel_18480/3648115712.py\u001b[0m in \u001b[0;36m<module>\u001b[1;34m\u001b[0m\n\u001b[1;32m----> 1\u001b[1;33m \u001b[0mdf_pyspark\u001b[0m\u001b[1;33m.\u001b[0m\u001b[0mfilter\u001b[0m\u001b[1;33m(\u001b[0m\u001b[1;33m(\u001b[0m\u001b[1;34m\"Age >= 23\"\u001b[0m\u001b[1;33m)\u001b[0m \u001b[1;33m&\u001b[0m \u001b[1;33m(\u001b[0m\u001b[1;34m\"Age =< 27\"\u001b[0m\u001b[1;33m)\u001b[0m\u001b[1;33m)\u001b[0m\u001b[1;33m.\u001b[0m\u001b[0mselect\u001b[0m\u001b[1;33m(\u001b[0m\u001b[1;33m[\u001b[0m\u001b[1;34m'Respondent'\u001b[0m\u001b[1;33m,\u001b[0m\u001b[1;34m'CurrencySymbol'\u001b[0m\u001b[1;33m]\u001b[0m\u001b[1;33m)\u001b[0m\u001b[1;33m.\u001b[0m\u001b[0mshow\u001b[0m\u001b[1;33m(\u001b[0m\u001b[1;33m)\u001b[0m\u001b[1;33m\u001b[0m\u001b[1;33m\u001b[0m\u001b[0m\n\u001b[0m",
      "\u001b[1;31mTypeError\u001b[0m: unsupported operand type(s) for &: 'str' and 'str'"
     ]
    }
   ],
   "source": [
    "df_pyspark.filter((\"Age >= 23\") & (\"Age =< 27\")).select(['Respondent','CurrencySymbol']).show()"
   ]
  },
  {
   "cell_type": "code",
   "execution_count": 74,
   "id": "3d36cd2d",
   "metadata": {
    "ExecuteTime": {
     "end_time": "2022-08-22T23:02:58.108278Z",
     "start_time": "2022-08-22T23:02:58.084095Z"
    }
   },
   "outputs": [
    {
     "ename": "TypeError",
     "evalue": "unsupported operand type(s) for &: 'str' and 'str'",
     "output_type": "error",
     "traceback": [
      "\u001b[1;31m---------------------------------------------------------------------------\u001b[0m",
      "\u001b[1;31mTypeError\u001b[0m                                 Traceback (most recent call last)",
      "\u001b[1;32m~\\AppData\\Local\\Temp/ipykernel_18480/2371962532.py\u001b[0m in \u001b[0;36m<module>\u001b[1;34m\u001b[0m\n\u001b[1;32m----> 1\u001b[1;33m \u001b[0mdf_pyspark\u001b[0m\u001b[1;33m.\u001b[0m\u001b[0mfilter\u001b[0m\u001b[1;33m(\u001b[0m\u001b[1;33m(\u001b[0m\u001b[1;34m'Age > 23'\u001b[0m\u001b[1;33m)\u001b[0m \u001b[1;33m&\u001b[0m \u001b[1;33m(\u001b[0m\u001b[1;34m'Age < 25'\u001b[0m\u001b[1;33m)\u001b[0m\u001b[1;33m)\u001b[0m\u001b[1;33m.\u001b[0m\u001b[0mshow\u001b[0m\u001b[1;33m(\u001b[0m\u001b[1;33m)\u001b[0m\u001b[1;33m\u001b[0m\u001b[1;33m\u001b[0m\u001b[0m\n\u001b[0m",
      "\u001b[1;31mTypeError\u001b[0m: unsupported operand type(s) for &: 'str' and 'str'"
     ]
    }
   ],
   "source": [
    "df_pyspark.filter(('Age > 23') & ('Age < 25')).show()"
   ]
  },
  {
   "cell_type": "code",
   "execution_count": null,
   "id": "57e22156",
   "metadata": {},
   "outputs": [],
   "source": [
    "df_pyspark.filter(df_pyspark.[''])"
   ]
  },
  {
   "cell_type": "code",
   "execution_count": 78,
   "id": "b7a7da08",
   "metadata": {
    "ExecuteTime": {
     "end_time": "2022-08-24T16:29:21.823650Z",
     "start_time": "2022-08-24T16:29:19.529546Z"
    }
   },
   "outputs": [
    {
     "data": {
      "text/plain": [
       "[Row(Respondent=1, MainBranch='I am a developer by profession', Hobbyist='Yes', Age='NA', Age1stCode='13', CompFreq='Monthly', CompTotal='NA', ConvertedComp='NA', Country='Germany', CurrencyDesc='European Euro', CurrencySymbol='EUR', DatabaseDesireNextYear='Microsoft SQL Server', DatabaseWorkedWith='Elasticsearch;Microsoft SQL Server;Oracle', DevType='Developer, desktop or enterprise applications;Developer, full-stack', EdLevel='Master’s degree (M.A., M.S., M.Eng., MBA, etc.)', Employment='Independent contractor, freelancer, or self-employed', Ethnicity='White or of European descent', Gender='Man', JobFactors='Languages, frameworks, and other technologies I’d be working with;Remote work options;Opportunities for professional development', JobSat='Slightly satisfied', JobSeek='I am not interested in new job opportunities', LanguageDesireNextYear='C#;HTML/CSS;JavaScript', LanguageWorkedWith='C#;HTML/CSS;JavaScript', MiscTechDesireNextYear='.NET Core;Xamarin', MiscTechWorkedWith='.NET;.NET Core', NEWCollabToolsDesireNextYear='Microsoft Teams;Microsoft Azure;Trello', NEWCollabToolsWorkedWith='Confluence;Jira;Slack;Microsoft Azure;Trello', NEWDevOps='No', NEWDevOpsImpt='Somewhat important', NEWEdImpt='Fairly important', NEWJobHunt='NA', NEWJobHuntResearch='NA', NEWLearn='Once a year', NEWOffTopic='Not sure', NEWOnboardGood='NA', NEWOtherComms='No', NEWOvertime='Often: 1-2 days per week or more', NEWPurchaseResearch='Start a free trial;Ask developers I know/work with', NEWPurpleLink='Amused', NEWSOSites='Stack Overflow (public Q&A for anyone who codes)', NEWStuck='Visit Stack Overflow;Go for a walk or other physical activity;Do other work and come back later', OpSys='Windows', OrgSize='2 to 9 employees', PlatformDesireNextYear='Android;iOS;Kubernetes;Microsoft Azure;Windows', PlatformWorkedWith='Windows', PurchaseWhat='NA', Sexuality='Straight / Heterosexual', SOAccount='No', SOComm='No, not at all', SOPartFreq='NA', SOVisitFreq='Multiple times per day', SurveyEase='Neither easy nor difficult', SurveyLength='Appropriate in length', Trans='No', UndergradMajor='Computer science, computer engineering, or software engineering', WebframeDesireNextYear='ASP.NET Core', WebframeWorkedWith='ASP.NET;ASP.NET Core', WelcomeChange='Just as welcome now as I felt last year', WorkWeekHrs='50', YearsCode='36', YearsCodePro='27'),\n",
       " Row(Respondent=2, MainBranch='I am a developer by profession', Hobbyist='No', Age='NA', Age1stCode='19', CompFreq='NA', CompTotal='NA', ConvertedComp='NA', Country='United Kingdom', CurrencyDesc='Pound sterling', CurrencySymbol='GBP', DatabaseDesireNextYear='NA', DatabaseWorkedWith='NA', DevType='Developer, full-stack;Developer, mobile', EdLevel='Bachelor’s degree (B.A., B.S., B.Eng., etc.)', Employment='Employed full-time', Ethnicity='NA', Gender='NA', JobFactors='NA', JobSat='Very dissatisfied', JobSeek='I am not interested in new job opportunities', LanguageDesireNextYear='Python;Swift', LanguageWorkedWith='JavaScript;Swift', MiscTechDesireNextYear='React Native;TensorFlow;Unity 3D', MiscTechWorkedWith='React Native', NEWCollabToolsDesireNextYear='Github;Slack', NEWCollabToolsWorkedWith='Confluence;Jira;Github;Gitlab;Slack', NEWDevOps='NA', NEWDevOpsImpt='NA', NEWEdImpt='Fairly important', NEWJobHunt='NA', NEWJobHuntResearch='NA', NEWLearn='Once a year', NEWOffTopic='Not sure', NEWOnboardGood='NA', NEWOtherComms='No', NEWOvertime='NA', NEWPurchaseResearch='NA', NEWPurpleLink='Amused', NEWSOSites='Stack Overflow (public Q&A for anyone who codes);Stack Exchange (public Q&A for a variety of topics);Stack Overflow Jobs (for job seekers)', NEWStuck='Visit Stack Overflow;Go for a walk or other physical activity', OpSys='MacOS', OrgSize='1,000 to 4,999 employees', PlatformDesireNextYear='iOS;Kubernetes;Linux;MacOS', PlatformWorkedWith='iOS', PurchaseWhat='I have little or no influence', Sexuality='NA', SOAccount='Yes', SOComm='Yes, definitely', SOPartFreq='Less than once per month or monthly', SOVisitFreq='Multiple times per day', SurveyEase='NA', SurveyLength='NA', Trans='NA', UndergradMajor='Computer science, computer engineering, or software engineering', WebframeDesireNextYear='NA', WebframeWorkedWith='NA', WelcomeChange='Somewhat more welcome now than last year', WorkWeekHrs='NA', YearsCode='7', YearsCodePro='4'),\n",
       " Row(Respondent=3, MainBranch='I code primarily as a hobby', Hobbyist='Yes', Age='NA', Age1stCode='15', CompFreq='NA', CompTotal='NA', ConvertedComp='NA', Country='Russian Federation', CurrencyDesc='NA', CurrencySymbol='NA', DatabaseDesireNextYear='NA', DatabaseWorkedWith='NA', DevType='NA', EdLevel='NA', Employment='NA', Ethnicity='NA', Gender='NA', JobFactors='NA', JobSat='NA', JobSeek='NA', LanguageDesireNextYear='Objective-C;Python;Swift', LanguageWorkedWith='Objective-C;Python;Swift', MiscTechDesireNextYear='NA', MiscTechWorkedWith='NA', NEWCollabToolsDesireNextYear='NA', NEWCollabToolsWorkedWith='NA', NEWDevOps='NA', NEWDevOpsImpt='NA', NEWEdImpt='NA', NEWJobHunt='NA', NEWJobHuntResearch='NA', NEWLearn='Once a decade', NEWOffTopic='NA', NEWOnboardGood='NA', NEWOtherComms='No', NEWOvertime='NA', NEWPurchaseResearch='NA', NEWPurpleLink='NA', NEWSOSites='Stack Overflow (public Q&A for anyone who codes)', NEWStuck='NA', OpSys='Linux-based', OrgSize='NA', PlatformDesireNextYear='NA', PlatformWorkedWith='NA', PurchaseWhat='NA', Sexuality='NA', SOAccount='Yes', SOComm='Yes, somewhat', SOPartFreq='A few times per month or weekly', SOVisitFreq='Daily or almost daily', SurveyEase='Neither easy nor difficult', SurveyLength='Appropriate in length', Trans='NA', UndergradMajor='NA', WebframeDesireNextYear='NA', WebframeWorkedWith='NA', WelcomeChange='Somewhat more welcome now than last year', WorkWeekHrs='NA', YearsCode='4', YearsCodePro='NA'),\n",
       " Row(Respondent=4, MainBranch='I am a developer by profession', Hobbyist='Yes', Age='25', Age1stCode='18', CompFreq='NA', CompTotal='NA', ConvertedComp='NA', Country='Albania', CurrencyDesc='Albanian lek', CurrencySymbol='ALL', DatabaseDesireNextYear='NA', DatabaseWorkedWith='NA', DevType='NA', EdLevel='Master’s degree (M.A., M.S., M.Eng., MBA, etc.)', Employment='NA', Ethnicity='White or of European descent', Gender='Man', JobFactors='Flex time or a flexible schedule;Office environment or company culture;Opportunities for professional development', JobSat='Slightly dissatisfied', JobSeek='I’m not actively looking, but I am open to new opportunities', LanguageDesireNextYear='NA', LanguageWorkedWith='NA', MiscTechDesireNextYear='NA', MiscTechWorkedWith='NA', NEWCollabToolsDesireNextYear='NA', NEWCollabToolsWorkedWith='NA', NEWDevOps='No', NEWDevOpsImpt='NA', NEWEdImpt='Not at all important/not necessary', NEWJobHunt='Curious about other opportunities;Wanting to work with new technologies', NEWJobHuntResearch='NA', NEWLearn='Once a year', NEWOffTopic='Not sure', NEWOnboardGood='Yes', NEWOtherComms='Yes', NEWOvertime='Occasionally: 1-2 days per quarter but less than monthly', NEWPurchaseResearch='NA', NEWPurpleLink='NA', NEWSOSites='Stack Overflow (public Q&A for anyone who codes);Stack Exchange (public Q&A for a variety of topics);Stack Overflow Jobs (for job seekers)', NEWStuck='NA', OpSys='Linux-based', OrgSize='20 to 99 employees', PlatformDesireNextYear='NA', PlatformWorkedWith='NA', PurchaseWhat='I have a great deal of influence', Sexuality='Straight / Heterosexual', SOAccount='Yes', SOComm='Yes, definitely', SOPartFreq='A few times per month or weekly', SOVisitFreq='Multiple times per day', SurveyEase='NA', SurveyLength='NA', Trans='No', UndergradMajor='Computer science, computer engineering, or software engineering', WebframeDesireNextYear='NA', WebframeWorkedWith='NA', WelcomeChange='Somewhat less welcome now than last year', WorkWeekHrs='40', YearsCode='7', YearsCodePro='4'),\n",
       " Row(Respondent=5, MainBranch='I used to be a developer by profession, but no longer am', Hobbyist='Yes', Age='31', Age1stCode='16', CompFreq='NA', CompTotal='NA', ConvertedComp='NA', Country='United States', CurrencyDesc='NA', CurrencySymbol='NA', DatabaseDesireNextYear='MySQL;PostgreSQL', DatabaseWorkedWith='MySQL;PostgreSQL;Redis;SQLite', DevType='NA', EdLevel='Bachelor’s degree (B.A., B.S., B.Eng., etc.)', Employment='Employed full-time', Ethnicity='White or of European descent', Gender='Man', JobFactors='NA', JobSat='NA', JobSeek='NA', LanguageDesireNextYear='Java;Ruby;Scala', LanguageWorkedWith='HTML/CSS;Ruby;SQL', MiscTechDesireNextYear='Ansible;Chef', MiscTechWorkedWith='Ansible', NEWCollabToolsDesireNextYear='Github;Google Suite (Docs, Meet, etc)', NEWCollabToolsWorkedWith='Confluence;Jira;Github;Slack;Google Suite (Docs, Meet, etc)', NEWDevOps='NA', NEWDevOpsImpt='NA', NEWEdImpt='Very important', NEWJobHunt='NA', NEWJobHuntResearch='NA', NEWLearn='Once a year', NEWOffTopic='No', NEWOnboardGood='NA', NEWOtherComms='Yes', NEWOvertime='NA', NEWPurchaseResearch='Start a free trial;Ask developers I know/work with;Visit developer communities like Stack Overflow;Read ratings or reviews on third party sites like G2Crowd;Research companies that have advertised on sites I visit', NEWPurpleLink='Hello, old friend', NEWSOSites='Stack Overflow (public Q&A for anyone who codes);Stack Exchange (public Q&A for a variety of topics);Stack Overflow Jobs (for job seekers);Stack Overflow for Teams (private Q&A for organizations);Stack Overflow Talent (for hiring companies/recruiters)', NEWStuck='Call a coworker or friend;Visit Stack Overflow;Watch help / tutorial videos;Do other work and come back later;Visit another developer community (please name):', OpSys='Windows', OrgSize='NA', PlatformDesireNextYear='Docker;Google Cloud Platform;Heroku;Linux;Windows', PlatformWorkedWith='AWS;Docker;Linux;MacOS;Windows', PurchaseWhat='NA', Sexuality='Straight / Heterosexual', SOAccount='Yes', SOComm='Yes, somewhat', SOPartFreq='Less than once per month or monthly', SOVisitFreq='A few times per month or weekly', SurveyEase='Easy', SurveyLength='Too short', Trans='No', UndergradMajor='Computer science, computer engineering, or software engineering', WebframeDesireNextYear='Django;Ruby on Rails', WebframeWorkedWith='Ruby on Rails', WelcomeChange='Just as welcome now as I felt last year', WorkWeekHrs='NA', YearsCode='15', YearsCodePro='8')]"
      ]
     },
     "execution_count": 78,
     "metadata": {},
     "output_type": "execute_result"
    }
   ],
   "source": [
    "df_pyspark.head(5)"
   ]
  },
  {
   "cell_type": "code",
   "execution_count": 87,
   "id": "661a034b",
   "metadata": {
    "ExecuteTime": {
     "end_time": "2022-08-24T17:39:31.490358Z",
     "start_time": "2022-08-24T17:39:30.820423Z"
    }
   },
   "outputs": [],
   "source": [
    "df_task1 = spark.read.csv(\n",
    "    path ='C:/Users/HP/Downloads/sample_data.csv',\n",
    "    sep=\",\",\n",
    "    header=True,\n",
    "    inferSchema= True)"
   ]
  },
  {
   "cell_type": "code",
   "execution_count": 88,
   "id": "83f266ee",
   "metadata": {
    "ExecuteTime": {
     "end_time": "2022-08-24T17:39:42.671837Z",
     "start_time": "2022-08-24T17:39:42.522208Z"
    }
   },
   "outputs": [
    {
     "data": {
      "text/plain": [
       "[Row(Fname='Abigail', Lname='Abraham', Mname='L', DateOfBirth='18-10-1942', Suffix=None, Prefix=None, ActiveFlag='Y', CreateDate='04-07-2013 00:00', UpdateDate='09-07-2013 00:00', CreatedBy=100001, UpdatedBy=100001, GenderID=1, RaceCode='F5', Race Description='Black', IdentityDocID='1468779', IdentityDocType='SSN', RaceDetails=1),\n",
       " Row(Fname='John', Lname='Don', Mname='L', DateOfBirth='19-10-1942', Suffix=None, Prefix=None, ActiveFlag='Y', CreateDate='05-07-2013 00:00', UpdateDate='10-07-2013 00:00', CreatedBy=100002, UpdatedBy=100002, GenderID=1, RaceCode='F6', Race Description='Asia', IdentityDocID='D13679', IdentityDocType='DL', RaceDetails=2),\n",
       " Row(Fname='Unmesh', Lname='Kanchan', Mname='L', DateOfBirth='20-10-1942', Suffix=None, Prefix=None, ActiveFlag='Y', CreateDate='06-07-2013 00:00', UpdateDate='11-07-2013 00:00', CreatedBy=100003, UpdatedBy=100003, GenderID=1, RaceCode='F7', Race Description='Spanish', IdentityDocID='D13680', IdentityDocType='DL', RaceDetails=3),\n",
       " Row(Fname='Sanjib', Lname='Nayak', Mname='L', DateOfBirth='21-10-1942', Suffix=None, Prefix=None, ActiveFlag='Y', CreateDate='07-07-2013 00:00', UpdateDate='12-07-2013 00:00', CreatedBy=100004, UpdatedBy=100004, GenderID=1, RaceCode='F8', Race Description='French', IdentityDocID='D13681', IdentityDocType='DL', RaceDetails=4),\n",
       " Row(Fname='Abigail', Lname='Abraham', Mname='L', DateOfBirth='22-10-1942', Suffix=None, Prefix=None, ActiveFlag='Y', CreateDate='08-07-2013 00:00', UpdateDate='13-07-2013 00:00', CreatedBy=100005, UpdatedBy=100005, GenderID=1, RaceCode='F9', Race Description='Black', IdentityDocID='1468779', IdentityDocType='SSN', RaceDetails=5)]"
      ]
     },
     "execution_count": 88,
     "metadata": {},
     "output_type": "execute_result"
    }
   ],
   "source": [
    "df_task1.head(5)"
   ]
  },
  {
   "cell_type": "code",
   "execution_count": 89,
   "id": "77520fef",
   "metadata": {
    "ExecuteTime": {
     "end_time": "2022-08-24T17:39:59.511894Z",
     "start_time": "2022-08-24T17:39:59.319691Z"
    },
    "scrolled": true
   },
   "outputs": [
    {
     "name": "stdout",
     "output_type": "stream",
     "text": [
      "+-------+-------+-----+-----------+------+------+----------+----------------+----------------+---------+---------+--------+--------+----------------+-------------+---------------+-----------+\n",
      "|  Fname|  Lname|Mname|DateOfBirth|Suffix|Prefix|ActiveFlag|      CreateDate|      UpdateDate|CreatedBy|UpdatedBy|GenderID|RaceCode|Race Description|IdentityDocID|IdentityDocType|RaceDetails|\n",
      "+-------+-------+-----+-----------+------+------+----------+----------------+----------------+---------+---------+--------+--------+----------------+-------------+---------------+-----------+\n",
      "|Abigail|Abraham|    L| 18-10-1942|  null|  null|         Y|04-07-2013 00:00|09-07-2013 00:00|   100001|   100001|       1|      F5|           Black|      1468779|            SSN|          1|\n",
      "|   John|    Don|    L| 19-10-1942|  null|  null|         Y|05-07-2013 00:00|10-07-2013 00:00|   100002|   100002|       1|      F6|            Asia|       D13679|             DL|          2|\n",
      "| Unmesh|Kanchan|    L| 20-10-1942|  null|  null|         Y|06-07-2013 00:00|11-07-2013 00:00|   100003|   100003|       1|      F7|         Spanish|       D13680|             DL|          3|\n",
      "| Sanjib|  Nayak|    L| 21-10-1942|  null|  null|         Y|07-07-2013 00:00|12-07-2013 00:00|   100004|   100004|       1|      F8|          French|       D13681|             DL|          4|\n",
      "|Abigail|Abraham|    L| 22-10-1942|  null|  null|         Y|08-07-2013 00:00|13-07-2013 00:00|   100005|   100005|       1|      F9|           Black|      1468779|            SSN|          5|\n",
      "+-------+-------+-----+-----------+------+------+----------+----------------+----------------+---------+---------+--------+--------+----------------+-------------+---------------+-----------+\n",
      "only showing top 5 rows\n",
      "\n"
     ]
    }
   ],
   "source": [
    "df_task1.show(5)"
   ]
  },
  {
   "cell_type": "code",
   "execution_count": 90,
   "id": "9f9a5d61",
   "metadata": {
    "ExecuteTime": {
     "end_time": "2022-08-24T17:40:08.659405Z",
     "start_time": "2022-08-24T17:40:07.172336Z"
    }
   },
   "outputs": [
    {
     "data": {
      "text/plain": [
       "DataFrame[summary: string, Fname: string, Lname: string, Mname: string, DateOfBirth: string, Suffix: string, Prefix: string, ActiveFlag: string, CreateDate: string, UpdateDate: string, CreatedBy: string, UpdatedBy: string, GenderID: string, RaceCode: string, Race Description: string, IdentityDocID: string, IdentityDocType: string, RaceDetails: string]"
      ]
     },
     "execution_count": 90,
     "metadata": {},
     "output_type": "execute_result"
    }
   ],
   "source": [
    "df_task1.describe()"
   ]
  },
  {
   "cell_type": "code",
   "execution_count": 91,
   "id": "09317c78",
   "metadata": {
    "ExecuteTime": {
     "end_time": "2022-08-24T17:41:33.669240Z",
     "start_time": "2022-08-24T17:41:33.656969Z"
    }
   },
   "outputs": [
    {
     "name": "stdout",
     "output_type": "stream",
     "text": [
      "root\n",
      " |-- Fname: string (nullable = true)\n",
      " |-- Lname: string (nullable = true)\n",
      " |-- Mname: string (nullable = true)\n",
      " |-- DateOfBirth: string (nullable = true)\n",
      " |-- Suffix: string (nullable = true)\n",
      " |-- Prefix: string (nullable = true)\n",
      " |-- ActiveFlag: string (nullable = true)\n",
      " |-- CreateDate: string (nullable = true)\n",
      " |-- UpdateDate: string (nullable = true)\n",
      " |-- CreatedBy: integer (nullable = true)\n",
      " |-- UpdatedBy: integer (nullable = true)\n",
      " |-- GenderID: integer (nullable = true)\n",
      " |-- RaceCode: string (nullable = true)\n",
      " |-- Race Description: string (nullable = true)\n",
      " |-- IdentityDocID: string (nullable = true)\n",
      " |-- IdentityDocType: string (nullable = true)\n",
      " |-- RaceDetails: integer (nullable = true)\n",
      "\n"
     ]
    }
   ],
   "source": [
    "df_task1.printSchema()"
   ]
  },
  {
   "cell_type": "code",
   "execution_count": 101,
   "id": "28c1b16a",
   "metadata": {
    "ExecuteTime": {
     "end_time": "2022-08-24T17:58:56.152598Z",
     "start_time": "2022-08-24T17:58:55.898802Z"
    }
   },
   "outputs": [],
   "source": [
    "df_task1 = spark.read.format('csv').load('C:/Users/HP/Downloads/sample_data.csv',header=True)"
   ]
  },
  {
   "cell_type": "code",
   "execution_count": 102,
   "id": "bc1c5936",
   "metadata": {
    "ExecuteTime": {
     "end_time": "2022-08-24T17:58:56.894325Z",
     "start_time": "2022-08-24T17:58:56.877661Z"
    }
   },
   "outputs": [
    {
     "data": {
      "text/plain": [
       "['Fname',\n",
       " 'Lname',\n",
       " 'Mname',\n",
       " 'DateOfBirth',\n",
       " 'Suffix',\n",
       " 'Prefix',\n",
       " 'ActiveFlag',\n",
       " 'CreateDate',\n",
       " 'UpdateDate',\n",
       " 'CreatedBy',\n",
       " 'UpdatedBy',\n",
       " 'GenderID',\n",
       " 'RaceCode',\n",
       " 'Race Description',\n",
       " 'IdentityDocID',\n",
       " 'IdentityDocType',\n",
       " 'RaceDetails']"
      ]
     },
     "execution_count": 102,
     "metadata": {},
     "output_type": "execute_result"
    }
   ],
   "source": [
    "df_task1.columns"
   ]
  },
  {
   "cell_type": "code",
   "execution_count": 106,
   "id": "23f27285",
   "metadata": {
    "ExecuteTime": {
     "end_time": "2022-08-24T18:11:14.902414Z",
     "start_time": "2022-08-24T18:11:14.795090Z"
    }
   },
   "outputs": [
    {
     "ename": "AnalysisException",
     "evalue": "Column 'person_ID' does not exist. Did you mean one of the following? [GenderID, Fname, Lname, Mname, Prefix, CreateDate, CreatedBy, RaceCode, Suffix, UpdateDate, UpdatedBy, ActiveFlag, DateOfBirth, IdentityDocID, RaceDetails, IdentityDocType, Race Description];\n'Project [Fname#13546, Lname#13547, Mname#13548, 'person_ID]\n+- Relation [Fname#13546,Lname#13547,Mname#13548,DateOfBirth#13549,Suffix#13550,Prefix#13551,ActiveFlag#13552,CreateDate#13553,UpdateDate#13554,CreatedBy#13555,UpdatedBy#13556,GenderID#13557,RaceCode#13558,Race Description#13559,IdentityDocID#13560,IdentityDocType#13561,RaceDetails#13562] csv\n",
     "output_type": "error",
     "traceback": [
      "\u001b[1;31m---------------------------------------------------------------------------\u001b[0m",
      "\u001b[1;31mAnalysisException\u001b[0m                         Traceback (most recent call last)",
      "\u001b[1;32m~\\AppData\\Local\\Temp/ipykernel_18480/1871620946.py\u001b[0m in \u001b[0;36m<module>\u001b[1;34m\u001b[0m\n\u001b[1;32m----> 1\u001b[1;33m df_task1['Fname',\n\u001b[0m\u001b[0;32m      2\u001b[0m  \u001b[1;34m'Lname'\u001b[0m\u001b[1;33m,\u001b[0m\u001b[1;33m\u001b[0m\u001b[1;33m\u001b[0m\u001b[0m\n\u001b[0;32m      3\u001b[0m  \u001b[1;34m'Mname'\u001b[0m\u001b[1;33m,\u001b[0m\u001b[1;33m\u001b[0m\u001b[1;33m\u001b[0m\u001b[0m\n\u001b[0;32m      4\u001b[0m  'person_ID' ].show()\n",
      "\u001b[1;32m~\\anaconda3\\lib\\site-packages\\pyspark\\sql\\dataframe.py\u001b[0m in \u001b[0;36m__getitem__\u001b[1;34m(self, item)\u001b[0m\n\u001b[0;32m   1968\u001b[0m             \u001b[1;32mreturn\u001b[0m \u001b[0mself\u001b[0m\u001b[1;33m.\u001b[0m\u001b[0mfilter\u001b[0m\u001b[1;33m(\u001b[0m\u001b[0mitem\u001b[0m\u001b[1;33m)\u001b[0m\u001b[1;33m\u001b[0m\u001b[1;33m\u001b[0m\u001b[0m\n\u001b[0;32m   1969\u001b[0m         \u001b[1;32melif\u001b[0m \u001b[0misinstance\u001b[0m\u001b[1;33m(\u001b[0m\u001b[0mitem\u001b[0m\u001b[1;33m,\u001b[0m \u001b[1;33m(\u001b[0m\u001b[0mlist\u001b[0m\u001b[1;33m,\u001b[0m \u001b[0mtuple\u001b[0m\u001b[1;33m)\u001b[0m\u001b[1;33m)\u001b[0m\u001b[1;33m:\u001b[0m\u001b[1;33m\u001b[0m\u001b[1;33m\u001b[0m\u001b[0m\n\u001b[1;32m-> 1970\u001b[1;33m             \u001b[1;32mreturn\u001b[0m \u001b[0mself\u001b[0m\u001b[1;33m.\u001b[0m\u001b[0mselect\u001b[0m\u001b[1;33m(\u001b[0m\u001b[1;33m*\u001b[0m\u001b[0mitem\u001b[0m\u001b[1;33m)\u001b[0m\u001b[1;33m\u001b[0m\u001b[1;33m\u001b[0m\u001b[0m\n\u001b[0m\u001b[0;32m   1971\u001b[0m         \u001b[1;32melif\u001b[0m \u001b[0misinstance\u001b[0m\u001b[1;33m(\u001b[0m\u001b[0mitem\u001b[0m\u001b[1;33m,\u001b[0m \u001b[0mint\u001b[0m\u001b[1;33m)\u001b[0m\u001b[1;33m:\u001b[0m\u001b[1;33m\u001b[0m\u001b[1;33m\u001b[0m\u001b[0m\n\u001b[0;32m   1972\u001b[0m             \u001b[0mjc\u001b[0m \u001b[1;33m=\u001b[0m \u001b[0mself\u001b[0m\u001b[1;33m.\u001b[0m\u001b[0m_jdf\u001b[0m\u001b[1;33m.\u001b[0m\u001b[0mapply\u001b[0m\u001b[1;33m(\u001b[0m\u001b[0mself\u001b[0m\u001b[1;33m.\u001b[0m\u001b[0mcolumns\u001b[0m\u001b[1;33m[\u001b[0m\u001b[0mitem\u001b[0m\u001b[1;33m]\u001b[0m\u001b[1;33m)\u001b[0m\u001b[1;33m\u001b[0m\u001b[1;33m\u001b[0m\u001b[0m\n",
      "\u001b[1;32m~\\anaconda3\\lib\\site-packages\\pyspark\\sql\\dataframe.py\u001b[0m in \u001b[0;36mselect\u001b[1;34m(self, *cols)\u001b[0m\n\u001b[0;32m   2021\u001b[0m         \u001b[1;33m[\u001b[0m\u001b[0mRow\u001b[0m\u001b[1;33m(\u001b[0m\u001b[0mname\u001b[0m\u001b[1;33m=\u001b[0m\u001b[1;34m'Alice'\u001b[0m\u001b[1;33m,\u001b[0m \u001b[0mage\u001b[0m\u001b[1;33m=\u001b[0m\u001b[1;36m12\u001b[0m\u001b[1;33m)\u001b[0m\u001b[1;33m,\u001b[0m \u001b[0mRow\u001b[0m\u001b[1;33m(\u001b[0m\u001b[0mname\u001b[0m\u001b[1;33m=\u001b[0m\u001b[1;34m'Bob'\u001b[0m\u001b[1;33m,\u001b[0m \u001b[0mage\u001b[0m\u001b[1;33m=\u001b[0m\u001b[1;36m15\u001b[0m\u001b[1;33m)\u001b[0m\u001b[1;33m]\u001b[0m\u001b[1;33m\u001b[0m\u001b[1;33m\u001b[0m\u001b[0m\n\u001b[0;32m   2022\u001b[0m         \"\"\"\n\u001b[1;32m-> 2023\u001b[1;33m         \u001b[0mjdf\u001b[0m \u001b[1;33m=\u001b[0m \u001b[0mself\u001b[0m\u001b[1;33m.\u001b[0m\u001b[0m_jdf\u001b[0m\u001b[1;33m.\u001b[0m\u001b[0mselect\u001b[0m\u001b[1;33m(\u001b[0m\u001b[0mself\u001b[0m\u001b[1;33m.\u001b[0m\u001b[0m_jcols\u001b[0m\u001b[1;33m(\u001b[0m\u001b[1;33m*\u001b[0m\u001b[0mcols\u001b[0m\u001b[1;33m)\u001b[0m\u001b[1;33m)\u001b[0m\u001b[1;33m\u001b[0m\u001b[1;33m\u001b[0m\u001b[0m\n\u001b[0m\u001b[0;32m   2024\u001b[0m         \u001b[1;32mreturn\u001b[0m \u001b[0mDataFrame\u001b[0m\u001b[1;33m(\u001b[0m\u001b[0mjdf\u001b[0m\u001b[1;33m,\u001b[0m \u001b[0mself\u001b[0m\u001b[1;33m.\u001b[0m\u001b[0msparkSession\u001b[0m\u001b[1;33m)\u001b[0m\u001b[1;33m\u001b[0m\u001b[1;33m\u001b[0m\u001b[0m\n\u001b[0;32m   2025\u001b[0m \u001b[1;33m\u001b[0m\u001b[0m\n",
      "\u001b[1;32m~\\anaconda3\\lib\\site-packages\\py4j\\java_gateway.py\u001b[0m in \u001b[0;36m__call__\u001b[1;34m(self, *args)\u001b[0m\n\u001b[0;32m   1319\u001b[0m \u001b[1;33m\u001b[0m\u001b[0m\n\u001b[0;32m   1320\u001b[0m         \u001b[0manswer\u001b[0m \u001b[1;33m=\u001b[0m \u001b[0mself\u001b[0m\u001b[1;33m.\u001b[0m\u001b[0mgateway_client\u001b[0m\u001b[1;33m.\u001b[0m\u001b[0msend_command\u001b[0m\u001b[1;33m(\u001b[0m\u001b[0mcommand\u001b[0m\u001b[1;33m)\u001b[0m\u001b[1;33m\u001b[0m\u001b[1;33m\u001b[0m\u001b[0m\n\u001b[1;32m-> 1321\u001b[1;33m         return_value = get_return_value(\n\u001b[0m\u001b[0;32m   1322\u001b[0m             answer, self.gateway_client, self.target_id, self.name)\n\u001b[0;32m   1323\u001b[0m \u001b[1;33m\u001b[0m\u001b[0m\n",
      "\u001b[1;32m~\\anaconda3\\lib\\site-packages\\pyspark\\sql\\utils.py\u001b[0m in \u001b[0;36mdeco\u001b[1;34m(*a, **kw)\u001b[0m\n\u001b[0;32m    194\u001b[0m                 \u001b[1;31m# Hide where the exception came from that shows a non-Pythonic\u001b[0m\u001b[1;33m\u001b[0m\u001b[1;33m\u001b[0m\u001b[0m\n\u001b[0;32m    195\u001b[0m                 \u001b[1;31m# JVM exception message.\u001b[0m\u001b[1;33m\u001b[0m\u001b[1;33m\u001b[0m\u001b[0m\n\u001b[1;32m--> 196\u001b[1;33m                 \u001b[1;32mraise\u001b[0m \u001b[0mconverted\u001b[0m \u001b[1;32mfrom\u001b[0m \u001b[1;32mNone\u001b[0m\u001b[1;33m\u001b[0m\u001b[1;33m\u001b[0m\u001b[0m\n\u001b[0m\u001b[0;32m    197\u001b[0m             \u001b[1;32melse\u001b[0m\u001b[1;33m:\u001b[0m\u001b[1;33m\u001b[0m\u001b[1;33m\u001b[0m\u001b[0m\n\u001b[0;32m    198\u001b[0m                 \u001b[1;32mraise\u001b[0m\u001b[1;33m\u001b[0m\u001b[1;33m\u001b[0m\u001b[0m\n",
      "\u001b[1;31mAnalysisException\u001b[0m: Column 'person_ID' does not exist. Did you mean one of the following? [GenderID, Fname, Lname, Mname, Prefix, CreateDate, CreatedBy, RaceCode, Suffix, UpdateDate, UpdatedBy, ActiveFlag, DateOfBirth, IdentityDocID, RaceDetails, IdentityDocType, Race Description];\n'Project [Fname#13546, Lname#13547, Mname#13548, 'person_ID]\n+- Relation [Fname#13546,Lname#13547,Mname#13548,DateOfBirth#13549,Suffix#13550,Prefix#13551,ActiveFlag#13552,CreateDate#13553,UpdateDate#13554,CreatedBy#13555,UpdatedBy#13556,GenderID#13557,RaceCode#13558,Race Description#13559,IdentityDocID#13560,IdentityDocType#13561,RaceDetails#13562] csv\n"
     ]
    }
   ],
   "source": [
    "df_task1['Fname',\n",
    " 'Lname',\n",
    " 'Mname',\n",
    " 'person_ID' ].show()"
   ]
  },
  {
   "cell_type": "code",
   "execution_count": 119,
   "id": "962fe4ec",
   "metadata": {
    "ExecuteTime": {
     "end_time": "2022-08-25T12:23:10.779497Z",
     "start_time": "2022-08-25T12:23:10.586943Z"
    }
   },
   "outputs": [
    {
     "data": {
      "text/plain": [
       "DataFrame[Fname: string, Lname: string, Mname: string, DateOfBirth: string, Suffix: string, Prefix: string, ActiveFlag: string, CreateDate: string, UpdateDate: string, CreatedBy: string, UpdatedBy: string, GenderID: string, RaceCode: string, Race Description: string, IdentityDocID: string, IdentityDocType: string, RaceDetails: string, CorrelationID: string]"
      ]
     },
     "execution_count": 119,
     "metadata": {},
     "output_type": "execute_result"
    }
   ],
   "source": [
    "\n",
    "from pyspark.sql.functions import *\n",
    "df_task1.withColumn('CorrelationID',lit(''))"
   ]
  },
  {
   "cell_type": "code",
   "execution_count": 122,
   "id": "114e6c94",
   "metadata": {
    "ExecuteTime": {
     "end_time": "2022-08-25T12:24:54.818483Z",
     "start_time": "2022-08-25T12:24:54.811202Z"
    }
   },
   "outputs": [
    {
     "data": {
      "text/plain": [
       "['Fname',\n",
       " 'Lname',\n",
       " 'Mname',\n",
       " 'DateOfBirth',\n",
       " 'Suffix',\n",
       " 'Prefix',\n",
       " 'ActiveFlag',\n",
       " 'CreateDate',\n",
       " 'UpdateDate',\n",
       " 'CreatedBy',\n",
       " 'UpdatedBy',\n",
       " 'GenderID',\n",
       " 'RaceCode',\n",
       " 'Race Description',\n",
       " 'IdentityDocID',\n",
       " 'IdentityDocType',\n",
       " 'RaceDetails']"
      ]
     },
     "execution_count": 122,
     "metadata": {},
     "output_type": "execute_result"
    }
   ],
   "source": [
    "df_task1.columns"
   ]
  },
  {
   "cell_type": "code",
   "execution_count": 123,
   "id": "197d61a3",
   "metadata": {
    "ExecuteTime": {
     "end_time": "2022-08-25T12:26:12.113893Z",
     "start_time": "2022-08-25T12:26:10.447707Z"
    }
   },
   "outputs": [
    {
     "name": "stdout",
     "output_type": "stream",
     "text": [
      "+-------+-------+-----+-----------+------+------+----------+----------------+----------------+---------+---------+--------+--------+----------------+-------------+---------------+-----------+\n",
      "|  Fname|  Lname|Mname|DateOfBirth|Suffix|Prefix|ActiveFlag|      CreateDate|      UpdateDate|CreatedBy|UpdatedBy|GenderID|RaceCode|Race Description|IdentityDocID|IdentityDocType|RaceDetails|\n",
      "+-------+-------+-----+-----------+------+------+----------+----------------+----------------+---------+---------+--------+--------+----------------+-------------+---------------+-----------+\n",
      "|Abigail|Abraham|    L| 18-10-1942|  null|  null|         Y|04-07-2013 00:00|09-07-2013 00:00|   100001|   100001|       1|      F5|           Black|      1468779|            SSN|          1|\n",
      "|   John|    Don|    L| 19-10-1942|  null|  null|         Y|05-07-2013 00:00|10-07-2013 00:00|   100002|   100002|       1|      F6|            Asia|       D13679|             DL|          2|\n",
      "| Unmesh|Kanchan|    L| 20-10-1942|  null|  null|         Y|06-07-2013 00:00|11-07-2013 00:00|   100003|   100003|       1|      F7|         Spanish|       D13680|             DL|          3|\n",
      "| Sanjib|  Nayak|    L| 21-10-1942|  null|  null|         Y|07-07-2013 00:00|12-07-2013 00:00|   100004|   100004|       1|      F8|          French|       D13681|             DL|          4|\n",
      "|Abigail|Abraham|    L| 22-10-1942|  null|  null|         Y|08-07-2013 00:00|13-07-2013 00:00|   100005|   100005|       1|      F9|           Black|      1468779|            SSN|          5|\n",
      "|  John1|   Don1|    L| 23-10-1942|  null|  null|         Y|09-07-2013 00:00|14-07-2013 00:00|   100006|   100006|       1|     F10|           White|      1468780|            SSN|          6|\n",
      "|  John2|   Don2|    L| 24-10-1942|  null|  null|         Y|10-07-2013 00:00|15-07-2013 00:00|   100007|   100007|       1|    null|            null|         null|           null|       null|\n",
      "|  John3|   Don3|    L| 25-10-1942|  null|  null|         Y|11-07-2013 00:00|16-07-2013 00:00|   100008|   100008|       1|    null|            null|         null|           null|       null|\n",
      "| Sanjib|  Nayak|    L| 26-10-1942|  null|  null|         Y|12-07-2013 00:00|17-07-2013 00:00|   100009|   100009|       1|    null|            null|         null|           null|       null|\n",
      "+-------+-------+-----+-----------+------+------+----------+----------------+----------------+---------+---------+--------+--------+----------------+-------------+---------------+-----------+\n",
      "\n"
     ]
    }
   ],
   "source": [
    "df_task1.show()"
   ]
  },
  {
   "cell_type": "code",
   "execution_count": 124,
   "id": "130255d8",
   "metadata": {
    "ExecuteTime": {
     "end_time": "2022-08-25T12:29:09.667347Z",
     "start_time": "2022-08-25T12:29:09.632298Z"
    }
   },
   "outputs": [
    {
     "data": {
      "text/plain": [
       "DataFrame[Fname: string, Lname: string, Mname: string, DateOfBirth: string, Suffix: string, Prefix: string, ActiveFlag: string, CreateDate: string, UpdateDate: string, CreatedBy: string, UpdatedBy: string, GenderID: string, RaceCode: string, Race Description: string, IdentityDocID: string, IdentityDocType: string, RaceDetails: string, new: int]"
      ]
     },
     "execution_count": 124,
     "metadata": {},
     "output_type": "execute_result"
    }
   ],
   "source": [
    " df_task1.withColumn('new', lit(1))"
   ]
  },
  {
   "cell_type": "code",
   "execution_count": 126,
   "id": "68e26e69",
   "metadata": {
    "ExecuteTime": {
     "end_time": "2022-08-25T12:29:37.165150Z",
     "start_time": "2022-08-25T12:29:37.149287Z"
    }
   },
   "outputs": [
    {
     "data": {
      "text/plain": [
       "['Fname',\n",
       " 'Lname',\n",
       " 'Mname',\n",
       " 'DateOfBirth',\n",
       " 'Suffix',\n",
       " 'Prefix',\n",
       " 'ActiveFlag',\n",
       " 'CreateDate',\n",
       " 'UpdateDate',\n",
       " 'CreatedBy',\n",
       " 'UpdatedBy',\n",
       " 'GenderID',\n",
       " 'RaceCode',\n",
       " 'Race Description',\n",
       " 'IdentityDocID',\n",
       " 'IdentityDocType',\n",
       " 'RaceDetails']"
      ]
     },
     "execution_count": 126,
     "metadata": {},
     "output_type": "execute_result"
    }
   ],
   "source": [
    "df_task1.columns"
   ]
  },
  {
   "cell_type": "code",
   "execution_count": 19,
   "id": "f5a87f30",
   "metadata": {
    "ExecuteTime": {
     "end_time": "2022-08-29T15:59:05.191963Z",
     "start_time": "2022-08-29T15:59:05.176605Z"
    }
   },
   "outputs": [],
   "source": [
    "from pyspark.sql import *\n"
   ]
  },
  {
   "cell_type": "code",
   "execution_count": 133,
   "id": "1af0fbd4",
   "metadata": {
    "ExecuteTime": {
     "end_time": "2022-08-25T12:42:47.753056Z",
     "start_time": "2022-08-25T12:42:47.729875Z"
    },
    "scrolled": true
   },
   "outputs": [
    {
     "data": {
      "text/plain": [
       "['Fname',\n",
       " 'Lname',\n",
       " 'Mname',\n",
       " 'DateOfBirth',\n",
       " 'Suffix',\n",
       " 'Prefix',\n",
       " 'ActiveFlag',\n",
       " 'CreateDate',\n",
       " 'UpdateDate',\n",
       " 'CreatedBy',\n",
       " 'UpdatedBy',\n",
       " 'GenderID',\n",
       " 'RaceCode',\n",
       " 'Race Description',\n",
       " 'IdentityDocID',\n",
       " 'IdentityDocType',\n",
       " 'RaceDetails']"
      ]
     },
     "execution_count": 133,
     "metadata": {},
     "output_type": "execute_result"
    }
   ],
   "source": [
    "df_task1.columns"
   ]
  },
  {
   "cell_type": "code",
   "execution_count": 146,
   "id": "2bb3dc65",
   "metadata": {
    "ExecuteTime": {
     "end_time": "2022-08-25T13:05:15.581075Z",
     "start_time": "2022-08-25T13:05:15.527106Z"
    }
   },
   "outputs": [
    {
     "ename": "TypeError",
     "evalue": "Column is not iterable",
     "output_type": "error",
     "traceback": [
      "\u001b[1;31m---------------------------------------------------------------------------\u001b[0m",
      "\u001b[1;31mTypeError\u001b[0m                                 Traceback (most recent call last)",
      "\u001b[1;32m~\\AppData\\Local\\Temp/ipykernel_18480/3298758063.py\u001b[0m in \u001b[0;36m<module>\u001b[1;34m\u001b[0m\n\u001b[1;32m----> 1\u001b[1;33m \u001b[0mdf_newsample\u001b[0m \u001b[1;33m=\u001b[0m \u001b[0mdf_task1\u001b[0m\u001b[1;33m.\u001b[0m\u001b[0mwithColumn\u001b[0m\u001b[1;33m(\u001b[0m\u001b[1;34m\"corelationId\"\u001b[0m \u001b[1;33m,\u001b[0m \u001b[0mcol\u001b[0m\u001b[1;33m(\u001b[0m\u001b[0mdf_task1\u001b[0m\u001b[1;33m.\u001b[0m\u001b[0mUpdateDate\u001b[0m \u001b[1;33m+\u001b[0m \u001b[0mdf_task1\u001b[0m\u001b[1;33m.\u001b[0m\u001b[0mCreatedBy\u001b[0m\u001b[1;33m)\u001b[0m\u001b[1;33m.\u001b[0m\u001b[0mcast\u001b[0m\u001b[1;33m(\u001b[0m\u001b[0minteger\u001b[0m\u001b[1;33m(\u001b[0m\u001b[1;33m)\u001b[0m\u001b[1;33m)\u001b[0m\u001b[1;33m)\u001b[0m\u001b[1;33m\u001b[0m\u001b[1;33m\u001b[0m\u001b[0m\n\u001b[0m",
      "\u001b[1;32m~\\anaconda3\\lib\\site-packages\\pyspark\\sql\\functions.py\u001b[0m in \u001b[0;36mcol\u001b[1;34m(col)\u001b[0m\n\u001b[0;32m    149\u001b[0m     \u001b[0mColumn\u001b[0m\u001b[1;33m<\u001b[0m\u001b[1;34m'x'\u001b[0m\u001b[1;33m>\u001b[0m\u001b[1;33m\u001b[0m\u001b[1;33m\u001b[0m\u001b[0m\n\u001b[0;32m    150\u001b[0m     \"\"\"\n\u001b[1;32m--> 151\u001b[1;33m     \u001b[1;32mreturn\u001b[0m \u001b[0m_invoke_function\u001b[0m\u001b[1;33m(\u001b[0m\u001b[1;34m\"col\"\u001b[0m\u001b[1;33m,\u001b[0m \u001b[0mcol\u001b[0m\u001b[1;33m)\u001b[0m\u001b[1;33m\u001b[0m\u001b[1;33m\u001b[0m\u001b[0m\n\u001b[0m\u001b[0;32m    152\u001b[0m \u001b[1;33m\u001b[0m\u001b[0m\n\u001b[0;32m    153\u001b[0m \u001b[1;33m\u001b[0m\u001b[0m\n",
      "\u001b[1;32m~\\anaconda3\\lib\\site-packages\\pyspark\\sql\\functions.py\u001b[0m in \u001b[0;36m_invoke_function\u001b[1;34m(name, *args)\u001b[0m\n\u001b[0;32m     83\u001b[0m     \u001b[1;32massert\u001b[0m \u001b[0mSparkContext\u001b[0m\u001b[1;33m.\u001b[0m\u001b[0m_active_spark_context\u001b[0m \u001b[1;32mis\u001b[0m \u001b[1;32mnot\u001b[0m \u001b[1;32mNone\u001b[0m\u001b[1;33m\u001b[0m\u001b[1;33m\u001b[0m\u001b[0m\n\u001b[0;32m     84\u001b[0m     \u001b[0mjf\u001b[0m \u001b[1;33m=\u001b[0m \u001b[0m_get_jvm_function\u001b[0m\u001b[1;33m(\u001b[0m\u001b[0mname\u001b[0m\u001b[1;33m,\u001b[0m \u001b[0mSparkContext\u001b[0m\u001b[1;33m.\u001b[0m\u001b[0m_active_spark_context\u001b[0m\u001b[1;33m)\u001b[0m\u001b[1;33m\u001b[0m\u001b[1;33m\u001b[0m\u001b[0m\n\u001b[1;32m---> 85\u001b[1;33m     \u001b[1;32mreturn\u001b[0m \u001b[0mColumn\u001b[0m\u001b[1;33m(\u001b[0m\u001b[0mjf\u001b[0m\u001b[1;33m(\u001b[0m\u001b[1;33m*\u001b[0m\u001b[0margs\u001b[0m\u001b[1;33m)\u001b[0m\u001b[1;33m)\u001b[0m\u001b[1;33m\u001b[0m\u001b[1;33m\u001b[0m\u001b[0m\n\u001b[0m\u001b[0;32m     86\u001b[0m \u001b[1;33m\u001b[0m\u001b[0m\n\u001b[0;32m     87\u001b[0m \u001b[1;33m\u001b[0m\u001b[0m\n",
      "\u001b[1;32m~\\anaconda3\\lib\\site-packages\\py4j\\java_gateway.py\u001b[0m in \u001b[0;36m__call__\u001b[1;34m(self, *args)\u001b[0m\n\u001b[0;32m   1311\u001b[0m \u001b[1;33m\u001b[0m\u001b[0m\n\u001b[0;32m   1312\u001b[0m     \u001b[1;32mdef\u001b[0m \u001b[0m__call__\u001b[0m\u001b[1;33m(\u001b[0m\u001b[0mself\u001b[0m\u001b[1;33m,\u001b[0m \u001b[1;33m*\u001b[0m\u001b[0margs\u001b[0m\u001b[1;33m)\u001b[0m\u001b[1;33m:\u001b[0m\u001b[1;33m\u001b[0m\u001b[1;33m\u001b[0m\u001b[0m\n\u001b[1;32m-> 1313\u001b[1;33m         \u001b[0margs_command\u001b[0m\u001b[1;33m,\u001b[0m \u001b[0mtemp_args\u001b[0m \u001b[1;33m=\u001b[0m \u001b[0mself\u001b[0m\u001b[1;33m.\u001b[0m\u001b[0m_build_args\u001b[0m\u001b[1;33m(\u001b[0m\u001b[1;33m*\u001b[0m\u001b[0margs\u001b[0m\u001b[1;33m)\u001b[0m\u001b[1;33m\u001b[0m\u001b[1;33m\u001b[0m\u001b[0m\n\u001b[0m\u001b[0;32m   1314\u001b[0m \u001b[1;33m\u001b[0m\u001b[0m\n\u001b[0;32m   1315\u001b[0m         \u001b[0mcommand\u001b[0m \u001b[1;33m=\u001b[0m \u001b[0mproto\u001b[0m\u001b[1;33m.\u001b[0m\u001b[0mCALL_COMMAND_NAME\u001b[0m \u001b[1;33m+\u001b[0m\u001b[0;31m\\\u001b[0m\u001b[1;33m\u001b[0m\u001b[1;33m\u001b[0m\u001b[0m\n",
      "\u001b[1;32m~\\anaconda3\\lib\\site-packages\\py4j\\java_gateway.py\u001b[0m in \u001b[0;36m_build_args\u001b[1;34m(self, *args)\u001b[0m\n\u001b[0;32m   1275\u001b[0m     \u001b[1;32mdef\u001b[0m \u001b[0m_build_args\u001b[0m\u001b[1;33m(\u001b[0m\u001b[0mself\u001b[0m\u001b[1;33m,\u001b[0m \u001b[1;33m*\u001b[0m\u001b[0margs\u001b[0m\u001b[1;33m)\u001b[0m\u001b[1;33m:\u001b[0m\u001b[1;33m\u001b[0m\u001b[1;33m\u001b[0m\u001b[0m\n\u001b[0;32m   1276\u001b[0m         \u001b[1;32mif\u001b[0m \u001b[0mself\u001b[0m\u001b[1;33m.\u001b[0m\u001b[0mconverters\u001b[0m \u001b[1;32mis\u001b[0m \u001b[1;32mnot\u001b[0m \u001b[1;32mNone\u001b[0m \u001b[1;32mand\u001b[0m \u001b[0mlen\u001b[0m\u001b[1;33m(\u001b[0m\u001b[0mself\u001b[0m\u001b[1;33m.\u001b[0m\u001b[0mconverters\u001b[0m\u001b[1;33m)\u001b[0m \u001b[1;33m>\u001b[0m \u001b[1;36m0\u001b[0m\u001b[1;33m:\u001b[0m\u001b[1;33m\u001b[0m\u001b[1;33m\u001b[0m\u001b[0m\n\u001b[1;32m-> 1277\u001b[1;33m             \u001b[1;33m(\u001b[0m\u001b[0mnew_args\u001b[0m\u001b[1;33m,\u001b[0m \u001b[0mtemp_args\u001b[0m\u001b[1;33m)\u001b[0m \u001b[1;33m=\u001b[0m \u001b[0mself\u001b[0m\u001b[1;33m.\u001b[0m\u001b[0m_get_args\u001b[0m\u001b[1;33m(\u001b[0m\u001b[0margs\u001b[0m\u001b[1;33m)\u001b[0m\u001b[1;33m\u001b[0m\u001b[1;33m\u001b[0m\u001b[0m\n\u001b[0m\u001b[0;32m   1278\u001b[0m         \u001b[1;32melse\u001b[0m\u001b[1;33m:\u001b[0m\u001b[1;33m\u001b[0m\u001b[1;33m\u001b[0m\u001b[0m\n\u001b[0;32m   1279\u001b[0m             \u001b[0mnew_args\u001b[0m \u001b[1;33m=\u001b[0m \u001b[0margs\u001b[0m\u001b[1;33m\u001b[0m\u001b[1;33m\u001b[0m\u001b[0m\n",
      "\u001b[1;32m~\\anaconda3\\lib\\site-packages\\py4j\\java_gateway.py\u001b[0m in \u001b[0;36m_get_args\u001b[1;34m(self, args)\u001b[0m\n\u001b[0;32m   1262\u001b[0m                 \u001b[1;32mfor\u001b[0m \u001b[0mconverter\u001b[0m \u001b[1;32min\u001b[0m \u001b[0mself\u001b[0m\u001b[1;33m.\u001b[0m\u001b[0mgateway_client\u001b[0m\u001b[1;33m.\u001b[0m\u001b[0mconverters\u001b[0m\u001b[1;33m:\u001b[0m\u001b[1;33m\u001b[0m\u001b[1;33m\u001b[0m\u001b[0m\n\u001b[0;32m   1263\u001b[0m                     \u001b[1;32mif\u001b[0m \u001b[0mconverter\u001b[0m\u001b[1;33m.\u001b[0m\u001b[0mcan_convert\u001b[0m\u001b[1;33m(\u001b[0m\u001b[0marg\u001b[0m\u001b[1;33m)\u001b[0m\u001b[1;33m:\u001b[0m\u001b[1;33m\u001b[0m\u001b[1;33m\u001b[0m\u001b[0m\n\u001b[1;32m-> 1264\u001b[1;33m                         \u001b[0mtemp_arg\u001b[0m \u001b[1;33m=\u001b[0m \u001b[0mconverter\u001b[0m\u001b[1;33m.\u001b[0m\u001b[0mconvert\u001b[0m\u001b[1;33m(\u001b[0m\u001b[0marg\u001b[0m\u001b[1;33m,\u001b[0m \u001b[0mself\u001b[0m\u001b[1;33m.\u001b[0m\u001b[0mgateway_client\u001b[0m\u001b[1;33m)\u001b[0m\u001b[1;33m\u001b[0m\u001b[1;33m\u001b[0m\u001b[0m\n\u001b[0m\u001b[0;32m   1265\u001b[0m                         \u001b[0mtemp_args\u001b[0m\u001b[1;33m.\u001b[0m\u001b[0mappend\u001b[0m\u001b[1;33m(\u001b[0m\u001b[0mtemp_arg\u001b[0m\u001b[1;33m)\u001b[0m\u001b[1;33m\u001b[0m\u001b[1;33m\u001b[0m\u001b[0m\n\u001b[0;32m   1266\u001b[0m                         \u001b[0mnew_args\u001b[0m\u001b[1;33m.\u001b[0m\u001b[0mappend\u001b[0m\u001b[1;33m(\u001b[0m\u001b[0mtemp_arg\u001b[0m\u001b[1;33m)\u001b[0m\u001b[1;33m\u001b[0m\u001b[1;33m\u001b[0m\u001b[0m\n",
      "\u001b[1;32m~\\anaconda3\\lib\\site-packages\\py4j\\java_collections.py\u001b[0m in \u001b[0;36mconvert\u001b[1;34m(self, object, gateway_client)\u001b[0m\n\u001b[0;32m    508\u001b[0m         \u001b[0mArrayList\u001b[0m \u001b[1;33m=\u001b[0m \u001b[0mJavaClass\u001b[0m\u001b[1;33m(\u001b[0m\u001b[1;34m\"java.util.ArrayList\"\u001b[0m\u001b[1;33m,\u001b[0m \u001b[0mgateway_client\u001b[0m\u001b[1;33m)\u001b[0m\u001b[1;33m\u001b[0m\u001b[1;33m\u001b[0m\u001b[0m\n\u001b[0;32m    509\u001b[0m         \u001b[0mjava_list\u001b[0m \u001b[1;33m=\u001b[0m \u001b[0mArrayList\u001b[0m\u001b[1;33m(\u001b[0m\u001b[1;33m)\u001b[0m\u001b[1;33m\u001b[0m\u001b[1;33m\u001b[0m\u001b[0m\n\u001b[1;32m--> 510\u001b[1;33m         \u001b[1;32mfor\u001b[0m \u001b[0melement\u001b[0m \u001b[1;32min\u001b[0m \u001b[0mobject\u001b[0m\u001b[1;33m:\u001b[0m\u001b[1;33m\u001b[0m\u001b[1;33m\u001b[0m\u001b[0m\n\u001b[0m\u001b[0;32m    511\u001b[0m             \u001b[0mjava_list\u001b[0m\u001b[1;33m.\u001b[0m\u001b[0madd\u001b[0m\u001b[1;33m(\u001b[0m\u001b[0melement\u001b[0m\u001b[1;33m)\u001b[0m\u001b[1;33m\u001b[0m\u001b[1;33m\u001b[0m\u001b[0m\n\u001b[0;32m    512\u001b[0m         \u001b[1;32mreturn\u001b[0m \u001b[0mjava_list\u001b[0m\u001b[1;33m\u001b[0m\u001b[1;33m\u001b[0m\u001b[0m\n",
      "\u001b[1;32m~\\anaconda3\\lib\\site-packages\\pyspark\\sql\\column.py\u001b[0m in \u001b[0;36m__iter__\u001b[1;34m(self)\u001b[0m\n\u001b[0;32m    558\u001b[0m \u001b[1;33m\u001b[0m\u001b[0m\n\u001b[0;32m    559\u001b[0m     \u001b[1;32mdef\u001b[0m \u001b[0m__iter__\u001b[0m\u001b[1;33m(\u001b[0m\u001b[0mself\u001b[0m\u001b[1;33m)\u001b[0m \u001b[1;33m->\u001b[0m \u001b[1;32mNone\u001b[0m\u001b[1;33m:\u001b[0m\u001b[1;33m\u001b[0m\u001b[1;33m\u001b[0m\u001b[0m\n\u001b[1;32m--> 560\u001b[1;33m         \u001b[1;32mraise\u001b[0m \u001b[0mTypeError\u001b[0m\u001b[1;33m(\u001b[0m\u001b[1;34m\"Column is not iterable\"\u001b[0m\u001b[1;33m)\u001b[0m\u001b[1;33m\u001b[0m\u001b[1;33m\u001b[0m\u001b[0m\n\u001b[0m\u001b[0;32m    561\u001b[0m \u001b[1;33m\u001b[0m\u001b[0m\n\u001b[0;32m    562\u001b[0m     \u001b[1;31m# string methods\u001b[0m\u001b[1;33m\u001b[0m\u001b[1;33m\u001b[0m\u001b[0m\n",
      "\u001b[1;31mTypeError\u001b[0m: Column is not iterable"
     ]
    }
   ],
   "source": [
    "df_newsample = df_task1.withColumn(\"corelationId\" , col(df_task1.UpdateDate + df_task1.CreatedBy).cast(integer()))"
   ]
  },
  {
   "cell_type": "code",
   "execution_count": 135,
   "id": "c48d9d76",
   "metadata": {
    "ExecuteTime": {
     "end_time": "2022-08-25T12:51:32.130307Z",
     "start_time": "2022-08-25T12:51:32.112720Z"
    }
   },
   "outputs": [
    {
     "data": {
      "text/plain": [
       "['Fname',\n",
       " 'Lname',\n",
       " 'Mname',\n",
       " 'DateOfBirth',\n",
       " 'Suffix',\n",
       " 'Prefix',\n",
       " 'ActiveFlag',\n",
       " 'CreateDate',\n",
       " 'UpdateDate',\n",
       " 'CreatedBy',\n",
       " 'UpdatedBy',\n",
       " 'GenderID',\n",
       " 'RaceCode',\n",
       " 'Race Description',\n",
       " 'IdentityDocID',\n",
       " 'IdentityDocType',\n",
       " 'RaceDetails',\n",
       " 'corelationId']"
      ]
     },
     "execution_count": 135,
     "metadata": {},
     "output_type": "execute_result"
    }
   ],
   "source": [
    "df_newsample.columns"
   ]
  },
  {
   "cell_type": "code",
   "execution_count": 140,
   "id": "7b6700a0",
   "metadata": {
    "ExecuteTime": {
     "end_time": "2022-08-25T12:56:36.430337Z",
     "start_time": "2022-08-25T12:56:36.396073Z"
    }
   },
   "outputs": [
    {
     "data": {
      "text/plain": [
       "<bound method DataFrame.show of DataFrame[corelationId: double]>"
      ]
     },
     "execution_count": 140,
     "metadata": {},
     "output_type": "execute_result"
    }
   ],
   "source": [
    "df_newsample.select(\"corelationId\").show"
   ]
  },
  {
   "cell_type": "code",
   "execution_count": 145,
   "id": "a29946c4",
   "metadata": {
    "ExecuteTime": {
     "end_time": "2022-08-25T12:59:52.449236Z",
     "start_time": "2022-08-25T12:59:52.278214Z"
    }
   },
   "outputs": [
    {
     "name": "stdout",
     "output_type": "stream",
     "text": [
      "+------------+\n",
      "|corelationId|\n",
      "+------------+\n",
      "|        null|\n",
      "|        null|\n",
      "|        null|\n",
      "|        null|\n",
      "|        null|\n",
      "|        null|\n",
      "|        null|\n",
      "|        null|\n",
      "|        null|\n",
      "+------------+\n",
      "\n"
     ]
    }
   ],
   "source": [
    "df_newsample.select('corelationId').show()"
   ]
  },
  {
   "cell_type": "code",
   "execution_count": 147,
   "id": "a2ed8887",
   "metadata": {
    "ExecuteTime": {
     "end_time": "2022-08-25T13:06:25.644499Z",
     "start_time": "2022-08-25T13:06:25.598088Z"
    }
   },
   "outputs": [
    {
     "ename": "TypeError",
     "evalue": "Column is not iterable",
     "output_type": "error",
     "traceback": [
      "\u001b[1;31m---------------------------------------------------------------------------\u001b[0m",
      "\u001b[1;31mTypeError\u001b[0m                                 Traceback (most recent call last)",
      "\u001b[1;32m~\\AppData\\Local\\Temp/ipykernel_18480/3298758063.py\u001b[0m in \u001b[0;36m<module>\u001b[1;34m\u001b[0m\n\u001b[1;32m----> 1\u001b[1;33m \u001b[0mdf_newsample\u001b[0m \u001b[1;33m=\u001b[0m \u001b[0mdf_task1\u001b[0m\u001b[1;33m.\u001b[0m\u001b[0mwithColumn\u001b[0m\u001b[1;33m(\u001b[0m\u001b[1;34m\"corelationId\"\u001b[0m \u001b[1;33m,\u001b[0m \u001b[0mcol\u001b[0m\u001b[1;33m(\u001b[0m\u001b[0mdf_task1\u001b[0m\u001b[1;33m.\u001b[0m\u001b[0mUpdateDate\u001b[0m \u001b[1;33m+\u001b[0m \u001b[0mdf_task1\u001b[0m\u001b[1;33m.\u001b[0m\u001b[0mCreatedBy\u001b[0m\u001b[1;33m)\u001b[0m\u001b[1;33m.\u001b[0m\u001b[0mcast\u001b[0m\u001b[1;33m(\u001b[0m\u001b[0minteger\u001b[0m\u001b[1;33m(\u001b[0m\u001b[1;33m)\u001b[0m\u001b[1;33m)\u001b[0m\u001b[1;33m)\u001b[0m\u001b[1;33m\u001b[0m\u001b[1;33m\u001b[0m\u001b[0m\n\u001b[0m",
      "\u001b[1;32m~\\anaconda3\\lib\\site-packages\\pyspark\\sql\\functions.py\u001b[0m in \u001b[0;36mcol\u001b[1;34m(col)\u001b[0m\n\u001b[0;32m    149\u001b[0m     \u001b[0mColumn\u001b[0m\u001b[1;33m<\u001b[0m\u001b[1;34m'x'\u001b[0m\u001b[1;33m>\u001b[0m\u001b[1;33m\u001b[0m\u001b[1;33m\u001b[0m\u001b[0m\n\u001b[0;32m    150\u001b[0m     \"\"\"\n\u001b[1;32m--> 151\u001b[1;33m     \u001b[1;32mreturn\u001b[0m \u001b[0m_invoke_function\u001b[0m\u001b[1;33m(\u001b[0m\u001b[1;34m\"col\"\u001b[0m\u001b[1;33m,\u001b[0m \u001b[0mcol\u001b[0m\u001b[1;33m)\u001b[0m\u001b[1;33m\u001b[0m\u001b[1;33m\u001b[0m\u001b[0m\n\u001b[0m\u001b[0;32m    152\u001b[0m \u001b[1;33m\u001b[0m\u001b[0m\n\u001b[0;32m    153\u001b[0m \u001b[1;33m\u001b[0m\u001b[0m\n",
      "\u001b[1;32m~\\anaconda3\\lib\\site-packages\\pyspark\\sql\\functions.py\u001b[0m in \u001b[0;36m_invoke_function\u001b[1;34m(name, *args)\u001b[0m\n\u001b[0;32m     83\u001b[0m     \u001b[1;32massert\u001b[0m \u001b[0mSparkContext\u001b[0m\u001b[1;33m.\u001b[0m\u001b[0m_active_spark_context\u001b[0m \u001b[1;32mis\u001b[0m \u001b[1;32mnot\u001b[0m \u001b[1;32mNone\u001b[0m\u001b[1;33m\u001b[0m\u001b[1;33m\u001b[0m\u001b[0m\n\u001b[0;32m     84\u001b[0m     \u001b[0mjf\u001b[0m \u001b[1;33m=\u001b[0m \u001b[0m_get_jvm_function\u001b[0m\u001b[1;33m(\u001b[0m\u001b[0mname\u001b[0m\u001b[1;33m,\u001b[0m \u001b[0mSparkContext\u001b[0m\u001b[1;33m.\u001b[0m\u001b[0m_active_spark_context\u001b[0m\u001b[1;33m)\u001b[0m\u001b[1;33m\u001b[0m\u001b[1;33m\u001b[0m\u001b[0m\n\u001b[1;32m---> 85\u001b[1;33m     \u001b[1;32mreturn\u001b[0m \u001b[0mColumn\u001b[0m\u001b[1;33m(\u001b[0m\u001b[0mjf\u001b[0m\u001b[1;33m(\u001b[0m\u001b[1;33m*\u001b[0m\u001b[0margs\u001b[0m\u001b[1;33m)\u001b[0m\u001b[1;33m)\u001b[0m\u001b[1;33m\u001b[0m\u001b[1;33m\u001b[0m\u001b[0m\n\u001b[0m\u001b[0;32m     86\u001b[0m \u001b[1;33m\u001b[0m\u001b[0m\n\u001b[0;32m     87\u001b[0m \u001b[1;33m\u001b[0m\u001b[0m\n",
      "\u001b[1;32m~\\anaconda3\\lib\\site-packages\\py4j\\java_gateway.py\u001b[0m in \u001b[0;36m__call__\u001b[1;34m(self, *args)\u001b[0m\n\u001b[0;32m   1311\u001b[0m \u001b[1;33m\u001b[0m\u001b[0m\n\u001b[0;32m   1312\u001b[0m     \u001b[1;32mdef\u001b[0m \u001b[0m__call__\u001b[0m\u001b[1;33m(\u001b[0m\u001b[0mself\u001b[0m\u001b[1;33m,\u001b[0m \u001b[1;33m*\u001b[0m\u001b[0margs\u001b[0m\u001b[1;33m)\u001b[0m\u001b[1;33m:\u001b[0m\u001b[1;33m\u001b[0m\u001b[1;33m\u001b[0m\u001b[0m\n\u001b[1;32m-> 1313\u001b[1;33m         \u001b[0margs_command\u001b[0m\u001b[1;33m,\u001b[0m \u001b[0mtemp_args\u001b[0m \u001b[1;33m=\u001b[0m \u001b[0mself\u001b[0m\u001b[1;33m.\u001b[0m\u001b[0m_build_args\u001b[0m\u001b[1;33m(\u001b[0m\u001b[1;33m*\u001b[0m\u001b[0margs\u001b[0m\u001b[1;33m)\u001b[0m\u001b[1;33m\u001b[0m\u001b[1;33m\u001b[0m\u001b[0m\n\u001b[0m\u001b[0;32m   1314\u001b[0m \u001b[1;33m\u001b[0m\u001b[0m\n\u001b[0;32m   1315\u001b[0m         \u001b[0mcommand\u001b[0m \u001b[1;33m=\u001b[0m \u001b[0mproto\u001b[0m\u001b[1;33m.\u001b[0m\u001b[0mCALL_COMMAND_NAME\u001b[0m \u001b[1;33m+\u001b[0m\u001b[0;31m\\\u001b[0m\u001b[1;33m\u001b[0m\u001b[1;33m\u001b[0m\u001b[0m\n",
      "\u001b[1;32m~\\anaconda3\\lib\\site-packages\\py4j\\java_gateway.py\u001b[0m in \u001b[0;36m_build_args\u001b[1;34m(self, *args)\u001b[0m\n\u001b[0;32m   1275\u001b[0m     \u001b[1;32mdef\u001b[0m \u001b[0m_build_args\u001b[0m\u001b[1;33m(\u001b[0m\u001b[0mself\u001b[0m\u001b[1;33m,\u001b[0m \u001b[1;33m*\u001b[0m\u001b[0margs\u001b[0m\u001b[1;33m)\u001b[0m\u001b[1;33m:\u001b[0m\u001b[1;33m\u001b[0m\u001b[1;33m\u001b[0m\u001b[0m\n\u001b[0;32m   1276\u001b[0m         \u001b[1;32mif\u001b[0m \u001b[0mself\u001b[0m\u001b[1;33m.\u001b[0m\u001b[0mconverters\u001b[0m \u001b[1;32mis\u001b[0m \u001b[1;32mnot\u001b[0m \u001b[1;32mNone\u001b[0m \u001b[1;32mand\u001b[0m \u001b[0mlen\u001b[0m\u001b[1;33m(\u001b[0m\u001b[0mself\u001b[0m\u001b[1;33m.\u001b[0m\u001b[0mconverters\u001b[0m\u001b[1;33m)\u001b[0m \u001b[1;33m>\u001b[0m \u001b[1;36m0\u001b[0m\u001b[1;33m:\u001b[0m\u001b[1;33m\u001b[0m\u001b[1;33m\u001b[0m\u001b[0m\n\u001b[1;32m-> 1277\u001b[1;33m             \u001b[1;33m(\u001b[0m\u001b[0mnew_args\u001b[0m\u001b[1;33m,\u001b[0m \u001b[0mtemp_args\u001b[0m\u001b[1;33m)\u001b[0m \u001b[1;33m=\u001b[0m \u001b[0mself\u001b[0m\u001b[1;33m.\u001b[0m\u001b[0m_get_args\u001b[0m\u001b[1;33m(\u001b[0m\u001b[0margs\u001b[0m\u001b[1;33m)\u001b[0m\u001b[1;33m\u001b[0m\u001b[1;33m\u001b[0m\u001b[0m\n\u001b[0m\u001b[0;32m   1278\u001b[0m         \u001b[1;32melse\u001b[0m\u001b[1;33m:\u001b[0m\u001b[1;33m\u001b[0m\u001b[1;33m\u001b[0m\u001b[0m\n\u001b[0;32m   1279\u001b[0m             \u001b[0mnew_args\u001b[0m \u001b[1;33m=\u001b[0m \u001b[0margs\u001b[0m\u001b[1;33m\u001b[0m\u001b[1;33m\u001b[0m\u001b[0m\n",
      "\u001b[1;32m~\\anaconda3\\lib\\site-packages\\py4j\\java_gateway.py\u001b[0m in \u001b[0;36m_get_args\u001b[1;34m(self, args)\u001b[0m\n\u001b[0;32m   1262\u001b[0m                 \u001b[1;32mfor\u001b[0m \u001b[0mconverter\u001b[0m \u001b[1;32min\u001b[0m \u001b[0mself\u001b[0m\u001b[1;33m.\u001b[0m\u001b[0mgateway_client\u001b[0m\u001b[1;33m.\u001b[0m\u001b[0mconverters\u001b[0m\u001b[1;33m:\u001b[0m\u001b[1;33m\u001b[0m\u001b[1;33m\u001b[0m\u001b[0m\n\u001b[0;32m   1263\u001b[0m                     \u001b[1;32mif\u001b[0m \u001b[0mconverter\u001b[0m\u001b[1;33m.\u001b[0m\u001b[0mcan_convert\u001b[0m\u001b[1;33m(\u001b[0m\u001b[0marg\u001b[0m\u001b[1;33m)\u001b[0m\u001b[1;33m:\u001b[0m\u001b[1;33m\u001b[0m\u001b[1;33m\u001b[0m\u001b[0m\n\u001b[1;32m-> 1264\u001b[1;33m                         \u001b[0mtemp_arg\u001b[0m \u001b[1;33m=\u001b[0m \u001b[0mconverter\u001b[0m\u001b[1;33m.\u001b[0m\u001b[0mconvert\u001b[0m\u001b[1;33m(\u001b[0m\u001b[0marg\u001b[0m\u001b[1;33m,\u001b[0m \u001b[0mself\u001b[0m\u001b[1;33m.\u001b[0m\u001b[0mgateway_client\u001b[0m\u001b[1;33m)\u001b[0m\u001b[1;33m\u001b[0m\u001b[1;33m\u001b[0m\u001b[0m\n\u001b[0m\u001b[0;32m   1265\u001b[0m                         \u001b[0mtemp_args\u001b[0m\u001b[1;33m.\u001b[0m\u001b[0mappend\u001b[0m\u001b[1;33m(\u001b[0m\u001b[0mtemp_arg\u001b[0m\u001b[1;33m)\u001b[0m\u001b[1;33m\u001b[0m\u001b[1;33m\u001b[0m\u001b[0m\n\u001b[0;32m   1266\u001b[0m                         \u001b[0mnew_args\u001b[0m\u001b[1;33m.\u001b[0m\u001b[0mappend\u001b[0m\u001b[1;33m(\u001b[0m\u001b[0mtemp_arg\u001b[0m\u001b[1;33m)\u001b[0m\u001b[1;33m\u001b[0m\u001b[1;33m\u001b[0m\u001b[0m\n",
      "\u001b[1;32m~\\anaconda3\\lib\\site-packages\\py4j\\java_collections.py\u001b[0m in \u001b[0;36mconvert\u001b[1;34m(self, object, gateway_client)\u001b[0m\n\u001b[0;32m    508\u001b[0m         \u001b[0mArrayList\u001b[0m \u001b[1;33m=\u001b[0m \u001b[0mJavaClass\u001b[0m\u001b[1;33m(\u001b[0m\u001b[1;34m\"java.util.ArrayList\"\u001b[0m\u001b[1;33m,\u001b[0m \u001b[0mgateway_client\u001b[0m\u001b[1;33m)\u001b[0m\u001b[1;33m\u001b[0m\u001b[1;33m\u001b[0m\u001b[0m\n\u001b[0;32m    509\u001b[0m         \u001b[0mjava_list\u001b[0m \u001b[1;33m=\u001b[0m \u001b[0mArrayList\u001b[0m\u001b[1;33m(\u001b[0m\u001b[1;33m)\u001b[0m\u001b[1;33m\u001b[0m\u001b[1;33m\u001b[0m\u001b[0m\n\u001b[1;32m--> 510\u001b[1;33m         \u001b[1;32mfor\u001b[0m \u001b[0melement\u001b[0m \u001b[1;32min\u001b[0m \u001b[0mobject\u001b[0m\u001b[1;33m:\u001b[0m\u001b[1;33m\u001b[0m\u001b[1;33m\u001b[0m\u001b[0m\n\u001b[0m\u001b[0;32m    511\u001b[0m             \u001b[0mjava_list\u001b[0m\u001b[1;33m.\u001b[0m\u001b[0madd\u001b[0m\u001b[1;33m(\u001b[0m\u001b[0melement\u001b[0m\u001b[1;33m)\u001b[0m\u001b[1;33m\u001b[0m\u001b[1;33m\u001b[0m\u001b[0m\n\u001b[0;32m    512\u001b[0m         \u001b[1;32mreturn\u001b[0m \u001b[0mjava_list\u001b[0m\u001b[1;33m\u001b[0m\u001b[1;33m\u001b[0m\u001b[0m\n",
      "\u001b[1;32m~\\anaconda3\\lib\\site-packages\\pyspark\\sql\\column.py\u001b[0m in \u001b[0;36m__iter__\u001b[1;34m(self)\u001b[0m\n\u001b[0;32m    558\u001b[0m \u001b[1;33m\u001b[0m\u001b[0m\n\u001b[0;32m    559\u001b[0m     \u001b[1;32mdef\u001b[0m \u001b[0m__iter__\u001b[0m\u001b[1;33m(\u001b[0m\u001b[0mself\u001b[0m\u001b[1;33m)\u001b[0m \u001b[1;33m->\u001b[0m \u001b[1;32mNone\u001b[0m\u001b[1;33m:\u001b[0m\u001b[1;33m\u001b[0m\u001b[1;33m\u001b[0m\u001b[0m\n\u001b[1;32m--> 560\u001b[1;33m         \u001b[1;32mraise\u001b[0m \u001b[0mTypeError\u001b[0m\u001b[1;33m(\u001b[0m\u001b[1;34m\"Column is not iterable\"\u001b[0m\u001b[1;33m)\u001b[0m\u001b[1;33m\u001b[0m\u001b[1;33m\u001b[0m\u001b[0m\n\u001b[0m\u001b[0;32m    561\u001b[0m \u001b[1;33m\u001b[0m\u001b[0m\n\u001b[0;32m    562\u001b[0m     \u001b[1;31m# string methods\u001b[0m\u001b[1;33m\u001b[0m\u001b[1;33m\u001b[0m\u001b[0m\n",
      "\u001b[1;31mTypeError\u001b[0m: Column is not iterable"
     ]
    }
   ],
   "source": [
    "df_newsample = df_task1.withColumn(\"corelationId\" ,df_task1.UpdateDate + df_task1.CreatedBy)"
   ]
  },
  {
   "cell_type": "code",
   "execution_count": 152,
   "id": "8bd989fd",
   "metadata": {
    "ExecuteTime": {
     "end_time": "2022-08-25T13:29:58.428346Z",
     "start_time": "2022-08-25T13:29:58.241654Z"
    },
    "scrolled": true
   },
   "outputs": [
    {
     "name": "stdout",
     "output_type": "stream",
     "text": [
      "+-----------------------------+\n",
      "|concat(CreatedBy, CreateDate)|\n",
      "+-----------------------------+\n",
      "|         10000104-07-2013 ...|\n",
      "|         10000205-07-2013 ...|\n",
      "|         10000306-07-2013 ...|\n",
      "|         10000407-07-2013 ...|\n",
      "|         10000508-07-2013 ...|\n",
      "|         10000609-07-2013 ...|\n",
      "|         10000710-07-2013 ...|\n",
      "|         10000811-07-2013 ...|\n",
      "|         10000912-07-2013 ...|\n",
      "+-----------------------------+\n",
      "\n"
     ]
    }
   ],
   "source": [
    "df_newsample.select(concat(df_newsample.CreateDate,df_newsample.CreatedBy )).show()"
   ]
  },
  {
   "cell_type": "code",
   "execution_count": 169,
   "id": "6cccf23c",
   "metadata": {
    "ExecuteTime": {
     "end_time": "2022-08-25T13:46:55.744859Z",
     "start_time": "2022-08-25T13:46:55.719553Z"
    }
   },
   "outputs": [],
   "source": [
    "df1 = df_newsample.withColumn('CreatedBy', translate('CreatedBy' ,'0000','-aa-'))"
   ]
  },
  {
   "cell_type": "code",
   "execution_count": 171,
   "id": "f2e13a57",
   "metadata": {
    "ExecuteTime": {
     "end_time": "2022-08-25T13:47:03.519884Z",
     "start_time": "2022-08-25T13:47:03.396818Z"
    }
   },
   "outputs": [
    {
     "name": "stdout",
     "output_type": "stream",
     "text": [
      "+---------+\n",
      "|CreatedBy|\n",
      "+---------+\n",
      "|   1----1|\n",
      "|   1----2|\n",
      "|   1----3|\n",
      "|   1----4|\n",
      "|   1----5|\n",
      "|   1----6|\n",
      "|   1----7|\n",
      "|   1----8|\n",
      "|   1----9|\n",
      "+---------+\n",
      "\n"
     ]
    }
   ],
   "source": [
    "df1.select('CreatedBy').show()"
   ]
  },
  {
   "cell_type": "code",
   "execution_count": 175,
   "id": "2bfb405e",
   "metadata": {
    "ExecuteTime": {
     "end_time": "2022-08-25T19:31:22.864240Z",
     "start_time": "2022-08-25T19:31:22.811902Z"
    }
   },
   "outputs": [
    {
     "data": {
      "text/plain": [
       "<pyspark.sql.group.GroupedData at 0x1b5f0d89e80>"
      ]
     },
     "execution_count": 175,
     "metadata": {},
     "output_type": "execute_result"
    }
   ],
   "source": [
    "# window function \n",
    "df_pyspark.groupby('Age')"
   ]
  },
  {
   "cell_type": "code",
   "execution_count": 177,
   "id": "17ed9711",
   "metadata": {
    "ExecuteTime": {
     "end_time": "2022-08-25T19:31:48.255138Z",
     "start_time": "2022-08-25T19:31:48.243255Z"
    }
   },
   "outputs": [
    {
     "data": {
      "text/plain": [
       "['Respondent',\n",
       " 'MainBranch',\n",
       " 'Hobbyist',\n",
       " 'Age',\n",
       " 'Age1stCode',\n",
       " 'CompFreq',\n",
       " 'CompTotal',\n",
       " 'ConvertedComp',\n",
       " 'Country',\n",
       " 'CurrencyDesc',\n",
       " 'CurrencySymbol',\n",
       " 'DatabaseDesireNextYear',\n",
       " 'DatabaseWorkedWith',\n",
       " 'DevType',\n",
       " 'EdLevel',\n",
       " 'Employment',\n",
       " 'Ethnicity',\n",
       " 'Gender',\n",
       " 'JobFactors',\n",
       " 'JobSat',\n",
       " 'JobSeek',\n",
       " 'LanguageDesireNextYear',\n",
       " 'LanguageWorkedWith',\n",
       " 'MiscTechDesireNextYear',\n",
       " 'MiscTechWorkedWith',\n",
       " 'NEWCollabToolsDesireNextYear',\n",
       " 'NEWCollabToolsWorkedWith',\n",
       " 'NEWDevOps',\n",
       " 'NEWDevOpsImpt',\n",
       " 'NEWEdImpt',\n",
       " 'NEWJobHunt',\n",
       " 'NEWJobHuntResearch',\n",
       " 'NEWLearn',\n",
       " 'NEWOffTopic',\n",
       " 'NEWOnboardGood',\n",
       " 'NEWOtherComms',\n",
       " 'NEWOvertime',\n",
       " 'NEWPurchaseResearch',\n",
       " 'NEWPurpleLink',\n",
       " 'NEWSOSites',\n",
       " 'NEWStuck',\n",
       " 'OpSys',\n",
       " 'OrgSize',\n",
       " 'PlatformDesireNextYear',\n",
       " 'PlatformWorkedWith',\n",
       " 'PurchaseWhat',\n",
       " 'Sexuality',\n",
       " 'SOAccount',\n",
       " 'SOComm',\n",
       " 'SOPartFreq',\n",
       " 'SOVisitFreq',\n",
       " 'SurveyEase',\n",
       " 'SurveyLength',\n",
       " 'Trans',\n",
       " 'UndergradMajor',\n",
       " 'WebframeDesireNextYear',\n",
       " 'WebframeWorkedWith',\n",
       " 'WelcomeChange',\n",
       " 'WorkWeekHrs',\n",
       " 'YearsCode',\n",
       " 'YearsCodePro']"
      ]
     },
     "execution_count": 177,
     "metadata": {},
     "output_type": "execute_result"
    }
   ],
   "source": [
    "df_pyspark.columns"
   ]
  },
  {
   "cell_type": "code",
   "execution_count": 193,
   "id": "3f8aea45",
   "metadata": {
    "ExecuteTime": {
     "end_time": "2022-08-25T19:44:21.764632Z",
     "start_time": "2022-08-25T19:44:20.651741Z"
    }
   },
   "outputs": [
    {
     "name": "stdout",
     "output_type": "stream",
     "text": [
      "+--------------------+-----+\n",
      "|             Country|count|\n",
      "+--------------------+-----+\n",
      "|       Côte d'Ivoire|   17|\n",
      "|            Paraguay|   26|\n",
      "|The former Yugosl...|   38|\n",
      "|               Yemen|    7|\n",
      "|             Senegal|   26|\n",
      "|              Sweden|  886|\n",
      "|  Hong Kong (S.A.R.)|  111|\n",
      "|   Republic of Korea|   88|\n",
      "|         Philippines|  405|\n",
      "|             Eritrea|    3|\n",
      "|           Singapore|  228|\n",
      "|            Malaysia|  231|\n",
      "|              Turkey|  777|\n",
      "|              Malawi|    8|\n",
      "|                Iraq|   44|\n",
      "|             Germany| 3890|\n",
      "|         Afghanistan|   84|\n",
      "|            Cambodia|   31|\n",
      "|              Jordan|   57|\n",
      "|            Maldives|   10|\n",
      "+--------------------+-----+\n",
      "only showing top 20 rows\n",
      "\n"
     ]
    }
   ],
   "source": [
    "df_pyspark.groupBy(\"Country\").count().show()"
   ]
  },
  {
   "cell_type": "code",
   "execution_count": 200,
   "id": "6782dae5",
   "metadata": {
    "ExecuteTime": {
     "end_time": "2022-08-25T20:14:37.303578Z",
     "start_time": "2022-08-25T20:14:37.273088Z"
    }
   },
   "outputs": [
    {
     "ename": "TypeError",
     "evalue": "'Column' object is not callable",
     "output_type": "error",
     "traceback": [
      "\u001b[1;31m---------------------------------------------------------------------------\u001b[0m",
      "\u001b[1;31mTypeError\u001b[0m                                 Traceback (most recent call last)",
      "\u001b[1;32m~\\AppData\\Local\\Temp/ipykernel_18480/924927541.py\u001b[0m in \u001b[0;36m<module>\u001b[1;34m\u001b[0m\n\u001b[1;32m----> 1\u001b[1;33m \u001b[0mpyspark\u001b[0m\u001b[1;33m.\u001b[0m\u001b[0msql\u001b[0m\u001b[1;33m.\u001b[0m\u001b[0mwindow\u001b[0m\u001b[1;33m.\u001b[0m\u001b[0mWindowSpec\u001b[0m\u001b[1;33m.\u001b[0m\u001b[0mpartitionBy\u001b[0m\u001b[1;33m(\u001b[0m\u001b[0mdf_pyspark\u001b[0m\u001b[1;33m.\u001b[0m\u001b[0mAge\u001b[0m\u001b[1;33m)\u001b[0m\u001b[1;33m\u001b[0m\u001b[1;33m\u001b[0m\u001b[0m\n\u001b[0m",
      "\u001b[1;32m~\\anaconda3\\lib\\site-packages\\pyspark\\sql\\window.py\u001b[0m in \u001b[0;36mpartitionBy\u001b[1;34m(self, *cols)\u001b[0m\n\u001b[0;32m    250\u001b[0m             \u001b[0mnames\u001b[0m \u001b[0mof\u001b[0m \u001b[0mcolumns\u001b[0m \u001b[1;32mor\u001b[0m \u001b[0mexpressions\u001b[0m\u001b[1;33m\u001b[0m\u001b[1;33m\u001b[0m\u001b[0m\n\u001b[0;32m    251\u001b[0m         \"\"\"\n\u001b[1;32m--> 252\u001b[1;33m         \u001b[1;32mreturn\u001b[0m \u001b[0mWindowSpec\u001b[0m\u001b[1;33m(\u001b[0m\u001b[0mself\u001b[0m\u001b[1;33m.\u001b[0m\u001b[0m_jspec\u001b[0m\u001b[1;33m.\u001b[0m\u001b[0mpartitionBy\u001b[0m\u001b[1;33m(\u001b[0m\u001b[0m_to_java_cols\u001b[0m\u001b[1;33m(\u001b[0m\u001b[0mcols\u001b[0m\u001b[1;33m)\u001b[0m\u001b[1;33m)\u001b[0m\u001b[1;33m)\u001b[0m\u001b[1;33m\u001b[0m\u001b[1;33m\u001b[0m\u001b[0m\n\u001b[0m\u001b[0;32m    253\u001b[0m \u001b[1;33m\u001b[0m\u001b[0m\n\u001b[0;32m    254\u001b[0m     \u001b[1;32mdef\u001b[0m \u001b[0morderBy\u001b[0m\u001b[1;33m(\u001b[0m\u001b[0mself\u001b[0m\u001b[1;33m,\u001b[0m \u001b[1;33m*\u001b[0m\u001b[0mcols\u001b[0m\u001b[1;33m:\u001b[0m \u001b[0mUnion\u001b[0m\u001b[1;33m[\u001b[0m\u001b[1;34m\"ColumnOrName\"\u001b[0m\u001b[1;33m,\u001b[0m \u001b[0mList\u001b[0m\u001b[1;33m[\u001b[0m\u001b[1;34m\"ColumnOrName_\"\u001b[0m\u001b[1;33m]\u001b[0m\u001b[1;33m]\u001b[0m\u001b[1;33m)\u001b[0m \u001b[1;33m->\u001b[0m \u001b[1;34m\"WindowSpec\"\u001b[0m\u001b[1;33m:\u001b[0m\u001b[1;33m\u001b[0m\u001b[1;33m\u001b[0m\u001b[0m\n",
      "\u001b[1;31mTypeError\u001b[0m: 'Column' object is not callable"
     ]
    }
   ],
   "source": [
    "pyspark.sql.window.WindowSpec.partitionBy(df_pyspark.Age)"
   ]
  },
  {
   "cell_type": "code",
   "execution_count": 202,
   "id": "c1f9c115",
   "metadata": {
    "ExecuteTime": {
     "end_time": "2022-08-25T20:17:26.799066Z",
     "start_time": "2022-08-25T20:17:26.793215Z"
    }
   },
   "outputs": [],
   "source": [
    "from pyspark.sql.window import *\n",
    "from pyspark.sql.functions import *"
   ]
  },
  {
   "cell_type": "code",
   "execution_count": 211,
   "id": "2e3f15af",
   "metadata": {
    "ExecuteTime": {
     "end_time": "2022-08-25T20:38:06.648055Z",
     "start_time": "2022-08-25T20:38:06.633483Z"
    }
   },
   "outputs": [
    {
     "ename": "SyntaxError",
     "evalue": "unexpected EOF while parsing (Temp/ipykernel_18480/3526637799.py, line 1)",
     "output_type": "error",
     "traceback": [
      "\u001b[1;36m  File \u001b[1;32m\"C:\\Users\\HP\\AppData\\Local\\Temp/ipykernel_18480/3526637799.py\"\u001b[1;36m, line \u001b[1;32m1\u001b[0m\n\u001b[1;33m    row_number().over(Window.partitionBy(df_pyspark['Age']).orderBy(\"Age\").show\u001b[0m\n\u001b[1;37m                                                                               ^\u001b[0m\n\u001b[1;31mSyntaxError\u001b[0m\u001b[1;31m:\u001b[0m unexpected EOF while parsing\n"
     ]
    }
   ],
   "source": [
    "row_number().over(Window.partitionBy(df_pyspark['Age']).orderBy(\"Age\").show"
   ]
  },
  {
   "cell_type": "code",
   "execution_count": 217,
   "id": "366b0e7c",
   "metadata": {
    "ExecuteTime": {
     "end_time": "2022-08-25T21:15:19.131956Z",
     "start_time": "2022-08-25T21:15:19.032307Z"
    }
   },
   "outputs": [
    {
     "ename": "AnalysisException",
     "evalue": "Window function row_number() requires window to be ordered, please add ORDER BY clause. For example SELECT row_number()(value_expr) OVER (PARTITION BY window_partition ORDER BY window_ordering) from table",
     "output_type": "error",
     "traceback": [
      "\u001b[1;31m---------------------------------------------------------------------------\u001b[0m",
      "\u001b[1;31mAnalysisException\u001b[0m                         Traceback (most recent call last)",
      "\u001b[1;32m~\\AppData\\Local\\Temp/ipykernel_18480/2601933258.py\u001b[0m in \u001b[0;36m<module>\u001b[1;34m\u001b[0m\n\u001b[1;32m----> 1\u001b[1;33m \u001b[0mdf_pyspark\u001b[0m\u001b[1;33m.\u001b[0m\u001b[0mwithColumn\u001b[0m\u001b[1;33m(\u001b[0m\u001b[1;34m\"windowfunctionrow_number\"\u001b[0m \u001b[1;33m,\u001b[0m \u001b[0mrow_number\u001b[0m\u001b[1;33m(\u001b[0m\u001b[1;33m)\u001b[0m\u001b[1;33m.\u001b[0m\u001b[0mover\u001b[0m\u001b[1;33m(\u001b[0m\u001b[0mWindow\u001b[0m\u001b[1;33m.\u001b[0m\u001b[0mpartitionBy\u001b[0m\u001b[1;33m(\u001b[0m\u001b[1;34m\"Age\"\u001b[0m\u001b[1;33m)\u001b[0m\u001b[1;33m)\u001b[0m\u001b[1;33m)\u001b[0m\u001b[1;33m.\u001b[0m\u001b[0mshow\u001b[0m\u001b[1;33m(\u001b[0m\u001b[0mtruncate\u001b[0m\u001b[1;33m=\u001b[0m\u001b[1;32mFalse\u001b[0m\u001b[1;33m)\u001b[0m\u001b[1;33m\u001b[0m\u001b[1;33m\u001b[0m\u001b[0m\n\u001b[0m",
      "\u001b[1;32m~\\anaconda3\\lib\\site-packages\\pyspark\\sql\\dataframe.py\u001b[0m in \u001b[0;36mwithColumn\u001b[1;34m(self, colName, col)\u001b[0m\n\u001b[0;32m   3034\u001b[0m         \u001b[1;32mif\u001b[0m \u001b[1;32mnot\u001b[0m \u001b[0misinstance\u001b[0m\u001b[1;33m(\u001b[0m\u001b[0mcol\u001b[0m\u001b[1;33m,\u001b[0m \u001b[0mColumn\u001b[0m\u001b[1;33m)\u001b[0m\u001b[1;33m:\u001b[0m\u001b[1;33m\u001b[0m\u001b[1;33m\u001b[0m\u001b[0m\n\u001b[0;32m   3035\u001b[0m             \u001b[1;32mraise\u001b[0m \u001b[0mTypeError\u001b[0m\u001b[1;33m(\u001b[0m\u001b[1;34m\"col should be Column\"\u001b[0m\u001b[1;33m)\u001b[0m\u001b[1;33m\u001b[0m\u001b[1;33m\u001b[0m\u001b[0m\n\u001b[1;32m-> 3036\u001b[1;33m         \u001b[1;32mreturn\u001b[0m \u001b[0mDataFrame\u001b[0m\u001b[1;33m(\u001b[0m\u001b[0mself\u001b[0m\u001b[1;33m.\u001b[0m\u001b[0m_jdf\u001b[0m\u001b[1;33m.\u001b[0m\u001b[0mwithColumn\u001b[0m\u001b[1;33m(\u001b[0m\u001b[0mcolName\u001b[0m\u001b[1;33m,\u001b[0m \u001b[0mcol\u001b[0m\u001b[1;33m.\u001b[0m\u001b[0m_jc\u001b[0m\u001b[1;33m)\u001b[0m\u001b[1;33m,\u001b[0m \u001b[0mself\u001b[0m\u001b[1;33m.\u001b[0m\u001b[0msparkSession\u001b[0m\u001b[1;33m)\u001b[0m\u001b[1;33m\u001b[0m\u001b[1;33m\u001b[0m\u001b[0m\n\u001b[0m\u001b[0;32m   3037\u001b[0m \u001b[1;33m\u001b[0m\u001b[0m\n\u001b[0;32m   3038\u001b[0m     \u001b[1;32mdef\u001b[0m \u001b[0mwithColumnRenamed\u001b[0m\u001b[1;33m(\u001b[0m\u001b[0mself\u001b[0m\u001b[1;33m,\u001b[0m \u001b[0mexisting\u001b[0m\u001b[1;33m:\u001b[0m \u001b[0mstr\u001b[0m\u001b[1;33m,\u001b[0m \u001b[0mnew\u001b[0m\u001b[1;33m:\u001b[0m \u001b[0mstr\u001b[0m\u001b[1;33m)\u001b[0m \u001b[1;33m->\u001b[0m \u001b[1;34m\"DataFrame\"\u001b[0m\u001b[1;33m:\u001b[0m\u001b[1;33m\u001b[0m\u001b[1;33m\u001b[0m\u001b[0m\n",
      "\u001b[1;32m~\\anaconda3\\lib\\site-packages\\py4j\\java_gateway.py\u001b[0m in \u001b[0;36m__call__\u001b[1;34m(self, *args)\u001b[0m\n\u001b[0;32m   1319\u001b[0m \u001b[1;33m\u001b[0m\u001b[0m\n\u001b[0;32m   1320\u001b[0m         \u001b[0manswer\u001b[0m \u001b[1;33m=\u001b[0m \u001b[0mself\u001b[0m\u001b[1;33m.\u001b[0m\u001b[0mgateway_client\u001b[0m\u001b[1;33m.\u001b[0m\u001b[0msend_command\u001b[0m\u001b[1;33m(\u001b[0m\u001b[0mcommand\u001b[0m\u001b[1;33m)\u001b[0m\u001b[1;33m\u001b[0m\u001b[1;33m\u001b[0m\u001b[0m\n\u001b[1;32m-> 1321\u001b[1;33m         return_value = get_return_value(\n\u001b[0m\u001b[0;32m   1322\u001b[0m             answer, self.gateway_client, self.target_id, self.name)\n\u001b[0;32m   1323\u001b[0m \u001b[1;33m\u001b[0m\u001b[0m\n",
      "\u001b[1;32m~\\anaconda3\\lib\\site-packages\\pyspark\\sql\\utils.py\u001b[0m in \u001b[0;36mdeco\u001b[1;34m(*a, **kw)\u001b[0m\n\u001b[0;32m    194\u001b[0m                 \u001b[1;31m# Hide where the exception came from that shows a non-Pythonic\u001b[0m\u001b[1;33m\u001b[0m\u001b[1;33m\u001b[0m\u001b[0m\n\u001b[0;32m    195\u001b[0m                 \u001b[1;31m# JVM exception message.\u001b[0m\u001b[1;33m\u001b[0m\u001b[1;33m\u001b[0m\u001b[0m\n\u001b[1;32m--> 196\u001b[1;33m                 \u001b[1;32mraise\u001b[0m \u001b[0mconverted\u001b[0m \u001b[1;32mfrom\u001b[0m \u001b[1;32mNone\u001b[0m\u001b[1;33m\u001b[0m\u001b[1;33m\u001b[0m\u001b[0m\n\u001b[0m\u001b[0;32m    197\u001b[0m             \u001b[1;32melse\u001b[0m\u001b[1;33m:\u001b[0m\u001b[1;33m\u001b[0m\u001b[1;33m\u001b[0m\u001b[0m\n\u001b[0;32m    198\u001b[0m                 \u001b[1;32mraise\u001b[0m\u001b[1;33m\u001b[0m\u001b[1;33m\u001b[0m\u001b[0m\n",
      "\u001b[1;31mAnalysisException\u001b[0m: Window function row_number() requires window to be ordered, please add ORDER BY clause. For example SELECT row_number()(value_expr) OVER (PARTITION BY window_partition ORDER BY window_ordering) from table"
     ]
    }
   ],
   "source": [
    "df_pyspark.withColumn(\"windowfunctionrow_number\" , row_number().over(Window.partitionBy(\"Age\").orderBy(\"Age\"))).show(truncate=False)"
   ]
  },
  {
   "cell_type": "code",
   "execution_count": 223,
   "id": "96940101",
   "metadata": {
    "ExecuteTime": {
     "end_time": "2022-08-25T22:03:48.965011Z",
     "start_time": "2022-08-25T22:03:47.038202Z"
    }
   },
   "outputs": [
    {
     "name": "stdout",
     "output_type": "stream",
     "text": [
      "+----------+--------------------+--------+---+----------+--------+---------+-------------+-------------+------------+--------------+----------------------+------------------+-------+--------------------+----------+---------+------+----------+------+-------+----------------------+------------------+----------------------+------------------+----------------------------+------------------------+---------+-------------+---------+----------+------------------+--------------------+-----------+--------------+-------------+-----------+--------------------+-----------------+--------------------+--------------------+-----+-------+----------------------+------------------+------------+---------+---------+---------------+----------+--------------------+--------------------+--------------------+-----+--------------+----------------------+------------------+--------------------+-----------+---------+------------+------------------+\n",
      "|Respondent|          MainBranch|Hobbyist|Age|Age1stCode|CompFreq|CompTotal|ConvertedComp|      Country|CurrencyDesc|CurrencySymbol|DatabaseDesireNextYear|DatabaseWorkedWith|DevType|             EdLevel|Employment|Ethnicity|Gender|JobFactors|JobSat|JobSeek|LanguageDesireNextYear|LanguageWorkedWith|MiscTechDesireNextYear|MiscTechWorkedWith|NEWCollabToolsDesireNextYear|NEWCollabToolsWorkedWith|NEWDevOps|NEWDevOpsImpt|NEWEdImpt|NEWJobHunt|NEWJobHuntResearch|            NEWLearn|NEWOffTopic|NEWOnboardGood|NEWOtherComms|NEWOvertime| NEWPurchaseResearch|    NEWPurpleLink|          NEWSOSites|            NEWStuck|OpSys|OrgSize|PlatformDesireNextYear|PlatformWorkedWith|PurchaseWhat|Sexuality|SOAccount|         SOComm|SOPartFreq|         SOVisitFreq|          SurveyEase|        SurveyLength|Trans|UndergradMajor|WebframeDesireNextYear|WebframeWorkedWith|       WelcomeChange|WorkWeekHrs|YearsCode|YearsCodePro|windowfunctionrank|\n",
      "+----------+--------------------+--------+---+----------+--------+---------+-------------+-------------+------------+--------------+----------------------+------------------+-------+--------------------+----------+---------+------+----------+------+-------+----------------------+------------------+----------------------+------------------+----------------------------+------------------------+---------+-------------+---------+----------+------------------+--------------------+-----------+--------------+-------------+-----------+--------------------+-----------------+--------------------+--------------------+-----+-------+----------------------+------------------+------------+---------+---------+---------------+----------+--------------------+--------------------+--------------------+-----+--------------+----------------------+------------------+--------------------+-----------+---------+------------+------------------+\n",
      "|       769|I code primarily ...|     Yes| 11|         9|      NA|       NA|           NA|United States|          NA|            NA|                    NA|                NA|     NA|Primary/elementar...|   Student|       NA|    NA|        NA|    NA|     NA|          Python;Swift|               C++|                    NA|                NA|                      Github|                  Github|       NA|           NA|       NA|        NA|                NA|Once every few years|   Not sure|            NA|           No|         NA|Start a free tria...|Hello, old friend|Stack Overflow (p...|Watch help / tuto...|MacOS|     NA|                    NA|                NA|          NA|       NA|       NA|Yes, definitely|        NA|I have never visi...|Neither easy nor ...|Appropriate in le...|   No|            NA|                    NA|                NA|Not applicable - ...|         NA|        3|          NA|                 1|\n",
      "+----------+--------------------+--------+---+----------+--------+---------+-------------+-------------+------------+--------------+----------------------+------------------+-------+--------------------+----------+---------+------+----------+------+-------+----------------------+------------------+----------------------+------------------+----------------------------+------------------------+---------+-------------+---------+----------+------------------+--------------------+-----------+--------------+-------------+-----------+--------------------+-----------------+--------------------+--------------------+-----+-------+----------------------+------------------+------------+---------+---------+---------------+----------+--------------------+--------------------+--------------------+-----+--------------+----------------------+------------------+--------------------+-----------+---------+------------+------------------+\n",
      "only showing top 1 row\n",
      "\n"
     ]
    }
   ],
   "source": [
    "df_pyspark.withColumn('windowfunctionrank' , rank().over(Window.partitionBy(\"Age\").orderBy('Age'))).show(1)"
   ]
  },
  {
   "cell_type": "code",
   "execution_count": 6,
   "id": "0ab9a12f",
   "metadata": {
    "ExecuteTime": {
     "end_time": "2022-08-27T18:42:28.477631Z",
     "start_time": "2022-08-27T18:42:17.835763Z"
    }
   },
   "outputs": [],
   "source": [
    "df_nba = spark.read.csv('D:/spark dataset for practice/teams.csv',inferSchema= True, header=True)"
   ]
  },
  {
   "cell_type": "code",
   "execution_count": 230,
   "id": "aacbcabf",
   "metadata": {
    "ExecuteTime": {
     "end_time": "2022-08-26T07:12:40.443528Z",
     "start_time": "2022-08-26T07:12:40.275258Z"
    }
   },
   "outputs": [
    {
     "name": "stdout",
     "output_type": "stream",
     "text": [
      "+---------+----------+--------+--------+------------+-------------+-----------+------------+--------------------+-------------+--------------------+---------------+----------------+--------------------+\n",
      "|LEAGUE_ID|   TEAM_ID|MIN_YEAR|MAX_YEAR|ABBREVIATION|     NICKNAME|YEARFOUNDED|        CITY|               ARENA|ARENACAPACITY|               OWNER| GENERALMANAGER|       HEADCOACH|  DLEAGUEAFFILIATION|\n",
      "+---------+----------+--------+--------+------------+-------------+-----------+------------+--------------------+-------------+--------------------+---------------+----------------+--------------------+\n",
      "|        0|1610612737|    1949|    2019|         ATL|        Hawks|       1949|     Atlanta|    State Farm Arena|        18729|        Tony Ressler| Travis Schlenk|    Lloyd Pierce|       Erie Bayhawks|\n",
      "|        0|1610612738|    1946|    2019|         BOS|      Celtics|       1946|      Boston|           TD Garden|        18624|       Wyc Grousbeck|    Danny Ainge|    Brad Stevens|     Maine Red Claws|\n",
      "|        0|1610612740|    2002|    2019|         NOP|     Pelicans|       2002| New Orleans|Smoothie King Center|         null|          Tom Benson| Trajan Langdon|    Alvin Gentry|        No Affiliate|\n",
      "|        0|1610612741|    1966|    2019|         CHI|        Bulls|       1966|     Chicago|       United Center|        21711|     Jerry Reinsdorf|     Gar Forman|      Jim Boylen|    Windy City Bulls|\n",
      "|        0|1610612742|    1980|    2019|         DAL|    Mavericks|       1980|      Dallas|American Airlines...|        19200|          Mark Cuban|  Donnie Nelson|   Rick Carlisle|       Texas Legends|\n",
      "|        0|1610612743|    1976|    2019|         DEN|      Nuggets|       1976|      Denver|        Pepsi Center|        19099|        Stan Kroenke|   Tim Connelly|  Michael Malone|        No Affiliate|\n",
      "|        0|1610612745|    1967|    2019|         HOU|      Rockets|       1967|     Houston|       Toyota Center|        18104|     Tilman Fertitta|    Daryl Morey|   Mike D'Antoni|Rio Grande Valley...|\n",
      "|        0|1610612746|    1970|    2019|         LAC|     Clippers|       1970| Los Angeles|      Staples Center|        19060|       Steve Ballmer| Michael Winger|      Doc Rivers|Agua Caliente Cli...|\n",
      "|        0|1610612747|    1948|    2019|         LAL|       Lakers|       1948| Los Angeles|      Staples Center|        19060|Jerry Buss Family...|    Rob Pelinka|     Frank Vogel|    South Bay Lakers|\n",
      "|        0|1610612748|    1988|    2019|         MIA|         Heat|       1988|       Miami|AmericanAirlines ...|        19600|        Micky Arison|      Pat Riley|  Erik Spoelstra|Sioux Falls Skyforce|\n",
      "|        0|1610612749|    1968|    2019|         MIL|        Bucks|       1968|   Milwaukee|        Fiserv Forum|        17500|Wesley Edens & Ma...|      Jon Horst|Mike Budenholzer|      Wisconsin Herd|\n",
      "|        0|1610612750|    1989|    2019|         MIN| Timberwolves|       1989|   Minnesota|       Target Center|        19356|         Glen Taylor|   Scott Layden|   Ryan Saunders|         Iowa Wolves|\n",
      "|        0|1610612751|    1976|    2019|         BKN|         Nets|       1976|    Brooklyn|     Barclays Center|         null|            Joe Tsai|     Sean Marks|  Kenny Atkinson|    Long Island Nets|\n",
      "|        0|1610612752|    1946|    2019|         NYK|       Knicks|       1946|    New York|Madison Square Ga...|        19763|Cablevision (Jame...|    Steve Mills|   David Fizdale|  Westchester Knicks|\n",
      "|        0|1610612753|    1989|    2019|         ORL|        Magic|       1989|     Orlando|        Amway Center|            0|          Rick DeVos|   John Hammond|  Steve Clifford|      Lakeland Magic|\n",
      "|        0|1610612754|    1976|    2019|         IND|       Pacers|       1976|     Indiana|Bankers Life Fiel...|        18345|          Herb Simon|Kevin Pritchard|   Nate McMillan| Fort Wayne Mad Ants|\n",
      "|        0|1610612755|    1949|    2019|         PHI|        76ers|       1949|Philadelphia|  Wells Fargo Center|         null|       Joshua Harris|    Elton Brand|     Brett Brown| Delaware Blue Coats|\n",
      "|        0|1610612756|    1968|    2019|         PHX|         Suns|       1968|     Phoenix|Talking Stick Res...|         null|       Robert Sarver|    James Jones|  Monty Williams|Northern Arizona ...|\n",
      "|        0|1610612757|    1970|    2019|         POR|Trail Blazers|       1970|    Portland|         Moda Center|        19980|          Paul Allen|    Neil Olshey|    Terry Stotts|        No Affiliate|\n",
      "|        0|1610612758|    1948|    2019|         SAC|        Kings|       1948|  Sacramento|     Golden 1 Center|        17500|      Vivek Ranadive|    Vlade Divac|     Luke Walton|      Stockton Kings|\n",
      "+---------+----------+--------+--------+------------+-------------+-----------+------------+--------------------+-------------+--------------------+---------------+----------------+--------------------+\n",
      "only showing top 20 rows\n",
      "\n"
     ]
    }
   ],
   "source": [
    "df_nba.show()"
   ]
  },
  {
   "cell_type": "code",
   "execution_count": 234,
   "id": "990f4f54",
   "metadata": {
    "ExecuteTime": {
     "end_time": "2022-08-26T07:22:05.762614Z",
     "start_time": "2022-08-26T07:22:04.140872Z"
    }
   },
   "outputs": [
    {
     "name": "stdout",
     "output_type": "stream",
     "text": [
      "+---------+----------+--------+--------+------------+------------+-----------+-------------+--------------------+-------------+--------------------+---------------+----------------+--------------------+-------+\n",
      "|LEAGUE_ID|   TEAM_ID|MIN_YEAR|MAX_YEAR|ABBREVIATION|    NICKNAME|YEARFOUNDED|         CITY|               ARENA|ARENACAPACITY|               OWNER| GENERALMANAGER|       HEADCOACH|  DLEAGUEAFFILIATION|    avg|\n",
      "+---------+----------+--------+--------+------------+------------+-----------+-------------+--------------------+-------------+--------------------+---------------+----------------+--------------------+-------+\n",
      "|        0|1610612740|    2002|    2019|         NOP|    Pelicans|       2002|  New Orleans|Smoothie King Center|         null|          Tom Benson| Trajan Langdon|    Alvin Gentry|        No Affiliate|   null|\n",
      "|        0|1610612751|    1976|    2019|         BKN|        Nets|       1976|     Brooklyn|     Barclays Center|         null|            Joe Tsai|     Sean Marks|  Kenny Atkinson|    Long Island Nets|   null|\n",
      "|        0|1610612755|    1949|    2019|         PHI|       76ers|       1949| Philadelphia|  Wells Fargo Center|         null|       Joshua Harris|    Elton Brand|     Brett Brown| Delaware Blue Coats|   null|\n",
      "|        0|1610612756|    1968|    2019|         PHX|        Suns|       1968|      Phoenix|Talking Stick Res...|         null|       Robert Sarver|    James Jones|  Monty Williams|Northern Arizona ...|   null|\n",
      "|        0|1610612753|    1989|    2019|         ORL|       Magic|       1989|      Orlando|        Amway Center|            0|          Rick DeVos|   John Hammond|  Steve Clifford|      Lakeland Magic|    0.0|\n",
      "|        0|1610612749|    1968|    2019|         MIL|       Bucks|       1968|    Milwaukee|        Fiserv Forum|        17500|Wesley Edens & Ma...|      Jon Horst|Mike Budenholzer|      Wisconsin Herd|17500.0|\n",
      "|        0|1610612758|    1948|    2019|         SAC|       Kings|       1948|   Sacramento|     Golden 1 Center|        17500|      Vivek Ranadive|    Vlade Divac|     Luke Walton|      Stockton Kings|17500.0|\n",
      "|        0|1610612745|    1967|    2019|         HOU|     Rockets|       1967|      Houston|       Toyota Center|        18104|     Tilman Fertitta|    Daryl Morey|   Mike D'Antoni|Rio Grande Valley...|18104.0|\n",
      "|        0|1610612763|    1995|    2019|         MEM|   Grizzlies|       1995|      Memphis|          FedExForum|        18119|         Robert Pera|   Zach Kleiman|  Taylor Jenkins|      Memphis Hustle|18119.0|\n",
      "|        0|1610612754|    1976|    2019|         IND|      Pacers|       1976|      Indiana|Bankers Life Fiel...|        18345|          Herb Simon|Kevin Pritchard|   Nate McMillan| Fort Wayne Mad Ants|18345.0|\n",
      "|        0|1610612738|    1946|    2019|         BOS|     Celtics|       1946|       Boston|           TD Garden|        18624|       Wyc Grousbeck|    Danny Ainge|    Brad Stevens|     Maine Red Claws|18624.0|\n",
      "|        0|1610612759|    1976|    2019|         SAS|       Spurs|       1976|  San Antonio|         AT&T Center|        18694|          Peter Holt|   Brian Wright|  Gregg Popovich|        Austin Spurs|18694.0|\n",
      "|        0|1610612737|    1949|    2019|         ATL|       Hawks|       1949|      Atlanta|    State Farm Arena|        18729|        Tony Ressler| Travis Schlenk|    Lloyd Pierce|       Erie Bayhawks|18729.0|\n",
      "|        0|1610612766|    1988|    2019|         CHA|     Hornets|       1988|    Charlotte|     Spectrum Center|        19026|      Michael Jordan|  Mitch Kupchak|   James Borrego|    Greensboro Swarm|19026.0|\n",
      "|        0|1610612746|    1970|    2019|         LAC|    Clippers|       1970|  Los Angeles|      Staples Center|        19060|       Steve Ballmer| Michael Winger|      Doc Rivers|Agua Caliente Cli...|19060.0|\n",
      "|        0|1610612747|    1948|    2019|         LAL|      Lakers|       1948|  Los Angeles|      Staples Center|        19060|Jerry Buss Family...|    Rob Pelinka|     Frank Vogel|    South Bay Lakers|19060.0|\n",
      "|        0|1610612743|    1976|    2019|         DEN|     Nuggets|       1976|       Denver|        Pepsi Center|        19099|        Stan Kroenke|   Tim Connelly|  Michael Malone|        No Affiliate|19099.0|\n",
      "|        0|1610612760|    1967|    2019|         OKC|     Thunder|       1967|Oklahoma City|Chesapeake Energy...|        19163|        Clay Bennett|     Sam Presti|   Billy Donovan|  Oklahoma City Blue|19163.0|\n",
      "|        0|1610612742|    1980|    2019|         DAL|   Mavericks|       1980|       Dallas|American Airlines...|        19200|          Mark Cuban|  Donnie Nelson|   Rick Carlisle|       Texas Legends|19200.0|\n",
      "|        0|1610612750|    1989|    2019|         MIN|Timberwolves|       1989|    Minnesota|       Target Center|        19356|         Glen Taylor|   Scott Layden|   Ryan Saunders|         Iowa Wolves|19356.0|\n",
      "+---------+----------+--------+--------+------------+------------+-----------+-------------+--------------------+-------------+--------------------+---------------+----------------+--------------------+-------+\n",
      "only showing top 20 rows\n",
      "\n"
     ]
    }
   ],
   "source": [
    "df_nba.withColumn(\"avg\" , avg(\"ARENACAPACITY\").over(Window.partitionBy(\"ARENACAPACITY\").orderBy(\"ARENACAPACITY\"))).show()"
   ]
  },
  {
   "cell_type": "code",
   "execution_count": 239,
   "id": "cb057e74",
   "metadata": {
    "ExecuteTime": {
     "end_time": "2022-08-26T07:32:23.685272Z",
     "start_time": "2022-08-26T07:32:23.645788Z"
    }
   },
   "outputs": [],
   "source": [
    "df_local = df_nba['TEAM_ID','MIN_YEAR','MAX_YEAR','NICKNAME','CITY','ARENACAPACITY']"
   ]
  },
  {
   "cell_type": "code",
   "execution_count": 240,
   "id": "b50f928f",
   "metadata": {
    "ExecuteTime": {
     "end_time": "2022-08-26T07:32:24.601395Z",
     "start_time": "2022-08-26T07:32:24.462614Z"
    }
   },
   "outputs": [
    {
     "name": "stdout",
     "output_type": "stream",
     "text": [
      "+----------+--------+--------+--------+-------+-------------+\n",
      "|   TEAM_ID|MIN_YEAR|MAX_YEAR|NICKNAME|   CITY|ARENACAPACITY|\n",
      "+----------+--------+--------+--------+-------+-------------+\n",
      "|1610612737|    1949|    2019|   Hawks|Atlanta|        18729|\n",
      "+----------+--------+--------+--------+-------+-------------+\n",
      "only showing top 1 row\n",
      "\n"
     ]
    }
   ],
   "source": [
    "df_local.show(1)"
   ]
  },
  {
   "cell_type": "code",
   "execution_count": 241,
   "id": "de41be7c",
   "metadata": {
    "ExecuteTime": {
     "end_time": "2022-08-26T07:32:33.396949Z",
     "start_time": "2022-08-26T07:32:32.411068Z"
    }
   },
   "outputs": [
    {
     "name": "stdout",
     "output_type": "stream",
     "text": [
      "+----------+--------+--------+------------+-------------+-------------+-----------------+\n",
      "|   TEAM_ID|MIN_YEAR|MAX_YEAR|    NICKNAME|         CITY|ARENACAPACITY|ARENACAPACITY avg|\n",
      "+----------+--------+--------+------------+-------------+-------------+-----------------+\n",
      "|1610612751|    1976|    2019|        Nets|     Brooklyn|         null|             null|\n",
      "|1610612740|    2002|    2019|    Pelicans|  New Orleans|         null|             null|\n",
      "|1610612755|    1949|    2019|       76ers| Philadelphia|         null|             null|\n",
      "|1610612756|    1968|    2019|        Suns|      Phoenix|         null|             null|\n",
      "|1610612753|    1989|    2019|       Magic|      Orlando|            0|              0.0|\n",
      "|1610612749|    1968|    2019|       Bucks|    Milwaukee|        17500|          17500.0|\n",
      "|1610612758|    1948|    2019|       Kings|   Sacramento|        17500|          17500.0|\n",
      "|1610612745|    1967|    2019|     Rockets|      Houston|        18104|          18104.0|\n",
      "|1610612763|    1995|    2019|   Grizzlies|      Memphis|        18119|          18119.0|\n",
      "|1610612754|    1976|    2019|      Pacers|      Indiana|        18345|          18345.0|\n",
      "|1610612738|    1946|    2019|     Celtics|       Boston|        18624|          18624.0|\n",
      "|1610612759|    1976|    2019|       Spurs|  San Antonio|        18694|          18694.0|\n",
      "|1610612737|    1949|    2019|       Hawks|      Atlanta|        18729|          18729.0|\n",
      "|1610612766|    1988|    2019|     Hornets|    Charlotte|        19026|          19026.0|\n",
      "|1610612746|    1970|    2019|    Clippers|  Los Angeles|        19060|          19060.0|\n",
      "|1610612747|    1948|    2019|      Lakers|  Los Angeles|        19060|          19060.0|\n",
      "|1610612743|    1976|    2019|     Nuggets|       Denver|        19099|          19099.0|\n",
      "|1610612760|    1967|    2019|     Thunder|Oklahoma City|        19163|          19163.0|\n",
      "|1610612742|    1980|    2019|   Mavericks|       Dallas|        19200|          19200.0|\n",
      "|1610612750|    1989|    2019|Timberwolves|    Minnesota|        19356|          19356.0|\n",
      "+----------+--------+--------+------------+-------------+-------------+-----------------+\n",
      "only showing top 20 rows\n",
      "\n"
     ]
    }
   ],
   "source": [
    "df_local.withColumn('ARENACAPACITY avg', avg(\"ARENACAPACITY\").over(Window.partitionBy('ARENACAPACITY').orderBy('CITY'))).show()"
   ]
  },
  {
   "cell_type": "code",
   "execution_count": 242,
   "id": "d332d8f6",
   "metadata": {
    "ExecuteTime": {
     "end_time": "2022-08-26T07:40:35.051252Z",
     "start_time": "2022-08-26T07:40:35.042680Z"
    }
   },
   "outputs": [
    {
     "data": {
      "text/plain": [
       "['Fname',\n",
       " 'Lname',\n",
       " 'Mname',\n",
       " 'DateOfBirth',\n",
       " 'Suffix',\n",
       " 'Prefix',\n",
       " 'ActiveFlag',\n",
       " 'CreateDate',\n",
       " 'UpdateDate',\n",
       " 'CreatedBy',\n",
       " 'UpdatedBy',\n",
       " 'GenderID',\n",
       " 'RaceCode',\n",
       " 'Race Description',\n",
       " 'IdentityDocID',\n",
       " 'IdentityDocType',\n",
       " 'RaceDetails',\n",
       " 'corelationId']"
      ]
     },
     "execution_count": 242,
     "metadata": {},
     "output_type": "execute_result"
    }
   ],
   "source": [
    "df_newsample.columns\n"
   ]
  },
  {
   "cell_type": "code",
   "execution_count": 245,
   "id": "1155411b",
   "metadata": {
    "ExecuteTime": {
     "end_time": "2022-08-26T07:46:59.609491Z",
     "start_time": "2022-08-26T07:46:59.582158Z"
    }
   },
   "outputs": [],
   "source": [
    "df_task2 = df_newsample['RaceCode','Race Description','RaceDetails']"
   ]
  },
  {
   "cell_type": "code",
   "execution_count": null,
   "id": "b303e8cd",
   "metadata": {},
   "outputs": [],
   "source": []
  },
  {
   "cell_type": "code",
   "execution_count": 246,
   "id": "d3011a47",
   "metadata": {
    "ExecuteTime": {
     "end_time": "2022-08-26T07:47:00.716607Z",
     "start_time": "2022-08-26T07:47:00.304595Z"
    }
   },
   "outputs": [
    {
     "name": "stdout",
     "output_type": "stream",
     "text": [
      "+--------+----------------+-----------+\n",
      "|RaceCode|Race Description|RaceDetails|\n",
      "+--------+----------------+-----------+\n",
      "|      F5|           Black|          1|\n",
      "|      F6|            Asia|          2|\n",
      "|      F7|         Spanish|          3|\n",
      "|      F8|          French|          4|\n",
      "|      F9|           Black|          5|\n",
      "|     F10|           White|          6|\n",
      "|    null|            null|       null|\n",
      "|    null|            null|       null|\n",
      "|    null|            null|       null|\n",
      "+--------+----------------+-----------+\n",
      "\n"
     ]
    }
   ],
   "source": [
    "df_task2.show()"
   ]
  },
  {
   "cell_type": "raw",
   "id": "03014a5b",
   "metadata": {},
   "source": [
    "df_task2.withColumn(\"Avg\",sum(\"RaceCode\").over(Window.partitionBy(\"RaceCode\")))"
   ]
  },
  {
   "cell_type": "code",
   "execution_count": 253,
   "id": "19a2ed70",
   "metadata": {
    "ExecuteTime": {
     "end_time": "2022-08-26T08:04:44.476678Z",
     "start_time": "2022-08-26T08:04:43.819953Z"
    }
   },
   "outputs": [
    {
     "name": "stdout",
     "output_type": "stream",
     "text": [
      "+--------+----------------+-----------+----+\n",
      "|RaceCode|Race Description|RaceDetails| Avg|\n",
      "+--------+----------------+-----------+----+\n",
      "|    null|            null|       null|null|\n",
      "|    null|            null|       null|null|\n",
      "|    null|            null|       null|null|\n",
      "|     F10|           White|          6|null|\n",
      "|      F5|           Black|          1|null|\n",
      "|      F6|            Asia|          2|null|\n",
      "|      F7|         Spanish|          3|null|\n",
      "|      F8|          French|          4|null|\n",
      "|      F9|           Black|          5|null|\n",
      "+--------+----------------+-----------+----+\n",
      "\n"
     ]
    }
   ],
   "source": [
    "df_task2.withColumn(\"Avg\",sum(\"RaceCode\").over(Window.partitionBy(\"RaceCode\").orderBy('RaceDetails'))).show()"
   ]
  },
  {
   "cell_type": "code",
   "execution_count": 256,
   "id": "9ab9b852",
   "metadata": {
    "ExecuteTime": {
     "end_time": "2022-08-26T11:59:22.892905Z",
     "start_time": "2022-08-26T11:59:19.535019Z"
    }
   },
   "outputs": [
    {
     "name": "stdout",
     "output_type": "stream",
     "text": [
      "+--------+----------------+-----------+----+\n",
      "|RaceCode|Race Description|RaceDetails| sum|\n",
      "+--------+----------------+-----------+----+\n",
      "|    null|            null|       null|null|\n",
      "|    null|            null|       null|null|\n",
      "|    null|            null|       null|null|\n",
      "|     F10|           White|          6| 6.0|\n",
      "|      F5|           Black|          1| 1.0|\n",
      "|      F6|            Asia|          2| 2.0|\n",
      "|      F7|         Spanish|          3| 3.0|\n",
      "|      F8|          French|          4| 4.0|\n",
      "|      F9|           Black|          5| 5.0|\n",
      "+--------+----------------+-----------+----+\n",
      "\n"
     ]
    }
   ],
   "source": [
    "df_task2.withColumn(\"sum\", sum(\"RaceDetails\").over(Window.partitionBy(\"RaceCode\").orderBy('RaceDetails'))).show()"
   ]
  },
  {
   "cell_type": "code",
   "execution_count": 264,
   "id": "b98df901",
   "metadata": {
    "ExecuteTime": {
     "end_time": "2022-08-26T16:36:03.280223Z",
     "start_time": "2022-08-26T16:36:03.250302Z"
    }
   },
   "outputs": [
    {
     "ename": "SyntaxError",
     "evalue": "invalid syntax (Temp/ipykernel_18480/5603125.py, line 1)",
     "output_type": "error",
     "traceback": [
      "\u001b[1;36m  File \u001b[1;32m\"C:\\Users\\HP\\AppData\\Local\\Temp/ipykernel_18480/5603125.py\"\u001b[1;36m, line \u001b[1;32m1\u001b[0m\n\u001b[1;33m    df_nba.withColumn('sum groupby', df_nba.groupBy(\"MIN_YEAR\").agg('MIN_YEAR':'sum')).show()\u001b[0m\n\u001b[1;37m                                                                              ^\u001b[0m\n\u001b[1;31mSyntaxError\u001b[0m\u001b[1;31m:\u001b[0m invalid syntax\n"
     ]
    }
   ],
   "source": [
    "df_nba.withColumn('sum groupby', df_nba.groupBy(\"MIN_YEAR\").agg('MIN_YEAR':'sum')).show()"
   ]
  },
  {
   "cell_type": "code",
   "execution_count": 271,
   "id": "fac744e1",
   "metadata": {
    "ExecuteTime": {
     "end_time": "2022-08-26T16:40:52.425163Z",
     "start_time": "2022-08-26T16:40:52.032393Z"
    }
   },
   "outputs": [
    {
     "name": "stdout",
     "output_type": "stream",
     "text": [
      "+--------+-------------+\n",
      "|MIN_YEAR|sum(MIN_YEAR)|\n",
      "+--------+-------------+\n",
      "|    1974|         1974|\n",
      "|    1961|         1961|\n",
      "|    1988|         3976|\n",
      "|    1968|         3936|\n",
      "|    1946|         5838|\n",
      "|    1949|         3898|\n",
      "|    1966|         1966|\n",
      "|    1967|         3934|\n",
      "|    1989|         3978|\n",
      "|    1970|         5910|\n",
      "|    1995|         3990|\n",
      "|    1980|         1980|\n",
      "|    1976|         7904|\n",
      "|    1948|         5844|\n",
      "|    2002|         2002|\n",
      "+--------+-------------+\n",
      "\n"
     ]
    }
   ],
   "source": [
    "df_nba.groupBy(\"MIN_YEAR\").agg({'MIN_YEAR':'sum'}).show()"
   ]
  },
  {
   "cell_type": "code",
   "execution_count": null,
   "id": "775c595b",
   "metadata": {},
   "outputs": [],
   "source": [
    "df_nba.df_nba.groupBy(\"MIN_YEAR\").agg({'MIN_YEAR':'sum'}).show() # actually grooup  by wworks by creating a grouped object \n",
    "#and then we can use that grouped object to perform varoius operatio on that data. we cannot \n",
    "#directly assign this object to a column because it doesnt return equal =no of rows as the original data\n",
    "#as we know that groupBy reduces the no of rows so instead we use partitionby which returns the window for each row "
   ]
  },
  {
   "cell_type": "code",
   "execution_count": 317,
   "id": "24fe80e1",
   "metadata": {
    "ExecuteTime": {
     "end_time": "2022-08-26T18:22:56.620041Z",
     "start_time": "2022-08-26T18:22:56.262122Z"
    }
   },
   "outputs": [
    {
     "name": "stdout",
     "output_type": "stream",
     "text": [
      "+-------------+-------------+\n",
      "|     NICKNAME|max(MIN_YEAR)|\n",
      "+-------------+-------------+\n",
      "|      Celtics|         1946|\n",
      "|       Knicks|         1946|\n",
      "|     Warriors|         1946|\n",
      "|        Kings|         1948|\n",
      "|       Lakers|         1948|\n",
      "|      Pistons|         1948|\n",
      "|        Hawks|         1949|\n",
      "|        76ers|         1949|\n",
      "|      Wizards|         1961|\n",
      "|        Bulls|         1966|\n",
      "|      Rockets|         1967|\n",
      "|      Thunder|         1967|\n",
      "|        Bucks|         1968|\n",
      "|         Suns|         1968|\n",
      "|     Clippers|         1970|\n",
      "|    Cavaliers|         1970|\n",
      "|Trail Blazers|         1970|\n",
      "|         Jazz|         1974|\n",
      "|       Pacers|         1976|\n",
      "|         Nets|         1976|\n",
      "+-------------+-------------+\n",
      "only showing top 20 rows\n",
      "\n"
     ]
    }
   ],
   "source": [
    "(df_nba.groupBy(\"NICKNAME\").agg({'MIN_YEAR':'max'}).orderBy(['max(MIN_YEAR)'])).show()"
   ]
  },
  {
   "cell_type": "code",
   "execution_count": 320,
   "id": "55b57491",
   "metadata": {
    "ExecuteTime": {
     "end_time": "2022-08-26T18:23:33.822706Z",
     "start_time": "2022-08-26T18:23:33.783815Z"
    }
   },
   "outputs": [],
   "source": [
    "x = (df_nba.groupBy(\"NICKNAME\").agg({'MIN_YEAR':'max'}).orderBy(['max(MIN_YEAR)']))"
   ]
  },
  {
   "cell_type": "code",
   "execution_count": 323,
   "id": "11d093e9",
   "metadata": {
    "ExecuteTime": {
     "end_time": "2022-08-26T18:24:04.668037Z",
     "start_time": "2022-08-26T18:24:04.651085Z"
    }
   },
   "outputs": [
    {
     "data": {
      "text/plain": [
       "pyspark.sql.dataframe.DataFrame"
      ]
     },
     "execution_count": 323,
     "metadata": {},
     "output_type": "execute_result"
    }
   ],
   "source": [
    "type(x)"
   ]
  },
  {
   "cell_type": "code",
   "execution_count": 395,
   "id": "04a2ab4d",
   "metadata": {
    "ExecuteTime": {
     "end_time": "2022-08-27T13:38:41.443149Z",
     "start_time": "2022-08-27T13:38:41.200526Z"
    }
   },
   "outputs": [
    {
     "data": {
      "text/plain": [
       "['NICKNAME', 'max(MIN_YEAR)']"
      ]
     },
     "execution_count": 395,
     "metadata": {},
     "output_type": "execute_result"
    }
   ],
   "source": [
    "x.columns"
   ]
  },
  {
   "cell_type": "code",
   "execution_count": 316,
   "id": "fca34ec4",
   "metadata": {
    "ExecuteTime": {
     "end_time": "2022-08-26T18:19:24.506299Z",
     "start_time": "2022-08-26T18:19:24.297615Z"
    }
   },
   "outputs": [
    {
     "name": "stdout",
     "output_type": "stream",
     "text": [
      "+-------------+\n",
      "|max(MIN_YEAR)|\n",
      "+-------------+\n",
      "|         2002|\n",
      "+-------------+\n",
      "\n"
     ]
    }
   ],
   "source": [
    "df_nba.agg({'MIN_YEAR':'max'}).orderBy(['max(MIN_YEAR)']).show()"
   ]
  },
  {
   "cell_type": "code",
   "execution_count": 329,
   "id": "f6ad670a",
   "metadata": {
    "ExecuteTime": {
     "end_time": "2022-08-26T18:30:14.219418Z",
     "start_time": "2022-08-26T18:30:13.892748Z"
    }
   },
   "outputs": [
    {
     "name": "stdout",
     "output_type": "stream",
     "text": [
      "+-------------+-------------+\n",
      "|     NICKNAME|max(MIN_YEAR)|\n",
      "+-------------+-------------+\n",
      "|      Celtics|         1946|\n",
      "|       Knicks|         1946|\n",
      "|     Warriors|         1946|\n",
      "|        Kings|         1948|\n",
      "|       Lakers|         1948|\n",
      "|      Pistons|         1948|\n",
      "|        Hawks|         1949|\n",
      "|        76ers|         1949|\n",
      "|      Wizards|         1961|\n",
      "|        Bulls|         1966|\n",
      "|      Rockets|         1967|\n",
      "|      Thunder|         1967|\n",
      "|        Bucks|         1968|\n",
      "|         Suns|         1968|\n",
      "|     Clippers|         1970|\n",
      "|    Cavaliers|         1970|\n",
      "|Trail Blazers|         1970|\n",
      "|         Jazz|         1974|\n",
      "|       Pacers|         1976|\n",
      "|         Nets|         1976|\n",
      "+-------------+-------------+\n",
      "only showing top 20 rows\n",
      "\n"
     ]
    }
   ],
   "source": [
    "x.withColumns({'NICKNAME': df_nba.NICKNAME , 'max(MIN_YEAR)' : x['max(MIN_YEAR)'] }).show()"
   ]
  },
  {
   "cell_type": "code",
   "execution_count": 331,
   "id": "40adfddb",
   "metadata": {
    "ExecuteTime": {
     "end_time": "2022-08-26T18:32:53.126913Z",
     "start_time": "2022-08-26T18:32:53.062087Z"
    }
   },
   "outputs": [
    {
     "ename": "AnalysisException",
     "evalue": "Resolved attribute(s) CITY#18277 missing from NICKNAME#18275,max(MIN_YEAR)#19899 in operator !Project [NICKNAME#18275, max(MIN_YEAR)#19899, CITY#18277 AS CITY#19984].;\n!Project [NICKNAME#18275, max(MIN_YEAR)#19899, CITY#18277 AS CITY#19984]\n+- Sort [max(MIN_YEAR)#19899 ASC NULLS FIRST], true\n   +- Aggregate [NICKNAME#18275], [NICKNAME#18275, max(MIN_YEAR#18272) AS max(MIN_YEAR)#19899]\n      +- Relation [LEAGUE_ID#18270,TEAM_ID#18271,MIN_YEAR#18272,MAX_YEAR#18273,ABBREVIATION#18274,NICKNAME#18275,YEARFOUNDED#18276,CITY#18277,ARENA#18278,ARENACAPACITY#18279,OWNER#18280,GENERALMANAGER#18281,HEADCOACH#18282,DLEAGUEAFFILIATION#18283] csv\n",
     "output_type": "error",
     "traceback": [
      "\u001b[1;31m---------------------------------------------------------------------------\u001b[0m",
      "\u001b[1;31mAnalysisException\u001b[0m                         Traceback (most recent call last)",
      "\u001b[1;32m~\\AppData\\Local\\Temp/ipykernel_18480/1302314622.py\u001b[0m in \u001b[0;36m<module>\u001b[1;34m\u001b[0m\n\u001b[1;32m----> 1\u001b[1;33m \u001b[0mx\u001b[0m\u001b[1;33m.\u001b[0m\u001b[0mwithColumns\u001b[0m\u001b[1;33m(\u001b[0m\u001b[1;33m{\u001b[0m \u001b[1;34m\"CITY\"\u001b[0m \u001b[1;33m:\u001b[0m \u001b[0mdf_nba\u001b[0m\u001b[1;33m[\u001b[0m\u001b[1;34m'CITY'\u001b[0m\u001b[1;33m]\u001b[0m\u001b[1;33m}\u001b[0m\u001b[1;33m)\u001b[0m\u001b[1;33m.\u001b[0m\u001b[0mshow\u001b[0m\u001b[1;33m(\u001b[0m\u001b[1;33m)\u001b[0m\u001b[1;33m\u001b[0m\u001b[1;33m\u001b[0m\u001b[0m\n\u001b[0m",
      "\u001b[1;32m~\\anaconda3\\lib\\site-packages\\pyspark\\sql\\dataframe.py\u001b[0m in \u001b[0;36mwithColumns\u001b[1;34m(self, *colsMap)\u001b[0m\n\u001b[0;32m   2998\u001b[0m \u001b[1;33m\u001b[0m\u001b[0m\n\u001b[0;32m   2999\u001b[0m         return DataFrame(\n\u001b[1;32m-> 3000\u001b[1;33m             \u001b[0mself\u001b[0m\u001b[1;33m.\u001b[0m\u001b[0m_jdf\u001b[0m\u001b[1;33m.\u001b[0m\u001b[0mwithColumns\u001b[0m\u001b[1;33m(\u001b[0m\u001b[0m_to_seq\u001b[0m\u001b[1;33m(\u001b[0m\u001b[0mself\u001b[0m\u001b[1;33m.\u001b[0m\u001b[0m_sc\u001b[0m\u001b[1;33m,\u001b[0m \u001b[0mcol_names\u001b[0m\u001b[1;33m)\u001b[0m\u001b[1;33m,\u001b[0m \u001b[0mself\u001b[0m\u001b[1;33m.\u001b[0m\u001b[0m_jcols\u001b[0m\u001b[1;33m(\u001b[0m\u001b[1;33m*\u001b[0m\u001b[0mcols\u001b[0m\u001b[1;33m)\u001b[0m\u001b[1;33m)\u001b[0m\u001b[1;33m,\u001b[0m\u001b[1;33m\u001b[0m\u001b[1;33m\u001b[0m\u001b[0m\n\u001b[0m\u001b[0;32m   3001\u001b[0m             \u001b[0mself\u001b[0m\u001b[1;33m.\u001b[0m\u001b[0msparkSession\u001b[0m\u001b[1;33m,\u001b[0m\u001b[1;33m\u001b[0m\u001b[1;33m\u001b[0m\u001b[0m\n\u001b[0;32m   3002\u001b[0m         )\n",
      "\u001b[1;32m~\\anaconda3\\lib\\site-packages\\py4j\\java_gateway.py\u001b[0m in \u001b[0;36m__call__\u001b[1;34m(self, *args)\u001b[0m\n\u001b[0;32m   1319\u001b[0m \u001b[1;33m\u001b[0m\u001b[0m\n\u001b[0;32m   1320\u001b[0m         \u001b[0manswer\u001b[0m \u001b[1;33m=\u001b[0m \u001b[0mself\u001b[0m\u001b[1;33m.\u001b[0m\u001b[0mgateway_client\u001b[0m\u001b[1;33m.\u001b[0m\u001b[0msend_command\u001b[0m\u001b[1;33m(\u001b[0m\u001b[0mcommand\u001b[0m\u001b[1;33m)\u001b[0m\u001b[1;33m\u001b[0m\u001b[1;33m\u001b[0m\u001b[0m\n\u001b[1;32m-> 1321\u001b[1;33m         return_value = get_return_value(\n\u001b[0m\u001b[0;32m   1322\u001b[0m             answer, self.gateway_client, self.target_id, self.name)\n\u001b[0;32m   1323\u001b[0m \u001b[1;33m\u001b[0m\u001b[0m\n",
      "\u001b[1;32m~\\anaconda3\\lib\\site-packages\\pyspark\\sql\\utils.py\u001b[0m in \u001b[0;36mdeco\u001b[1;34m(*a, **kw)\u001b[0m\n\u001b[0;32m    194\u001b[0m                 \u001b[1;31m# Hide where the exception came from that shows a non-Pythonic\u001b[0m\u001b[1;33m\u001b[0m\u001b[1;33m\u001b[0m\u001b[0m\n\u001b[0;32m    195\u001b[0m                 \u001b[1;31m# JVM exception message.\u001b[0m\u001b[1;33m\u001b[0m\u001b[1;33m\u001b[0m\u001b[0m\n\u001b[1;32m--> 196\u001b[1;33m                 \u001b[1;32mraise\u001b[0m \u001b[0mconverted\u001b[0m \u001b[1;32mfrom\u001b[0m \u001b[1;32mNone\u001b[0m\u001b[1;33m\u001b[0m\u001b[1;33m\u001b[0m\u001b[0m\n\u001b[0m\u001b[0;32m    197\u001b[0m             \u001b[1;32melse\u001b[0m\u001b[1;33m:\u001b[0m\u001b[1;33m\u001b[0m\u001b[1;33m\u001b[0m\u001b[0m\n\u001b[0;32m    198\u001b[0m                 \u001b[1;32mraise\u001b[0m\u001b[1;33m\u001b[0m\u001b[1;33m\u001b[0m\u001b[0m\n",
      "\u001b[1;31mAnalysisException\u001b[0m: Resolved attribute(s) CITY#18277 missing from NICKNAME#18275,max(MIN_YEAR)#19899 in operator !Project [NICKNAME#18275, max(MIN_YEAR)#19899, CITY#18277 AS CITY#19984].;\n!Project [NICKNAME#18275, max(MIN_YEAR)#19899, CITY#18277 AS CITY#19984]\n+- Sort [max(MIN_YEAR)#19899 ASC NULLS FIRST], true\n   +- Aggregate [NICKNAME#18275], [NICKNAME#18275, max(MIN_YEAR#18272) AS max(MIN_YEAR)#19899]\n      +- Relation [LEAGUE_ID#18270,TEAM_ID#18271,MIN_YEAR#18272,MAX_YEAR#18273,ABBREVIATION#18274,NICKNAME#18275,YEARFOUNDED#18276,CITY#18277,ARENA#18278,ARENACAPACITY#18279,OWNER#18280,GENERALMANAGER#18281,HEADCOACH#18282,DLEAGUEAFFILIATION#18283] csv\n"
     ]
    }
   ],
   "source": [
    "x.withColumns({ \"CITY\" : df_nba['CITY']}).show()"
   ]
  },
  {
   "cell_type": "code",
   "execution_count": 351,
   "id": "9ba4e6ee",
   "metadata": {
    "ExecuteTime": {
     "end_time": "2022-08-26T20:53:25.784621Z",
     "start_time": "2022-08-26T20:53:25.629036Z"
    }
   },
   "outputs": [
    {
     "name": "stdout",
     "output_type": "stream",
     "text": [
      "+-------------+-------------+--------+\n",
      "|     NICKNAME|         CITY|MIN_YEAR|\n",
      "+-------------+-------------+--------+\n",
      "|     Warriors| Golden State|    1946|\n",
      "|       Knicks|     New York|    1946|\n",
      "|      Celtics|       Boston|    1946|\n",
      "|       Lakers|  Los Angeles|    1948|\n",
      "|      Pistons|      Detroit|    1948|\n",
      "|        Kings|   Sacramento|    1948|\n",
      "|        Hawks|      Atlanta|    1949|\n",
      "|        76ers| Philadelphia|    1949|\n",
      "|      Wizards|   Washington|    1961|\n",
      "|        Bulls|      Chicago|    1966|\n",
      "|      Thunder|Oklahoma City|    1967|\n",
      "|      Rockets|      Houston|    1967|\n",
      "|        Bucks|    Milwaukee|    1968|\n",
      "|         Suns|      Phoenix|    1968|\n",
      "|     Clippers|  Los Angeles|    1970|\n",
      "|Trail Blazers|     Portland|    1970|\n",
      "|    Cavaliers|    Cleveland|    1970|\n",
      "|         Jazz|         Utah|    1974|\n",
      "|      Nuggets|       Denver|    1976|\n",
      "|         Nets|     Brooklyn|    1976|\n",
      "+-------------+-------------+--------+\n",
      "only showing top 20 rows\n",
      "\n"
     ]
    }
   ],
   "source": [
    "df_nba.select(df_nba['NICKNAME'],df_nba['CITY'],df_nba['MIN_YEAR']).orderBy(\"MIN_YEAR\").show()"
   ]
  },
  {
   "cell_type": "code",
   "execution_count": 355,
   "id": "17c56e1c",
   "metadata": {
    "ExecuteTime": {
     "end_time": "2022-08-26T20:57:57.681643Z",
     "start_time": "2022-08-26T20:57:57.553988Z"
    }
   },
   "outputs": [
    {
     "name": "stdout",
     "output_type": "stream",
     "text": [
      "+-------------+-------------+--------+\n",
      "|     NICKNAME|         CITY|MIN_YEAR|\n",
      "+-------------+-------------+--------+\n",
      "|     Pelicans|  New Orleans|    2002|\n",
      "|    Grizzlies|      Memphis|    1995|\n",
      "|      Raptors|      Toronto|    1995|\n",
      "| Timberwolves|    Minnesota|    1989|\n",
      "|        Magic|      Orlando|    1989|\n",
      "|      Hornets|    Charlotte|    1988|\n",
      "|         Heat|        Miami|    1988|\n",
      "|    Mavericks|       Dallas|    1980|\n",
      "|        Spurs|  San Antonio|    1976|\n",
      "|         Nets|     Brooklyn|    1976|\n",
      "|      Nuggets|       Denver|    1976|\n",
      "|       Pacers|      Indiana|    1976|\n",
      "|         Jazz|         Utah|    1974|\n",
      "|Trail Blazers|     Portland|    1970|\n",
      "|     Clippers|  Los Angeles|    1970|\n",
      "|    Cavaliers|    Cleveland|    1970|\n",
      "|         Suns|      Phoenix|    1968|\n",
      "|        Bucks|    Milwaukee|    1968|\n",
      "|      Rockets|      Houston|    1967|\n",
      "|      Thunder|Oklahoma City|    1967|\n",
      "+-------------+-------------+--------+\n",
      "only showing top 20 rows\n",
      "\n"
     ]
    }
   ],
   "source": [
    "df_nba.select(df_nba['NICKNAME'],df_nba['CITY'],df_nba['MIN_YEAR']).orderBy('MIN_YEAR', ascending = False).show()"
   ]
  },
  {
   "cell_type": "code",
   "execution_count": 363,
   "id": "93d258e0",
   "metadata": {
    "ExecuteTime": {
     "end_time": "2022-08-26T21:01:43.139014Z",
     "start_time": "2022-08-26T21:01:43.015344Z"
    }
   },
   "outputs": [
    {
     "name": "stdout",
     "output_type": "stream",
     "text": [
      "+-------------+-------------+--------+\n",
      "|     NICKNAME|         CITY|MIN_YEAR|\n",
      "+-------------+-------------+--------+\n",
      "|     Warriors| Golden State|    1946|\n",
      "|       Knicks|     New York|    1946|\n",
      "|      Celtics|       Boston|    1946|\n",
      "|      Pistons|      Detroit|    1948|\n",
      "|       Lakers|  Los Angeles|    1948|\n",
      "|        Kings|   Sacramento|    1948|\n",
      "|        Hawks|      Atlanta|    1949|\n",
      "|        76ers| Philadelphia|    1949|\n",
      "|      Wizards|   Washington|    1961|\n",
      "|        Bulls|      Chicago|    1966|\n",
      "|      Thunder|Oklahoma City|    1967|\n",
      "|      Rockets|      Houston|    1967|\n",
      "|         Suns|      Phoenix|    1968|\n",
      "|        Bucks|    Milwaukee|    1968|\n",
      "|Trail Blazers|     Portland|    1970|\n",
      "|     Clippers|  Los Angeles|    1970|\n",
      "|    Cavaliers|    Cleveland|    1970|\n",
      "|         Jazz|         Utah|    1974|\n",
      "|        Spurs|  San Antonio|    1976|\n",
      "|       Pacers|      Indiana|    1976|\n",
      "+-------------+-------------+--------+\n",
      "only showing top 20 rows\n",
      "\n"
     ]
    }
   ],
   "source": [
    "df_nba.select(df_nba['NICKNAME'],df_nba['CITY'],df_nba['MIN_YEAR']).orderBy('MIN_YEAR','NICKNAME', ascending =[ True , False]).show()"
   ]
  },
  {
   "cell_type": "code",
   "execution_count": 365,
   "id": "bea18817",
   "metadata": {
    "ExecuteTime": {
     "end_time": "2022-08-26T21:06:57.065345Z",
     "start_time": "2022-08-26T21:06:57.003473Z"
    }
   },
   "outputs": [
    {
     "ename": "AnalysisException",
     "evalue": "Cannot resolve column name \"pg\" among (LEAGUE_ID, TEAM_ID, MIN_YEAR, MAX_YEAR, ABBREVIATION, NICKNAME, YEARFOUNDED, CITY, ARENA, ARENACAPACITY, OWNER, GENERALMANAGER, HEADCOACH, DLEAGUEAFFILIATION)",
     "output_type": "error",
     "traceback": [
      "\u001b[1;31m---------------------------------------------------------------------------\u001b[0m",
      "\u001b[1;31mAnalysisException\u001b[0m                         Traceback (most recent call last)",
      "\u001b[1;32m~\\AppData\\Local\\Temp/ipykernel_18480/2208049807.py\u001b[0m in \u001b[0;36m<module>\u001b[1;34m\u001b[0m\n\u001b[1;32m----> 1\u001b[1;33m \u001b[0mdf_nba\u001b[0m\u001b[1;33m.\u001b[0m\u001b[0mselect\u001b[0m\u001b[1;33m(\u001b[0m\u001b[0mdf_nba\u001b[0m\u001b[1;33m[\u001b[0m\u001b[1;34m'NICKNAME'\u001b[0m\u001b[1;33m]\u001b[0m\u001b[1;33m,\u001b[0m\u001b[0mdf_nba\u001b[0m\u001b[1;33m[\u001b[0m\u001b[1;34m'CITY'\u001b[0m\u001b[1;33m]\u001b[0m\u001b[1;33m,\u001b[0m\u001b[0mdf_nba\u001b[0m\u001b[1;33m[\u001b[0m\u001b[1;34m'MIN_YEAR'\u001b[0m\u001b[1;33m]\u001b[0m\u001b[1;33m,\u001b[0m\u001b[0mdf_nba\u001b[0m\u001b[1;33m[\u001b[0m\u001b[1;34m'pg'\u001b[0m\u001b[1;33m]\u001b[0m\u001b[1;33m.\u001b[0m\u001b[0malias\u001b[0m\u001b[1;33m(\u001b[0m\u001b[1;33m[\u001b[0m\u001b[1;34m'pg'\u001b[0m\u001b[1;33m]\u001b[0m\u001b[1;33m)\u001b[0m\u001b[1;33m)\u001b[0m\u001b[1;33m\u001b[0m\u001b[1;33m\u001b[0m\u001b[0m\n\u001b[0m",
      "\u001b[1;32m~\\anaconda3\\lib\\site-packages\\pyspark\\sql\\dataframe.py\u001b[0m in \u001b[0;36m__getitem__\u001b[1;34m(self, item)\u001b[0m\n\u001b[0;32m   1963\u001b[0m         \"\"\"\n\u001b[0;32m   1964\u001b[0m         \u001b[1;32mif\u001b[0m \u001b[0misinstance\u001b[0m\u001b[1;33m(\u001b[0m\u001b[0mitem\u001b[0m\u001b[1;33m,\u001b[0m \u001b[0mstr\u001b[0m\u001b[1;33m)\u001b[0m\u001b[1;33m:\u001b[0m\u001b[1;33m\u001b[0m\u001b[1;33m\u001b[0m\u001b[0m\n\u001b[1;32m-> 1965\u001b[1;33m             \u001b[0mjc\u001b[0m \u001b[1;33m=\u001b[0m \u001b[0mself\u001b[0m\u001b[1;33m.\u001b[0m\u001b[0m_jdf\u001b[0m\u001b[1;33m.\u001b[0m\u001b[0mapply\u001b[0m\u001b[1;33m(\u001b[0m\u001b[0mitem\u001b[0m\u001b[1;33m)\u001b[0m\u001b[1;33m\u001b[0m\u001b[1;33m\u001b[0m\u001b[0m\n\u001b[0m\u001b[0;32m   1966\u001b[0m             \u001b[1;32mreturn\u001b[0m \u001b[0mColumn\u001b[0m\u001b[1;33m(\u001b[0m\u001b[0mjc\u001b[0m\u001b[1;33m)\u001b[0m\u001b[1;33m\u001b[0m\u001b[1;33m\u001b[0m\u001b[0m\n\u001b[0;32m   1967\u001b[0m         \u001b[1;32melif\u001b[0m \u001b[0misinstance\u001b[0m\u001b[1;33m(\u001b[0m\u001b[0mitem\u001b[0m\u001b[1;33m,\u001b[0m \u001b[0mColumn\u001b[0m\u001b[1;33m)\u001b[0m\u001b[1;33m:\u001b[0m\u001b[1;33m\u001b[0m\u001b[1;33m\u001b[0m\u001b[0m\n",
      "\u001b[1;32m~\\anaconda3\\lib\\site-packages\\py4j\\java_gateway.py\u001b[0m in \u001b[0;36m__call__\u001b[1;34m(self, *args)\u001b[0m\n\u001b[0;32m   1319\u001b[0m \u001b[1;33m\u001b[0m\u001b[0m\n\u001b[0;32m   1320\u001b[0m         \u001b[0manswer\u001b[0m \u001b[1;33m=\u001b[0m \u001b[0mself\u001b[0m\u001b[1;33m.\u001b[0m\u001b[0mgateway_client\u001b[0m\u001b[1;33m.\u001b[0m\u001b[0msend_command\u001b[0m\u001b[1;33m(\u001b[0m\u001b[0mcommand\u001b[0m\u001b[1;33m)\u001b[0m\u001b[1;33m\u001b[0m\u001b[1;33m\u001b[0m\u001b[0m\n\u001b[1;32m-> 1321\u001b[1;33m         return_value = get_return_value(\n\u001b[0m\u001b[0;32m   1322\u001b[0m             answer, self.gateway_client, self.target_id, self.name)\n\u001b[0;32m   1323\u001b[0m \u001b[1;33m\u001b[0m\u001b[0m\n",
      "\u001b[1;32m~\\anaconda3\\lib\\site-packages\\pyspark\\sql\\utils.py\u001b[0m in \u001b[0;36mdeco\u001b[1;34m(*a, **kw)\u001b[0m\n\u001b[0;32m    194\u001b[0m                 \u001b[1;31m# Hide where the exception came from that shows a non-Pythonic\u001b[0m\u001b[1;33m\u001b[0m\u001b[1;33m\u001b[0m\u001b[0m\n\u001b[0;32m    195\u001b[0m                 \u001b[1;31m# JVM exception message.\u001b[0m\u001b[1;33m\u001b[0m\u001b[1;33m\u001b[0m\u001b[0m\n\u001b[1;32m--> 196\u001b[1;33m                 \u001b[1;32mraise\u001b[0m \u001b[0mconverted\u001b[0m \u001b[1;32mfrom\u001b[0m \u001b[1;32mNone\u001b[0m\u001b[1;33m\u001b[0m\u001b[1;33m\u001b[0m\u001b[0m\n\u001b[0m\u001b[0;32m    197\u001b[0m             \u001b[1;32melse\u001b[0m\u001b[1;33m:\u001b[0m\u001b[1;33m\u001b[0m\u001b[1;33m\u001b[0m\u001b[0m\n\u001b[0;32m    198\u001b[0m                 \u001b[1;32mraise\u001b[0m\u001b[1;33m\u001b[0m\u001b[1;33m\u001b[0m\u001b[0m\n",
      "\u001b[1;31mAnalysisException\u001b[0m: Cannot resolve column name \"pg\" among (LEAGUE_ID, TEAM_ID, MIN_YEAR, MAX_YEAR, ABBREVIATION, NICKNAME, YEARFOUNDED, CITY, ARENA, ARENACAPACITY, OWNER, GENERALMANAGER, HEADCOACH, DLEAGUEAFFILIATION)"
     ]
    }
   ],
   "source": [
    "df_nba.select(df_nba['NICKNAME'],df_nba['CITY'],df_nba['MIN_YEAR'],df_nba['pg'].alias(['pg']))"
   ]
  },
  {
   "cell_type": "code",
   "execution_count": 380,
   "id": "21c3dd4b",
   "metadata": {
    "ExecuteTime": {
     "end_time": "2022-08-26T21:12:20.400592Z",
     "start_time": "2022-08-26T21:12:20.372666Z"
    }
   },
   "outputs": [
    {
     "ename": "TypeError",
     "evalue": "colsMap must be dict of column name and column.",
     "output_type": "error",
     "traceback": [
      "\u001b[1;31m---------------------------------------------------------------------------\u001b[0m",
      "\u001b[1;31mTypeError\u001b[0m                                 Traceback (most recent call last)",
      "\u001b[1;32m~\\AppData\\Local\\Temp/ipykernel_18480/2899225386.py\u001b[0m in \u001b[0;36m<module>\u001b[1;34m\u001b[0m\n\u001b[1;32m----> 1\u001b[1;33m \u001b[0mdf_nba\u001b[0m\u001b[1;33m.\u001b[0m\u001b[0mwithColumns\u001b[0m\u001b[1;33m(\u001b[0m\u001b[1;33m{\u001b[0m\u001b[1;34m'NICKNAME'\u001b[0m  \u001b[1;33m,\u001b[0m \u001b[0mdf_nba\u001b[0m\u001b[1;33m.\u001b[0m\u001b[0mcolumns\u001b[0m\u001b[1;33m[\u001b[0m\u001b[1;36m6\u001b[0m\u001b[1;33m]\u001b[0m \u001b[1;33m}\u001b[0m\u001b[1;33m)\u001b[0m\u001b[1;33m\u001b[0m\u001b[1;33m\u001b[0m\u001b[0m\n\u001b[0m",
      "\u001b[1;32m~\\anaconda3\\lib\\site-packages\\pyspark\\sql\\dataframe.py\u001b[0m in \u001b[0;36mwithColumns\u001b[1;34m(self, *colsMap)\u001b[0m\n\u001b[0;32m   2992\u001b[0m \u001b[1;33m\u001b[0m\u001b[0m\n\u001b[0;32m   2993\u001b[0m         \u001b[1;32mif\u001b[0m \u001b[1;32mnot\u001b[0m \u001b[0misinstance\u001b[0m\u001b[1;33m(\u001b[0m\u001b[0mcolsMap\u001b[0m\u001b[1;33m,\u001b[0m \u001b[0mdict\u001b[0m\u001b[1;33m)\u001b[0m\u001b[1;33m:\u001b[0m\u001b[1;33m\u001b[0m\u001b[1;33m\u001b[0m\u001b[0m\n\u001b[1;32m-> 2994\u001b[1;33m             \u001b[1;32mraise\u001b[0m \u001b[0mTypeError\u001b[0m\u001b[1;33m(\u001b[0m\u001b[1;34m\"colsMap must be dict of column name and column.\"\u001b[0m\u001b[1;33m)\u001b[0m\u001b[1;33m\u001b[0m\u001b[1;33m\u001b[0m\u001b[0m\n\u001b[0m\u001b[0;32m   2995\u001b[0m \u001b[1;33m\u001b[0m\u001b[0m\n\u001b[0;32m   2996\u001b[0m         \u001b[0mcol_names\u001b[0m \u001b[1;33m=\u001b[0m \u001b[0mlist\u001b[0m\u001b[1;33m(\u001b[0m\u001b[0mcolsMap\u001b[0m\u001b[1;33m.\u001b[0m\u001b[0mkeys\u001b[0m\u001b[1;33m(\u001b[0m\u001b[1;33m)\u001b[0m\u001b[1;33m)\u001b[0m\u001b[1;33m\u001b[0m\u001b[1;33m\u001b[0m\u001b[0m\n",
      "\u001b[1;31mTypeError\u001b[0m: colsMap must be dict of column name and column."
     ]
    }
   ],
   "source": [
    "df_nba.withColumns({'NICKNAME'  , df_nba.columns[6] })"
   ]
  },
  {
   "cell_type": "code",
   "execution_count": 393,
   "id": "5da6de38",
   "metadata": {
    "ExecuteTime": {
     "end_time": "2022-08-26T21:27:17.017568Z",
     "start_time": "2022-08-26T21:27:16.832063Z"
    }
   },
   "outputs": [
    {
     "name": "stdout",
     "output_type": "stream",
     "text": [
      "+---------+----------+--------+--------+------------+-------------+-----------+------------+--------------------+-------------+--------------------+---------------+----------------+--------------------+-------+\n",
      "|LEAGUE_ID|   TEAM_ID|MIN_YEAR|MAX_YEAR|ABBREVIATION|     NICKNAME|YEARFOUNDED|        CITY|               ARENA|ARENACAPACITY|               OWNER| GENERALMANAGER|       HEADCOACH|  DLEAGUEAFFILIATION|     pg|\n",
      "+---------+----------+--------+--------+------------+-------------+-----------+------------+--------------------+-------------+--------------------+---------------+----------------+--------------------+-------+\n",
      "|        0|1610612737|    1949|    2019|         ATL|        Hawks|       1949|     Atlanta|    State Farm Arena|        18729|        Tony Ressler| Travis Schlenk|    Lloyd Pierce|       Erie Bayhawks|pg_name|\n",
      "|        0|1610612738|    1946|    2019|         BOS|      Celtics|       1946|      Boston|           TD Garden|        18624|       Wyc Grousbeck|    Danny Ainge|    Brad Stevens|     Maine Red Claws|pg_name|\n",
      "|        0|1610612740|    2002|    2019|         NOP|     Pelicans|       2002| New Orleans|Smoothie King Center|         null|          Tom Benson| Trajan Langdon|    Alvin Gentry|        No Affiliate|pg_name|\n",
      "|        0|1610612741|    1966|    2019|         CHI|        Bulls|       1966|     Chicago|       United Center|        21711|     Jerry Reinsdorf|     Gar Forman|      Jim Boylen|    Windy City Bulls|pg_name|\n",
      "|        0|1610612742|    1980|    2019|         DAL|    Mavericks|       1980|      Dallas|American Airlines...|        19200|          Mark Cuban|  Donnie Nelson|   Rick Carlisle|       Texas Legends|pg_name|\n",
      "|        0|1610612743|    1976|    2019|         DEN|      Nuggets|       1976|      Denver|        Pepsi Center|        19099|        Stan Kroenke|   Tim Connelly|  Michael Malone|        No Affiliate|pg_name|\n",
      "|        0|1610612745|    1967|    2019|         HOU|      Rockets|       1967|     Houston|       Toyota Center|        18104|     Tilman Fertitta|    Daryl Morey|   Mike D'Antoni|Rio Grande Valley...|pg_name|\n",
      "|        0|1610612746|    1970|    2019|         LAC|     Clippers|       1970| Los Angeles|      Staples Center|        19060|       Steve Ballmer| Michael Winger|      Doc Rivers|Agua Caliente Cli...|pg_name|\n",
      "|        0|1610612747|    1948|    2019|         LAL|       Lakers|       1948| Los Angeles|      Staples Center|        19060|Jerry Buss Family...|    Rob Pelinka|     Frank Vogel|    South Bay Lakers|pg_name|\n",
      "|        0|1610612748|    1988|    2019|         MIA|         Heat|       1988|       Miami|AmericanAirlines ...|        19600|        Micky Arison|      Pat Riley|  Erik Spoelstra|Sioux Falls Skyforce|pg_name|\n",
      "|        0|1610612749|    1968|    2019|         MIL|        Bucks|       1968|   Milwaukee|        Fiserv Forum|        17500|Wesley Edens & Ma...|      Jon Horst|Mike Budenholzer|      Wisconsin Herd|pg_name|\n",
      "|        0|1610612750|    1989|    2019|         MIN| Timberwolves|       1989|   Minnesota|       Target Center|        19356|         Glen Taylor|   Scott Layden|   Ryan Saunders|         Iowa Wolves|pg_name|\n",
      "|        0|1610612751|    1976|    2019|         BKN|         Nets|       1976|    Brooklyn|     Barclays Center|         null|            Joe Tsai|     Sean Marks|  Kenny Atkinson|    Long Island Nets|pg_name|\n",
      "|        0|1610612752|    1946|    2019|         NYK|       Knicks|       1946|    New York|Madison Square Ga...|        19763|Cablevision (Jame...|    Steve Mills|   David Fizdale|  Westchester Knicks|pg_name|\n",
      "|        0|1610612753|    1989|    2019|         ORL|        Magic|       1989|     Orlando|        Amway Center|            0|          Rick DeVos|   John Hammond|  Steve Clifford|      Lakeland Magic|pg_name|\n",
      "|        0|1610612754|    1976|    2019|         IND|       Pacers|       1976|     Indiana|Bankers Life Fiel...|        18345|          Herb Simon|Kevin Pritchard|   Nate McMillan| Fort Wayne Mad Ants|pg_name|\n",
      "|        0|1610612755|    1949|    2019|         PHI|        76ers|       1949|Philadelphia|  Wells Fargo Center|         null|       Joshua Harris|    Elton Brand|     Brett Brown| Delaware Blue Coats|pg_name|\n",
      "|        0|1610612756|    1968|    2019|         PHX|         Suns|       1968|     Phoenix|Talking Stick Res...|         null|       Robert Sarver|    James Jones|  Monty Williams|Northern Arizona ...|pg_name|\n",
      "|        0|1610612757|    1970|    2019|         POR|Trail Blazers|       1970|    Portland|         Moda Center|        19980|          Paul Allen|    Neil Olshey|    Terry Stotts|        No Affiliate|pg_name|\n",
      "|        0|1610612758|    1948|    2019|         SAC|        Kings|       1948|  Sacramento|     Golden 1 Center|        17500|      Vivek Ranadive|    Vlade Divac|     Luke Walton|      Stockton Kings|pg_name|\n",
      "+---------+----------+--------+--------+------------+-------------+-----------+------------+--------------------+-------------+--------------------+---------------+----------------+--------------------+-------+\n",
      "only showing top 20 rows\n",
      "\n"
     ]
    },
    {
     "data": {
      "text/plain": [
       "['LEAGUE_ID',\n",
       " 'TEAM_ID',\n",
       " 'MIN_YEAR',\n",
       " 'MAX_YEAR',\n",
       " 'ABBREVIATION',\n",
       " 'NICKNAME',\n",
       " 'YEARFOUNDED',\n",
       " 'CITY',\n",
       " 'ARENA',\n",
       " 'ARENACAPACITY',\n",
       " 'OWNER',\n",
       " 'GENERALMANAGER',\n",
       " 'HEADCOACH',\n",
       " 'DLEAGUEAFFILIATION']"
      ]
     },
     "execution_count": 393,
     "metadata": {},
     "output_type": "execute_result"
    }
   ],
   "source": [
    "df_nba.withColumn(\"pg\" , lit(\"pg_name\")).show()\n",
    " "
   ]
  },
  {
   "cell_type": "code",
   "execution_count": 394,
   "id": "206df6e3",
   "metadata": {
    "ExecuteTime": {
     "end_time": "2022-08-27T13:33:44.883008Z",
     "start_time": "2022-08-27T13:33:34.488017Z"
    }
   },
   "outputs": [
    {
     "name": "stdout",
     "output_type": "stream",
     "text": [
      "+---------+----------+--------+--------+------------+--------+-----------+-------+----------------+-------------+------------+--------------+------------+------------------+\n",
      "|LEAGUE_ID|   TEAM_ID|MIN_YEAR|MAX_YEAR|ABBREVIATION|NICKNAME|YEARFOUNDED|   CITY|           ARENA|ARENACAPACITY|       OWNER|GENERALMANAGER|   HEADCOACH|DLEAGUEAFFILIATION|\n",
      "+---------+----------+--------+--------+------------+--------+-----------+-------+----------------+-------------+------------+--------------+------------+------------------+\n",
      "|        0|1610612737|    1949|    2019|         ATL|   Hawks|       1949|Atlanta|State Farm Arena|        18729|Tony Ressler|Travis Schlenk|Lloyd Pierce|     Erie Bayhawks|\n",
      "+---------+----------+--------+--------+------------+--------+-----------+-------+----------------+-------------+------------+--------------+------------+------------------+\n",
      "only showing top 1 row\n",
      "\n"
     ]
    }
   ],
   "source": [
    "df_nba.show(1)"
   ]
  },
  {
   "cell_type": "code",
   "execution_count": 404,
   "id": "ef2e972e",
   "metadata": {
    "ExecuteTime": {
     "end_time": "2022-08-27T13:47:18.263339Z",
     "start_time": "2022-08-27T13:47:17.846388Z"
    }
   },
   "outputs": [
    {
     "name": "stdout",
     "output_type": "stream",
     "text": [
      "+-------------+-------------+\n",
      "|         CITY|sum(MIN_YEAR)|\n",
      "+-------------+-------------+\n",
      "|         Utah|         1974|\n",
      "|      Phoenix|         1968|\n",
      "|    Minnesota|         1989|\n",
      "|       Dallas|         1980|\n",
      "|  San Antonio|         1976|\n",
      "| Philadelphia|         1949|\n",
      "|  Los Angeles|         3918|\n",
      "|   Sacramento|         1948|\n",
      "|    Cleveland|         1970|\n",
      "|Oklahoma City|         1967|\n",
      "|      Detroit|         1948|\n",
      "|     Portland|         1970|\n",
      "|      Memphis|         1995|\n",
      "|   Washington|         1961|\n",
      "|    Milwaukee|         1968|\n",
      "|      Chicago|         1966|\n",
      "| Golden State|         1946|\n",
      "|      Toronto|         1995|\n",
      "|      Atlanta|         1949|\n",
      "|  New Orleans|         2002|\n",
      "|     Brooklyn|         1976|\n",
      "|      Houston|         1967|\n",
      "|      Indiana|         1976|\n",
      "|        Miami|         1988|\n",
      "|      Orlando|         1989|\n",
      "|     New York|         1946|\n",
      "|    Charlotte|         1988|\n",
      "|       Denver|         1976|\n",
      "|       Boston|         1946|\n",
      "+-------------+-------------+\n",
      "\n"
     ]
    }
   ],
   "source": [
    "df_nba.select(df_nba['NICKNAME'],df_nba['CITY'],df_nba['MIN_YEAR']).groupBy('CITY').sum().show(30)"
   ]
  },
  {
   "cell_type": "code",
   "execution_count": 405,
   "id": "c6036556",
   "metadata": {
    "ExecuteTime": {
     "end_time": "2022-08-27T13:50:58.084166Z",
     "start_time": "2022-08-27T13:50:58.071855Z"
    }
   },
   "outputs": [
    {
     "data": {
      "text/plain": [
       "<bound method DataFrame.show of DataFrame[LEAGUE_ID: int, TEAM_ID: int, MIN_YEAR: int, MAX_YEAR: int, ABBREVIATION: string, NICKNAME: string, YEARFOUNDED: int, CITY: string, ARENA: string, ARENACAPACITY: int, OWNER: string, GENERALMANAGER: string, HEADCOACH: string, DLEAGUEAFFILIATION: string]>"
      ]
     },
     "execution_count": 405,
     "metadata": {},
     "output_type": "execute_result"
    }
   ],
   "source": [
    "df_nba.show"
   ]
  },
  {
   "cell_type": "code",
   "execution_count": 406,
   "id": "45480b4d",
   "metadata": {
    "ExecuteTime": {
     "end_time": "2022-08-27T13:51:13.333647Z",
     "start_time": "2022-08-27T13:51:13.224832Z"
    }
   },
   "outputs": [
    {
     "name": "stdout",
     "output_type": "stream",
     "text": [
      "+----------+--------+--------+-------------+------------+-------------+\n",
      "|   TEAM_ID|MIN_YEAR|MAX_YEAR|     NICKNAME|        CITY|ARENACAPACITY|\n",
      "+----------+--------+--------+-------------+------------+-------------+\n",
      "|1610612737|    1949|    2019|        Hawks|     Atlanta|        18729|\n",
      "|1610612738|    1946|    2019|      Celtics|      Boston|        18624|\n",
      "|1610612740|    2002|    2019|     Pelicans| New Orleans|         null|\n",
      "|1610612741|    1966|    2019|        Bulls|     Chicago|        21711|\n",
      "|1610612742|    1980|    2019|    Mavericks|      Dallas|        19200|\n",
      "|1610612743|    1976|    2019|      Nuggets|      Denver|        19099|\n",
      "|1610612745|    1967|    2019|      Rockets|     Houston|        18104|\n",
      "|1610612746|    1970|    2019|     Clippers| Los Angeles|        19060|\n",
      "|1610612747|    1948|    2019|       Lakers| Los Angeles|        19060|\n",
      "|1610612748|    1988|    2019|         Heat|       Miami|        19600|\n",
      "|1610612749|    1968|    2019|        Bucks|   Milwaukee|        17500|\n",
      "|1610612750|    1989|    2019| Timberwolves|   Minnesota|        19356|\n",
      "|1610612751|    1976|    2019|         Nets|    Brooklyn|         null|\n",
      "|1610612752|    1946|    2019|       Knicks|    New York|        19763|\n",
      "|1610612753|    1989|    2019|        Magic|     Orlando|            0|\n",
      "|1610612754|    1976|    2019|       Pacers|     Indiana|        18345|\n",
      "|1610612755|    1949|    2019|        76ers|Philadelphia|         null|\n",
      "|1610612756|    1968|    2019|         Suns|     Phoenix|         null|\n",
      "|1610612757|    1970|    2019|Trail Blazers|    Portland|        19980|\n",
      "|1610612758|    1948|    2019|        Kings|  Sacramento|        17500|\n",
      "+----------+--------+--------+-------------+------------+-------------+\n",
      "only showing top 20 rows\n",
      "\n"
     ]
    }
   ],
   "source": [
    "df_local.show()"
   ]
  },
  {
   "cell_type": "code",
   "execution_count": 423,
   "id": "ab120fde",
   "metadata": {
    "ExecuteTime": {
     "end_time": "2022-08-27T14:08:21.663015Z",
     "start_time": "2022-08-27T14:08:21.519828Z"
    }
   },
   "outputs": [
    {
     "name": "stdout",
     "output_type": "stream",
     "text": [
      "+----------+--------+--------+-------------+--------+-------------+----------------+\n",
      "|   TEAM_ID|MIN_YEAR|MAX_YEAR|     NICKNAME|    CITY|ARENACAPACITY|              PG|\n",
      "+----------+--------+--------+-------------+--------+-------------+----------------+\n",
      "|1610612757|    1970|    2019|Trail Blazers|Portland|        19980|Dammian lillard |\n",
      "+----------+--------+--------+-------------+--------+-------------+----------------+\n",
      "\n"
     ]
    }
   ],
   "source": [
    "df_local.withColumn('PG', lit('Dammian lillard ')).where(df_local.MAX_YEAR > 2008).where(df_local['NICKNAME'] == 'Trail Blazers').show(10)"
   ]
  },
  {
   "cell_type": "code",
   "execution_count": null,
   "id": "c9c6b339",
   "metadata": {},
   "outputs": [],
   "source": []
  },
  {
   "cell_type": "code",
   "execution_count": null,
   "id": "0186f0fe",
   "metadata": {},
   "outputs": [],
   "source": []
  },
  {
   "cell_type": "code",
   "execution_count": null,
   "id": "d8b92e08",
   "metadata": {},
   "outputs": [],
   "source": []
  },
  {
   "cell_type": "code",
   "execution_count": null,
   "id": "a04183c0",
   "metadata": {},
   "outputs": [],
   "source": []
  },
  {
   "cell_type": "code",
   "execution_count": 451,
   "id": "e43d1b18",
   "metadata": {
    "ExecuteTime": {
     "end_time": "2022-08-27T15:00:40.200909Z",
     "start_time": "2022-08-27T15:00:40.051144Z"
    }
   },
   "outputs": [
    {
     "name": "stdout",
     "output_type": "stream",
     "text": [
      "+----------+--------+--------+------------+-----------+-------------+\n",
      "|   TEAM_ID|MIN_YEAR|MAX_YEAR|    NICKNAME|       CITY|ARENACAPACITY|\n",
      "+----------+--------+--------+------------+-----------+-------------+\n",
      "|1610612766|    1988|    2019|     Hornets|  Charlotte|        19026|\n",
      "|1610612742|    1980|    2019|   Mavericks|     Dallas|        19200|\n",
      "|1610612763|    1995|    2019|   Grizzlies|    Memphis|        18119|\n",
      "|1610612748|    1988|    2019|        Heat|      Miami|        19600|\n",
      "|1610612750|    1989|    2019|Timberwolves|  Minnesota|        19356|\n",
      "|1610612740|    2002|    2019|    Pelicans|New Orleans|         null|\n",
      "|1610612753|    1989|    2019|       Magic|    Orlando|            0|\n",
      "|1610612761|    1995|    2019|     Raptors|    Toronto|        19800|\n",
      "+----------+--------+--------+------------+-----------+-------------+\n",
      "\n"
     ]
    }
   ],
   "source": [
    "df_local.filter((df_local['MIN_YEAR'] >= 1980) & (df_local['MAX_YEAR'] >= 2017) ).orderBy('NICKNAME').orderBy('CITY').show()"
   ]
  },
  {
   "cell_type": "code",
   "execution_count": 18,
   "id": "1fdcf49c",
   "metadata": {
    "ExecuteTime": {
     "end_time": "2022-08-29T15:48:46.797757Z",
     "start_time": "2022-08-29T15:48:46.778666Z"
    }
   },
   "outputs": [],
   "source": [
    "from pyspark.sql import *"
   ]
  },
  {
   "cell_type": "code",
   "execution_count": 4,
   "id": "d7b86de7",
   "metadata": {
    "ExecuteTime": {
     "end_time": "2022-08-28T22:09:08.387246Z",
     "start_time": "2022-08-28T22:09:08.371290Z"
    }
   },
   "outputs": [],
   "source": [
    "mydata = [('PHONE' , 'SAMSUNG', '15000'),\n",
    "       ('PHONE', 'APPPLE', '80000'),\n",
    "       ('PHONE', 'NOKIA', '10000'),\n",
    "       ('TV', 'SONY', '110000'),\n",
    "       ('TV', 'MI', '50000'),\n",
    "       ('AC', 'HITACHI', '30000' ),\n",
    "       ('AC', 'GODREJ', '20000')]\n",
    "mySchema = [\"PRODUCT\" , \"COMPANY\" , \"PRICE\"]\n"
   ]
  },
  {
   "cell_type": "code",
   "execution_count": 5,
   "id": "77746943",
   "metadata": {
    "ExecuteTime": {
     "end_time": "2022-08-28T22:09:47.905308Z",
     "start_time": "2022-08-28T22:09:09.014159Z"
    }
   },
   "outputs": [],
   "source": [
    "df_products = spark.createDataFrame(data=mydata , schema=mySchema)"
   ]
  },
  {
   "cell_type": "code",
   "execution_count": 6,
   "id": "4960ff35",
   "metadata": {
    "ExecuteTime": {
     "end_time": "2022-08-28T22:09:51.861111Z",
     "start_time": "2022-08-28T22:09:51.840160Z"
    }
   },
   "outputs": [
    {
     "data": {
      "text/plain": [
       "pyspark.sql.dataframe.DataFrame"
      ]
     },
     "execution_count": 6,
     "metadata": {},
     "output_type": "execute_result"
    }
   ],
   "source": [
    "type(df_products)"
   ]
  },
  {
   "cell_type": "code",
   "execution_count": 7,
   "id": "9204d667",
   "metadata": {
    "ExecuteTime": {
     "end_time": "2022-08-28T22:09:55.081837Z",
     "start_time": "2022-08-28T22:09:54.578282Z"
    }
   },
   "outputs": [
    {
     "ename": "NameError",
     "evalue": "name 'df_nba' is not defined",
     "output_type": "error",
     "traceback": [
      "\u001b[1;31m---------------------------------------------------------------------------\u001b[0m",
      "\u001b[1;31mNameError\u001b[0m                                 Traceback (most recent call last)",
      "\u001b[1;32m~\\AppData\\Local\\Temp/ipykernel_20644/1703373499.py\u001b[0m in \u001b[0;36m<module>\u001b[1;34m\u001b[0m\n\u001b[1;32m----> 1\u001b[1;33m \u001b[0mdf_nba\u001b[0m\u001b[1;33m.\u001b[0m\u001b[0mshow\u001b[0m\u001b[1;33m\u001b[0m\u001b[1;33m\u001b[0m\u001b[0m\n\u001b[0m",
      "\u001b[1;31mNameError\u001b[0m: name 'df_nba' is not defined"
     ]
    }
   ],
   "source": [
    "df_nba.show"
   ]
  },
  {
   "cell_type": "code",
   "execution_count": 8,
   "id": "fdc6afb0",
   "metadata": {
    "ExecuteTime": {
     "end_time": "2022-08-28T22:09:55.583428Z",
     "start_time": "2022-08-28T22:09:55.569428Z"
    }
   },
   "outputs": [
    {
     "data": {
      "text/plain": [
       "['PRODUCT', 'COMPANY', 'PRICE']"
      ]
     },
     "execution_count": 8,
     "metadata": {},
     "output_type": "execute_result"
    }
   ],
   "source": [
    "df_products.columns"
   ]
  },
  {
   "cell_type": "code",
   "execution_count": 9,
   "id": "77ae5e12",
   "metadata": {
    "ExecuteTime": {
     "end_time": "2022-08-28T22:10:02.010543Z",
     "start_time": "2022-08-28T22:10:01.994552Z"
    }
   },
   "outputs": [
    {
     "data": {
      "text/plain": [
       "<bound method DataFrame.show of DataFrame[PRODUCT: string, COMPANY: string, PRICE: string]>"
      ]
     },
     "execution_count": 9,
     "metadata": {},
     "output_type": "execute_result"
    }
   ],
   "source": [
    "df_products.show\n"
   ]
  },
  {
   "cell_type": "code",
   "execution_count": 10,
   "id": "2636ac35",
   "metadata": {
    "ExecuteTime": {
     "end_time": "2022-08-28T22:10:17.575187Z",
     "start_time": "2022-08-28T22:10:04.019159Z"
    }
   },
   "outputs": [
    {
     "name": "stdout",
     "output_type": "stream",
     "text": [
      "+-------+-------+------+\n",
      "|PRODUCT|COMPANY| PRICE|\n",
      "+-------+-------+------+\n",
      "|  PHONE|SAMSUNG| 15000|\n",
      "|  PHONE| APPPLE| 80000|\n",
      "|  PHONE|  NOKIA| 10000|\n",
      "|     TV|   SONY|110000|\n",
      "|     TV|     MI| 50000|\n",
      "|     AC|HITACHI| 30000|\n",
      "|     AC| GODREJ| 20000|\n",
      "+-------+-------+------+\n",
      "\n"
     ]
    }
   ],
   "source": [
    "df_products.show()"
   ]
  },
  {
   "cell_type": "code",
   "execution_count": 88,
   "id": "da04cad7",
   "metadata": {
    "ExecuteTime": {
     "end_time": "2022-08-29T19:11:38.793694Z",
     "start_time": "2022-08-29T19:11:38.448011Z"
    }
   },
   "outputs": [
    {
     "data": {
      "text/plain": [
       "9"
      ]
     },
     "execution_count": 88,
     "metadata": {},
     "output_type": "execute_result"
    }
   ],
   "source": [
    "df_sample.count()"
   ]
  },
  {
   "cell_type": "code",
   "execution_count": 141,
   "id": "9e7e3dd5",
   "metadata": {
    "ExecuteTime": {
     "end_time": "2022-08-29T23:14:41.308204Z",
     "start_time": "2022-08-29T23:14:40.594174Z"
    }
   },
   "outputs": [],
   "source": [
    "df_sample = spark.read.csv('C:/Users/HP/Downloads/sample_data.csv').withColumn('Corelation_ID', concat(lit('ab') , monotonically_increasing_id()))"
   ]
  },
  {
   "cell_type": "code",
   "execution_count": 142,
   "id": "8aab78ec",
   "metadata": {
    "ExecuteTime": {
     "end_time": "2022-08-29T23:14:41.520386Z",
     "start_time": "2022-08-29T23:14:41.315276Z"
    }
   },
   "outputs": [
    {
     "name": "stdout",
     "output_type": "stream",
     "text": [
      "+-------+-------+-----+-----------+------+------+----------+----------------+----------------+---------+---------+--------+--------+----------------+-------------+---------------+-----------+-------------+\n",
      "|    _c0|    _c1|  _c2|        _c3|   _c4|   _c5|       _c6|             _c7|             _c8|      _c9|     _c10|    _c11|    _c12|            _c13|         _c14|           _c15|       _c16|Corelation_ID|\n",
      "+-------+-------+-----+-----------+------+------+----------+----------------+----------------+---------+---------+--------+--------+----------------+-------------+---------------+-----------+-------------+\n",
      "|  Fname|  Lname|Mname|DateOfBirth|Suffix|Prefix|ActiveFlag|      CreateDate|      UpdateDate|CreatedBy|UpdatedBy|GenderID|RaceCode|Race Description|IdentityDocID|IdentityDocType|RaceDetails|          ab0|\n",
      "|Abigail|Abraham|    L| 18-10-1942|  null|  null|         Y|04-07-2013 00:00|09-07-2013 00:00|   100001|   100001|       1|      F5|           Black|      1468779|            SSN|          1|          ab1|\n",
      "|   John|    Don|    L| 19-10-1942|  null|  null|         Y|05-07-2013 00:00|10-07-2013 00:00|   100002|   100002|       1|      F6|            Asia|       D13679|             DL|          2|          ab2|\n",
      "| Unmesh|Kanchan|    L| 20-10-1942|  null|  null|         Y|06-07-2013 00:00|11-07-2013 00:00|   100003|   100003|       1|      F7|         Spanish|       D13680|             DL|          3|          ab3|\n",
      "| Sanjib|  Nayak|    L| 21-10-1942|  null|  null|         Y|07-07-2013 00:00|12-07-2013 00:00|   100004|   100004|       1|      F8|          French|       D13681|             DL|          4|          ab4|\n",
      "|Abigail|Abraham|    L| 22-10-1942|  null|  null|         Y|08-07-2013 00:00|13-07-2013 00:00|   100005|   100005|       1|      F9|           Black|      1468779|            SSN|          5|          ab5|\n",
      "|  John1|   Don1|    L| 23-10-1942|  null|  null|         Y|09-07-2013 00:00|14-07-2013 00:00|   100006|   100006|       1|     F10|           White|      1468780|            SSN|          6|          ab6|\n",
      "|  John2|   Don2|    L| 24-10-1942|  null|  null|         Y|10-07-2013 00:00|15-07-2013 00:00|   100007|   100007|       1|    null|            null|         null|           null|       null|          ab7|\n",
      "|  John3|   Don3|    L| 25-10-1942|  null|  null|         Y|11-07-2013 00:00|16-07-2013 00:00|   100008|   100008|       1|    null|            null|         null|           null|       null|          ab8|\n",
      "| Sanjib|  Nayak|    L| 26-10-1942|  null|  null|         Y|12-07-2013 00:00|17-07-2013 00:00|   100009|   100009|       1|    null|            null|         null|           null|       null|          ab9|\n",
      "+-------+-------+-----+-----------+------+------+----------+----------------+----------------+---------+---------+--------+--------+----------------+-------------+---------------+-----------+-------------+\n",
      "\n"
     ]
    }
   ],
   "source": [
    "df_sample.show()"
   ]
  },
  {
   "cell_type": "code",
   "execution_count": 143,
   "id": "1955fe0e",
   "metadata": {
    "ExecuteTime": {
     "end_time": "2022-08-29T23:14:52.246623Z",
     "start_time": "2022-08-29T23:14:52.057108Z"
    }
   },
   "outputs": [
    {
     "data": {
      "text/plain": [
       "<bound method DataFrame.show of DataFrame[_c0: string, _c1: string, _c2: string, _c3: string, _c4: string, _c5: string, _c6: string, _c7: string, _c8: string, _c9: string, _c10: string, _c11: string, _c12: string, _c13: string, _c14: string, _c15: string, _c16: string, Corelation_ID: string]>"
      ]
     },
     "execution_count": 143,
     "metadata": {},
     "output_type": "execute_result"
    }
   ],
   "source": [
    "df_sample.show"
   ]
  },
  {
   "cell_type": "code",
   "execution_count": 144,
   "id": "d204c299",
   "metadata": {
    "ExecuteTime": {
     "end_time": "2022-08-29T23:14:59.050599Z",
     "start_time": "2022-08-29T23:14:59.031561Z"
    }
   },
   "outputs": [
    {
     "data": {
      "text/plain": [
       "['_c0',\n",
       " '_c1',\n",
       " '_c2',\n",
       " '_c3',\n",
       " '_c4',\n",
       " '_c5',\n",
       " '_c6',\n",
       " '_c7',\n",
       " '_c8',\n",
       " '_c9',\n",
       " '_c10',\n",
       " '_c11',\n",
       " '_c12',\n",
       " '_c13',\n",
       " '_c14',\n",
       " '_c15',\n",
       " '_c16',\n",
       " 'Corelation_ID']"
      ]
     },
     "execution_count": 144,
     "metadata": {},
     "output_type": "execute_result"
    }
   ],
   "source": [
    "df_sample.columns"
   ]
  },
  {
   "cell_type": "code",
   "execution_count": 145,
   "id": "ea26e6c0",
   "metadata": {
    "ExecuteTime": {
     "end_time": "2022-08-29T23:15:27.043303Z",
     "start_time": "2022-08-29T23:15:26.914559Z"
    }
   },
   "outputs": [
    {
     "name": "stdout",
     "output_type": "stream",
     "text": [
      "+-------------+\n",
      "|Corelation_ID|\n",
      "+-------------+\n",
      "|          ab0|\n",
      "|          ab1|\n",
      "|          ab2|\n",
      "|          ab3|\n",
      "|          ab4|\n",
      "|          ab5|\n",
      "|          ab6|\n",
      "|          ab7|\n",
      "|          ab8|\n",
      "|          ab9|\n",
      "+-------------+\n",
      "\n"
     ]
    }
   ],
   "source": [
    "df_sample.select('Corelation_ID').show()"
   ]
  },
  {
   "cell_type": "code",
   "execution_count": 20,
   "id": "b7881b5f",
   "metadata": {
    "ExecuteTime": {
     "end_time": "2022-08-29T16:02:45.339692Z",
     "start_time": "2022-08-29T16:02:45.318758Z"
    }
   },
   "outputs": [],
   "source": [
    "from pyspark.sql.functions import *"
   ]
  },
  {
   "cell_type": "code",
   "execution_count": 73,
   "id": "34b1e0b4",
   "metadata": {
    "ExecuteTime": {
     "end_time": "2022-08-29T16:53:52.808671Z",
     "start_time": "2022-08-29T16:53:52.737463Z"
    }
   },
   "outputs": [],
   "source": [
    "df_sample_Person = df_sample['Fname',\n",
    " 'Lname',\n",
    " 'Mname',\n",
    " 'DateOfBirth',\n",
    " 'Suffix',\n",
    " 'Prefix',\n",
    " 'ActiveFlag',\n",
    " 'CreateDate',\n",
    " 'UpdateDate',\n",
    " 'CreatedBy',\n",
    " 'UpdatedBy',\n",
    " 'GenderID'].withColumn('Corelation_ID' , concat( lit('ab') , pyspark.sql.functions.monotonically_increasing_id().cast('string')))"
   ]
  },
  {
   "cell_type": "code",
   "execution_count": 74,
   "id": "9a57dfc8",
   "metadata": {
    "ExecuteTime": {
     "end_time": "2022-08-29T16:53:55.198206Z",
     "start_time": "2022-08-29T16:53:55.176878Z"
    }
   },
   "outputs": [
    {
     "data": {
      "text/plain": [
       "['Fname',\n",
       " 'Lname',\n",
       " 'Mname',\n",
       " 'DateOfBirth',\n",
       " 'Suffix',\n",
       " 'Prefix',\n",
       " 'ActiveFlag',\n",
       " 'CreateDate',\n",
       " 'UpdateDate',\n",
       " 'CreatedBy',\n",
       " 'UpdatedBy',\n",
       " 'GenderID',\n",
       " 'Corelation_ID']"
      ]
     },
     "execution_count": 74,
     "metadata": {},
     "output_type": "execute_result"
    }
   ],
   "source": [
    "df_sample_Person.columns"
   ]
  },
  {
   "cell_type": "code",
   "execution_count": 75,
   "id": "156b1ca0",
   "metadata": {
    "ExecuteTime": {
     "end_time": "2022-08-29T16:53:56.623041Z",
     "start_time": "2022-08-29T16:53:56.488840Z"
    }
   },
   "outputs": [
    {
     "name": "stdout",
     "output_type": "stream",
     "text": [
      "+-------------+\n",
      "|Corelation_ID|\n",
      "+-------------+\n",
      "|          ab0|\n",
      "|          ab1|\n",
      "|          ab2|\n",
      "|          ab3|\n",
      "|          ab4|\n",
      "|          ab5|\n",
      "|          ab6|\n",
      "|          ab7|\n",
      "|          ab8|\n",
      "+-------------+\n",
      "\n"
     ]
    }
   ],
   "source": [
    "df_sample_Person.select('Corelation_ID').show()"
   ]
  },
  {
   "cell_type": "code",
   "execution_count": 148,
   "id": "95ef1c0e",
   "metadata": {
    "ExecuteTime": {
     "end_time": "2022-08-29T23:16:15.124768Z",
     "start_time": "2022-08-29T23:16:15.091747Z"
    }
   },
   "outputs": [
    {
     "data": {
      "text/plain": [
       "<bound method DataFrame.show of DataFrame[Fname: string, Lname: string, Mname: string, DateOfBirth: string, Suffix: string, Prefix: string, ActiveFlag: string, CreateDate: string, UpdateDate: string, CreatedBy: int, UpdatedBy: int, GenderID: int, Corelation_ID: string]>"
      ]
     },
     "execution_count": 148,
     "metadata": {},
     "output_type": "execute_result"
    }
   ],
   "source": [
    "df_sample_Person.show"
   ]
  },
  {
   "cell_type": "code",
   "execution_count": 149,
   "id": "22d26a33",
   "metadata": {
    "ExecuteTime": {
     "end_time": "2022-08-29T23:16:16.998227Z",
     "start_time": "2022-08-29T23:16:16.962513Z"
    }
   },
   "outputs": [],
   "source": [
    "df_updated_sample = df_sample.withColumn('Corelation_ID', concat(lit('ab'), monotonically_increasing_id()))"
   ]
  },
  {
   "cell_type": "code",
   "execution_count": 150,
   "id": "d055281a",
   "metadata": {
    "ExecuteTime": {
     "end_time": "2022-08-29T23:16:20.785633Z",
     "start_time": "2022-08-29T23:16:20.648202Z"
    }
   },
   "outputs": [
    {
     "name": "stdout",
     "output_type": "stream",
     "text": [
      "+-------+-------+-----+-----------+------+------+----------+----------------+----------------+---------+---------+--------+--------+----------------+-------------+---------------+-----------+-------------+\n",
      "|    _c0|    _c1|  _c2|        _c3|   _c4|   _c5|       _c6|             _c7|             _c8|      _c9|     _c10|    _c11|    _c12|            _c13|         _c14|           _c15|       _c16|Corelation_ID|\n",
      "+-------+-------+-----+-----------+------+------+----------+----------------+----------------+---------+---------+--------+--------+----------------+-------------+---------------+-----------+-------------+\n",
      "|  Fname|  Lname|Mname|DateOfBirth|Suffix|Prefix|ActiveFlag|      CreateDate|      UpdateDate|CreatedBy|UpdatedBy|GenderID|RaceCode|Race Description|IdentityDocID|IdentityDocType|RaceDetails|          ab0|\n",
      "|Abigail|Abraham|    L| 18-10-1942|  null|  null|         Y|04-07-2013 00:00|09-07-2013 00:00|   100001|   100001|       1|      F5|           Black|      1468779|            SSN|          1|          ab1|\n",
      "|   John|    Don|    L| 19-10-1942|  null|  null|         Y|05-07-2013 00:00|10-07-2013 00:00|   100002|   100002|       1|      F6|            Asia|       D13679|             DL|          2|          ab2|\n",
      "| Unmesh|Kanchan|    L| 20-10-1942|  null|  null|         Y|06-07-2013 00:00|11-07-2013 00:00|   100003|   100003|       1|      F7|         Spanish|       D13680|             DL|          3|          ab3|\n",
      "| Sanjib|  Nayak|    L| 21-10-1942|  null|  null|         Y|07-07-2013 00:00|12-07-2013 00:00|   100004|   100004|       1|      F8|          French|       D13681|             DL|          4|          ab4|\n",
      "|Abigail|Abraham|    L| 22-10-1942|  null|  null|         Y|08-07-2013 00:00|13-07-2013 00:00|   100005|   100005|       1|      F9|           Black|      1468779|            SSN|          5|          ab5|\n",
      "|  John1|   Don1|    L| 23-10-1942|  null|  null|         Y|09-07-2013 00:00|14-07-2013 00:00|   100006|   100006|       1|     F10|           White|      1468780|            SSN|          6|          ab6|\n",
      "|  John2|   Don2|    L| 24-10-1942|  null|  null|         Y|10-07-2013 00:00|15-07-2013 00:00|   100007|   100007|       1|    null|            null|         null|           null|       null|          ab7|\n",
      "|  John3|   Don3|    L| 25-10-1942|  null|  null|         Y|11-07-2013 00:00|16-07-2013 00:00|   100008|   100008|       1|    null|            null|         null|           null|       null|          ab8|\n",
      "| Sanjib|  Nayak|    L| 26-10-1942|  null|  null|         Y|12-07-2013 00:00|17-07-2013 00:00|   100009|   100009|       1|    null|            null|         null|           null|       null|          ab9|\n",
      "+-------+-------+-----+-----------+------+------+----------+----------------+----------------+---------+---------+--------+--------+----------------+-------------+---------------+-----------+-------------+\n",
      "\n"
     ]
    }
   ],
   "source": [
    "df_updated_sample.show()"
   ]
  },
  {
   "cell_type": "code",
   "execution_count": 153,
   "id": "05b7d387",
   "metadata": {
    "ExecuteTime": {
     "end_time": "2022-08-29T23:19:48.560037Z",
     "start_time": "2022-08-29T23:19:48.497037Z"
    }
   },
   "outputs": [],
   "source": [
    "df_person_table = df_sample['_c0',\n",
    " '_c1',\n",
    " '_c2',\n",
    " '_c3',\n",
    " '_c4',\n",
    " '_c5',\n",
    " '_c6',\n",
    " '_c7',\n",
    " '_c8',\n",
    " '_c9',\n",
    " '_c10',\n",
    " '_c11',\n",
    " 'Corelation_ID']"
   ]
  },
  {
   "cell_type": "code",
   "execution_count": 154,
   "id": "53dd3b58",
   "metadata": {
    "ExecuteTime": {
     "end_time": "2022-08-29T23:21:22.516179Z",
     "start_time": "2022-08-29T23:21:22.456679Z"
    }
   },
   "outputs": [],
   "source": [
    "df_race = df_sample[\n",
    " 'Corelation_ID',\n",
    "     '_c16',\n",
    "'_c12',\n",
    " '_c13'\n",
    "    \n",
    "]"
   ]
  },
  {
   "cell_type": "code",
   "execution_count": 160,
   "id": "35d85188",
   "metadata": {
    "ExecuteTime": {
     "end_time": "2022-08-29T23:50:49.031586Z",
     "start_time": "2022-08-29T23:50:48.991600Z"
    }
   },
   "outputs": [],
   "source": [
    "df_Identity = df_sample[\n",
    "\n",
    "    'Corelation_ID',\n",
    "    '_c14',\n",
    " '_c15'\n",
    "]"
   ]
  },
  {
   "cell_type": "code",
   "execution_count": 113,
   "id": "898a8223",
   "metadata": {
    "ExecuteTime": {
     "end_time": "2022-08-29T20:13:14.976100Z",
     "start_time": "2022-08-29T20:13:14.839464Z"
    }
   },
   "outputs": [
    {
     "name": "stdout",
     "output_type": "stream",
     "text": [
      "+-------------+---------------+-------------+\n",
      "|IdentityDocID|IdentityDocType|Corelation_ID|\n",
      "+-------------+---------------+-------------+\n",
      "|      1468779|            SSN|          ab0|\n",
      "|       D13679|             DL|          ab1|\n",
      "|       D13680|             DL|          ab2|\n",
      "|       D13681|             DL|          ab3|\n",
      "|      1468779|            SSN|          ab4|\n",
      "|      1468780|            SSN|          ab5|\n",
      "|         null|           null|          ab6|\n",
      "|         null|           null|          ab7|\n",
      "|         null|           null|          ab8|\n",
      "+-------------+---------------+-------------+\n",
      "\n"
     ]
    }
   ],
   "source": [
    "df_Identity.show()"
   ]
  },
  {
   "cell_type": "code",
   "execution_count": 114,
   "id": "a5feaa4c",
   "metadata": {
    "ExecuteTime": {
     "end_time": "2022-08-29T20:14:05.527772Z",
     "start_time": "2022-08-29T20:14:05.496811Z"
    }
   },
   "outputs": [
    {
     "data": {
      "text/plain": [
       "DataFrame[IdentityDocID: string, IdentityDocType: string, Corelation_ID: string]"
      ]
     },
     "metadata": {},
     "output_type": "display_data"
    }
   ],
   "source": [
    "display(df_Identity)."
   ]
  },
  {
   "cell_type": "code",
   "execution_count": 161,
   "id": "ffcf3739",
   "metadata": {
    "ExecuteTime": {
     "end_time": "2022-08-29T23:51:05.034963Z",
     "start_time": "2022-08-29T23:51:04.541067Z"
    }
   },
   "outputs": [],
   "source": [
    "df_Identity.write.csv('identity')"
   ]
  },
  {
   "cell_type": "code",
   "execution_count": 136,
   "id": "66f8d933",
   "metadata": {
    "ExecuteTime": {
     "end_time": "2022-08-29T22:48:02.525222Z",
     "start_time": "2022-08-29T22:48:02.038574Z"
    }
   },
   "outputs": [],
   "source": [
    "df_Identity.coalesce(1).write.format('csv').save('identity.csv' , header = True ) "
   ]
  },
  {
   "cell_type": "code",
   "execution_count": 129,
   "id": "da2cf3aa",
   "metadata": {
    "ExecuteTime": {
     "end_time": "2022-08-29T22:12:27.084933Z",
     "start_time": "2022-08-29T22:12:27.061762Z"
    }
   },
   "outputs": [
    {
     "ename": "TypeError",
     "evalue": "csv() missing 1 required positional argument: 'path'",
     "output_type": "error",
     "traceback": [
      "\u001b[1;31m---------------------------------------------------------------------------\u001b[0m",
      "\u001b[1;31mTypeError\u001b[0m                                 Traceback (most recent call last)",
      "\u001b[1;32m~\\AppData\\Local\\Temp/ipykernel_20644/1105339623.py\u001b[0m in \u001b[0;36m<module>\u001b[1;34m\u001b[0m\n\u001b[1;32m----> 1\u001b[1;33m \u001b[0mdf_Identity\u001b[0m\u001b[1;33m.\u001b[0m\u001b[0mwrite\u001b[0m\u001b[1;33m.\u001b[0m\u001b[0mcsv\u001b[0m\u001b[1;33m(\u001b[0m\u001b[1;33m)\u001b[0m\u001b[1;33m\u001b[0m\u001b[1;33m\u001b[0m\u001b[0m\n\u001b[0m",
      "\u001b[1;31mTypeError\u001b[0m: csv() missing 1 required positional argument: 'path'"
     ]
    }
   ],
   "source": [
    "df_Identity.write.csv()"
   ]
  },
  {
   "cell_type": "code",
   "execution_count": 156,
   "id": "3803a1a5",
   "metadata": {
    "ExecuteTime": {
     "end_time": "2022-08-29T23:22:13.516445Z",
     "start_time": "2022-08-29T23:22:12.860277Z"
    }
   },
   "outputs": [],
   "source": [
    "df_person_table.write.csv('person_task1')"
   ]
  },
  {
   "cell_type": "code",
   "execution_count": 157,
   "id": "4ec923c4",
   "metadata": {
    "ExecuteTime": {
     "end_time": "2022-08-29T23:22:14.676837Z",
     "start_time": "2022-08-29T23:22:13.987481Z"
    }
   },
   "outputs": [],
   "source": [
    "df_race.write.csv('race_sample_task3')"
   ]
  },
  {
   "cell_type": "code",
   "execution_count": 158,
   "id": "1e43a5d5",
   "metadata": {
    "ExecuteTime": {
     "end_time": "2022-08-29T23:22:15.144721Z",
     "start_time": "2022-08-29T23:22:15.054980Z"
    }
   },
   "outputs": [
    {
     "ename": "AnalysisException",
     "evalue": "path file:/C:/Users/HP/updated_sample already exists.",
     "output_type": "error",
     "traceback": [
      "\u001b[1;31m---------------------------------------------------------------------------\u001b[0m",
      "\u001b[1;31mAnalysisException\u001b[0m                         Traceback (most recent call last)",
      "\u001b[1;32m~\\AppData\\Local\\Temp/ipykernel_20644/4216466219.py\u001b[0m in \u001b[0;36m<module>\u001b[1;34m\u001b[0m\n\u001b[1;32m----> 1\u001b[1;33m \u001b[0mdf_updated_sample\u001b[0m\u001b[1;33m.\u001b[0m\u001b[0mwrite\u001b[0m\u001b[1;33m.\u001b[0m\u001b[0mcsv\u001b[0m\u001b[1;33m(\u001b[0m\u001b[1;34m'updated_sample'\u001b[0m\u001b[1;33m)\u001b[0m\u001b[1;33m\u001b[0m\u001b[1;33m\u001b[0m\u001b[0m\n\u001b[0m",
      "\u001b[1;32m~\\anaconda3\\lib\\site-packages\\pyspark\\sql\\readwriter.py\u001b[0m in \u001b[0;36mcsv\u001b[1;34m(self, path, mode, compression, sep, quote, escape, header, nullValue, escapeQuotes, quoteAll, dateFormat, timestampFormat, ignoreLeadingWhiteSpace, ignoreTrailingWhiteSpace, charToEscapeQuoteEscaping, encoding, emptyValue, lineSep)\u001b[0m\n\u001b[0;32m   1238\u001b[0m             \u001b[0mlineSep\u001b[0m\u001b[1;33m=\u001b[0m\u001b[0mlineSep\u001b[0m\u001b[1;33m,\u001b[0m\u001b[1;33m\u001b[0m\u001b[1;33m\u001b[0m\u001b[0m\n\u001b[0;32m   1239\u001b[0m         )\n\u001b[1;32m-> 1240\u001b[1;33m         \u001b[0mself\u001b[0m\u001b[1;33m.\u001b[0m\u001b[0m_jwrite\u001b[0m\u001b[1;33m.\u001b[0m\u001b[0mcsv\u001b[0m\u001b[1;33m(\u001b[0m\u001b[0mpath\u001b[0m\u001b[1;33m)\u001b[0m\u001b[1;33m\u001b[0m\u001b[1;33m\u001b[0m\u001b[0m\n\u001b[0m\u001b[0;32m   1241\u001b[0m \u001b[1;33m\u001b[0m\u001b[0m\n\u001b[0;32m   1242\u001b[0m     def orc(\n",
      "\u001b[1;32m~\\anaconda3\\lib\\site-packages\\py4j\\java_gateway.py\u001b[0m in \u001b[0;36m__call__\u001b[1;34m(self, *args)\u001b[0m\n\u001b[0;32m   1319\u001b[0m \u001b[1;33m\u001b[0m\u001b[0m\n\u001b[0;32m   1320\u001b[0m         \u001b[0manswer\u001b[0m \u001b[1;33m=\u001b[0m \u001b[0mself\u001b[0m\u001b[1;33m.\u001b[0m\u001b[0mgateway_client\u001b[0m\u001b[1;33m.\u001b[0m\u001b[0msend_command\u001b[0m\u001b[1;33m(\u001b[0m\u001b[0mcommand\u001b[0m\u001b[1;33m)\u001b[0m\u001b[1;33m\u001b[0m\u001b[1;33m\u001b[0m\u001b[0m\n\u001b[1;32m-> 1321\u001b[1;33m         return_value = get_return_value(\n\u001b[0m\u001b[0;32m   1322\u001b[0m             answer, self.gateway_client, self.target_id, self.name)\n\u001b[0;32m   1323\u001b[0m \u001b[1;33m\u001b[0m\u001b[0m\n",
      "\u001b[1;32m~\\anaconda3\\lib\\site-packages\\pyspark\\sql\\utils.py\u001b[0m in \u001b[0;36mdeco\u001b[1;34m(*a, **kw)\u001b[0m\n\u001b[0;32m    194\u001b[0m                 \u001b[1;31m# Hide where the exception came from that shows a non-Pythonic\u001b[0m\u001b[1;33m\u001b[0m\u001b[1;33m\u001b[0m\u001b[0m\n\u001b[0;32m    195\u001b[0m                 \u001b[1;31m# JVM exception message.\u001b[0m\u001b[1;33m\u001b[0m\u001b[1;33m\u001b[0m\u001b[0m\n\u001b[1;32m--> 196\u001b[1;33m                 \u001b[1;32mraise\u001b[0m \u001b[0mconverted\u001b[0m \u001b[1;32mfrom\u001b[0m \u001b[1;32mNone\u001b[0m\u001b[1;33m\u001b[0m\u001b[1;33m\u001b[0m\u001b[0m\n\u001b[0m\u001b[0;32m    197\u001b[0m             \u001b[1;32melse\u001b[0m\u001b[1;33m:\u001b[0m\u001b[1;33m\u001b[0m\u001b[1;33m\u001b[0m\u001b[0m\n\u001b[0;32m    198\u001b[0m                 \u001b[1;32mraise\u001b[0m\u001b[1;33m\u001b[0m\u001b[1;33m\u001b[0m\u001b[0m\n",
      "\u001b[1;31mAnalysisException\u001b[0m: path file:/C:/Users/HP/updated_sample already exists."
     ]
    }
   ],
   "source": [
    "df_updated_sample.write.csv('updated_sample')"
   ]
  },
  {
   "cell_type": "code",
   "execution_count": null,
   "id": "ce30bfeb",
   "metadata": {},
   "outputs": [],
   "source": []
  }
 ],
 "metadata": {
  "kernelspec": {
   "display_name": "Python 3 (ipykernel)",
   "language": "python",
   "name": "python3"
  },
  "language_info": {
   "codemirror_mode": {
    "name": "ipython",
    "version": 3
   },
   "file_extension": ".py",
   "mimetype": "text/x-python",
   "name": "python",
   "nbconvert_exporter": "python",
   "pygments_lexer": "ipython3",
   "version": "3.9.7"
  },
  "toc": {
   "base_numbering": 1,
   "nav_menu": {},
   "number_sections": true,
   "sideBar": true,
   "skip_h1_title": false,
   "title_cell": "Table of Contents",
   "title_sidebar": "Contents",
   "toc_cell": false,
   "toc_position": {},
   "toc_section_display": true,
   "toc_window_display": false
  }
 },
 "nbformat": 4,
 "nbformat_minor": 5
}
