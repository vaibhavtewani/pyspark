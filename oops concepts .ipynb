{
 "cells": [
  {
   "cell_type": "markdown",
   "id": "8431fbeb",
   "metadata": {},
   "source": [
    "# now here in pppython we will create a class using the class keyword and a diffrence between crating a  clss and  creat;ijng a functi;on is is of def keyword\n",
    "\n"
   ]
  },
  {
   "cell_type": "markdown",
   "id": "66e09635",
   "metadata": {},
   "source": [
    "### now here while creating the clss you should know that a class hasve certaain \n",
    "attributews and certain brhavior noe attributes are nothing but the variables and behaviour are the methods / of a class"
   ]
  },
  {
   "cell_type": "code",
   "execution_count": 1,
   "id": "e46e2997",
   "metadata": {},
   "outputs": [
    {
     "name": "stdout",
     "output_type": "stream",
     "text": [
      "<class 'int'>\n",
      "<class '__main__.Computer'>\n"
     ]
    }
   ],
   "source": [
    "class Computer :\n",
    "    def config(self):\n",
    "        print (\"i5 , 16gb , Tb  \")\n",
    "        \n",
    "        \n",
    "a = 8\n",
    "print(type(a))\n",
    "com1 = Computer()\n",
    "print(type(com1))"
   ]
  },
  {
   "cell_type": "code",
   "execution_count": 2,
   "id": "6b45349b",
   "metadata": {},
   "outputs": [
    {
     "name": "stderr",
     "output_type": "stream",
     "text": [
      "UsageError: Invalid config statement: '()', should be `Class.trait = value`.\n"
     ]
    }
   ],
   "source": [
    "config()"
   ]
  },
  {
   "cell_type": "code",
   "execution_count": 3,
   "id": "22ce344e",
   "metadata": {},
   "outputs": [
    {
     "ename": "TypeError",
     "evalue": "config() missing 1 required positional argument: 'self'",
     "output_type": "error",
     "traceback": [
      "\u001b[1;31m---------------------------------------------------------------------------\u001b[0m",
      "\u001b[1;31mTypeError\u001b[0m                                 Traceback (most recent call last)",
      "\u001b[1;32m~\\AppData\\Local\\Temp/ipykernel_9228/2077082932.py\u001b[0m in \u001b[0;36m<module>\u001b[1;34m\u001b[0m\n\u001b[1;32m----> 1\u001b[1;33m \u001b[0mComputer\u001b[0m\u001b[1;33m.\u001b[0m\u001b[0mconfig\u001b[0m\u001b[1;33m(\u001b[0m\u001b[1;33m)\u001b[0m\u001b[1;33m\u001b[0m\u001b[1;33m\u001b[0m\u001b[0m\n\u001b[0m",
      "\u001b[1;31mTypeError\u001b[0m: config() missing 1 required positional argument: 'self'"
     ]
    }
   ],
   "source": [
    "Computer.config()"
   ]
  },
  {
   "cell_type": "code",
   "execution_count": 4,
   "id": "f32d7d9c",
   "metadata": {},
   "outputs": [
    {
     "name": "stdout",
     "output_type": "stream",
     "text": [
      "i5 , 16gb , Tb  \n"
     ]
    }
   ],
   "source": [
    "Computer.config(com1) #now here we have to mention the objecdt name beac;uadse bsed don thediffesnt object in a we may have clss method"
   ]
  },
  {
   "cell_type": "markdown",
   "id": "922e4c16",
   "metadata": {},
   "source": [
    "#  some special method . when we say special this means that it have __ in it "
   ]
  },
  {
   "cell_type": "code",
   "execution_count": null,
   "id": "cd9082fa",
   "metadata": {},
   "outputs": [],
   "source": []
  },
  {
   "cell_type": "markdown",
   "id": "7339e8f3",
   "metadata": {},
   "source": [
    "#  here in the init method wat hsappens is thaat when you crate an instance/object of a class it will be called automatically.init is also used in creating object's variable  "
   ]
  },
  {
   "cell_type": "code",
   "execution_count": 5,
   "id": "838f26e6",
   "metadata": {},
   "outputs": [
    {
     "ename": "SyntaxError",
     "evalue": "invalid syntax (Temp/ipykernel_9228/202334785.py, line 3)",
     "output_type": "error",
     "traceback": [
      "\u001b[1;36m  File \u001b[1;32m\"C:\\Users\\HP\\AppData\\Local\\Temp/ipykernel_9228/202334785.py\"\u001b[1;36m, line \u001b[1;32m3\u001b[0m\n\u001b[1;33m    print(\"in init\")\u001b[0m\n\u001b[1;37m         ^\u001b[0m\n\u001b[1;31mSyntaxError\u001b[0m\u001b[1;31m:\u001b[0m invalid syntax\n"
     ]
    }
   ],
   "source": [
    "class computer :\n",
    "    def __init__(self, #self refers to the objects its pointing also init method will be callled automatically  \n",
    "        print(\"in init\")\n",
    "        \n",
    "    def config(self):\n",
    "        print(\"16,500gb,i5\"\n",
    "              \n",
    "              \n",
    "com1 = computer()\n",
    "com2 =computer()\n",
    "              \n",
    "computer.config(com1)\n",
    "computer.config(com2)"
   ]
  },
  {
   "cell_type": "code",
   "execution_count": 6,
   "id": "cbe920bd",
   "metadata": {},
   "outputs": [
    {
     "name": "stdout",
     "output_type": "stream",
     "text": [
      "16,500gb,i5\n"
     ]
    },
    {
     "ename": "NameError",
     "evalue": "name 'com2' is not defined",
     "output_type": "error",
     "traceback": [
      "\u001b[1;31m---------------------------------------------------------------------------\u001b[0m",
      "\u001b[1;31mNameError\u001b[0m                                 Traceback (most recent call last)",
      "\u001b[1;32m~\\AppData\\Local\\Temp/ipykernel_9228/2482023582.py\u001b[0m in \u001b[0;36m<module>\u001b[1;34m\u001b[0m\n\u001b[0;32m      9\u001b[0m \u001b[1;33m\u001b[0m\u001b[0m\n\u001b[0;32m     10\u001b[0m \u001b[0mcomputer\u001b[0m\u001b[1;33m.\u001b[0m\u001b[0mconfig\u001b[0m\u001b[1;33m(\u001b[0m\u001b[0mcom1\u001b[0m\u001b[1;33m)\u001b[0m\u001b[1;33m\u001b[0m\u001b[1;33m\u001b[0m\u001b[0m\n\u001b[1;32m---> 11\u001b[1;33m \u001b[0mcomputer\u001b[0m\u001b[1;33m.\u001b[0m\u001b[0mconfig\u001b[0m\u001b[1;33m(\u001b[0m\u001b[0mcom2\u001b[0m\u001b[1;33m)\u001b[0m\u001b[1;33m\u001b[0m\u001b[1;33m\u001b[0m\u001b[0m\n\u001b[0m",
      "\u001b[1;31mNameError\u001b[0m: name 'com2' is not defined"
     ]
    }
   ],
   "source": [
    "class computer :\n",
    "    def __init__(self): #self refers to the objects its pointing also init method will be callled automatically  \n",
    "        print(\"in init\")\n",
    "        \n",
    "    def config(self):\n",
    "        print(\"16,500gb,i5\")\n",
    "              \n",
    "\n",
    "              \n",
    "computer.config(com1)\n",
    "computer.config(com2)"
   ]
  },
  {
   "cell_type": "markdown",
   "id": "be1e8a04",
   "metadata": {},
   "source": [
    "# "
   ]
  },
  {
   "cell_type": "code",
   "execution_count": 7,
   "id": "e501b8f5",
   "metadata": {},
   "outputs": [
    {
     "name": "stdout",
     "output_type": "stream",
     "text": [
      "16,500gb,i5\n"
     ]
    },
    {
     "ename": "NameError",
     "evalue": "name 'com2' is not defined",
     "output_type": "error",
     "traceback": [
      "\u001b[1;31m---------------------------------------------------------------------------\u001b[0m",
      "\u001b[1;31mNameError\u001b[0m                                 Traceback (most recent call last)",
      "\u001b[1;32m~\\AppData\\Local\\Temp/ipykernel_9228/3060809885.py\u001b[0m in \u001b[0;36m<module>\u001b[1;34m\u001b[0m\n\u001b[0;32m     13\u001b[0m \u001b[1;33m\u001b[0m\u001b[0m\n\u001b[0;32m     14\u001b[0m \u001b[0mcomputer\u001b[0m\u001b[1;33m.\u001b[0m\u001b[0mconfig\u001b[0m\u001b[1;33m(\u001b[0m\u001b[0mcom1\u001b[0m\u001b[1;33m)\u001b[0m\u001b[1;33m\u001b[0m\u001b[1;33m\u001b[0m\u001b[0m\n\u001b[1;32m---> 15\u001b[1;33m \u001b[0mcomputer\u001b[0m\u001b[1;33m.\u001b[0m\u001b[0mconfig\u001b[0m\u001b[1;33m(\u001b[0m\u001b[0mcom2\u001b[0m\u001b[1;33m)\u001b[0m\u001b[1;33m\u001b[0m\u001b[1;33m\u001b[0m\u001b[0m\n\u001b[0m",
      "\u001b[1;31mNameError\u001b[0m: name 'com2' is not defined"
     ]
    }
   ],
   "source": [
    "class computer :\n",
    "    def __init__(self,cpu,ram): #self refers to the objects its pointing also init method will be callled automatically  \n",
    "        print(\"in init\")\n",
    "        self.cpu = cpu  #here it will intialisses the objects parameter/ attribute/variables  with the arguments given by the user \n",
    "                        #for this it uses the selfkeyword which points to the object itself folllowed by a dot(.) operator which will further assign \n",
    "            \n",
    "        self.ram = ram\n",
    "        \n",
    "    def config(self):\n",
    "        print(\"16,500gb,i5\") # now here we can use self  also lets see how\n",
    "              \n",
    "\n",
    "              \n",
    "computer.config(com1)\n",
    "computer.config(com2)"
   ]
  },
  {
   "cell_type": "code",
   "execution_count": 8,
   "id": "dcd9241b",
   "metadata": {},
   "outputs": [
    {
     "name": "stdout",
     "output_type": "stream",
     "text": [
      "in init\n",
      "in init\n",
      "config is i5 16\n",
      "config is ryzen 3 8\n"
     ]
    }
   ],
   "source": [
    "class computer :\n",
    "    def __init__(self,cpu,ram): \n",
    "        print(\"in init\")\n",
    "        self.cpu = cpu    \n",
    "        self.ram = ram\n",
    "        \n",
    "    def config(self):\n",
    "        print(\"config is\" ,self.cpu,self.ram) \n",
    "              \n",
    "\n",
    "            \n",
    "com1 = computer('i5',16)\n",
    "com2 =computer('ryzen 3',8)            \n",
    "            \n",
    "            \n",
    "              \n",
    "computer.config(com1)   # computer.config(com1(('i5',16))) is wrong as we havent declared com1 above ,  an object of the the computer class  \n",
    "computer.config(com2)"
   ]
  },
  {
   "cell_type": "markdown",
   "id": "fae28423",
   "metadata": {},
   "source": [
    "# constructor and self \n"
   ]
  },
  {
   "cell_type": "code",
   "execution_count": 15,
   "id": "57031476",
   "metadata": {},
   "outputs": [
    {
     "name": "stdout",
     "output_type": "stream",
     "text": [
      "2504168842768\n",
      "2504168843584\n"
     ]
    }
   ],
   "source": [
    "class computer:\n",
    "    pass\n",
    "\n",
    "c1 = computer() #heap memory gets all the objects \n",
    "c2  = computer() #will it be at the samee locaation or the other ??\n",
    "\n",
    "print(id(c2))\n",
    "print(id(c1)) # returns the address \n",
    "#everytime you create a new object it will take two diffrent spaces\n",
    "# who allocates size to the objects??\n",
    "# CONSTRUCOR allocates size to the objects and also calls the init method because that \n",
    "# init method initialsises the memory"
   ]
  },
  {
   "cell_type": "code",
   "execution_count": 18,
   "id": "fddc7f2a",
   "metadata": {},
   "outputs": [
    {
     "name": "stdout",
     "output_type": "stream",
     "text": [
      "vaibhav\n",
      "vaibhav\n"
     ]
    }
   ],
   "source": [
    "class computer:\n",
    "    def __init__ (self) :\n",
    "        self.name = \"vaibhav\"\n",
    "        self.age =  22\n",
    "c1 = computer() #heap memory gets all the objects \n",
    "c2  = computer() #will it be at the samee locaation or the other ??\n",
    "\n",
    "print(c2.name)\n",
    "print(c1.name)"
   ]
  },
  {
   "cell_type": "markdown",
   "id": "aa9f9c63",
   "metadata": {},
   "source": [
    "###  use of self "
   ]
  },
  {
   "cell_type": "code",
   "execution_count": 33,
   "id": "79e2e714",
   "metadata": {},
   "outputs": [
    {
     "name": "stdout",
     "output_type": "stream",
     "text": [
      "30\n"
     ]
    },
    {
     "data": {
      "text/plain": [
       "'no they are not'"
      ]
     },
     "execution_count": 33,
     "metadata": {},
     "output_type": "execute_result"
    }
   ],
   "source": [
    "class computer:\n",
    "    def __init__(self):\n",
    "        self.name = \"vaibhav\"\n",
    "        self.age = 22\n",
    "\n",
    "    def update(self):\n",
    "        self.age = 30\n",
    "\n",
    "    def compare(self, other):\n",
    "        if self.age == other.age:\n",
    "            return (\"yes they are same\")\n",
    "        else:\n",
    "            return \"no they are not\"\n",
    "\n",
    "\n",
    "c1 = computer()\n",
    "c2 = computer()\n",
    "\n",
    "c1.update(\n",
    ")  #because of self is used in the updaste method here we can think thajt automatically in the parenthesis it will passs the object throw which it is being called\n",
    "print(c1.age)\n",
    "\n",
    "c1.compare(c2)"
   ]
  },
  {
   "cell_type": "markdown",
   "id": "281a2244",
   "metadata": {},
   "source": [
    "# instance vs class variable"
   ]
  },
  {
   "cell_type": "code",
   "execution_count": 37,
   "id": "5aa566cf",
   "metadata": {},
   "outputs": [
    {
     "name": "stdout",
     "output_type": "stream",
     "text": [
      "bmw 6\n",
      "bmw 10\n",
      "4 4\n"
     ]
    }
   ],
   "source": [
    " class car:\n",
    "        wheels = 4  # class variable \n",
    "        def __init__(self):    #instance variable\n",
    "            self.mil = 10\n",
    "            self.brand = \"bmw\"\n",
    "            \n",
    "            \n",
    "c1 = car()\n",
    "c2 = car()\n",
    "\n",
    "\n",
    "c1.mil = 6\n",
    "print(c1.brand ,c1.mil)\n",
    "print(c2.brand ,c2.mil)\n",
    "print(car.wheels , c1.wheels)\n"
   ]
  },
  {
   "cell_type": "markdown",
   "id": "c057e570",
   "metadata": {},
   "source": [
    "#  three types of methods "
   ]
  },
  {
   "cell_type": "markdown",
   "id": "5ddab05c",
   "metadata": {},
   "source": [
    "### 1)instance methods \n"
   ]
  },
  {
   "cell_type": "markdown",
   "id": "beb4ae8e",
   "metadata": {},
   "source": [
    "### class methods "
   ]
  },
  {
   "cell_type": "markdown",
   "id": "e06190c6",
   "metadata": {},
   "source": [
    "### static methods"
   ]
  },
  {
   "cell_type": "code",
   "execution_count": 2,
   "id": "5e4f3bb0",
   "metadata": {
    "ExecuteTime": {
     "end_time": "2022-07-27T16:43:50.510801Z",
     "start_time": "2022-07-27T16:43:50.482860Z"
    }
   },
   "outputs": [
    {
     "name": "stdout",
     "output_type": "stream",
     "text": [
      "72.33333333333333\n",
      "vidyalay\n",
      "hi am static method\n"
     ]
    }
   ],
   "source": [
    "class student:\n",
    "    school = \"vidyalay\"  #this is a class methid to owrk wiith it we need class method\n",
    "\n",
    "    def __init__(self, marks1, marks2, marks3):\n",
    "        self.m1 = marks1\n",
    "        self.m2 = marks2\n",
    "        self.m3 = marks3\n",
    "\n",
    "    def average(self):  #instance methods are of 2 types accessors(use to fetch) and mutators(use to change)\n",
    "        return (self.m1 + self.m2 + self.m3) / 3\n",
    "\n",
    "    def get_m1(self):\n",
    "        return self.m1\n",
    "\n",
    "    def set_m1(self, value):\n",
    "        self.m1 = value\n",
    "\n",
    "    @classmethod\n",
    "    def info(cls):  #class method cls is indicates that\n",
    "        return cls.school\n",
    "\n",
    "\n",
    "#when we do not want to work with instance and class vatiables we will use staticc method\n",
    "\n",
    "    @staticmethod\n",
    "    def staicmethod():\n",
    "        print(\"hi am static method\")\n",
    "\n",
    "s1 = student(63, 55, 99)\n",
    "s2 = student(55, 44, 82)\n",
    "s3 = student(63, 35, 43)\n",
    "\n",
    "print(s1.average())\n",
    "print(student.info())\n",
    "\n",
    "student.staicmethod()"
   ]
  },
  {
   "cell_type": "markdown",
   "id": "14c34917",
   "metadata": {},
   "source": [
    "#  inner class"
   ]
  },
  {
   "cell_type": "code",
   "execution_count": 1,
   "id": "483f4aee",
   "metadata": {
    "ExecuteTime": {
     "end_time": "2022-07-27T16:38:20.628201Z",
     "start_time": "2022-07-27T16:38:20.601256Z"
    }
   },
   "outputs": [
    {
     "name": "stdout",
     "output_type": "stream",
     "text": [
      "vaibhav 13\n",
      "rashi 55\n",
      "i5 16 hp\n",
      "i5 16 hp\n",
      "<__main__.student.laptop object at 0x0000027C84AF8A60>\n"
     ]
    }
   ],
   "source": [
    "class student:\n",
    "    def __init__(self, name, roll):\n",
    "        self.name = name\n",
    "        self.roll = roll\n",
    "        self.lap = self.laptop()\n",
    "          #as in python an object can hold multiple sub objects so here inside an objects variable\n",
    "        # we are  so we are here attaching/creating the object of another claass.self can also be seen as the gateeway to the attibutses and vlaues\n",
    "        # also here we used self on the rhs because only the student objects contain the method or self here is showing an object of class student so it is same as using the dot opereator\n",
    "    def show(self):\n",
    "        print(self.name, self.roll)\n",
    "\n",
    "    class laptop:  #now to create the object of this class we can either first call an\n",
    "        #object of the outer class followed by the dot operator or we can\n",
    "        #initialise the inner class object inside the constructor/initialization method  of the outer class\n",
    "\n",
    "        def __init__(self):\n",
    "            self.brand = \"hp\"\n",
    "            self.cpu = 'i5'\n",
    "            self.ram = 16\n",
    "\n",
    "        def show(self):\n",
    "            print(self.cpu, self.ram, self.brand)\n",
    "\n",
    "\n",
    "s1 = student('vaibhav', 13)\n",
    "s2 = student('rashi', 55)\n",
    "\n",
    "s1.show()\n",
    "s2.show()\n",
    "s1.lap.show()\n",
    "s2.lap.show()\n",
    "print(s1.lap)"
   ]
  },
  {
   "cell_type": "markdown",
   "id": "397cb437",
   "metadata": {},
   "source": [
    "# inheritance "
   ]
  },
  {
   "cell_type": "markdown",
   "id": "b4f1afd8",
   "metadata": {},
   "source": [
    "### single level ,multi level ,multiple"
   ]
  },
  {
   "cell_type": "code",
   "execution_count": 14,
   "id": "89e26555",
   "metadata": {
    "ExecuteTime": {
     "end_time": "2022-07-27T17:05:51.448397Z",
     "start_time": "2022-07-27T17:05:51.419115Z"
    }
   },
   "outputs": [
    {
     "name": "stdout",
     "output_type": "stream",
     "text": [
      "method 1 is executing...\n",
      "\n",
      "method 3 is executing....\n",
      "\n",
      "method 1 is executing...\n",
      "method 3 is executing....\n",
      "method 6 is ecxecuting....\n",
      "\n",
      "method 3 is executing....\n",
      "method 7 is executing....\n",
      "\n",
      "method 10 is ecxecuting....\n",
      "method 3 is executing....\n",
      "method 7 is executing....\n"
     ]
    }
   ],
   "source": [
    "class a :\n",
    "    def method1(self):\n",
    "        print('method 1 is executing...')\n",
    "        \n",
    "    def method2(self):\n",
    "        print(\"method 2 is ecxecuting...\")\n",
    "\n",
    "\n",
    "\n",
    "class b:\n",
    "    def method3(self):\n",
    "        print('method 3 is executing....')\n",
    "        \n",
    "    def method4(self):\n",
    "        print(\"method 4 is ecxecuting....\")\n",
    "  \n",
    "\n",
    "class c(a,b): \n",
    "\n",
    "    def method5(self):\n",
    "        print('method 5 is executing....')\n",
    "        \n",
    "    def method6(self):\n",
    "        print(\"method 6 is ecxecuting....\")\n",
    "  \n",
    "\n",
    "class d(b):\n",
    "    def method7(self):\n",
    "        print('method 7 is executing....')\n",
    "        \n",
    "    def method8(self):\n",
    "        print(\"method 8 is ecxecuting.....\")\n",
    "        \n",
    "        \n",
    "        \n",
    "class e(d):\n",
    "    def method9(self):\n",
    "        print('method 9 is executing....')\n",
    "        \n",
    "    def method10(self):\n",
    "        print(\"method 10 is ecxecuting....\")\n",
    "  \n",
    "        \n",
    "\n",
    "a1 = a()\n",
    "a1.method1()\n",
    "print(\"\")\n",
    "\n",
    "b1 = b()\n",
    "b1.method3()\n",
    "print(\"\")\n",
    "\n",
    "c1 = c()\n",
    "c1.method1()\n",
    "c1.method3()\n",
    "c1.method6()\n",
    "print(\"\")\n",
    "d1 = d()\n",
    "d1.method3()\n",
    "d1.method7()\n",
    "print(\"\")\n",
    "\n",
    "\n",
    "e1 = e()\n",
    "e1.method10()\n",
    "e1.method3()\n",
    "e1.method7()"
   ]
  },
  {
   "cell_type": "code",
   "execution_count": null,
   "id": "b92eeb6b",
   "metadata": {},
   "outputs": [],
   "source": [
    " # a sub class can acess all athe features of the subclass but not the oposite is  same"
   ]
  },
  {
   "cell_type": "markdown",
   "id": "db84a7d9",
   "metadata": {},
   "source": [
    "### constructor (init) in inheritence  "
   ]
  },
  {
   "cell_type": "code",
   "execution_count": null,
   "id": "3e3e3f45",
   "metadata": {},
   "outputs": [],
   "source": [
    "class a :\n",
    "    def __init__(self):\n",
    "        print(\"in a init\")\n",
    "        \n",
    "    def method1(self):\n",
    "        print('method 1 is executing...')\n",
    "        \n",
    "    def method2(self):\n",
    "        print(\"method 2 is ecxecuting...\")\n",
    "\n",
    "\n",
    "\n",
    "class b(a):\n",
    "    def method3(self):\n",
    "        print('method 3 is executing....')\n",
    "        \n",
    "    def method4(self):\n",
    "        print(\"method 4 is ecxecuting....\")\n",
    "        \n",
    "b1 = b()  #as we created an objeect of the class b which inherits sall the methods of the a but first it will first check for the init of the b then it jwill glo to find the init of a \n",
    "b."
   ]
  },
  {
   "cell_type": "code",
   "execution_count": null,
   "id": "40d9f965",
   "metadata": {},
   "outputs": [],
   "source": [
    "# now that our other class have the init of iits own lets have a  lookn of how thigs turn arround"
   ]
  },
  {
   "cell_type": "code",
   "execution_count": 4,
   "id": "6022732e",
   "metadata": {
    "ExecuteTime": {
     "end_time": "2022-07-27T20:01:36.350935Z",
     "start_time": "2022-07-27T20:01:36.332873Z"
    }
   },
   "outputs": [
    {
     "name": "stdout",
     "output_type": "stream",
     "text": [
      "in b init\n"
     ]
    }
   ],
   "source": [
    "class a :\n",
    "    def __init__(self):\n",
    "        print(\"in a init\")\n",
    "        \n",
    "    def method1(self):\n",
    "        print('method 1 is executing...')\n",
    "        \n",
    "    def method2(self):\n",
    "        print(\"method 2 is ecxecuting...\")\n",
    "\n",
    "\n",
    "\n",
    "class b(a):\n",
    "    def __init__(self):\n",
    "        print(\"in b init\")\n",
    "    def method3(self):\n",
    "        print('method 3 is executing....')\n",
    "        \n",
    "    def method4(self):\n",
    "        print(\"method 4 is ecxecuting....\")\n",
    "              \n",
    "              \n",
    "              \n",
    "b1 = b() "
   ]
  },
  {
   "cell_type": "code",
   "execution_count": null,
   "id": "d862e735",
   "metadata": {},
   "outputs": [],
   "source": [
    " # now to call the init of the b and a both we will see how  we cann do it \n",
    "    "
   ]
  },
  {
   "cell_type": "code",
   "execution_count": 5,
   "id": "800dfde9",
   "metadata": {
    "ExecuteTime": {
     "end_time": "2022-07-27T20:05:32.749603Z",
     "start_time": "2022-07-27T20:05:32.736753Z"
    }
   },
   "outputs": [
    {
     "name": "stdout",
     "output_type": "stream",
     "text": [
      "in a init\n",
      "in b init\n"
     ]
    }
   ],
   "source": [
    "class a :\n",
    "    def __init__(self):\n",
    "        print(\"in a init\")\n",
    "        \n",
    "    def method1(self):\n",
    "        print('method 1 is executing...')\n",
    "        \n",
    "    def method2(self):\n",
    "        print(\"method 2 is ecxecuting...\")\n",
    "\n",
    "\n",
    "\n",
    "class b(a):\n",
    "    def __init__(self):\n",
    "        super().__init__()  #checks forr the same method inin the super class\n",
    "        print(\"in b init\")\n",
    "    def method3(self):\n",
    "        print('method 3 is executing....')\n",
    "    def method4(self):\n",
    "        print(\"method 4 is ecxecuting....\")\n",
    "              \n",
    "              \n",
    "              \n",
    "b1 = b() "
   ]
  },
  {
   "cell_type": "code",
   "execution_count": 6,
   "id": "6d0b1321",
   "metadata": {
    "ExecuteTime": {
     "end_time": "2022-07-27T20:09:35.078038Z",
     "start_time": "2022-07-27T20:09:35.063055Z"
    }
   },
   "outputs": [
    {
     "name": "stdout",
     "output_type": "stream",
     "text": [
      "in a init\n"
     ]
    }
   ],
   "source": [
    "class a :\n",
    "    def __init__(self):\n",
    "        print(\"in a init\")\n",
    "        \n",
    "    def method1(self):\n",
    "        print('method 1 is executing...')\n",
    "        \n",
    "    def method2(self):\n",
    "        print(\"method 2 is ecxecuting...\")\n",
    "\n",
    "\n",
    "\n",
    "class b():\n",
    "    def __init__(self): #checks forr the same method inin the super class\n",
    "        print(\"in b init\")\n",
    "    def method3(self):\n",
    "        print('method 3 is executing....')\n",
    "    def method4(self):\n",
    "        print(\"method 4 is ecxecuting....\")\n",
    "class c(a,b): \n",
    "\n",
    "    def method5(self):\n",
    "        print('method 5 is executing....')\n",
    "        \n",
    "    def method6(self):\n",
    "        print(\"method 6 is ecxecuting....\")\n",
    "        \n",
    "        \n",
    "        \n",
    "c = c() #now what will happen will it call the init of a or b in this case init of a will be called as we use\n",
    "# MRO(method resolution norder)or means we will firsst read the left variable and then we will go towards the right  "
   ]
  },
  {
   "cell_type": "markdown",
   "id": "957036b5",
   "metadata": {},
   "source": [
    "# polymorphism"
   ]
  },
  {
   "cell_type": "markdown",
   "id": "a1b6b06d",
   "metadata": {},
   "source": [
    "### duck typing ,operator overloading, method overloading , method overriding , "
   ]
  },
  {
   "cell_type": "code",
   "execution_count": null,
   "id": "ce8ca6a9",
   "metadata": {},
   "outputs": [],
   "source": [
    "#polymorphism stands for many forms an object can have many forms depending upon the overiding aand overloading done"
   ]
  },
  {
   "cell_type": "code",
   "execution_count": 8,
   "id": "fc65ff7b",
   "metadata": {
    "ExecuteTime": {
     "end_time": "2022-07-28T09:51:53.253718Z",
     "start_time": "2022-07-28T09:51:53.243746Z"
    }
   },
   "outputs": [
    {
     "name": "stdout",
     "output_type": "stream",
     "text": [
      "10\n",
      "55\n"
     ]
    }
   ],
   "source": [
    "# \"+\" methods in 2 diffrent cases\n",
    "print(5+5) #givess 10 \n",
    "print(\"5\" + \"5\") # gives 55 "
   ]
  },
  {
   "cell_type": "code",
   "execution_count": 7,
   "id": "d411e44e",
   "metadata": {
    "ExecuteTime": {
     "end_time": "2022-07-28T07:42:39.123543Z",
     "start_time": "2022-07-28T07:42:39.110450Z"
    }
   },
   "outputs": [
    {
     "name": "stdout",
     "output_type": "stream",
     "text": [
      "spell checking\n",
      "convention check\n",
      "compiling....\n",
      "running.....\n"
     ]
    }
   ],
   "source": [
    "class pycharm():\n",
    "    def execute(self):\n",
    "        print(\"compiling....\")\n",
    "        print(\"running.....\")\n",
    "        \n",
    "class myeditor():\n",
    "    def execute(self):\n",
    "        print(\"spell checking\")\n",
    "        print(\"convention check\")\n",
    "        print(\"compiling....\")\n",
    "        print(\"running.....\")\n",
    "        \n",
    "\n",
    "class laptop():\n",
    "    def code(self, ide):\n",
    "        ide.execute()\n",
    "\n",
    "\n",
    "ide = myeditor()\n",
    "l1 = laptop()\n",
    "l1.code(ide)"
   ]
  },
  {
   "cell_type": "code",
   "execution_count": null,
   "id": "4a999950",
   "metadata": {},
   "outputs": [],
   "source": [
    " #operator overloading "
   ]
  },
  {
   "cell_type": "code",
   "execution_count": 26,
   "id": "9fad0232",
   "metadata": {
    "ExecuteTime": {
     "end_time": "2022-07-28T11:46:55.987078Z",
     "start_time": "2022-07-28T11:46:55.974048Z"
    }
   },
   "outputs": [],
   "source": [
    "class student():\n",
    "    def __init__(self,marks1,marks2):\n",
    "        self.m1 = marks1 \n",
    "        self.m2 = marks2 \n",
    "        \n",
    "        \n",
    "        \n",
    "s1 = student(55,88)\n",
    "s2 = student(66,63)"
   ]
  },
  {
   "cell_type": "code",
   "execution_count": null,
   "id": "e6e327f3",
   "metadata": {},
   "outputs": [],
   "source": []
  },
  {
   "cell_type": "code",
   "execution_count": null,
   "id": "aa13333a",
   "metadata": {},
   "outputs": [],
   "source": []
  },
  {
   "cell_type": "code",
   "execution_count": 12,
   "id": "7e0240b0",
   "metadata": {
    "ExecuteTime": {
     "end_time": "2022-07-28T11:26:53.500878Z",
     "start_time": "2022-07-28T11:26:50.254041Z"
    }
   },
   "outputs": [
    {
     "name": "stdout",
     "output_type": "stream",
     "text": [
      "enter your value22\n",
      "<class 'str'>\n"
     ]
    }
   ],
   "source": [
    "#type conversion in pyhon\n",
    "x = input(\"enter your value\")\n",
    "print(type(x))"
   ]
  },
  {
   "cell_type": "code",
   "execution_count": null,
   "id": "532a92ab",
   "metadata": {},
   "outputs": [],
   "source": [
    " #type casting method 1 "
   ]
  },
  {
   "cell_type": "code",
   "execution_count": 25,
   "id": "fc06ff41",
   "metadata": {
    "ExecuteTime": {
     "end_time": "2022-07-28T11:33:52.794377Z",
     "start_time": "2022-07-28T11:33:50.585504Z"
    },
    "run_control": {
     "marked": true
    }
   },
   "outputs": [
    {
     "name": "stdout",
     "output_type": "stream",
     "text": [
      "enter your no55\n",
      "55\n"
     ]
    },
    {
     "data": {
      "text/plain": [
       "int"
      ]
     },
     "execution_count": 25,
     "metadata": {},
     "output_type": "execute_result"
    }
   ],
   "source": [
    "x = int(input(\"enter your no\"))\n",
    "print(x)\n",
    "type(x)"
   ]
  },
  {
   "cell_type": "code",
   "execution_count": null,
   "id": "e16df1ce",
   "metadata": {},
   "outputs": [],
   "source": [
    "#typecasting method 2 "
   ]
  },
  {
   "cell_type": "code",
   "execution_count": null,
   "id": "335f0dee",
   "metadata": {},
   "outputs": [],
   "source": [
    "x = input(\"enter your value\")\n",
    "print(type(x))"
   ]
  },
  {
   "cell_type": "code",
   "execution_count": 8,
   "id": "8f573c6a",
   "metadata": {
    "ExecuteTime": {
     "end_time": "2022-07-28T13:25:10.862638Z",
     "start_time": "2022-07-28T13:25:10.840697Z"
    }
   },
   "outputs": [
    {
     "ename": "TypeError",
     "evalue": "unsupported operand type(s) for +: 'student' and 'student'",
     "output_type": "error",
     "traceback": [
      "\u001b[1;31m---------------------------------------------------------------------------\u001b[0m",
      "\u001b[1;31mTypeError\u001b[0m                                 Traceback (most recent call last)",
      "\u001b[1;32m~\\AppData\\Local\\Temp/ipykernel_15728/1580138402.py\u001b[0m in \u001b[0;36m<module>\u001b[1;34m\u001b[0m\n\u001b[0;32m      6\u001b[0m \u001b[0ms1\u001b[0m \u001b[1;33m=\u001b[0m \u001b[0mstudent\u001b[0m\u001b[1;33m(\u001b[0m\u001b[1;36m64\u001b[0m\u001b[1;33m,\u001b[0m\u001b[1;36m23\u001b[0m\u001b[1;33m)\u001b[0m\u001b[1;33m\u001b[0m\u001b[1;33m\u001b[0m\u001b[0m\n\u001b[0;32m      7\u001b[0m \u001b[0ms2\u001b[0m \u001b[1;33m=\u001b[0m \u001b[0mstudent\u001b[0m\u001b[1;33m(\u001b[0m\u001b[1;36m60\u001b[0m\u001b[1;33m,\u001b[0m\u001b[1;36m65\u001b[0m\u001b[1;33m)\u001b[0m\u001b[1;33m\u001b[0m\u001b[1;33m\u001b[0m\u001b[0m\n\u001b[1;32m----> 8\u001b[1;33m \u001b[0ms3\u001b[0m \u001b[1;33m=\u001b[0m \u001b[0ms1\u001b[0m \u001b[1;33m+\u001b[0m \u001b[0ms2\u001b[0m\u001b[1;33m\u001b[0m\u001b[1;33m\u001b[0m\u001b[0m\n\u001b[0m\u001b[0;32m      9\u001b[0m \u001b[1;33m\u001b[0m\u001b[0m\n",
      "\u001b[1;31mTypeError\u001b[0m: unsupported operand type(s) for +: 'student' and 'student'"
     ]
    }
   ],
   "source": [
    "class student:\n",
    "    def __init__(self,m1 ,m2):\n",
    "        self.m1 = m1 \n",
    "        self.m2 = m2\n",
    "        \n",
    "s1 = student(64,23)\n",
    "s2 = student(60,65)\n",
    "s3 = s1 + s2 \n"
   ]
  },
  {
   "cell_type": "code",
   "execution_count": null,
   "id": "f06f2dc5",
   "metadata": {},
   "outputs": [],
   "source": [
    " # here in the above code the errior occured because we have uded the + operand dbedtween the objects of a class wheer \"+\" is not defined \n",
    "    # so in order to do to so we will simply add the the method here "
   ]
  },
  {
   "cell_type": "code",
   "execution_count": 27,
   "id": "266037ea",
   "metadata": {
    "ExecuteTime": {
     "end_time": "2022-07-28T13:45:27.841844Z",
     "start_time": "2022-07-28T13:45:27.818909Z"
    }
   },
   "outputs": [
    {
     "name": "stdout",
     "output_type": "stream",
     "text": [
      "(64, 23)\n"
     ]
    }
   ],
   "source": [
    "class student:\n",
    "    def __init__(self,m1 ,m2):\n",
    "        self.m1 = m1 \n",
    "        self.m2 = m2\n",
    "        \n",
    "        \n",
    "        \n",
    "    def __add__(self,other):  #here self and othere are tuples also __add__ , __sub__ , __mul__ are called magic methods \n",
    "        m1 =  self.m1 + other.m1 \n",
    "        m2 = self.m2 + other.m1\n",
    "        return m1,m2\n",
    "        \n",
    "    \n",
    "s1 = student(64,23)  # these are tuples they cant be changd \n",
    "s2 = student(60,5)\n",
    "s4 = student(0,0)\n",
    "s3 = s1+s4\n",
    "print(s3)"
   ]
  },
  {
   "cell_type": "code",
   "execution_count": null,
   "id": "05e26eca",
   "metadata": {},
   "outputs": [],
   "source": [
    "# method overloading and method overriding "
   ]
  },
  {
   "cell_type": "code",
   "execution_count": null,
   "id": "3486b282",
   "metadata": {},
   "outputs": [],
   "source": [
    " "
   ]
  },
  {
   "cell_type": "code",
   "execution_count": null,
   "id": "709b4d95",
   "metadata": {},
   "outputs": [],
   "source": []
  },
  {
   "cell_type": "code",
   "execution_count": null,
   "id": "7909d75e",
   "metadata": {},
   "outputs": [],
   "source": []
  },
  {
   "cell_type": "code",
   "execution_count": null,
   "id": "bc7b613d",
   "metadata": {},
   "outputs": [],
   "source": []
  }
 ],
 "metadata": {
  "kernelspec": {
   "display_name": "Python 3 (ipykernel)",
   "language": "python",
   "name": "python3"
  },
  "language_info": {
   "codemirror_mode": {
    "name": "ipython",
    "version": 3
   },
   "file_extension": ".py",
   "mimetype": "text/x-python",
   "name": "python",
   "nbconvert_exporter": "python",
   "pygments_lexer": "ipython3",
   "version": "3.9.7"
  },
  "toc": {
   "base_numbering": 1,
   "nav_menu": {},
   "number_sections": true,
   "sideBar": true,
   "skip_h1_title": false,
   "title_cell": "Table of Contents",
   "title_sidebar": "Contents",
   "toc_cell": false,
   "toc_position": {
    "height": "calc(100% - 180px)",
    "left": "10px",
    "top": "150px",
    "width": "154.075px"
   },
   "toc_section_display": true,
   "toc_window_display": true
  }
 },
 "nbformat": 4,
 "nbformat_minor": 5
}
