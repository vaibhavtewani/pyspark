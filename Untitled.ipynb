{
 "cells": [
  {
   "cell_type": "code",
   "execution_count": 38,
   "id": "51ac7f24",
   "metadata": {},
   "outputs": [
    {
     "data": {
      "text/plain": [
       "array([[ 7, 13, 14, 10, 11]])"
      ]
     },
     "execution_count": 38,
     "metadata": {},
     "output_type": "execute_result"
    }
   ],
   "source": [
    "import numpy as np\n",
    "np.random.seed(1)\n",
    "arr = np.random.randint(2,15,(1,5)) #returns random integeres between the first 2 values or it can create an array of those values\n",
    "arr"
   ]
  },
  {
   "cell_type": "code",
   "execution_count": 48,
   "id": "921cff3f",
   "metadata": {},
   "outputs": [
    {
     "name": "stdout",
     "output_type": "stream",
     "text": [
      "[5 8]\n"
     ]
    }
   ],
   "source": [
    "print(np.abs([-5,-8 ]))"
   ]
  },
  {
   "cell_type": "code",
   "execution_count": 88,
   "id": "21d3bc1f",
   "metadata": {},
   "outputs": [
    {
     "data": {
      "text/plain": [
       "array([ 5,  6,  7,  8,  9, 10, 11, 12, 13, 14, 15])"
      ]
     },
     "execution_count": 88,
     "metadata": {},
     "output_type": "execute_result"
    }
   ],
   "source": [
    "np.add(np.arange(11),5)"
   ]
  },
  {
   "cell_type": "code",
   "execution_count": 94,
   "id": "2192ec8d",
   "metadata": {
    "scrolled": true
   },
   "outputs": [
    {
     "name": "stdout",
     "output_type": "stream",
     "text": [
      "[[0.36784324 0.81299497 0.28976    0.7173916  0.61294809]]\n",
      "1\n",
      "(5, 5)\n",
      "2\n"
     ]
    }
   ],
   "source": [
    "np.alen(np.arange(11)) # ararylength\n",
    "arr1 = np.random.rand(1,5) \n",
    "print(arr1)\n",
    "print(np.alen(arr1))\n",
    "print(arr.shape)\n",
    "print(arr.ndim)"
   ]
  },
  {
   "cell_type": "code",
   "execution_count": 134,
   "id": "da0cc23b",
   "metadata": {},
   "outputs": [
    {
     "name": "stdout",
     "output_type": "stream",
     "text": [
      "[[False  True]\n",
      " [False False]]\n"
     ]
    },
    {
     "data": {
      "text/plain": [
       "True"
      ]
     },
     "execution_count": 134,
     "metadata": {},
     "output_type": "execute_result"
    }
   ],
   "source": [
    "arr2 = np.random.choice([True,False],(1))\n",
    "print(np.random.choice([True,False],(2,2)))\n",
    "np.all(arr2,0) #Test whether all array elements along a given axis evaluate to True."
   ]
  },
  {
   "cell_type": "code",
   "execution_count": 137,
   "id": "e709d72e",
   "metadata": {},
   "outputs": [
    {
     "name": "stdout",
     "output_type": "stream",
     "text": [
      "[19 37 30 40 29]\n"
     ]
    },
    {
     "data": {
      "text/plain": [
       "40"
      ]
     },
     "execution_count": 137,
     "metadata": {},
     "output_type": "execute_result"
    }
   ],
   "source": [
    "arr3 = np.random.randint(1,100,5)\n",
    "print(arr3)\n",
    "np.amax(arr3)"
   ]
  },
  {
   "cell_type": "code",
   "execution_count": 142,
   "id": "4c373c9c",
   "metadata": {},
   "outputs": [
    {
     "data": {
      "text/plain": [
       "array([1, 0, 4, 5, 2, 3], dtype=int64)"
      ]
     },
     "execution_count": 142,
     "metadata": {},
     "output_type": "execute_result"
    }
   ],
   "source": [
    "np.argsort(np.random.randint(1,100,6)) #Returns the indices that would sort an array."
   ]
  },
  {
   "cell_type": "code",
   "execution_count": 152,
   "id": "bcd495dd",
   "metadata": {},
   "outputs": [
    {
     "data": {
      "text/plain": [
       "'[37.20876794  8.28554572 50.57262202 69.44068527 45.6977907 ]'"
      ]
     },
     "execution_count": 152,
     "metadata": {},
     "output_type": "execute_result"
    }
   ],
   "source": [
    "np.array2string(100*np.random.rand(5))"
   ]
  },
  {
   "cell_type": "code",
   "execution_count": 9,
   "id": "f4d8b6ac",
   "metadata": {},
   "outputs": [
    {
     "data": {
      "text/plain": [
       "12.206072645505174"
      ]
     },
     "execution_count": 9,
     "metadata": {},
     "output_type": "execute_result"
    }
   ],
   "source": [
    "np.arccosh(100000) #arc means inverswee of a function this function returns the Inverse hyperbolic cosine, element-wise. "
   ]
  },
  {
   "cell_type": "code",
   "execution_count": 23,
   "id": "2ec615b0",
   "metadata": {},
   "outputs": [
    {
     "data": {
      "text/plain": [
       "array([ 0., 90., 45.])"
      ]
     },
     "execution_count": 23,
     "metadata": {},
     "output_type": "execute_result"
    }
   ],
   "source": [
    "np.angle([1.0, 1.0j, 1+1j] , deg = True)  # gves the angle between the the imaginary eq;uation  and the real ni=umer line you can think itx\n",
    "#is as imagianry numberliine situating on the y axis so basiclaly so our vector points somrewhere in the plsane \n",
    "#of the spaneed area  betwewn the imaginar;y n line and the real no lline and its angle from the real no line is what\n",
    "#we call as np.angle here j is the complex part "
   ]
  },
  {
   "cell_type": "code",
   "execution_count": 24,
   "id": "0c1375db",
   "metadata": {},
   "outputs": [
    {
     "data": {
      "text/plain": [
       "5.0"
      ]
     },
     "execution_count": 24,
     "metadata": {},
     "output_type": "execute_result"
    }
   ],
   "source": [
    "np.real(5 + 9j) #returns the real part \n"
   ]
  },
  {
   "cell_type": "code",
   "execution_count": 25,
   "id": "cebab384",
   "metadata": {},
   "outputs": [
    {
     "data": {
      "text/plain": [
       "9.0"
      ]
     },
     "execution_count": 25,
     "metadata": {},
     "output_type": "execute_result"
    }
   ],
   "source": [
    "np.imag(5+9j) #Return the imaginary part of the complex argument.\n"
   ]
  },
  {
   "cell_type": "code",
   "execution_count": 26,
   "id": "cde1954c",
   "metadata": {},
   "outputs": [
    {
     "data": {
      "text/plain": [
       "array([21.51041215, -5.        , -2.51041215])"
      ]
     },
     "execution_count": 26,
     "metadata": {},
     "output_type": "execute_result"
    }
   ],
   "source": [
    "np.linalg.eigvals(np.random.randint(1,16,(3,3)))"
   ]
  },
  {
   "cell_type": "code",
   "execution_count": 43,
   "id": "6b9f9c1f",
   "metadata": {},
   "outputs": [
    {
     "data": {
      "text/plain": [
       "array([-5.58625233, 20.58625233])"
      ]
     },
     "execution_count": 43,
     "metadata": {},
     "output_type": "execute_result"
    }
   ],
   "source": [
    "np.random.seed(1)\n",
    "np.linalg.eigvalsh(np.random.randint(1,16,(2,2))) #eigen values takses in the square array (last 2 values in the closesd)\n",
    "                  "
   ]
  },
  {
   "cell_type": "code",
   "execution_count": 62,
   "id": "45ff7ecd",
   "metadata": {},
   "outputs": [
    {
     "data": {
      "text/plain": [
       "array([0., 0., 0., 0., 0., 0.])"
      ]
     },
     "execution_count": 62,
     "metadata": {},
     "output_type": "execute_result"
    }
   ],
   "source": [
    "np.around(np.random.rand(6))"
   ]
  },
  {
   "cell_type": "code",
   "execution_count": 79,
   "id": "4ec88a8b",
   "metadata": {},
   "outputs": [
    {
     "ename": "ValueError",
     "evalue": "Integers to negative integer powers are not allowed.",
     "output_type": "error",
     "traceback": [
      "\u001b[1;31m---------------------------------------------------------------------------\u001b[0m",
      "\u001b[1;31mValueError\u001b[0m                                Traceback (most recent call last)",
      "\u001b[1;32m~\\AppData\\Local\\Temp/ipykernel_2268/2210440628.py\u001b[0m in \u001b[0;36m<module>\u001b[1;34m\u001b[0m\n\u001b[0;32m      1\u001b[0m \u001b[0mx\u001b[0m \u001b[1;33m=\u001b[0m \u001b[0mnp\u001b[0m\u001b[1;33m.\u001b[0m\u001b[0marange\u001b[0m\u001b[1;33m(\u001b[0m\u001b[1;36m4\u001b[0m\u001b[1;33m)\u001b[0m\u001b[1;33m.\u001b[0m\u001b[0mreshape\u001b[0m\u001b[1;33m(\u001b[0m\u001b[1;36m2\u001b[0m\u001b[1;33m,\u001b[0m\u001b[1;36m2\u001b[0m\u001b[1;33m)\u001b[0m\u001b[1;33m\u001b[0m\u001b[1;33m\u001b[0m\u001b[0m\n\u001b[1;32m----> 2\u001b[1;33m \u001b[0mx\u001b[0m\u001b[1;33m**\u001b[0m\u001b[1;33m-\u001b[0m\u001b[1;36m3\u001b[0m\u001b[1;33m\u001b[0m\u001b[1;33m\u001b[0m\u001b[0m\n\u001b[0m",
      "\u001b[1;31mValueError\u001b[0m: Integers to negative integer powers are not allowed."
     ]
    }
   ],
   "source": [
    "x = np.arange(4).reshape(2,2)\n",
    "x"
   ]
  },
  {
   "cell_type": "code",
   "execution_count": 81,
   "id": "ec27bbf3",
   "metadata": {},
   "outputs": [
    {
     "data": {
      "text/plain": [
       "array([[-1.5,  0.5],\n",
       "       [ 1. ,  0. ]])"
      ]
     },
     "execution_count": 81,
     "metadata": {},
     "output_type": "execute_result"
    }
   ],
   "source": [
    "np.linalg.matrix_power(x,-1)"
   ]
  },
  {
   "cell_type": "code",
   "execution_count": 205,
   "id": "94d7f411",
   "metadata": {},
   "outputs": [
    {
     "name": "stdout",
     "output_type": "stream",
     "text": [
      "[[13  6  1  4]\n",
      " [12  4  8 10]\n",
      " [ 4  6  3  5]\n",
      " [ 8  7  9  9]]\n",
      "\n",
      "[[13 12  4  8]\n",
      " [ 6  4  6  7]\n",
      " [ 1  8  3  9]\n",
      " [ 4 10  5  9]]\n",
      "\n",
      "\n"
     ]
    },
    {
     "ename": "TypeError",
     "evalue": "_swapaxes_dispatcher() missing 2 required positional arguments: 'axis1' and 'axis2'",
     "output_type": "error",
     "traceback": [
      "\u001b[1;31m---------------------------------------------------------------------------\u001b[0m",
      "\u001b[1;31mTypeError\u001b[0m                                 Traceback (most recent call last)",
      "\u001b[1;32m~\\AppData\\Local\\Temp/ipykernel_2268/2047956356.py\u001b[0m in \u001b[0;36m<module>\u001b[1;34m\u001b[0m\n\u001b[0;32m     10\u001b[0m \u001b[0mprint\u001b[0m\u001b[1;33m(\u001b[0m\u001b[1;34m\"\"\u001b[0m\u001b[1;33m)\u001b[0m\u001b[1;33m\u001b[0m\u001b[1;33m\u001b[0m\u001b[0m\n\u001b[0;32m     11\u001b[0m \u001b[0mprint\u001b[0m\u001b[1;33m(\u001b[0m\u001b[1;34m\"\"\u001b[0m\u001b[1;33m)\u001b[0m\u001b[1;33m\u001b[0m\u001b[1;33m\u001b[0m\u001b[0m\n\u001b[1;32m---> 12\u001b[1;33m \u001b[0mprint\u001b[0m\u001b[1;33m(\u001b[0m\u001b[1;33m(\u001b[0m\u001b[0mnp\u001b[0m\u001b[1;33m.\u001b[0m\u001b[0mswapaxes\u001b[0m\u001b[1;33m(\u001b[0m\u001b[0my\u001b[0m\u001b[1;33m.\u001b[0m\u001b[0mflatten\u001b[0m\u001b[1;33m(\u001b[0m\u001b[1;33m)\u001b[0m\u001b[1;33m)\u001b[0m\u001b[1;33m.\u001b[0m\u001b[0mreshape\u001b[0m\u001b[1;33m(\u001b[0m\u001b[1;36m4\u001b[0m\u001b[1;33m,\u001b[0m\u001b[1;36m4\u001b[0m\u001b[1;33m)\u001b[0m\u001b[1;33m)\u001b[0m\u001b[1;33m)\u001b[0m\u001b[1;33m\u001b[0m\u001b[1;33m\u001b[0m\u001b[0m\n\u001b[0m",
      "\u001b[1;32m<__array_function__ internals>\u001b[0m in \u001b[0;36mswapaxes\u001b[1;34m(*args, **kwargs)\u001b[0m\n",
      "\u001b[1;31mTypeError\u001b[0m: _swapaxes_dispatcher() missing 2 required positional arguments: 'axis1' and 'axis2'"
     ]
    }
   ],
   "source": [
    "# Write a NumPy program to swap rows and columns of a given array in reverse order\n",
    "# for i in range(np.alen(x)) :  \n",
    "   # y.append(x[-1-i]) \n",
    "np.random.seed(0)\n",
    "x= (np.random.randint(1,16,(4,4)))\n",
    "print(x)\n",
    "print(\"\")\n",
    "y = x.T\n",
    "print(y)\n",
    "print(\"\")\n",
    "print(\"\")\n",
    "print((np.swapaxes(y.flatten()).reshape(4,4)),)"
   ]
  },
  {
   "cell_type": "code",
   "execution_count": 258,
   "id": "bdbf2f64",
   "metadata": {},
   "outputs": [
    {
     "name": "stdout",
     "output_type": "stream",
     "text": [
      "Original array:\n",
      "[[[ 1  2  3  4]\n",
      "  [ 0  1  3  4]\n",
      "  [90 91 93 94]\n",
      "  [ 5  0  3  2]]]\n",
      "\n",
      "Swap rows and columns of the said array in reverse order:\n",
      "[[[ 5  0  3  2]\n",
      "  [90 91 93 94]\n",
      "  [ 0  1  3  4]\n",
      "  [ 1  2  3  4]]]\n",
      "[[1 2 3 4]]\n"
     ]
    }
   ],
   "source": [
    "import numpy as np\n",
    "nums = np.array([[[1, 2, 3, 4],\n",
    "               [0, 1, 3, 4],\n",
    "               [90, 91, 93, 94],\n",
    "               [5, 0, 3, 2]]])\n",
    "print(\"Original array:\")\n",
    "print(nums)\n",
    "print(\"\\nSwap rows and columns of the said array in reverse order:\")\n",
    "new_nums = print(nums[::-1, ::-1]) #When slicing a list, we must call our list first (mylist in our case) followed by our requirements for slicing. These must be enclosed in brackets []. The argument we may need to pass inside the [] are −\n",
    "\n",
    "#First argument, index to start slicing.\n",
    "#Second argument, index to stop slicing.\n",
    "#Third argument, step/increment to slice by(optional).\n",
    "#print(new_nums)\n",
    "\n",
    "print(nums[::-1,0])"
   ]
  },
  {
   "cell_type": "code",
   "execution_count": 249,
   "id": "83cf4afb",
   "metadata": {},
   "outputs": [
    {
     "name": "stdout",
     "output_type": "stream",
     "text": [
      "[4 3 2 1]\n"
     ]
    }
   ],
   "source": [
    "print(nums[0,0,::-1]) #for reversing a ndarray first see how many dimesionsd it have then here in our casewe have 3d array \n",
    "                      #then its name followed by [] brackets and after that for selecctiion of array or row  or element\n",
    "    #here we entered the our array by giving in the first argumrnt as 0 thenafter that selection of row also dimenson or extra [] plays a crucial role \n",
    "    # thim=nk it as that as soon as writre the the nptation nums[]you are already inside one dimesion now all you have to do is mentioning the other two \n",
    "    "
   ]
  },
  {
   "cell_type": "code",
   "execution_count": 11,
   "id": "d4ac855a",
   "metadata": {},
   "outputs": [
    {
     "name": "stdout",
     "output_type": "stream",
     "text": [
      " changed Original array without an extra []  :\n",
      "[[ 1  2  3  4]\n",
      " [ 0  1  3  4]\n",
      " [90 91 93 94]\n",
      " [ 5  0  3  2]]\n",
      "\n",
      ": changed result  \n",
      "[[ 2  3  0  5]\n",
      " [94 93 91 90]\n",
      " [ 4  3  1  0]\n",
      " [ 4  3  2  1]]\n",
      "this array we already inside one dimension so we will just transpose the \n",
      "[[ 5  0  3  2]\n",
      " [90 91 93 94]\n",
      " [ 0  1  3  4]\n",
      " [ 1  2  3  4]]\n"
     ]
    }
   ],
   "source": [
    "#here lets  se what happensm when we remove the extra bracket [] from the nums arary\n",
    "import numpy as np\n",
    "nums = np.array([[1, 2, 3, 4],\n",
    "               [0, 1, 3, 4],\n",
    "               [90, 91, 93, 94],\n",
    "               [5, 0, 3, 2]])\n",
    "print(\" changed Original array without an extra []  :\")\n",
    "print(nums)\n",
    "print(\"\\n: changed result  \")\n",
    "new_nums = print(nums[::-1, ::-1])\n",
    "#it will give us a wrong array or a diffrent array in order to get the desired array we  will\n",
    "\n",
    "print(\"this array we already inside one dimension so we will just transpose the \")\n",
    "print(nums[::-1])"
   ]
  },
  {
   "cell_type": "code",
   "execution_count": 270,
   "id": "f3416fba",
   "metadata": {},
   "outputs": [
    {
     "name": "stdout",
     "output_type": "stream",
     "text": [
      "Original array:\n",
      "[[[ 1  2  3  4]\n",
      "  [ 0  1  3  4]\n",
      "  [90 91 93 94]\n",
      "  [ 5  0  3  2]]]\n",
      "\n",
      "Swap rows and columns of the said array in reverse order:\n",
      "[[ 5  0  3  2]\n",
      " [90 91 93 94]\n",
      " [ 0  1  3  4]\n",
      " [ 1  2  3  4]]\n",
      "[[[ 5  0  3  2]\n",
      "  [90 91 93 94]\n",
      "  [ 0  1  3  4]\n",
      "  [ 1  2  3  4]]]\n"
     ]
    }
   ],
   "source": [
    "import numpy as np\n",
    "nums = np.array([[[1, 2, 3, 4],\n",
    "               [0, 1, 3, 4],\n",
    "               [90, 91, 93, 94],\n",
    "               [5, 0, 3, 2]]])\n",
    "print(\"Original array:\")\n",
    "print(nums)\n",
    "print(\"\\nSwap rows and columns of the said array in reverse order:\")\n",
    "new_nums = print(nums[0, ::-1]) #When slicing a list, we must call our list first (mylist in our case) followed by our requirements for slicing. These must be enclosed in brackets []. The argument we may need to pass inside the [] are −\n",
    "print(nums[::-1,::-1])"
   ]
  },
  {
   "cell_type": "code",
   "execution_count": 70,
   "id": "db2783b2",
   "metadata": {},
   "outputs": [
    {
     "name": "stdout",
     "output_type": "stream",
     "text": [
      "Original array:\n",
      "[[ 1  2  3  4]\n",
      " [ 0  1  3  4]\n",
      " [90 91 93 94]\n",
      " [ 5  0  3  2]]\n",
      "\n",
      "[ 1  0 90  5]\n",
      "[ 2  1 91  0]\n",
      "[ 3  3 93  3]\n",
      "[ 4  4 94  2]\n",
      "\n"
     ]
    },
    {
     "data": {
      "text/plain": [
       "array([[ 5, 90,  0,  1],\n",
       "       [ 0, 91,  1,  2],\n",
       "       [ 3, 93,  3,  3],\n",
       "       [ 2, 94,  4,  4]])"
      ]
     },
     "execution_count": 70,
     "metadata": {},
     "output_type": "execute_result"
    }
   ],
   "source": [
    "#function for transposing an aray\n",
    "import numpy as np\n",
    "nums = np.array([[1, 2, 3, 4],\n",
    "               [0, 1, 3, 4],\n",
    "               [90, 91, 93, 94],\n",
    "               [5, 0, 3, 2]])\n",
    "print(\"Original array:\")\n",
    "print(nums)\n",
    "print(\"\")\n",
    "#print(\"for reverrsal of a a row here row no 0 selected\",nums[0,::-1])\n",
    "arr = np.random.randint(0,1,(4,4))\n",
    "for i in range(4):\n",
    "#    np.append(arr[i],(nums[::1,i]),axis=0)\n",
    " #   print(np.append(arr[i],(nums[::1,i]),axis=0))\n",
    "    print(nums[::1,i])\n",
    "    arr[i] = nums[::1,i]\n",
    "arr\n",
    "print(\"\")\n",
    "# for reveresing we will select all the rows by ::1 it will \n",
    "#iterate one by one looking at the corresponding column number and coloumns \n",
    "arr[::1,::-1]"
   ]
  },
  {
   "cell_type": "code",
   "execution_count": 75,
   "id": "781981e5",
   "metadata": {},
   "outputs": [
    {
     "data": {
      "text/plain": [
       "array([[ 1,  2,  3,  4],\n",
       "       [ 0,  1,  3,  4],\n",
       "       [90, 91, 93, 94],\n",
       "       [ 5,  0,  3,  2]])"
      ]
     },
     "execution_count": 75,
     "metadata": {},
     "output_type": "execute_result"
    }
   ],
   "source": [
    "nums[::1,]"
   ]
  },
  {
   "cell_type": "markdown",
   "id": "f52a2ce5",
   "metadata": {},
   "source": [
    "# Write a NumPy program to create a 4x4 array with random values, now create a new array from the said array swapping first and last rows"
   ]
  },
  {
   "cell_type": "code",
   "execution_count": 81,
   "id": "0a364994",
   "metadata": {},
   "outputs": [
    {
     "name": "stdout",
     "output_type": "stream",
     "text": [
      "[[45 48 65 68]\n",
      " [68 10 84 22]\n",
      " [37 88 71 89]\n",
      " [89 13 59 66]]\n",
      "\n",
      "[[89 13 59 66]\n",
      " [68 10 84 22]\n",
      " [37 88 71 89]\n",
      " [45 48 65 68]]\n",
      "\n"
     ]
    },
    {
     "data": {
      "text/plain": [
       "array([[89, 13, 59, 66],\n",
       "       [68, 10, 84, 22],\n",
       "       [37, 88, 71, 89],\n",
       "       [89, 13, 59, 66]])"
      ]
     },
     "execution_count": 81,
     "metadata": {},
     "output_type": "execute_result"
    }
   ],
   "source": [
    "import numpy as np\n",
    "np.random.seed(0)\n",
    "arr = np.random.randint(1,101,(4,4))\n",
    "print(arr)\n",
    "arr1 = arr.copy()\n",
    "arr1[0] = arr[3]\n",
    "arr1[3] = arr[0] \n",
    "print(\"\")\n",
    "print(arr1)\n",
    "#another method\n",
    "print(\"\")\n",
    "arr[[0,-1,2,3],] = arr[[-1,0,2,3],]\n",
    "arr\n",
    "\n",
    "\n"
   ]
  },
  {
   "cell_type": "code",
   "execution_count": 84,
   "id": "0da49769",
   "metadata": {},
   "outputs": [
    {
     "name": "stdout",
     "output_type": "stream",
     "text": [
      "\n",
      "[[ 4  4  1  6]\n",
      " [ 8 10  4  6]\n",
      " [ 3  5  8  7]\n",
      " [ 9  9  2  7]]\n",
      "\n",
      "\n",
      "[[ 6  1  4  4]\n",
      " [ 8 10  4  6]\n",
      " [ 3  5  8  7]\n",
      " [ 9  9  2  7]]\n"
     ]
    }
   ],
   "source": [
    "import numpy as np\n",
    "np.random.seed(0)\n",
    "arr = np.random.randint(1,11,(4,4))\n",
    "arr1 = arr.copy()\n",
    "arr1[[0]] = arr[0,::-1]\n",
    "print(\"\")\n",
    "print(arr1)\n",
    "print(\"\")\n",
    "print(\"\")\n",
    "print(arr)\n"
   ]
  },
  {
   "cell_type": "code",
   "execution_count": 100,
   "id": "8f7155fb",
   "metadata": {},
   "outputs": [
    {
     "name": "stdout",
     "output_type": "stream",
     "text": [
      "Generate a uniform random sample with replacement:\n",
      "[2 6 3 6 3]\n",
      "\n",
      "Generate a uniform random sample without replacement:\n",
      "[5 4 1 0 6]\n"
     ]
    }
   ],
   "source": [
    "import numpy as np \n",
    "print(\"Generate a uniform random sample with replacement:\") \n",
    "print(np.random.choice(7,5))\n",
    "print(\"\\nGenerate a uniform random sample without replacement:\") \n",
    "print(np.random.choice(7, 5, replace=False)) #  replace by Default is True, meaning that any value from an array can be selected multiple times."
   ]
  },
  {
   "cell_type": "code",
   "execution_count": 94,
   "id": "648c5238",
   "metadata": {},
   "outputs": [
    {
     "name": "stdout",
     "output_type": "stream",
     "text": [
      "\n",
      "Generate a uniform random sample without replacement:\n",
      "[2 5 3 1 4]\n",
      "\n",
      "Generate a non-uniform random sample with replacement:\n",
      "[1 3 6 3 4]\n",
      "\n",
      "Generate a uniform random sample without replacement:\n",
      "[6 0 4 1 3]\n"
     ]
    }
   ],
   "source": [
    "\n",
    "print(\"\\nGenerate a non-uniform random sample with replacement:\") \n",
    "print(np.random.choice(7, 5, p=[0.1, 0.2, 0, 0.2, 0.4, 0, 0.1]))\n",
    "print(\"\\nGenerate a uniform random sample without replacement:\") \n",
    "print(np.random.choice(7, 5, replace=False, p=[0.1, 0.2, 0, 0.2, 0.4, 0, 0.1])) "
   ]
  },
  {
   "cell_type": "code",
   "execution_count": 142,
   "id": "0d9f4707",
   "metadata": {},
   "outputs": [
    {
     "name": "stdout",
     "output_type": "stream",
     "text": [
      "[  2.23924688  22.39246881 223.92468806]\n"
     ]
    }
   ],
   "source": [
    "x = np.random.rand(1)\n",
    "x = np.concatenate((x*10,x*100,x*1000))\n",
    "print(x)\n",
    "\n"
   ]
  },
  {
   "cell_type": "code",
   "execution_count": null,
   "id": "0c5d4349",
   "metadata": {},
   "outputs": [],
   "source": []
  },
  {
   "cell_type": "code",
   "execution_count": 58,
   "id": "cd7e89b1",
   "metadata": {
    "ExecuteTime": {
     "end_time": "2022-08-01T20:35:54.295338Z",
     "start_time": "2022-08-01T20:35:54.279468Z"
    }
   },
   "outputs": [],
   "source": [
    "\n",
    "def getminnmax(arr):\n",
    "    x = arr[0]\n",
    "    for i in range(len(arr)-1):\n",
    "        if x < arr[i] :\n",
    "            pass\n",
    "        else:\n",
    "            x = arr[i]  \n",
    "            print(\" \")\n",
    "    return x\n"
   ]
  },
  {
   "cell_type": "code",
   "execution_count": 59,
   "id": "efa0d46a",
   "metadata": {
    "ExecuteTime": {
     "end_time": "2022-08-01T20:35:56.577788Z",
     "start_time": "2022-08-01T20:35:56.564943Z"
    }
   },
   "outputs": [
    {
     "name": "stdout",
     "output_type": "stream",
     "text": [
      "[0.5507979  0.70814782 0.29090474 0.51082761 0.89294695 0.89629309\n",
      " 0.12558531 0.20724288 0.0514672  0.44080984 0.02987621]\n",
      " \n",
      " \n",
      " \n",
      " \n"
     ]
    },
    {
     "data": {
      "text/plain": [
       "(0.05146720330082988, 0.44080984365063647)"
      ]
     },
     "execution_count": 59,
     "metadata": {},
     "output_type": "execute_result"
    }
   ],
   "source": [
    "import numpy as np\n",
    "np.random.seed(3)\n",
    "arr = np.random.rand(1, 11).flatten()\n",
    "print(arr)\n",
    "getminnmax(arr)"
   ]
  },
  {
   "cell_type": "code",
   "execution_count": 43,
   "id": "841972bf",
   "metadata": {
    "ExecuteTime": {
     "end_time": "2022-08-01T20:30:16.869309Z",
     "start_time": "2022-08-01T20:30:16.843315Z"
    }
   },
   "outputs": [],
   "source": [
    "\n",
    "\n",
    "\n",
    "\n",
    "# Python3 program of above implementation\n",
    "def getMinMax(arr):\n",
    "     \n",
    "    n = len(arr)\n",
    "     \n",
    "    # If array has even number of elements then\n",
    "    # initialize the first two elements as minimum\n",
    "    # and maximum\n",
    "    if(n % 2 == 0):\n",
    "        mx = max(arr[0], arr[1])\n",
    "        mn = min(arr[0], arr[1])\n",
    "         \n",
    "        # set the starting index for loop\n",
    "        i = 2\n",
    "         \n",
    "    # If array has odd number of elements then\n",
    "    # initialize the first element as minimum\n",
    "    # and maximum\n",
    "    else:\n",
    "        mx = mn = arr[0]\n",
    "         \n",
    "        # set the starting index for loop\n",
    "        i = 1\n",
    "         \n",
    "    # In the while loop, pick elements in pair and\n",
    "    # compare the pair with max and min so far\n",
    "    while(i < n - 1):\n",
    "        if arr[i] < arr[i + 1]:\n",
    "            mx = max(mx, arr[i + 1])\n",
    "            mn = min(mn, arr[i])\n",
    "        else:\n",
    "            mx = max(mx, arr[i])\n",
    "            mn = min(mn, arr[i + 1])\n",
    "             \n",
    "        # Increment the index by 2 as two\n",
    "        # elements are processed in loop\n",
    "        i += 2\n",
    "     \n",
    "    return (mx, mn)\n"
   ]
  },
  {
   "cell_type": "code",
   "execution_count": 52,
   "id": "bb7b3055",
   "metadata": {
    "ExecuteTime": {
     "end_time": "2022-08-01T20:33:13.617683Z",
     "start_time": "2022-08-01T20:33:13.590833Z"
    }
   },
   "outputs": [
    {
     "name": "stdout",
     "output_type": "stream",
     "text": [
      "[0.5507979  0.70814782 0.29090474 0.51082761 0.89294695 0.89629309\n",
      " 0.12558531 0.20724288 0.0514672  0.44080984 0.02987621]\n"
     ]
    },
    {
     "data": {
      "text/plain": [
       "(0.8962930889334381, 0.029876210878566956)"
      ]
     },
     "execution_count": 52,
     "metadata": {},
     "output_type": "execute_result"
    }
   ],
   "source": [
    "import numpy as np\n",
    "np.random.seed(3)\n",
    "arr = np.random.rand(1, 11).flatten()\n",
    "print(arr)\n",
    "getMinMax(arr)"
   ]
  },
  {
   "cell_type": "markdown",
   "id": "5a11b5d8",
   "metadata": {},
   "source": [
    "#  array easy problem\n"
   ]
  },
  {
   "cell_type": "markdown",
   "id": "91e6dfba",
   "metadata": {},
   "source": [
    "### Given a sorted array arr[] of distinct integers. Sort the array into a wave-like array(In Place).\n",
    "In other words, arrange the elements into a sequence such that arr[1] >= arr[2] <= arr[3] >= arr[4] <= arr[5].....\n",
    "If there are multiple solutions, find the lexicographically smallest one.\n",
    "Example 1:\n",
    "Input:\n",
    "n = 5\n",
    "arr[] = {1,2,3,4,5}\n",
    "Output: 2 1 4 3 5\n",
    "Explanation: Array elements after \n",
    "sorting it in wave form are \n",
    "2 1 4 3 5."
   ]
  },
  {
   "cell_type": "code",
   "execution_count": 74,
   "id": "b48fdbf1",
   "metadata": {
    "ExecuteTime": {
     "end_time": "2022-08-01T23:55:53.738063Z",
     "start_time": "2022-08-01T23:55:53.714755Z"
    }
   },
   "outputs": [
    {
     "name": "stdout",
     "output_type": "stream",
     "text": [
      "[0 1 2 3 4 5 6]\n",
      "1 0\n",
      "3 2\n",
      "5 4\n",
      "[1 0 3 2 5 4 6]\n"
     ]
    }
   ],
   "source": [
    "import numpy as np\n",
    "test_Array =  np.arange(7)\n",
    "print(test_Array)\n",
    "print(zigzagarray(test_Array))\n",
    "def zigzagarray(test_Array): \n",
    "    for i in range(0,len(test_Array)-1,2):\n",
    "        test_Array[i+1],test_Array[i] = test_Array[i],test_Array[i+1] \n",
    "        print(test_Array[i],test_Array[i+1])\n",
    "    return test_Array"
   ]
  },
  {
   "cell_type": "markdown",
   "id": "7759400f",
   "metadata": {},
   "source": [
    "# Given an array, rotate the array by one position in clock-wise direction."
   ]
  },
  {
   "cell_type": "code",
   "execution_count": 91,
   "id": "d7454bc4",
   "metadata": {
    "ExecuteTime": {
     "end_time": "2022-08-02T00:41:19.444724Z",
     "start_time": "2022-08-02T00:41:19.408881Z"
    }
   },
   "outputs": [
    {
     "name": "stdout",
     "output_type": "stream",
     "text": [
      "[array([0, 1, 2, 3, 4])]\n"
     ]
    },
    {
     "ename": "IndexError",
     "evalue": "list assignment index out of range",
     "output_type": "error",
     "traceback": [
      "\u001b[1;31m---------------------------------------------------------------------------\u001b[0m",
      "\u001b[1;31mIndexError\u001b[0m                                Traceback (most recent call last)",
      "\u001b[1;32m~\\AppData\\Local\\Temp/ipykernel_13608/4153853396.py\u001b[0m in \u001b[0;36m<module>\u001b[1;34m\u001b[0m\n\u001b[0;32m      2\u001b[0m \u001b[0mtest_Array\u001b[0m \u001b[1;33m=\u001b[0m \u001b[1;33m[\u001b[0m \u001b[0mnp\u001b[0m\u001b[1;33m.\u001b[0m\u001b[0marange\u001b[0m\u001b[1;33m(\u001b[0m\u001b[1;36m5\u001b[0m\u001b[1;33m)\u001b[0m\u001b[1;33m]\u001b[0m\u001b[1;33m\u001b[0m\u001b[1;33m\u001b[0m\u001b[0m\n\u001b[0;32m      3\u001b[0m \u001b[0mprint\u001b[0m\u001b[1;33m(\u001b[0m\u001b[0mtest_Array\u001b[0m\u001b[1;33m)\u001b[0m\u001b[1;33m\u001b[0m\u001b[1;33m\u001b[0m\u001b[0m\n\u001b[1;32m----> 4\u001b[1;33m \u001b[0mprint\u001b[0m\u001b[1;33m(\u001b[0m\u001b[0mrotateclockwise\u001b[0m\u001b[1;33m(\u001b[0m\u001b[0mtest_Array\u001b[0m\u001b[1;33m)\u001b[0m\u001b[1;33m)\u001b[0m\u001b[1;33m\u001b[0m\u001b[1;33m\u001b[0m\u001b[0m\n\u001b[0m\u001b[0;32m      5\u001b[0m \u001b[1;32mdef\u001b[0m \u001b[0mrotateclockwise\u001b[0m\u001b[1;33m(\u001b[0m\u001b[0marr\u001b[0m\u001b[1;33m)\u001b[0m\u001b[1;33m:\u001b[0m\u001b[1;33m\u001b[0m\u001b[1;33m\u001b[0m\u001b[0m\n\u001b[0;32m      6\u001b[0m     \u001b[0mx\u001b[0m \u001b[1;33m=\u001b[0m \u001b[1;36m0\u001b[0m\u001b[1;33m\u001b[0m\u001b[1;33m\u001b[0m\u001b[0m\n",
      "\u001b[1;32m~\\AppData\\Local\\Temp/ipykernel_13608/1523588542.py\u001b[0m in \u001b[0;36mrotateclockwise\u001b[1;34m(arr)\u001b[0m\n\u001b[0;32m      7\u001b[0m     \u001b[0mx\u001b[0m \u001b[1;33m=\u001b[0m \u001b[0marr\u001b[0m\u001b[1;33m[\u001b[0m\u001b[0mlen\u001b[0m\u001b[1;33m(\u001b[0m\u001b[0marr\u001b[0m\u001b[1;33m)\u001b[0m\u001b[1;33m-\u001b[0m\u001b[1;36m1\u001b[0m\u001b[1;33m]\u001b[0m\u001b[1;33m\u001b[0m\u001b[1;33m\u001b[0m\u001b[0m\n\u001b[0;32m      8\u001b[0m     \u001b[0marr\u001b[0m\u001b[1;33m.\u001b[0m\u001b[0mpop\u001b[0m\u001b[1;33m(\u001b[0m\u001b[1;33m)\u001b[0m\u001b[1;33m\u001b[0m\u001b[1;33m\u001b[0m\u001b[0m\n\u001b[1;32m----> 9\u001b[1;33m     \u001b[0marr\u001b[0m\u001b[1;33m[\u001b[0m\u001b[1;36m0\u001b[0m\u001b[1;33m]\u001b[0m \u001b[1;33m=\u001b[0m \u001b[0mx\u001b[0m\u001b[1;33m\u001b[0m\u001b[1;33m\u001b[0m\u001b[0m\n\u001b[0m\u001b[0;32m     10\u001b[0m     \u001b[1;32mreturn\u001b[0m \u001b[0marr\u001b[0m\u001b[1;33m\u001b[0m\u001b[1;33m\u001b[0m\u001b[0m\n\u001b[0;32m     11\u001b[0m \u001b[1;33m\u001b[0m\u001b[0m\n",
      "\u001b[1;31mIndexError\u001b[0m: list assignment index out of range"
     ]
    }
   ],
   "source": [
    "S"
   ]
  },
  {
   "cell_type": "code",
   "execution_count": null,
   "id": "dc3fd4c6",
   "metadata": {},
   "outputs": [],
   "source": []
  },
  {
   "cell_type": "code",
   "execution_count": null,
   "id": "b4287da1",
   "metadata": {},
   "outputs": [],
   "source": []
  },
  {
   "cell_type": "code",
   "execution_count": null,
   "id": "01763240",
   "metadata": {},
   "outputs": [],
   "source": []
  },
  {
   "cell_type": "code",
   "execution_count": null,
   "id": "3cd1fbc6",
   "metadata": {},
   "outputs": [],
   "source": []
  },
  {
   "cell_type": "code",
   "execution_count": null,
   "id": "f0d7d742",
   "metadata": {},
   "outputs": [],
   "source": []
  },
  {
   "cell_type": "code",
   "execution_count": null,
   "id": "8dc64628",
   "metadata": {},
   "outputs": [],
   "source": []
  },
  {
   "cell_type": "code",
   "execution_count": null,
   "id": "8bfb5aa7",
   "metadata": {},
   "outputs": [],
   "source": []
  },
  {
   "cell_type": "code",
   "execution_count": null,
   "id": "29165d99",
   "metadata": {},
   "outputs": [],
   "source": []
  },
  {
   "cell_type": "code",
   "execution_count": null,
   "id": "7c125e53",
   "metadata": {},
   "outputs": [],
   "source": []
  },
  {
   "cell_type": "code",
   "execution_count": null,
   "id": "e89a5fbb",
   "metadata": {},
   "outputs": [],
   "source": []
  },
  {
   "cell_type": "code",
   "execution_count": null,
   "id": "bd10e37f",
   "metadata": {},
   "outputs": [],
   "source": []
  },
  {
   "cell_type": "code",
   "execution_count": null,
   "id": "f6e784bf",
   "metadata": {},
   "outputs": [],
   "source": []
  },
  {
   "cell_type": "code",
   "execution_count": null,
   "id": "410c9557",
   "metadata": {},
   "outputs": [],
   "source": []
  },
  {
   "cell_type": "code",
   "execution_count": null,
   "id": "b06fdeb2",
   "metadata": {},
   "outputs": [],
   "source": []
  },
  {
   "cell_type": "code",
   "execution_count": 31,
   "id": "853ec8ce",
   "metadata": {
    "ExecuteTime": {
     "end_time": "2022-08-03T18:27:05.937944Z",
     "start_time": "2022-08-03T18:27:05.916683Z"
    }
   },
   "outputs": [
    {
     "name": "stdout",
     "output_type": "stream",
     "text": [
      "second highest 99\n"
     ]
    }
   ],
   "source": [
    "list1 = [100,20,4,45,99]\n",
    "mx = max(list1[0],list1[1])\n",
    "secondmax =min(list1[0],list1[1])\n",
    "n = len(list1)\n",
    "for i in range(2,n):\n",
    "    if list1[i] > mx:\n",
    "        secondmax = mx\n",
    "        mx = list1[i]\n",
    "    elif list1[i] > secondmax and mx!= list1[i]:\n",
    "        secondmax = list1[i]\n",
    "    elif mx == secondmax and second !=list1[i]:\n",
    "        secondmax = list1[i]\n",
    "                \n",
    "                \n",
    "print(\"second highest\", secondmax)"
   ]
  },
  {
   "cell_type": "code",
   "execution_count": 36,
   "id": "f313f248",
   "metadata": {
    "ExecuteTime": {
     "end_time": "2022-08-03T19:26:32.156508Z",
     "start_time": "2022-08-03T19:26:32.132475Z"
    }
   },
   "outputs": [
    {
     "name": "stdout",
     "output_type": "stream",
     "text": [
      "[92 21 73 58 64 26 17 31 88]\n",
      "88\n"
     ]
    }
   ],
   "source": [
    "import numpy as np\n",
    "a = np.random.randint(100 , size = (9)) # a =10*np.random.rand(1,9).flatten()\n",
    "print (a)\n",
    "biggest_element =max(a[0] ,a[1])\n",
    "second_biggest = min(a[1] , a[0])\n",
    "n = len(a)\n",
    "for i in range(2,n):\n",
    "    if a[i] > biggest_element :\n",
    "        second_biggest = biggest_element\n",
    "        biggest_element = a[i]\n",
    "    elif biggest_element > a[i] > second_biggest:\n",
    "        second_biggest = a[i]\n",
    "    else:\n",
    "        continue \n",
    "print(second_biggest)\n",
    "    "
   ]
  },
  {
   "cell_type": "code",
   "execution_count": 24,
   "id": "78384354",
   "metadata": {
    "ExecuteTime": {
     "end_time": "2022-08-03T18:24:13.516457Z",
     "start_time": "2022-08-03T18:24:13.507420Z"
    }
   },
   "outputs": [
    {
     "name": "stdout",
     "output_type": "stream",
     "text": [
      "[9 3 6 5 6 6 6 4 8]\n"
     ]
    }
   ],
   "source": [
    "import numpy as np\n",
    "a = np.random.randint(10 , size = (9))\n",
    "print(a)"
   ]
  },
  {
   "cell_type": "code",
   "execution_count": 38,
   "id": "1ab336d4",
   "metadata": {
    "ExecuteTime": {
     "end_time": "2022-08-03T19:37:11.400686Z",
     "start_time": "2022-08-03T19:37:11.378627Z"
    }
   },
   "outputs": [],
   "source": [
    "list = [10,40,20,50.,60,70]\n",
    "if list[0]>list[1]:\n",
    "    max = list[0]\n",
    "    min = list[10]\n",
    "else:\n",
    "    max = list[1]\n",
    "    min = list[0]\n",
    "i =2\n",
    "for i in range(len(list)):\n",
    "    if list[i]>max:\n",
    "        max = list[i]\n",
    "    if list[i]<min:\n",
    "        del list[i]\n",
    "    \n",
    "    \n",
    "    \n"
   ]
  },
  {
   "cell_type": "code",
   "execution_count": null,
   "id": "15ad45de",
   "metadata": {},
   "outputs": [],
   "source": []
  },
  {
   "cell_type": "code",
   "execution_count": null,
   "id": "dacbfe1d",
   "metadata": {},
   "outputs": [],
   "source": []
  }
 ],
 "metadata": {
  "kernelspec": {
   "display_name": "Python 3 (ipykernel)",
   "language": "python",
   "name": "python3"
  },
  "language_info": {
   "codemirror_mode": {
    "name": "ipython",
    "version": 3
   },
   "file_extension": ".py",
   "mimetype": "text/x-python",
   "name": "python",
   "nbconvert_exporter": "python",
   "pygments_lexer": "ipython3",
   "version": "3.9.7"
  },
  "toc": {
   "base_numbering": 1,
   "nav_menu": {},
   "number_sections": true,
   "sideBar": true,
   "skip_h1_title": false,
   "title_cell": "Table of Contents",
   "title_sidebar": "Contents",
   "toc_cell": false,
   "toc_position": {},
   "toc_section_display": true,
   "toc_window_display": true
  }
 },
 "nbformat": 4,
 "nbformat_minor": 5
}
