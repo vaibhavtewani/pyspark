{
 "cells": [
  {
   "cell_type": "code",
   "execution_count": null,
   "id": "bb6edd20",
   "metadata": {},
   "outputs": [],
   "source": [
    "#record linkage "
   ]
  },
  {
   "cell_type": "markdown",
   "id": "fe02a71d",
   "metadata": {},
   "source": [
    "# record_linkage  contains 4 parts \n",
    " 1)majorly data preprocesing \n",
    " 2)indexing \n",
    " 3) comparission\n",
    "  4)clasification\n",
    "  5)clustering "
   ]
  },
  {
   "cell_type": "markdown",
   "id": "26ef6355",
   "metadata": {},
   "source": [
    "### part1 cleaning the data or data preprocessing"
   ]
  },
  {
   "cell_type": "code",
   "execution_count": 1,
   "id": "a6e9357a",
   "metadata": {
    "ExecuteTime": {
     "end_time": "2022-09-07T11:15:14.229197Z",
     "start_time": "2022-09-07T11:15:12.715887Z"
    }
   },
   "outputs": [],
   "source": [
    "# importing some basic libraries \n",
    "import numpy as np\n",
    "import pandas as pd \n",
    "import re \n",
    "import pprint"
   ]
  },
  {
   "cell_type": "code",
   "execution_count": 2,
   "id": "fd31258f",
   "metadata": {
    "ExecuteTime": {
     "end_time": "2022-09-07T11:15:14.244160Z",
     "start_time": "2022-09-07T11:15:14.233187Z"
    }
   },
   "outputs": [],
   "source": [
    "#creating data for data for cleaning "
   ]
  },
  {
   "cell_type": "code",
   "execution_count": 3,
   "id": "3c18ae63",
   "metadata": {
    "ExecuteTime": {
     "end_time": "2022-09-07T11:15:14.260114Z",
     "start_time": "2022-09-07T11:15:14.249145Z"
    }
   },
   "outputs": [],
   "source": [
    "data = [\n",
    "    (\"Chin's\",\"3200 Las Vegas Boulevard\",\"New York\"),\n",
    "    (\"Chin Bistro\",\"3200 Las Vegas Blvd.\",\"New York\"),\n",
    "    (\"Bistro\",\"3400 Las Vegas Blvd.\",\"New York City\"),\n",
    "    (\"Bistro\",\"3400 Las Vegas B.\",\"NYC\"),\n",
    "]\n",
    "\n",
    "df = pd.DataFrame(data, columns=['restaurant', 'address', 'city'])"
   ]
  },
  {
   "cell_type": "code",
   "execution_count": 4,
   "id": "a40d5e75",
   "metadata": {
    "ExecuteTime": {
     "end_time": "2022-09-07T11:15:14.305994Z",
     "start_time": "2022-09-07T11:15:14.266099Z"
    }
   },
   "outputs": [
    {
     "data": {
      "text/html": [
       "<div>\n",
       "<style scoped>\n",
       "    .dataframe tbody tr th:only-of-type {\n",
       "        vertical-align: middle;\n",
       "    }\n",
       "\n",
       "    .dataframe tbody tr th {\n",
       "        vertical-align: top;\n",
       "    }\n",
       "\n",
       "    .dataframe thead th {\n",
       "        text-align: right;\n",
       "    }\n",
       "</style>\n",
       "<table border=\"1\" class=\"dataframe\">\n",
       "  <thead>\n",
       "    <tr style=\"text-align: right;\">\n",
       "      <th></th>\n",
       "      <th>restaurant</th>\n",
       "      <th>address</th>\n",
       "      <th>city</th>\n",
       "    </tr>\n",
       "  </thead>\n",
       "  <tbody>\n",
       "    <tr>\n",
       "      <th>0</th>\n",
       "      <td>Chin's</td>\n",
       "      <td>3200 Las Vegas Boulevard</td>\n",
       "      <td>New York</td>\n",
       "    </tr>\n",
       "    <tr>\n",
       "      <th>1</th>\n",
       "      <td>Chin Bistro</td>\n",
       "      <td>3200 Las Vegas Blvd.</td>\n",
       "      <td>New York</td>\n",
       "    </tr>\n",
       "    <tr>\n",
       "      <th>2</th>\n",
       "      <td>Bistro</td>\n",
       "      <td>3400 Las Vegas Blvd.</td>\n",
       "      <td>New York City</td>\n",
       "    </tr>\n",
       "    <tr>\n",
       "      <th>3</th>\n",
       "      <td>Bistro</td>\n",
       "      <td>3400 Las Vegas B.</td>\n",
       "      <td>NYC</td>\n",
       "    </tr>\n",
       "  </tbody>\n",
       "</table>\n",
       "</div>"
      ],
      "text/plain": [
       "    restaurant                   address           city\n",
       "0       Chin's  3200 Las Vegas Boulevard       New York\n",
       "1  Chin Bistro      3200 Las Vegas Blvd.       New York\n",
       "2       Bistro      3400 Las Vegas Blvd.  New York City\n",
       "3       Bistro         3400 Las Vegas B.            NYC"
      ]
     },
     "execution_count": 4,
     "metadata": {},
     "output_type": "execute_result"
    }
   ],
   "source": [
    "df"
   ]
  },
  {
   "cell_type": "code",
   "execution_count": 5,
   "id": "5118482f",
   "metadata": {
    "ExecuteTime": {
     "end_time": "2022-09-07T11:15:14.336908Z",
     "start_time": "2022-09-07T11:15:14.309982Z"
    }
   },
   "outputs": [],
   "source": [
    "company_names = company_names_dirty = [\n",
    "    'APPLE COMPUTER INC',\n",
    "    'APPLE COMPUTER, INC.',\n",
    "    'APPLE INC',\n",
    "    'Apple Computer',\n",
    "    'Apple Computer Co.',\n",
    "    'Apple Computer Company',\n",
    "    'Apple Computer Inc',\n",
    "    'Apple Computer    Incorporated',\n",
    "    'Apple Computer, Inc.',\n",
    "    'Apple Inc',\n",
    "    'Apple Inc.',\n",
    "    'Apple, Inc.'\n",
    "]"
   ]
  },
  {
   "cell_type": "code",
   "execution_count": 6,
   "id": "efd25efe",
   "metadata": {
    "ExecuteTime": {
     "end_time": "2022-09-07T11:15:14.351868Z",
     "start_time": "2022-09-07T11:15:14.340901Z"
    }
   },
   "outputs": [],
   "source": [
    "# first lower casing all the words in the / strings in the above list \n",
    "company_names = [i.lower() for i in company_names_dirty]"
   ]
  },
  {
   "cell_type": "code",
   "execution_count": 7,
   "id": "ac38d412",
   "metadata": {
    "ExecuteTime": {
     "end_time": "2022-09-07T11:15:14.367826Z",
     "start_time": "2022-09-07T11:15:14.354861Z"
    }
   },
   "outputs": [
    {
     "name": "stdout",
     "output_type": "stream",
     "text": [
      "['apple computer inc',\n",
      " 'apple computer, inc.',\n",
      " 'apple inc',\n",
      " 'apple computer',\n",
      " 'apple computer co.',\n",
      " 'apple computer company',\n",
      " 'apple computer inc',\n",
      " 'apple computer    incorporated',\n",
      " 'apple computer, inc.',\n",
      " 'apple inc',\n",
      " 'apple inc.',\n",
      " 'apple, inc.']\n"
     ]
    }
   ],
   "source": [
    "pprint.pprint(company_names)"
   ]
  },
  {
   "cell_type": "code",
   "execution_count": 8,
   "id": "322609e8",
   "metadata": {
    "ExecuteTime": {
     "end_time": "2022-09-07T11:15:14.972247Z",
     "start_time": "2022-09-07T11:15:14.954296Z"
    }
   },
   "outputs": [
    {
     "name": "stdout",
     "output_type": "stream",
     "text": [
      "removing dots\n",
      "------------------------------------------------------------------------------------\n",
      "Remove irrelevant separators:\n",
      "['apple computer inc',\n",
      " 'apple computer  inc ',\n",
      " 'apple inc',\n",
      " 'apple computer',\n",
      " 'apple computer co ',\n",
      " 'apple computer company',\n",
      " 'apple computer inc',\n",
      " 'apple computer    incorporated',\n",
      " 'apple computer  inc ',\n",
      " 'apple inc',\n",
      " 'apple inc ',\n",
      " 'apple  inc ']\n"
     ]
    }
   ],
   "source": [
    "#removing irrelevint separators\n",
    "print('removing dots')\n",
    "print('------------------------------------------------------------------------------------')\n",
    "print(\"Remove irrelevant separators:\")\n",
    "irrelevant_regex = re.compile(r'[^a-z0-9/s]')\n",
    "company_names = [irrelevant_regex.sub(' ', c) for c in company_names]\n",
    "pprint.pprint(company_names)"
   ]
  },
  {
   "cell_type": "code",
   "execution_count": 9,
   "id": "7d336cbc",
   "metadata": {
    "ExecuteTime": {
     "end_time": "2022-09-07T11:15:15.292392Z",
     "start_time": "2022-09-07T11:15:15.269459Z"
    }
   },
   "outputs": [
    {
     "name": "stdout",
     "output_type": "stream",
     "text": [
      "Remove multi-spaces:\n",
      "['apple computer inc',\n",
      " 'apple computer inc',\n",
      " 'apple inc',\n",
      " 'apple computer',\n",
      " 'apple computer co',\n",
      " 'apple computer company',\n",
      " 'apple computer inc',\n",
      " 'apple computer incorporated',\n",
      " 'apple computer inc',\n",
      " 'apple inc',\n",
      " 'apple inc',\n",
      " 'apple inc']\n"
     ]
    }
   ],
   "source": [
    "print(\"Remove multi-spaces:\")\n",
    "multispace_regex = re.compile(r'\\s\\s+') \n",
    "company_names = [multispace_regex.sub(' ', c).strip() for c in company_names]\n",
    "pprint.pprint(company_names)"
   ]
  },
  {
   "cell_type": "code",
   "execution_count": 10,
   "id": "56a399b3",
   "metadata": {
    "ExecuteTime": {
     "end_time": "2022-09-07T11:15:15.509810Z",
     "start_time": "2022-09-07T11:15:15.486872Z"
    }
   },
   "outputs": [
    {
     "name": "stdout",
     "output_type": "stream",
     "text": [
      "Remove multi-spaces:\n",
      "['apple computer inc',\n",
      " 'apple computer inc',\n",
      " 'apple inc',\n",
      " 'apple computer',\n",
      " 'apple computer co',\n",
      " 'apple computer company',\n",
      " 'apple computer inc',\n",
      " 'apple computer incorporated',\n",
      " 'apple computer inc',\n",
      " 'apple inc',\n",
      " 'apple inc',\n",
      " 'apple inc']\n"
     ]
    }
   ],
   "source": [
    "print(\"Remove multi-spaces:\")\n",
    "multispace_regex = re.compile(r'\\s\\s+')\n",
    "company_names = [c.strip() for c in company_names]\n",
    "pprint.pprint(company_names)"
   ]
  },
  {
   "cell_type": "code",
   "execution_count": 11,
   "id": "c8db3d75",
   "metadata": {
    "ExecuteTime": {
     "end_time": "2022-09-07T11:15:18.649511Z",
     "start_time": "2022-09-07T11:15:16.315432Z"
    }
   },
   "outputs": [],
   "source": [
    "import recordlinkage \n",
    "from recordlinkage import *"
   ]
  },
  {
   "cell_type": "code",
   "execution_count": 12,
   "id": "bc6c4c55",
   "metadata": {
    "ExecuteTime": {
     "end_time": "2022-09-07T11:15:18.679386Z",
     "start_time": "2022-09-07T11:15:18.649511Z"
    }
   },
   "outputs": [],
   "source": [
    "from recordlinkage import datasets"
   ]
  },
  {
   "cell_type": "code",
   "execution_count": 13,
   "id": "e61e254e",
   "metadata": {
    "ExecuteTime": {
     "end_time": "2022-09-07T11:15:18.695344Z",
     "start_time": "2022-09-07T11:15:18.683377Z"
    }
   },
   "outputs": [
    {
     "data": {
      "text/plain": [
       "<function recordlinkage.datasets.febrl.load_febrl4(return_links=False)>"
      ]
     },
     "execution_count": 13,
     "metadata": {},
     "output_type": "execute_result"
    }
   ],
   "source": [
    "recordlinkage.datasets.load_febrl4"
   ]
  },
  {
   "cell_type": "code",
   "execution_count": 14,
   "id": "c7747978",
   "metadata": {
    "ExecuteTime": {
     "end_time": "2022-09-07T11:15:18.834408Z",
     "start_time": "2022-09-07T11:15:18.700332Z"
    }
   },
   "outputs": [],
   "source": [
    "dfA , dfB  = recordlinkage.datasets.load_febrl4()"
   ]
  },
  {
   "cell_type": "code",
   "execution_count": 15,
   "id": "e092a1e2",
   "metadata": {
    "ExecuteTime": {
     "end_time": "2022-09-07T11:15:18.896244Z",
     "start_time": "2022-09-07T11:15:18.838399Z"
    }
   },
   "outputs": [
    {
     "data": {
      "text/html": [
       "<div>\n",
       "<style scoped>\n",
       "    .dataframe tbody tr th:only-of-type {\n",
       "        vertical-align: middle;\n",
       "    }\n",
       "\n",
       "    .dataframe tbody tr th {\n",
       "        vertical-align: top;\n",
       "    }\n",
       "\n",
       "    .dataframe thead th {\n",
       "        text-align: right;\n",
       "    }\n",
       "</style>\n",
       "<table border=\"1\" class=\"dataframe\">\n",
       "  <thead>\n",
       "    <tr style=\"text-align: right;\">\n",
       "      <th></th>\n",
       "      <th>given_name</th>\n",
       "      <th>surname</th>\n",
       "      <th>street_number</th>\n",
       "      <th>address_1</th>\n",
       "      <th>address_2</th>\n",
       "      <th>suburb</th>\n",
       "      <th>postcode</th>\n",
       "      <th>state</th>\n",
       "      <th>date_of_birth</th>\n",
       "      <th>soc_sec_id</th>\n",
       "    </tr>\n",
       "    <tr>\n",
       "      <th>rec_id</th>\n",
       "      <th></th>\n",
       "      <th></th>\n",
       "      <th></th>\n",
       "      <th></th>\n",
       "      <th></th>\n",
       "      <th></th>\n",
       "      <th></th>\n",
       "      <th></th>\n",
       "      <th></th>\n",
       "      <th></th>\n",
       "    </tr>\n",
       "  </thead>\n",
       "  <tbody>\n",
       "    <tr>\n",
       "      <th>rec-1070-org</th>\n",
       "      <td>michaela</td>\n",
       "      <td>neumann</td>\n",
       "      <td>8</td>\n",
       "      <td>stanley street</td>\n",
       "      <td>miami</td>\n",
       "      <td>winston hills</td>\n",
       "      <td>4223</td>\n",
       "      <td>nsw</td>\n",
       "      <td>19151111</td>\n",
       "      <td>5304218</td>\n",
       "    </tr>\n",
       "    <tr>\n",
       "      <th>rec-1016-org</th>\n",
       "      <td>courtney</td>\n",
       "      <td>painter</td>\n",
       "      <td>12</td>\n",
       "      <td>pinkerton circuit</td>\n",
       "      <td>bega flats</td>\n",
       "      <td>richlands</td>\n",
       "      <td>4560</td>\n",
       "      <td>vic</td>\n",
       "      <td>19161214</td>\n",
       "      <td>4066625</td>\n",
       "    </tr>\n",
       "    <tr>\n",
       "      <th>rec-4405-org</th>\n",
       "      <td>charles</td>\n",
       "      <td>green</td>\n",
       "      <td>38</td>\n",
       "      <td>salkauskas crescent</td>\n",
       "      <td>kela</td>\n",
       "      <td>dapto</td>\n",
       "      <td>4566</td>\n",
       "      <td>nsw</td>\n",
       "      <td>19480930</td>\n",
       "      <td>4365168</td>\n",
       "    </tr>\n",
       "    <tr>\n",
       "      <th>rec-1288-org</th>\n",
       "      <td>vanessa</td>\n",
       "      <td>parr</td>\n",
       "      <td>905</td>\n",
       "      <td>macquoid place</td>\n",
       "      <td>broadbridge manor</td>\n",
       "      <td>south grafton</td>\n",
       "      <td>2135</td>\n",
       "      <td>sa</td>\n",
       "      <td>19951119</td>\n",
       "      <td>9239102</td>\n",
       "    </tr>\n",
       "    <tr>\n",
       "      <th>rec-3585-org</th>\n",
       "      <td>mikayla</td>\n",
       "      <td>malloney</td>\n",
       "      <td>37</td>\n",
       "      <td>randwick road</td>\n",
       "      <td>avalind</td>\n",
       "      <td>hoppers crossing</td>\n",
       "      <td>4552</td>\n",
       "      <td>vic</td>\n",
       "      <td>19860208</td>\n",
       "      <td>7207688</td>\n",
       "    </tr>\n",
       "    <tr>\n",
       "      <th>...</th>\n",
       "      <td>...</td>\n",
       "      <td>...</td>\n",
       "      <td>...</td>\n",
       "      <td>...</td>\n",
       "      <td>...</td>\n",
       "      <td>...</td>\n",
       "      <td>...</td>\n",
       "      <td>...</td>\n",
       "      <td>...</td>\n",
       "      <td>...</td>\n",
       "    </tr>\n",
       "    <tr>\n",
       "      <th>rec-2153-org</th>\n",
       "      <td>annabel</td>\n",
       "      <td>grierson</td>\n",
       "      <td>97</td>\n",
       "      <td>mclachlan crescent</td>\n",
       "      <td>lantana lodge</td>\n",
       "      <td>broome</td>\n",
       "      <td>2480</td>\n",
       "      <td>nsw</td>\n",
       "      <td>19840224</td>\n",
       "      <td>7676186</td>\n",
       "    </tr>\n",
       "    <tr>\n",
       "      <th>rec-1604-org</th>\n",
       "      <td>sienna</td>\n",
       "      <td>musolino</td>\n",
       "      <td>22</td>\n",
       "      <td>smeaton circuit</td>\n",
       "      <td>pangani</td>\n",
       "      <td>mckinnon</td>\n",
       "      <td>2700</td>\n",
       "      <td>nsw</td>\n",
       "      <td>19890525</td>\n",
       "      <td>4971506</td>\n",
       "    </tr>\n",
       "    <tr>\n",
       "      <th>rec-1003-org</th>\n",
       "      <td>bradley</td>\n",
       "      <td>matthews</td>\n",
       "      <td>2</td>\n",
       "      <td>jondol place</td>\n",
       "      <td>horseshoe ck</td>\n",
       "      <td>jacobs well</td>\n",
       "      <td>7018</td>\n",
       "      <td>sa</td>\n",
       "      <td>19481122</td>\n",
       "      <td>8927667</td>\n",
       "    </tr>\n",
       "    <tr>\n",
       "      <th>rec-4883-org</th>\n",
       "      <td>brodee</td>\n",
       "      <td>egan</td>\n",
       "      <td>88</td>\n",
       "      <td>axon street</td>\n",
       "      <td>greenslopes</td>\n",
       "      <td>wamberal</td>\n",
       "      <td>2067</td>\n",
       "      <td>qld</td>\n",
       "      <td>19121113</td>\n",
       "      <td>6039042</td>\n",
       "    </tr>\n",
       "    <tr>\n",
       "      <th>rec-66-org</th>\n",
       "      <td>koula</td>\n",
       "      <td>houweling</td>\n",
       "      <td>3</td>\n",
       "      <td>mileham street</td>\n",
       "      <td>old airdmillan road</td>\n",
       "      <td>williamstown</td>\n",
       "      <td>2350</td>\n",
       "      <td>nsw</td>\n",
       "      <td>19440718</td>\n",
       "      <td>6375537</td>\n",
       "    </tr>\n",
       "  </tbody>\n",
       "</table>\n",
       "<p>5000 rows × 10 columns</p>\n",
       "</div>"
      ],
      "text/plain": [
       "             given_name    surname street_number            address_1  \\\n",
       "rec_id                                                                  \n",
       "rec-1070-org   michaela    neumann             8       stanley street   \n",
       "rec-1016-org   courtney    painter            12    pinkerton circuit   \n",
       "rec-4405-org    charles      green            38  salkauskas crescent   \n",
       "rec-1288-org    vanessa       parr           905       macquoid place   \n",
       "rec-3585-org    mikayla   malloney            37        randwick road   \n",
       "...                 ...        ...           ...                  ...   \n",
       "rec-2153-org    annabel   grierson            97   mclachlan crescent   \n",
       "rec-1604-org     sienna   musolino            22      smeaton circuit   \n",
       "rec-1003-org    bradley   matthews             2         jondol place   \n",
       "rec-4883-org     brodee       egan            88          axon street   \n",
       "rec-66-org        koula  houweling             3       mileham street   \n",
       "\n",
       "                        address_2            suburb postcode state  \\\n",
       "rec_id                                                               \n",
       "rec-1070-org                miami     winston hills     4223   nsw   \n",
       "rec-1016-org           bega flats         richlands     4560   vic   \n",
       "rec-4405-org                 kela             dapto     4566   nsw   \n",
       "rec-1288-org    broadbridge manor     south grafton     2135    sa   \n",
       "rec-3585-org              avalind  hoppers crossing     4552   vic   \n",
       "...                           ...               ...      ...   ...   \n",
       "rec-2153-org        lantana lodge            broome     2480   nsw   \n",
       "rec-1604-org              pangani          mckinnon     2700   nsw   \n",
       "rec-1003-org         horseshoe ck       jacobs well     7018    sa   \n",
       "rec-4883-org          greenslopes          wamberal     2067   qld   \n",
       "rec-66-org    old airdmillan road      williamstown     2350   nsw   \n",
       "\n",
       "             date_of_birth soc_sec_id  \n",
       "rec_id                                 \n",
       "rec-1070-org      19151111    5304218  \n",
       "rec-1016-org      19161214    4066625  \n",
       "rec-4405-org      19480930    4365168  \n",
       "rec-1288-org      19951119    9239102  \n",
       "rec-3585-org      19860208    7207688  \n",
       "...                    ...        ...  \n",
       "rec-2153-org      19840224    7676186  \n",
       "rec-1604-org      19890525    4971506  \n",
       "rec-1003-org      19481122    8927667  \n",
       "rec-4883-org      19121113    6039042  \n",
       "rec-66-org        19440718    6375537  \n",
       "\n",
       "[5000 rows x 10 columns]"
      ]
     },
     "execution_count": 15,
     "metadata": {},
     "output_type": "execute_result"
    }
   ],
   "source": [
    "dfA"
   ]
  },
  {
   "cell_type": "code",
   "execution_count": 16,
   "id": "d51bc80b",
   "metadata": {
    "ExecuteTime": {
     "end_time": "2022-09-07T11:15:18.911205Z",
     "start_time": "2022-09-07T11:15:18.900235Z"
    }
   },
   "outputs": [
    {
     "data": {
      "text/plain": [
       "pandas.core.frame.DataFrame"
      ]
     },
     "execution_count": 16,
     "metadata": {},
     "output_type": "execute_result"
    }
   ],
   "source": [
    "type(dfA)"
   ]
  },
  {
   "cell_type": "code",
   "execution_count": 17,
   "id": "9a4a2c8e",
   "metadata": {
    "ExecuteTime": {
     "end_time": "2022-09-07T11:15:19.373260Z",
     "start_time": "2022-09-07T11:15:18.915193Z"
    }
   },
   "outputs": [
    {
     "name": "stdout",
     "output_type": "stream",
     "text": [
      "WARNING:recordlinkage:indexing - performance warning - A full index can result in large number of record pairs.\n"
     ]
    }
   ],
   "source": [
    "indexer = recordlinkage.Index()\n",
    "indexer.full()\n",
    "pairs = indexer.index(dfA , dfB)"
   ]
  },
  {
   "cell_type": "code",
   "execution_count": 18,
   "id": "8ec42d22",
   "metadata": {
    "ExecuteTime": {
     "end_time": "2022-09-07T11:15:19.388219Z",
     "start_time": "2022-09-07T11:15:19.378245Z"
    }
   },
   "outputs": [
    {
     "name": "stdout",
     "output_type": "stream",
     "text": [
      "5000 5000 25000000\n"
     ]
    }
   ],
   "source": [
    "print(len(dfA), len(dfB) , len(pairs))"
   ]
  },
  {
   "cell_type": "code",
   "execution_count": 19,
   "id": "466ed855",
   "metadata": {
    "ExecuteTime": {
     "end_time": "2022-09-07T11:15:19.465015Z",
     "start_time": "2022-09-07T11:15:19.448059Z"
    }
   },
   "outputs": [
    {
     "name": "stdout",
     "output_type": "stream",
     "text": [
      "MultiIndex([('rec-1070-org',  'rec-561-dup-0'),\n",
      "            ('rec-1070-org', 'rec-2642-dup-0'),\n",
      "            ('rec-1070-org',  'rec-608-dup-0'),\n",
      "            ('rec-1070-org', 'rec-3239-dup-0'),\n",
      "            ('rec-1070-org', 'rec-2886-dup-0'),\n",
      "            ('rec-1070-org', 'rec-4285-dup-0'),\n",
      "            ('rec-1070-org',  'rec-929-dup-0'),\n",
      "            ('rec-1070-org', 'rec-4833-dup-0'),\n",
      "            ('rec-1070-org',  'rec-717-dup-0'),\n",
      "            ('rec-1070-org', 'rec-3984-dup-0'),\n",
      "            ...\n",
      "            (  'rec-66-org',  'rec-670-dup-0'),\n",
      "            (  'rec-66-org', 'rec-4134-dup-0'),\n",
      "            (  'rec-66-org', 'rec-3866-dup-0'),\n",
      "            (  'rec-66-org', 'rec-3152-dup-0'),\n",
      "            (  'rec-66-org', 'rec-3363-dup-0'),\n",
      "            (  'rec-66-org', 'rec-4495-dup-0'),\n",
      "            (  'rec-66-org', 'rec-4211-dup-0'),\n",
      "            (  'rec-66-org', 'rec-3131-dup-0'),\n",
      "            (  'rec-66-org', 'rec-3815-dup-0'),\n",
      "            (  'rec-66-org',  'rec-493-dup-0')],\n",
      "           names=['rec_id_1', 'rec_id_2'], length=25000000)\n"
     ]
    }
   ],
   "source": [
    "print(pairs)"
   ]
  },
  {
   "cell_type": "code",
   "execution_count": 20,
   "id": "64bdf7f1",
   "metadata": {
    "ExecuteTime": {
     "end_time": "2022-09-07T11:15:19.774187Z",
     "start_time": "2022-09-07T11:15:19.714347Z"
    }
   },
   "outputs": [
    {
     "data": {
      "text/plain": [
       "77249"
      ]
     },
     "execution_count": 20,
     "metadata": {},
     "output_type": "execute_result"
    }
   ],
   "source": [
    "indexer = recordlinkage.Index()\n",
    "indexer.block('given_name')\n",
    "candidate_links = indexer.index(dfA , dfB)\n",
    "len(candidate_links)"
   ]
  },
  {
   "cell_type": "code",
   "execution_count": 21,
   "id": "b888c879",
   "metadata": {
    "ExecuteTime": {
     "end_time": "2022-09-07T11:15:23.335866Z",
     "start_time": "2022-09-07T11:15:21.574734Z"
    }
   },
   "outputs": [],
   "source": [
    "compare_cl = recordlinkage.Compare()\n",
    "compare_cl.exact(\"given_name\", \"given_name\", label=\"given_name\")\n",
    "compare_cl.string(\"surname\", \"surname\", method=\"jarowinkler\", threshold=0.85, label=\"surname\")\n",
    "compare_cl.exact(\"date_of_birth\", \"date_of_birth\", label=\"date_of_birth\")\n",
    "compare_cl.exact(\"suburb\", \"suburb\", label=\"suburb\")\n",
    "compare_cl.exact(\"state\", \"state\", label=\"state\")\n",
    "compare_cl.string(\"address_1\", \"address_1\", threshold=0.85, label=\"address_1\")\n",
    "features = compare_cl.compute(candidate_links, dfA, dfB)"
   ]
  },
  {
   "cell_type": "code",
   "execution_count": 22,
   "id": "3f7e9b8e",
   "metadata": {
    "ExecuteTime": {
     "end_time": "2022-09-07T11:15:23.382977Z",
     "start_time": "2022-09-07T11:15:23.335866Z"
    }
   },
   "outputs": [
    {
     "data": {
      "text/html": [
       "<div>\n",
       "<style scoped>\n",
       "    .dataframe tbody tr th:only-of-type {\n",
       "        vertical-align: middle;\n",
       "    }\n",
       "\n",
       "    .dataframe tbody tr th {\n",
       "        vertical-align: top;\n",
       "    }\n",
       "\n",
       "    .dataframe thead th {\n",
       "        text-align: right;\n",
       "    }\n",
       "</style>\n",
       "<table border=\"1\" class=\"dataframe\">\n",
       "  <thead>\n",
       "    <tr style=\"text-align: right;\">\n",
       "      <th></th>\n",
       "      <th></th>\n",
       "      <th>given_name</th>\n",
       "      <th>surname</th>\n",
       "      <th>date_of_birth</th>\n",
       "      <th>suburb</th>\n",
       "      <th>state</th>\n",
       "      <th>address_1</th>\n",
       "    </tr>\n",
       "    <tr>\n",
       "      <th>rec_id_1</th>\n",
       "      <th>rec_id_2</th>\n",
       "      <th></th>\n",
       "      <th></th>\n",
       "      <th></th>\n",
       "      <th></th>\n",
       "      <th></th>\n",
       "      <th></th>\n",
       "    </tr>\n",
       "  </thead>\n",
       "  <tbody>\n",
       "    <tr>\n",
       "      <th rowspan=\"5\" valign=\"top\">rec-1070-org</th>\n",
       "      <th>rec-3024-dup-0</th>\n",
       "      <td>1</td>\n",
       "      <td>0.0</td>\n",
       "      <td>0</td>\n",
       "      <td>0</td>\n",
       "      <td>1</td>\n",
       "      <td>0.0</td>\n",
       "    </tr>\n",
       "    <tr>\n",
       "      <th>rec-2371-dup-0</th>\n",
       "      <td>1</td>\n",
       "      <td>0.0</td>\n",
       "      <td>0</td>\n",
       "      <td>0</td>\n",
       "      <td>0</td>\n",
       "      <td>0.0</td>\n",
       "    </tr>\n",
       "    <tr>\n",
       "      <th>rec-4652-dup-0</th>\n",
       "      <td>1</td>\n",
       "      <td>0.0</td>\n",
       "      <td>0</td>\n",
       "      <td>0</td>\n",
       "      <td>0</td>\n",
       "      <td>0.0</td>\n",
       "    </tr>\n",
       "    <tr>\n",
       "      <th>rec-4795-dup-0</th>\n",
       "      <td>1</td>\n",
       "      <td>0.0</td>\n",
       "      <td>0</td>\n",
       "      <td>0</td>\n",
       "      <td>1</td>\n",
       "      <td>0.0</td>\n",
       "    </tr>\n",
       "    <tr>\n",
       "      <th>rec-1314-dup-0</th>\n",
       "      <td>1</td>\n",
       "      <td>0.0</td>\n",
       "      <td>0</td>\n",
       "      <td>0</td>\n",
       "      <td>1</td>\n",
       "      <td>0.0</td>\n",
       "    </tr>\n",
       "    <tr>\n",
       "      <th>...</th>\n",
       "      <th>...</th>\n",
       "      <td>...</td>\n",
       "      <td>...</td>\n",
       "      <td>...</td>\n",
       "      <td>...</td>\n",
       "      <td>...</td>\n",
       "      <td>...</td>\n",
       "    </tr>\n",
       "    <tr>\n",
       "      <th>rec-4528-org</th>\n",
       "      <th>rec-4528-dup-0</th>\n",
       "      <td>1</td>\n",
       "      <td>1.0</td>\n",
       "      <td>1</td>\n",
       "      <td>1</td>\n",
       "      <td>1</td>\n",
       "      <td>1.0</td>\n",
       "    </tr>\n",
       "    <tr>\n",
       "      <th>rec-4887-org</th>\n",
       "      <th>rec-4887-dup-0</th>\n",
       "      <td>1</td>\n",
       "      <td>1.0</td>\n",
       "      <td>1</td>\n",
       "      <td>0</td>\n",
       "      <td>1</td>\n",
       "      <td>1.0</td>\n",
       "    </tr>\n",
       "    <tr>\n",
       "      <th>rec-4350-org</th>\n",
       "      <th>rec-4350-dup-0</th>\n",
       "      <td>1</td>\n",
       "      <td>1.0</td>\n",
       "      <td>1</td>\n",
       "      <td>1</td>\n",
       "      <td>1</td>\n",
       "      <td>1.0</td>\n",
       "    </tr>\n",
       "    <tr>\n",
       "      <th>rec-4569-org</th>\n",
       "      <th>rec-4569-dup-0</th>\n",
       "      <td>1</td>\n",
       "      <td>1.0</td>\n",
       "      <td>1</td>\n",
       "      <td>1</td>\n",
       "      <td>1</td>\n",
       "      <td>0.0</td>\n",
       "    </tr>\n",
       "    <tr>\n",
       "      <th>rec-3125-org</th>\n",
       "      <th>rec-3125-dup-0</th>\n",
       "      <td>1</td>\n",
       "      <td>1.0</td>\n",
       "      <td>1</td>\n",
       "      <td>0</td>\n",
       "      <td>1</td>\n",
       "      <td>1.0</td>\n",
       "    </tr>\n",
       "  </tbody>\n",
       "</table>\n",
       "<p>77249 rows × 6 columns</p>\n",
       "</div>"
      ],
      "text/plain": [
       "                             given_name  surname  date_of_birth  suburb  \\\n",
       "rec_id_1     rec_id_2                                                     \n",
       "rec-1070-org rec-3024-dup-0           1      0.0              0       0   \n",
       "             rec-2371-dup-0           1      0.0              0       0   \n",
       "             rec-4652-dup-0           1      0.0              0       0   \n",
       "             rec-4795-dup-0           1      0.0              0       0   \n",
       "             rec-1314-dup-0           1      0.0              0       0   \n",
       "...                                 ...      ...            ...     ...   \n",
       "rec-4528-org rec-4528-dup-0           1      1.0              1       1   \n",
       "rec-4887-org rec-4887-dup-0           1      1.0              1       0   \n",
       "rec-4350-org rec-4350-dup-0           1      1.0              1       1   \n",
       "rec-4569-org rec-4569-dup-0           1      1.0              1       1   \n",
       "rec-3125-org rec-3125-dup-0           1      1.0              1       0   \n",
       "\n",
       "                             state  address_1  \n",
       "rec_id_1     rec_id_2                          \n",
       "rec-1070-org rec-3024-dup-0      1        0.0  \n",
       "             rec-2371-dup-0      0        0.0  \n",
       "             rec-4652-dup-0      0        0.0  \n",
       "             rec-4795-dup-0      1        0.0  \n",
       "             rec-1314-dup-0      1        0.0  \n",
       "...                            ...        ...  \n",
       "rec-4528-org rec-4528-dup-0      1        1.0  \n",
       "rec-4887-org rec-4887-dup-0      1        1.0  \n",
       "rec-4350-org rec-4350-dup-0      1        1.0  \n",
       "rec-4569-org rec-4569-dup-0      1        0.0  \n",
       "rec-3125-org rec-3125-dup-0      1        1.0  \n",
       "\n",
       "[77249 rows x 6 columns]"
      ]
     },
     "execution_count": 22,
     "metadata": {},
     "output_type": "execute_result"
    }
   ],
   "source": [
    "features"
   ]
  },
  {
   "cell_type": "code",
   "execution_count": 23,
   "id": "d4c3565d",
   "metadata": {
    "ExecuteTime": {
     "end_time": "2022-09-07T11:15:24.018625Z",
     "start_time": "2022-09-07T11:15:23.997682Z"
    }
   },
   "outputs": [
    {
     "data": {
      "text/plain": [
       "recordlinkage.compare.Exact"
      ]
     },
     "execution_count": 23,
     "metadata": {},
     "output_type": "execute_result"
    }
   ],
   "source": [
    "recordlinkage.compare.Exact"
   ]
  },
  {
   "cell_type": "code",
   "execution_count": 24,
   "id": "6ffa172f",
   "metadata": {
    "ExecuteTime": {
     "end_time": "2022-09-07T11:15:24.669252Z",
     "start_time": "2022-09-07T11:15:24.664264Z"
    }
   },
   "outputs": [],
   "source": [
    "#for cleaning puposes we can you can also use inbuild method "
   ]
  },
  {
   "cell_type": "code",
   "execution_count": null,
   "id": "3b46f693",
   "metadata": {},
   "outputs": [],
   "source": [
    "# The clean() function is used to clean a single column within a data frame, \n",
    "# where the column contains strings. By default, clean() will turn all strings into lowercase\n",
    "# and remove characters such as quotation marks and punctuation. This function is especially useful for\n",
    "# cleaning columns containing attributes such as names, addresses, abstracts, unstructured text, etc. \n",
    "# It is less useful for cleaning columns containing attributes such as phone numbers or lists.\n",
    "# Although not discussed in the documentation, the clean() function also automatically removes leading\n",
    "# and trailing white-space and collapses consecutive white-space into a single space."
   ]
  },
  {
   "cell_type": "code",
   "execution_count": 28,
   "id": "204b9b61",
   "metadata": {
    "ExecuteTime": {
     "end_time": "2022-09-07T11:22:40.553583Z",
     "start_time": "2022-09-07T11:22:40.524662Z"
    }
   },
   "outputs": [
    {
     "data": {
      "text/html": [
       "<div>\n",
       "<style scoped>\n",
       "    .dataframe tbody tr th:only-of-type {\n",
       "        vertical-align: middle;\n",
       "    }\n",
       "\n",
       "    .dataframe tbody tr th {\n",
       "        vertical-align: top;\n",
       "    }\n",
       "\n",
       "    .dataframe thead th {\n",
       "        text-align: right;\n",
       "    }\n",
       "</style>\n",
       "<table border=\"1\" class=\"dataframe\">\n",
       "  <thead>\n",
       "    <tr style=\"text-align: right;\">\n",
       "      <th></th>\n",
       "      <th>given_name</th>\n",
       "      <th>surname</th>\n",
       "      <th>street_number</th>\n",
       "      <th>address_1</th>\n",
       "      <th>address_2</th>\n",
       "      <th>suburb</th>\n",
       "      <th>postcode</th>\n",
       "      <th>state</th>\n",
       "      <th>date_of_birth</th>\n",
       "      <th>soc_sec_id</th>\n",
       "    </tr>\n",
       "    <tr>\n",
       "      <th>rec_id</th>\n",
       "      <th></th>\n",
       "      <th></th>\n",
       "      <th></th>\n",
       "      <th></th>\n",
       "      <th></th>\n",
       "      <th></th>\n",
       "      <th></th>\n",
       "      <th></th>\n",
       "      <th></th>\n",
       "      <th></th>\n",
       "    </tr>\n",
       "  </thead>\n",
       "  <tbody>\n",
       "    <tr>\n",
       "      <th>rec-1070-org</th>\n",
       "      <td>michaela</td>\n",
       "      <td>neumann</td>\n",
       "      <td>8</td>\n",
       "      <td>stanley street</td>\n",
       "      <td>miami</td>\n",
       "      <td>winston hills</td>\n",
       "      <td>4223</td>\n",
       "      <td>nsw</td>\n",
       "      <td>19151111</td>\n",
       "      <td>5304218</td>\n",
       "    </tr>\n",
       "    <tr>\n",
       "      <th>rec-1016-org</th>\n",
       "      <td>courtney</td>\n",
       "      <td>painter</td>\n",
       "      <td>12</td>\n",
       "      <td>pinkerton circuit</td>\n",
       "      <td>bega flats</td>\n",
       "      <td>richlands</td>\n",
       "      <td>4560</td>\n",
       "      <td>vic</td>\n",
       "      <td>19161214</td>\n",
       "      <td>4066625</td>\n",
       "    </tr>\n",
       "    <tr>\n",
       "      <th>rec-4405-org</th>\n",
       "      <td>charles</td>\n",
       "      <td>green</td>\n",
       "      <td>38</td>\n",
       "      <td>salkauskas crescent</td>\n",
       "      <td>kela</td>\n",
       "      <td>dapto</td>\n",
       "      <td>4566</td>\n",
       "      <td>nsw</td>\n",
       "      <td>19480930</td>\n",
       "      <td>4365168</td>\n",
       "    </tr>\n",
       "    <tr>\n",
       "      <th>rec-1288-org</th>\n",
       "      <td>vanessa</td>\n",
       "      <td>parr</td>\n",
       "      <td>905</td>\n",
       "      <td>macquoid place</td>\n",
       "      <td>broadbridge manor</td>\n",
       "      <td>south grafton</td>\n",
       "      <td>2135</td>\n",
       "      <td>sa</td>\n",
       "      <td>19951119</td>\n",
       "      <td>9239102</td>\n",
       "    </tr>\n",
       "    <tr>\n",
       "      <th>rec-3585-org</th>\n",
       "      <td>mikayla</td>\n",
       "      <td>malloney</td>\n",
       "      <td>37</td>\n",
       "      <td>randwick road</td>\n",
       "      <td>avalind</td>\n",
       "      <td>hoppers crossing</td>\n",
       "      <td>4552</td>\n",
       "      <td>vic</td>\n",
       "      <td>19860208</td>\n",
       "      <td>7207688</td>\n",
       "    </tr>\n",
       "  </tbody>\n",
       "</table>\n",
       "</div>"
      ],
      "text/plain": [
       "             given_name   surname street_number            address_1  \\\n",
       "rec_id                                                                 \n",
       "rec-1070-org   michaela   neumann             8       stanley street   \n",
       "rec-1016-org   courtney   painter            12    pinkerton circuit   \n",
       "rec-4405-org    charles     green            38  salkauskas crescent   \n",
       "rec-1288-org    vanessa      parr           905       macquoid place   \n",
       "rec-3585-org    mikayla  malloney            37        randwick road   \n",
       "\n",
       "                      address_2            suburb postcode state  \\\n",
       "rec_id                                                             \n",
       "rec-1070-org              miami     winston hills     4223   nsw   \n",
       "rec-1016-org         bega flats         richlands     4560   vic   \n",
       "rec-4405-org               kela             dapto     4566   nsw   \n",
       "rec-1288-org  broadbridge manor     south grafton     2135    sa   \n",
       "rec-3585-org            avalind  hoppers crossing     4552   vic   \n",
       "\n",
       "             date_of_birth soc_sec_id  \n",
       "rec_id                                 \n",
       "rec-1070-org      19151111    5304218  \n",
       "rec-1016-org      19161214    4066625  \n",
       "rec-4405-org      19480930    4365168  \n",
       "rec-1288-org      19951119    9239102  \n",
       "rec-3585-org      19860208    7207688  "
      ]
     },
     "execution_count": 28,
     "metadata": {},
     "output_type": "execute_result"
    }
   ],
   "source": [
    "dfA.head()"
   ]
  },
  {
   "cell_type": "code",
   "execution_count": 34,
   "id": "afcd59b8",
   "metadata": {
    "ExecuteTime": {
     "end_time": "2022-09-07T11:37:44.896279Z",
     "start_time": "2022-09-07T11:37:44.880320Z"
    }
   },
   "outputs": [],
   "source": [
    "# Default Cleaning\n",
    "company_names = company_names_dirty = pd.DataFrame([\n",
    "    'APPLE COMPUTER INC',\n",
    "    'APPLE COMPUTER, INC.',\n",
    "    'APPLE INC',\n",
    "    'Apple Computer',\n",
    "    'Apple Computer Co.',\n",
    "    'Apple Computer Company',\n",
    "    'Apple Computer Inc',\n",
    "    'Apple Computer    Incorporated',\n",
    "    'Apple Computer, Inc.',\n",
    "    'Apple Inc',\n",
    "    'Apple Inc.',\n",
    "    'Apple, Inc.'\n",
    "])"
   ]
  },
  {
   "cell_type": "code",
   "execution_count": 36,
   "id": "29a467f8",
   "metadata": {
    "ExecuteTime": {
     "end_time": "2022-09-07T11:37:56.331860Z",
     "start_time": "2022-09-07T11:37:56.316238Z"
    }
   },
   "outputs": [],
   "source": [
    "from recordlinkage.standardise import clean\n"
   ]
  },
  {
   "cell_type": "code",
   "execution_count": 37,
   "id": "77b51a44",
   "metadata": {
    "ExecuteTime": {
     "end_time": "2022-09-07T11:38:09.354062Z",
     "start_time": "2022-09-07T11:38:09.328132Z"
    }
   },
   "outputs": [
    {
     "data": {
      "text/html": [
       "<div>\n",
       "<style scoped>\n",
       "    .dataframe tbody tr th:only-of-type {\n",
       "        vertical-align: middle;\n",
       "    }\n",
       "\n",
       "    .dataframe tbody tr th {\n",
       "        vertical-align: top;\n",
       "    }\n",
       "\n",
       "    .dataframe thead th {\n",
       "        text-align: right;\n",
       "    }\n",
       "</style>\n",
       "<table border=\"1\" class=\"dataframe\">\n",
       "  <thead>\n",
       "    <tr style=\"text-align: right;\">\n",
       "      <th></th>\n",
       "      <th>0</th>\n",
       "    </tr>\n",
       "  </thead>\n",
       "  <tbody>\n",
       "    <tr>\n",
       "      <th>0</th>\n",
       "      <td>APPLE COMPUTER INC</td>\n",
       "    </tr>\n",
       "    <tr>\n",
       "      <th>1</th>\n",
       "      <td>APPLE COMPUTER, INC.</td>\n",
       "    </tr>\n",
       "    <tr>\n",
       "      <th>2</th>\n",
       "      <td>APPLE INC</td>\n",
       "    </tr>\n",
       "    <tr>\n",
       "      <th>3</th>\n",
       "      <td>Apple Computer</td>\n",
       "    </tr>\n",
       "    <tr>\n",
       "      <th>4</th>\n",
       "      <td>Apple Computer Co.</td>\n",
       "    </tr>\n",
       "    <tr>\n",
       "      <th>5</th>\n",
       "      <td>Apple Computer Company</td>\n",
       "    </tr>\n",
       "    <tr>\n",
       "      <th>6</th>\n",
       "      <td>Apple Computer Inc</td>\n",
       "    </tr>\n",
       "    <tr>\n",
       "      <th>7</th>\n",
       "      <td>Apple Computer    Incorporated</td>\n",
       "    </tr>\n",
       "    <tr>\n",
       "      <th>8</th>\n",
       "      <td>Apple Computer, Inc.</td>\n",
       "    </tr>\n",
       "    <tr>\n",
       "      <th>9</th>\n",
       "      <td>Apple Inc</td>\n",
       "    </tr>\n",
       "    <tr>\n",
       "      <th>10</th>\n",
       "      <td>Apple Inc.</td>\n",
       "    </tr>\n",
       "    <tr>\n",
       "      <th>11</th>\n",
       "      <td>Apple, Inc.</td>\n",
       "    </tr>\n",
       "  </tbody>\n",
       "</table>\n",
       "</div>"
      ],
      "text/plain": [
       "                                 0\n",
       "0               APPLE COMPUTER INC\n",
       "1             APPLE COMPUTER, INC.\n",
       "2                        APPLE INC\n",
       "3                   Apple Computer\n",
       "4               Apple Computer Co.\n",
       "5           Apple Computer Company\n",
       "6               Apple Computer Inc\n",
       "7   Apple Computer    Incorporated\n",
       "8             Apple Computer, Inc.\n",
       "9                        Apple Inc\n",
       "10                      Apple Inc.\n",
       "11                     Apple, Inc."
      ]
     },
     "execution_count": 37,
     "metadata": {},
     "output_type": "execute_result"
    }
   ],
   "source": [
    "company_names"
   ]
  },
  {
   "cell_type": "code",
   "execution_count": 40,
   "id": "474ae267",
   "metadata": {
    "ExecuteTime": {
     "end_time": "2022-09-07T11:42:05.089792Z",
     "start_time": "2022-09-07T11:42:05.068848Z"
    }
   },
   "outputs": [
    {
     "data": {
      "text/html": [
       "<div>\n",
       "<style scoped>\n",
       "    .dataframe tbody tr th:only-of-type {\n",
       "        vertical-align: middle;\n",
       "    }\n",
       "\n",
       "    .dataframe tbody tr th {\n",
       "        vertical-align: top;\n",
       "    }\n",
       "\n",
       "    .dataframe thead th {\n",
       "        text-align: right;\n",
       "    }\n",
       "</style>\n",
       "<table border=\"1\" class=\"dataframe\">\n",
       "  <thead>\n",
       "    <tr style=\"text-align: right;\">\n",
       "      <th></th>\n",
       "      <th>0</th>\n",
       "      <th>CLEANED_NAMES</th>\n",
       "    </tr>\n",
       "  </thead>\n",
       "  <tbody>\n",
       "    <tr>\n",
       "      <th>0</th>\n",
       "      <td>APPLE COMPUTER INC</td>\n",
       "      <td>apple computer inc</td>\n",
       "    </tr>\n",
       "    <tr>\n",
       "      <th>1</th>\n",
       "      <td>APPLE COMPUTER, INC.</td>\n",
       "      <td>apple computer inc</td>\n",
       "    </tr>\n",
       "    <tr>\n",
       "      <th>2</th>\n",
       "      <td>APPLE INC</td>\n",
       "      <td>apple inc</td>\n",
       "    </tr>\n",
       "    <tr>\n",
       "      <th>3</th>\n",
       "      <td>Apple Computer</td>\n",
       "      <td>apple computer</td>\n",
       "    </tr>\n",
       "    <tr>\n",
       "      <th>4</th>\n",
       "      <td>Apple Computer Co.</td>\n",
       "      <td>apple computer co</td>\n",
       "    </tr>\n",
       "    <tr>\n",
       "      <th>5</th>\n",
       "      <td>Apple Computer Company</td>\n",
       "      <td>apple computer company</td>\n",
       "    </tr>\n",
       "    <tr>\n",
       "      <th>6</th>\n",
       "      <td>Apple Computer Inc</td>\n",
       "      <td>apple computer inc</td>\n",
       "    </tr>\n",
       "    <tr>\n",
       "      <th>7</th>\n",
       "      <td>Apple Computer    Incorporated</td>\n",
       "      <td>apple computer incorporated</td>\n",
       "    </tr>\n",
       "    <tr>\n",
       "      <th>8</th>\n",
       "      <td>Apple Computer, Inc.</td>\n",
       "      <td>apple computer inc</td>\n",
       "    </tr>\n",
       "    <tr>\n",
       "      <th>9</th>\n",
       "      <td>Apple Inc</td>\n",
       "      <td>apple inc</td>\n",
       "    </tr>\n",
       "    <tr>\n",
       "      <th>10</th>\n",
       "      <td>Apple Inc.</td>\n",
       "      <td>apple inc</td>\n",
       "    </tr>\n",
       "    <tr>\n",
       "      <th>11</th>\n",
       "      <td>Apple, Inc.</td>\n",
       "      <td>apple inc</td>\n",
       "    </tr>\n",
       "  </tbody>\n",
       "</table>\n",
       "</div>"
      ],
      "text/plain": [
       "                                 0                CLEANED_NAMES\n",
       "0               APPLE COMPUTER INC           apple computer inc\n",
       "1             APPLE COMPUTER, INC.           apple computer inc\n",
       "2                        APPLE INC                    apple inc\n",
       "3                   Apple Computer               apple computer\n",
       "4               Apple Computer Co.            apple computer co\n",
       "5           Apple Computer Company       apple computer company\n",
       "6               Apple Computer Inc           apple computer inc\n",
       "7   Apple Computer    Incorporated  apple computer incorporated\n",
       "8             Apple Computer, Inc.           apple computer inc\n",
       "9                        Apple Inc                    apple inc\n",
       "10                      Apple Inc.                    apple inc\n",
       "11                     Apple, Inc.                    apple inc"
      ]
     },
     "execution_count": 40,
     "metadata": {},
     "output_type": "execute_result"
    }
   ],
   "source": [
    "company_names['CLEANED_NAMES'] = clean(company_names[0])\n",
    "company_names"
   ]
  },
  {
   "cell_type": "code",
   "execution_count": null,
   "id": "dc827f5c",
   "metadata": {},
   "outputs": [],
   "source": []
  },
  {
   "cell_type": "code",
   "execution_count": null,
   "id": "c891e806",
   "metadata": {},
   "outputs": [],
   "source": []
  },
  {
   "cell_type": "code",
   "execution_count": null,
   "id": "76df10b8",
   "metadata": {},
   "outputs": [],
   "source": []
  }
 ],
 "metadata": {
  "kernelspec": {
   "display_name": "Python 3 (ipykernel)",
   "language": "python",
   "name": "python3"
  },
  "language_info": {
   "codemirror_mode": {
    "name": "ipython",
    "version": 3
   },
   "file_extension": ".py",
   "mimetype": "text/x-python",
   "name": "python",
   "nbconvert_exporter": "python",
   "pygments_lexer": "ipython3",
   "version": "3.9.7"
  },
  "toc": {
   "base_numbering": 1,
   "nav_menu": {},
   "number_sections": true,
   "sideBar": true,
   "skip_h1_title": false,
   "title_cell": "Table of Contents",
   "title_sidebar": "Contents",
   "toc_cell": false,
   "toc_position": {},
   "toc_section_display": true,
   "toc_window_display": false
  }
 },
 "nbformat": 4,
 "nbformat_minor": 5
}
