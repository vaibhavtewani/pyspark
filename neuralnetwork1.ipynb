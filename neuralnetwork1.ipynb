{
 "cells": [
  {
   "cell_type": "markdown",
   "id": "05f188e1",
   "metadata": {},
   "source": [
    "# pandas tutorials"
   ]
  },
  {
   "cell_type": "code",
   "execution_count": 2,
   "id": "13a6d8b2",
   "metadata": {},
   "outputs": [],
   "source": [
    "import numpy as np\n",
    "import pandas as pd\n",
    "from matplotlib import pyplot as plt"
   ]
  },
  {
   "cell_type": "code",
   "execution_count": 3,
   "id": "272f9a6e",
   "metadata": {},
   "outputs": [],
   "source": [
    "data = pd.read_csv( 'E:/kaggle/train.csv')"
   ]
  },
  {
   "cell_type": "code",
   "execution_count": 4,
   "id": "88f796ba",
   "metadata": {},
   "outputs": [
    {
     "data": {
      "text/html": [
       "<div>\n",
       "<style scoped>\n",
       "    .dataframe tbody tr th:only-of-type {\n",
       "        vertical-align: middle;\n",
       "    }\n",
       "\n",
       "    .dataframe tbody tr th {\n",
       "        vertical-align: top;\n",
       "    }\n",
       "\n",
       "    .dataframe thead th {\n",
       "        text-align: right;\n",
       "    }\n",
       "</style>\n",
       "<table border=\"1\" class=\"dataframe\">\n",
       "  <thead>\n",
       "    <tr style=\"text-align: right;\">\n",
       "      <th></th>\n",
       "      <th>label</th>\n",
       "      <th>pixel0</th>\n",
       "      <th>pixel1</th>\n",
       "      <th>pixel2</th>\n",
       "      <th>pixel3</th>\n",
       "      <th>pixel4</th>\n",
       "      <th>pixel5</th>\n",
       "      <th>pixel6</th>\n",
       "      <th>pixel7</th>\n",
       "      <th>pixel8</th>\n",
       "      <th>...</th>\n",
       "      <th>pixel774</th>\n",
       "      <th>pixel775</th>\n",
       "      <th>pixel776</th>\n",
       "      <th>pixel777</th>\n",
       "      <th>pixel778</th>\n",
       "      <th>pixel779</th>\n",
       "      <th>pixel780</th>\n",
       "      <th>pixel781</th>\n",
       "      <th>pixel782</th>\n",
       "      <th>pixel783</th>\n",
       "    </tr>\n",
       "  </thead>\n",
       "  <tbody>\n",
       "    <tr>\n",
       "      <th>0</th>\n",
       "      <td>1</td>\n",
       "      <td>0</td>\n",
       "      <td>0</td>\n",
       "      <td>0</td>\n",
       "      <td>0</td>\n",
       "      <td>0</td>\n",
       "      <td>0</td>\n",
       "      <td>0</td>\n",
       "      <td>0</td>\n",
       "      <td>0</td>\n",
       "      <td>...</td>\n",
       "      <td>0</td>\n",
       "      <td>0</td>\n",
       "      <td>0</td>\n",
       "      <td>0</td>\n",
       "      <td>0</td>\n",
       "      <td>0</td>\n",
       "      <td>0</td>\n",
       "      <td>0</td>\n",
       "      <td>0</td>\n",
       "      <td>0</td>\n",
       "    </tr>\n",
       "    <tr>\n",
       "      <th>1</th>\n",
       "      <td>0</td>\n",
       "      <td>0</td>\n",
       "      <td>0</td>\n",
       "      <td>0</td>\n",
       "      <td>0</td>\n",
       "      <td>0</td>\n",
       "      <td>0</td>\n",
       "      <td>0</td>\n",
       "      <td>0</td>\n",
       "      <td>0</td>\n",
       "      <td>...</td>\n",
       "      <td>0</td>\n",
       "      <td>0</td>\n",
       "      <td>0</td>\n",
       "      <td>0</td>\n",
       "      <td>0</td>\n",
       "      <td>0</td>\n",
       "      <td>0</td>\n",
       "      <td>0</td>\n",
       "      <td>0</td>\n",
       "      <td>0</td>\n",
       "    </tr>\n",
       "    <tr>\n",
       "      <th>2</th>\n",
       "      <td>1</td>\n",
       "      <td>0</td>\n",
       "      <td>0</td>\n",
       "      <td>0</td>\n",
       "      <td>0</td>\n",
       "      <td>0</td>\n",
       "      <td>0</td>\n",
       "      <td>0</td>\n",
       "      <td>0</td>\n",
       "      <td>0</td>\n",
       "      <td>...</td>\n",
       "      <td>0</td>\n",
       "      <td>0</td>\n",
       "      <td>0</td>\n",
       "      <td>0</td>\n",
       "      <td>0</td>\n",
       "      <td>0</td>\n",
       "      <td>0</td>\n",
       "      <td>0</td>\n",
       "      <td>0</td>\n",
       "      <td>0</td>\n",
       "    </tr>\n",
       "    <tr>\n",
       "      <th>3</th>\n",
       "      <td>4</td>\n",
       "      <td>0</td>\n",
       "      <td>0</td>\n",
       "      <td>0</td>\n",
       "      <td>0</td>\n",
       "      <td>0</td>\n",
       "      <td>0</td>\n",
       "      <td>0</td>\n",
       "      <td>0</td>\n",
       "      <td>0</td>\n",
       "      <td>...</td>\n",
       "      <td>0</td>\n",
       "      <td>0</td>\n",
       "      <td>0</td>\n",
       "      <td>0</td>\n",
       "      <td>0</td>\n",
       "      <td>0</td>\n",
       "      <td>0</td>\n",
       "      <td>0</td>\n",
       "      <td>0</td>\n",
       "      <td>0</td>\n",
       "    </tr>\n",
       "    <tr>\n",
       "      <th>4</th>\n",
       "      <td>0</td>\n",
       "      <td>0</td>\n",
       "      <td>0</td>\n",
       "      <td>0</td>\n",
       "      <td>0</td>\n",
       "      <td>0</td>\n",
       "      <td>0</td>\n",
       "      <td>0</td>\n",
       "      <td>0</td>\n",
       "      <td>0</td>\n",
       "      <td>...</td>\n",
       "      <td>0</td>\n",
       "      <td>0</td>\n",
       "      <td>0</td>\n",
       "      <td>0</td>\n",
       "      <td>0</td>\n",
       "      <td>0</td>\n",
       "      <td>0</td>\n",
       "      <td>0</td>\n",
       "      <td>0</td>\n",
       "      <td>0</td>\n",
       "    </tr>\n",
       "  </tbody>\n",
       "</table>\n",
       "<p>5 rows × 785 columns</p>\n",
       "</div>"
      ],
      "text/plain": [
       "   label  pixel0  pixel1  pixel2  pixel3  pixel4  pixel5  pixel6  pixel7  \\\n",
       "0      1       0       0       0       0       0       0       0       0   \n",
       "1      0       0       0       0       0       0       0       0       0   \n",
       "2      1       0       0       0       0       0       0       0       0   \n",
       "3      4       0       0       0       0       0       0       0       0   \n",
       "4      0       0       0       0       0       0       0       0       0   \n",
       "\n",
       "   pixel8  ...  pixel774  pixel775  pixel776  pixel777  pixel778  pixel779  \\\n",
       "0       0  ...         0         0         0         0         0         0   \n",
       "1       0  ...         0         0         0         0         0         0   \n",
       "2       0  ...         0         0         0         0         0         0   \n",
       "3       0  ...         0         0         0         0         0         0   \n",
       "4       0  ...         0         0         0         0         0         0   \n",
       "\n",
       "   pixel780  pixel781  pixel782  pixel783  \n",
       "0         0         0         0         0  \n",
       "1         0         0         0         0  \n",
       "2         0         0         0         0  \n",
       "3         0         0         0         0  \n",
       "4         0         0         0         0  \n",
       "\n",
       "[5 rows x 785 columns]"
      ]
     },
     "execution_count": 4,
     "metadata": {},
     "output_type": "execute_result"
    }
   ],
   "source": [
    "data.head()"
   ]
  },
  {
   "cell_type": "code",
   "execution_count": 5,
   "id": "0e8ff6ca",
   "metadata": {},
   "outputs": [],
   "source": [
    "data = np.array(data)\n",
    "m, n = data.shape\n",
    "np.random.shuffle(data) # shuffle before splitting into dev and training sets\n",
    "\n",
    "data_dev = data[0:1000].T\n",
    "Y_dev = data_dev[0]\n",
    "X_dev = data_dev[1:n]\n",
    "X_dev = X_dev / 255.\n",
    "\n",
    "data_train = data[1000:m].T\n",
    "Y_train = data_train[0]\n",
    "X_train = data_train[1:n]\n",
    "X_train = X_train / 255.   #deviding it by 255 as each pixel is from 0 to 255 \n",
    "_,m_train = X_train.shape"
   ]
  },
  {
   "cell_type": "code",
   "execution_count": 6,
   "id": "b8af8ffd-9c90-484f-902f-3b120a7cdd21",
   "metadata": {},
   "outputs": [
    {
     "data": {
      "text/plain": [
       "'array([2, 1, 4, ..., 9, 7, 8])\\nOur NN will have a simple two-layer architecture. Input layer a[0] will have 784 units corresponding to the 784 pixels in each 28x28 input image. A hidden layer a[1] will have 10 units with ReLU activation, and finally our output layer a[2] will have 10 units corresponding to the ten digit classes with softmax activation.\\n\\nForward propagation\\n\\nZ[1]=W[1]X+b[1]  \\nA[1]=gReLU(Z[1]))\\nZ[2]=W[2]A[1]+b[2]\\nA[2]=gsoftmax(Z[2])\\nBackward propagation\\n\\ndZ[2]=A[2]−Y             /derivatives of softmax and relu functions \\ndW[2]=1mdZ[2]A[1]T\\ndB[2]=1mΣdZ[2]\\ndZ[1]=W[2]TdZ[2].∗g[1]′(z[1])\\ndW[1]=1mdZ[1]A[0]T\\ndB[1]=1mΣdZ[1]\\nParameter updates\\n\\nW[2]:=W[2]−αdW[2]\\nb[2]:=b[2]−αdb[2] / alpha (α) is the learning rate \\nW[1]:=W[1]−αdW[1] /changing weights and biases for better learning of the model\\nb[1]:=b[1]−αdb[1]\\n\\n\\n\\nVars and shapes\\n\\nForward prop\\n\\nA[0]=X: 784 x m\\nZ[1]∼A[1]: 10 x m                  /here z means  =a layer in a neural network \\nW[1]: 10 x 784 (as W[1]A[0]∼Z[1])\\nB[1]: 10 x 1\\nZ[2]∼A[2]: 10 x m\\nW[1]: 10 x 10 (as W[2]A[1]∼Z[2])\\nB[2]: 10 x 1\\nBackprop\\n\\ndZ[2]: 10 x m ( A[2])\\ndW[2]: 10 x 10\\ndB[2]: 10 x 1\\ndZ[1]: 10 x m ( A[1])\\ndW[1]: 10 x 10\\ndB[1]: 10 x 1\\n'"
      ]
     },
     "execution_count": 6,
     "metadata": {},
     "output_type": "execute_result"
    }
   ],
   "source": [
    "\n",
    "\"\"\"array([2, 1, 4, ..., 9, 7, 8])\n",
    "Our NN will have a simple two-layer architecture. Input layer a[0] will have 784 units corresponding to the 784 pixels in each 28x28 input image. A hidden layer a[1] will have 10 units with ReLU activation, and finally our output layer a[2] will have 10 units corresponding to the ten digit classes with softmax activation.\n",
    "\n",
    "Forward propagation\n",
    "\n",
    "Z[1]=W[1]X+b[1]  \n",
    "A[1]=gReLU(Z[1]))\n",
    "Z[2]=W[2]A[1]+b[2]\n",
    "A[2]=gsoftmax(Z[2])\n",
    "Backward propagation\n",
    "\n",
    "dZ[2]=A[2]−Y             /derivatives of softmax and relu functions \n",
    "dW[2]=1mdZ[2]A[1]T\n",
    "dB[2]=1mΣdZ[2]\n",
    "dZ[1]=W[2]TdZ[2].∗g[1]′(z[1])\n",
    "dW[1]=1mdZ[1]A[0]T\n",
    "dB[1]=1mΣdZ[1]\n",
    "Parameter updates\n",
    "\n",
    "W[2]:=W[2]−αdW[2]\n",
    "b[2]:=b[2]−αdb[2] / alpha (α) is the learning rate \n",
    "W[1]:=W[1]−αdW[1] /changing weights and biases for better learning of the model\n",
    "b[1]:=b[1]−αdb[1]\n",
    "\n",
    "\n",
    "\n",
    "Vars and shapes\n",
    "\n",
    "Forward prop\n",
    "\n",
    "A[0]=X: 784 x m\n",
    "Z[1]∼A[1]: 10 x m                  /here z means  =a layer in a neural network \n",
    "W[1]: 10 x 784 (as W[1]A[0]∼Z[1])\n",
    "B[1]: 10 x 1\n",
    "Z[2]∼A[2]: 10 x m\n",
    "W[1]: 10 x 10 (as W[2]A[1]∼Z[2])\n",
    "B[2]: 10 x 1\n",
    "Backprop\n",
    "\n",
    "dZ[2]: 10 x m ( A[2])\n",
    "dW[2]: 10 x 10\n",
    "dB[2]: 10 x 1\n",
    "dZ[1]: 10 x m ( A[1])\n",
    "dW[1]: 10 x 10\n",
    "dB[1]: 10 x 1\n",
    "\"\"\""
   ]
  },
  {
   "cell_type": "code",
   "execution_count": null,
   "id": "d6503bf5-9f4b-4334-bc9b-066dc5691fad",
   "metadata": {},
   "outputs": [],
   "source": []
  },
  {
   "cell_type": "code",
   "execution_count": 9,
   "id": "9487aba7",
   "metadata": {},
   "outputs": [
    {
     "ename": "NameError",
     "evalue": "name 'y_train' is not defined",
     "output_type": "error",
     "traceback": [
      "\u001b[1;31m---------------------------------------------------------------------------\u001b[0m",
      "\u001b[1;31mNameError\u001b[0m                                 Traceback (most recent call last)",
      "\u001b[1;32m~\\AppData\\Local\\Temp/ipykernel_11520/2642340758.py\u001b[0m in \u001b[0;36m<module>\u001b[1;34m\u001b[0m\n\u001b[1;32m----> 1\u001b[1;33m \u001b[0my_train\u001b[0m\u001b[1;33m\u001b[0m\u001b[1;33m\u001b[0m\u001b[0m\n\u001b[0m",
      "\u001b[1;31mNameError\u001b[0m: name 'y_train' is not defined"
     ]
    }
   ],
   "source": [
    "y_train"
   ]
  },
  {
   "cell_type": "code",
   "execution_count": 10,
   "id": "ec4ce7c5",
   "metadata": {
    "scrolled": true
   },
   "outputs": [
    {
     "data": {
      "text/plain": [
       "array([[0.21397129, 0.43211244, 0.06369825, ..., 0.43931303, 0.73137173,\n",
       "        0.58918666],\n",
       "       [0.56541061, 0.78666888, 0.15747586, ..., 0.94571561, 0.51021148,\n",
       "        0.45953339]])"
      ]
     },
     "execution_count": 10,
     "metadata": {},
     "output_type": "execute_result"
    }
   ],
   "source": [
    "np.random.rand(2,784)"
   ]
  },
  {
   "cell_type": "markdown",
   "id": "0d5c3664",
   "metadata": {},
   "source": [
    "### initiaalisinng the paraametres for wieghts and biass "
   ]
  },
  {
   "cell_type": "code",
   "execution_count": 11,
   "id": "6eee61d1",
   "metadata": {},
   "outputs": [],
   "source": [
    "def init_params():\n",
    "    W1 = np.random.rand(10, 784) - 0.5\n",
    "    b1 = np.random.rand(10, 1) - 0.5\n",
    "    W2 = np.random.rand(10, 10) - 0.5\n",
    "    b2 = np.random.rand(10, 1) - 0.5\n",
    "    return W1, b1, W2, b2\n",
    "\n",
    "def ReLU(Z):\n",
    "    return np.maximum(Z, 0)\n",
    "\n",
    "def softmax(Z):\n",
    "    A = np.exp(Z) / sum(np.exp(Z))\n",
    "    return A\n",
    "    \n",
    "def forward_prop(W1, b1, W2, b2, X):\n",
    "    Z1 = W1.dot(X) + b1\n",
    "    A1 = ReLU(Z1)\n",
    "    Z2 = W2.dot(A1) + b2\n",
    "    A2 = softmax(Z2)\n",
    "    return Z1, A1, Z2, A2\n",
    "\n",
    "def ReLU_deriv(Z):\n",
    "    return Z > 0\n",
    "\n",
    "def one_hot(Y):\n",
    "    one_hot_Y = np.zeros((Y.size, Y.max() + 1))\n",
    "    one_hot_Y[np.arange(Y.size), Y] = 1\n",
    "    one_hot_Y = one_hot_Y.T\n",
    "    return one_hot_Y\n",
    "\n",
    "def backward_prop(Z1, A1, Z2, A2, W1, W2, X, Y):\n",
    "    one_hot_Y = one_hot(Y)\n",
    "    dZ2 = A2 - one_hot_Y\n",
    "    dW2 = 1 / m * dZ2.dot(A1.T)\n",
    "    db2 = 1 / m * np.sum(dZ2)\n",
    "    dZ1 = W2.T.dot(dZ2) * ReLU_deriv(Z1)\n",
    "    dW1 = 1 / m * dZ1.dot(X.T)\n",
    "    db1 = 1 / m * np.sum(dZ1)\n",
    "    return dW1, db1, dW2, db2\n",
    "\n",
    "def update_params(W1, b1, W2, b2, dW1, db1, dW2, db2, alpha):\n",
    "    W1 = W1 - alpha * dW1\n",
    "    b1 = b1 - alpha * db1    \n",
    "    W2 = W2 - alpha * dW2  \n",
    "    b2 = b2 - alpha * db2    \n",
    "    return W1, b1, W2, b2"
   ]
  },
  {
   "cell_type": "code",
   "execution_count": 12,
   "id": "1f96ebb2",
   "metadata": {},
   "outputs": [],
   "source": [
    "def get_predictions(A2):\n",
    "    return np.argmax(A2, 0)\n",
    "\n",
    "def get_accuracy(predictions, Y):\n",
    "    print(predictions, Y)\n",
    "    return np.sum(predictions == Y) / Y.size\n",
    "\n",
    "def gradient_descent(X, Y, alpha, iterations):\n",
    "    W1, b1, W2, b2 = init_params()\n",
    "    for i in range(iterations):\n",
    "        Z1, A1, Z2, A2 = forward_prop(W1, b1, W2, b2, X)\n",
    "        dW1, db1, dW2, db2 = backward_prop(Z1, A1, Z2, A2, W1, W2, X, Y)\n",
    "        W1, b1, W2, b2 = update_params(W1, b1, W2, b2, dW1, db1, dW2, db2, alpha)\n",
    "        if i % 10 == 0:\n",
    "            print(\"Iteration: \", i)\n",
    "            predictions = get_predictions(A2)\n",
    "            print(get_accuracy(predictions, Y))\n",
    "    return W1, b1, W2, b2"
   ]
  },
  {
   "cell_type": "code",
   "execution_count": 13,
   "id": "1f2717f5",
   "metadata": {},
   "outputs": [
    {
     "name": "stdout",
     "output_type": "stream",
     "text": [
      "Iteration:  0\n",
      "[6 2 7 ... 2 2 6] [9 6 4 ... 6 9 7]\n",
      "0.06178048780487805\n",
      "Iteration:  10\n",
      "[6 0 7 ... 6 5 6] [9 6 4 ... 6 9 7]\n",
      "0.15678048780487805\n",
      "Iteration:  20\n",
      "[4 0 7 ... 6 5 4] [9 6 4 ... 6 9 7]\n",
      "0.2526829268292683\n",
      "Iteration:  30\n",
      "[4 0 7 ... 6 7 4] [9 6 4 ... 6 9 7]\n",
      "0.33346341463414636\n",
      "Iteration:  40\n",
      "[4 6 7 ... 6 7 4] [9 6 4 ... 6 9 7]\n",
      "0.42485365853658535\n",
      "Iteration:  50\n",
      "[4 6 7 ... 6 7 4] [9 6 4 ... 6 9 7]\n",
      "0.4949268292682927\n",
      "Iteration:  60\n",
      "[4 6 7 ... 6 7 4] [9 6 4 ... 6 9 7]\n",
      "0.5359756097560976\n",
      "Iteration:  70\n",
      "[4 6 9 ... 6 7 7] [9 6 4 ... 6 9 7]\n",
      "0.5679756097560975\n",
      "Iteration:  80\n",
      "[4 6 4 ... 6 7 7] [9 6 4 ... 6 9 7]\n",
      "0.5959024390243902\n",
      "Iteration:  90\n",
      "[4 6 4 ... 6 7 7] [9 6 4 ... 6 9 7]\n",
      "0.6167560975609756\n",
      "Iteration:  100\n",
      "[4 6 4 ... 6 7 7] [9 6 4 ... 6 9 7]\n",
      "0.6353658536585366\n",
      "Iteration:  110\n",
      "[4 6 4 ... 6 7 7] [9 6 4 ... 6 9 7]\n",
      "0.6541219512195122\n",
      "Iteration:  120\n",
      "[4 6 4 ... 6 7 7] [9 6 4 ... 6 9 7]\n",
      "0.6694634146341464\n",
      "Iteration:  130\n",
      "[4 6 4 ... 6 7 7] [9 6 4 ... 6 9 7]\n",
      "0.683609756097561\n",
      "Iteration:  140\n",
      "[4 6 4 ... 6 7 7] [9 6 4 ... 6 9 7]\n",
      "0.6967560975609756\n",
      "Iteration:  150\n",
      "[4 6 4 ... 6 7 7] [9 6 4 ... 6 9 7]\n",
      "0.7080731707317073\n",
      "Iteration:  160\n",
      "[4 6 4 ... 6 7 7] [9 6 4 ... 6 9 7]\n",
      "0.7185609756097561\n",
      "Iteration:  170\n",
      "[4 6 4 ... 6 7 7] [9 6 4 ... 6 9 7]\n",
      "0.7275609756097561\n",
      "Iteration:  180\n",
      "[4 6 4 ... 6 7 7] [9 6 4 ... 6 9 7]\n",
      "0.7362439024390244\n",
      "Iteration:  190\n",
      "[4 6 4 ... 6 7 7] [9 6 4 ... 6 9 7]\n",
      "0.7435365853658537\n",
      "Iteration:  200\n",
      "[4 6 4 ... 6 7 7] [9 6 4 ... 6 9 7]\n",
      "0.7500975609756098\n",
      "Iteration:  210\n",
      "[4 6 4 ... 6 7 7] [9 6 4 ... 6 9 7]\n",
      "0.7567073170731707\n",
      "Iteration:  220\n",
      "[4 6 4 ... 6 7 7] [9 6 4 ... 6 9 7]\n",
      "0.7630243902439025\n",
      "Iteration:  230\n",
      "[4 6 4 ... 6 7 7] [9 6 4 ... 6 9 7]\n",
      "0.7681463414634147\n",
      "Iteration:  240\n",
      "[4 6 4 ... 6 7 7] [9 6 4 ... 6 9 7]\n",
      "0.7730243902439025\n",
      "Iteration:  250\n",
      "[4 6 4 ... 6 7 7] [9 6 4 ... 6 9 7]\n",
      "0.7778048780487805\n",
      "Iteration:  260\n",
      "[4 6 4 ... 6 9 7] [9 6 4 ... 6 9 7]\n",
      "0.7813170731707317\n",
      "Iteration:  270\n",
      "[4 6 4 ... 6 9 7] [9 6 4 ... 6 9 7]\n",
      "0.7856829268292683\n",
      "Iteration:  280\n",
      "[4 6 4 ... 6 9 7] [9 6 4 ... 6 9 7]\n",
      "0.7895853658536586\n",
      "Iteration:  290\n",
      "[4 6 4 ... 6 9 7] [9 6 4 ... 6 9 7]\n",
      "0.7933902439024391\n",
      "Iteration:  300\n",
      "[4 6 4 ... 6 9 7] [9 6 4 ... 6 9 7]\n",
      "0.7970731707317074\n",
      "Iteration:  310\n",
      "[4 6 4 ... 6 9 7] [9 6 4 ... 6 9 7]\n",
      "0.8000731707317074\n",
      "Iteration:  320\n",
      "[9 6 4 ... 6 9 7] [9 6 4 ... 6 9 7]\n",
      "0.8041463414634147\n",
      "Iteration:  330\n",
      "[9 6 4 ... 6 9 7] [9 6 4 ... 6 9 7]\n",
      "0.8074878048780488\n",
      "Iteration:  340\n",
      "[9 6 4 ... 6 9 7] [9 6 4 ... 6 9 7]\n",
      "0.810439024390244\n",
      "Iteration:  350\n",
      "[9 6 4 ... 6 9 7] [9 6 4 ... 6 9 7]\n",
      "0.8128536585365853\n",
      "Iteration:  360\n",
      "[9 6 4 ... 6 9 7] [9 6 4 ... 6 9 7]\n",
      "0.8150975609756097\n",
      "Iteration:  370\n",
      "[9 6 4 ... 6 9 7] [9 6 4 ... 6 9 7]\n",
      "0.8171463414634146\n",
      "Iteration:  380\n",
      "[9 6 4 ... 6 9 7] [9 6 4 ... 6 9 7]\n",
      "0.8191951219512195\n",
      "Iteration:  390\n",
      "[9 6 4 ... 6 9 7] [9 6 4 ... 6 9 7]\n",
      "0.8214146341463414\n",
      "Iteration:  400\n",
      "[9 6 4 ... 6 9 7] [9 6 4 ... 6 9 7]\n",
      "0.8231219512195121\n",
      "Iteration:  410\n",
      "[9 6 4 ... 6 9 7] [9 6 4 ... 6 9 7]\n",
      "0.8254390243902439\n",
      "Iteration:  420\n",
      "[9 6 4 ... 6 9 7] [9 6 4 ... 6 9 7]\n",
      "0.8267073170731707\n",
      "Iteration:  430\n",
      "[9 6 4 ... 6 9 7] [9 6 4 ... 6 9 7]\n",
      "0.8290243902439024\n",
      "Iteration:  440\n",
      "[9 6 4 ... 6 9 7] [9 6 4 ... 6 9 7]\n",
      "0.8306585365853658\n",
      "Iteration:  450\n",
      "[9 6 4 ... 6 9 7] [9 6 4 ... 6 9 7]\n",
      "0.8323414634146341\n",
      "Iteration:  460\n",
      "[9 6 4 ... 6 9 7] [9 6 4 ... 6 9 7]\n",
      "0.8344146341463414\n",
      "Iteration:  470\n",
      "[9 6 4 ... 6 9 7] [9 6 4 ... 6 9 7]\n",
      "0.8358536585365853\n",
      "Iteration:  480\n",
      "[9 6 4 ... 6 9 7] [9 6 4 ... 6 9 7]\n",
      "0.8374390243902439\n",
      "Iteration:  490\n",
      "[9 6 4 ... 6 9 7] [9 6 4 ... 6 9 7]\n",
      "0.8391463414634146\n"
     ]
    }
   ],
   "source": [
    "W1, b1, W2, b2 = gradient_descent(X_train, Y_train, 0.10, 500)"
   ]
  },
  {
   "cell_type": "code",
   "execution_count": 14,
   "id": "568b8daf",
   "metadata": {},
   "outputs": [],
   "source": [
    "def make_predictions(X, W1, b1, W2, b2):\n",
    "    _, _, _, A2 = forward_prop(W1, b1, W2, b2, X)\n",
    "    predictions = get_predictions(A2)\n",
    "    return predictions\n",
    "\n",
    "def test_prediction(index, W1, b1, W2, b2):\n",
    "    current_image = X_train[:, index, None]\n",
    "    prediction = make_predictions(X_train[:, index, None], W1, b1, W2, b2)\n",
    "    label = Y_train[index]\n",
    "    print(\"Prediction: \", prediction)\n",
    "    print(\"Label: \", label)\n",
    "    \n",
    "    current_image = current_image.reshape((28, 28)) * 255\n",
    "    plt.gray()\n",
    "    plt.imshow(current_image, interpolation='nearest')\n",
    "    plt.show()"
   ]
  },
  {
   "cell_type": "code",
   "execution_count": 15,
   "id": "4f8ead30",
   "metadata": {},
   "outputs": [
    {
     "name": "stdout",
     "output_type": "stream",
     "text": [
      "Prediction:  [9]\n",
      "Label:  9\n"
     ]
    },
    {
     "data": {
      "image/png": "[encoded data removed]",
      "text/plain": [
       "<Figure size 432x288 with 1 Axes>"
      ]
     },
     "metadata": {
      "needs_background": "light"
     },
     "output_type": "display_data"
    },
    {
     "name": "stdout",
     "output_type": "stream",
     "text": [
      "Prediction:  [6]\n",
      "Label:  6\n"
     ]
    },
    {
     "data": {
      "image/png": "[encoded data removed]",
      "text/plain": [
       "<Figure size 432x288 with 1 Axes>"
      ]
     },
     "metadata": {
      "needs_background": "light"
     },
     "output_type": "display_data"
    },
    {
     "name": "stdout",
     "output_type": "stream",
     "text": [
      "Prediction:  [4]\n",
      "Label:  4\n"
     ]
    },
    {
     "data": {
      "image/png": "[encoded data removed]",
      "text/plain": [
       "<Figure size 432x288 with 1 Axes>"
      ]
     },
     "metadata": {
      "needs_background": "light"
     },
     "output_type": "display_data"
    },
    {
     "name": "stdout",
     "output_type": "stream",
     "text": [
      "Prediction:  [6]\n",
      "Label:  6\n"
     ]
    },
    {
     "data": {
      "image/png": "[encoded data removed]",
      "text/plain": [
       "<Figure size 432x288 with 1 Axes>"
      ]
     },
     "metadata": {
      "needs_background": "light"
     },
     "output_type": "display_data"
    },
    {
     "name": "stdout",
     "output_type": "stream",
     "text": [
      "Prediction:  [6]\n",
      "Label:  6\n"
     ]
    },
    {
     "data": {
      "image/png": "[encoded data removed]",
      "text/plain": [
       "<Figure size 432x288 with 1 Axes>"
      ]
     },
     "metadata": {
      "needs_background": "light"
     },
     "output_type": "display_data"
    }
   ],
   "source": [
    "test_prediction(0, W1, b1, W2, b2)\n",
    "test_prediction(1, W1, b1, W2, b2)\n",
    "test_prediction(2, W1, b1, W2, b2)\n",
    "test_prediction(3, W1, b1, W2, b2)\n",
    "test_prediction(3, W1, b1, W2, b2)"
   ]
  },
  {
   "cell_type": "code",
   "execution_count": 16,
   "id": "8d1705c7",
   "metadata": {},
   "outputs": [
    {
     "name": "stdout",
     "output_type": "stream",
     "text": [
      "Prediction:  [0]\n",
      "Label:  0\n"
     ]
    },
    {
     "data": {
      "image/png": "[encoded data removed]",
      "text/plain": [
       "<Figure size 432x288 with 1 Axes>"
      ]
     },
     "metadata": {
      "needs_background": "light"
     },
     "output_type": "display_data"
    }
   ],
   "source": [
    "test_prediction(5, W1, b1, W2, b2)"
   ]
  },
  {
   "cell_type": "code",
   "execution_count": 17,
   "id": "d1f9c2c1",
   "metadata": {},
   "outputs": [
    {
     "name": "stdout",
     "output_type": "stream",
     "text": [
      "[6 5 8 5 0 1 3 6 4 8 3 5 2 1 1 0 1 8 7 2 6 3 8 5 7 8 7 7 7 8 5 8 3 1 7 7 8\n",
      " 0 5 3 4 4 8 6 9 3 6 1 8 7 3 8 1 7 6 5 5 7 8 3 7 8 7 7 1 6 3 9 1 5 1 9 3 1\n",
      " 7 5 3 5 4 6 8 1 1 0 3 4 0 5 5 5 7 5 3 9 5 9 0 2 6 3 8 2 2 2 5 8 5 7 6 1 9\n",
      " 0 1 2 0 9 4 1 2 2 4 7 1 1 9 3 8 3 7 2 4 4 1 4 7 8 0 9 2 3 9 6 3 8 1 8 1 9\n",
      " 6 8 3 6 2 9 3 3 6 9 2 4 1 9 1 0 0 8 4 7 9 2 1 6 6 1 3 2 4 9 5 1 9 3 7 8 4\n",
      " 7 5 2 9 3 4 1 1 1 3 2 4 0 1 6 6 3 0 0 0 7 1 3 3 8 7 6 8 5 6 8 9 0 7 3 2 1\n",
      " 2 6 1 4 0 0 9 5 3 4 3 5 0 3 7 7 8 6 4 6 9 6 5 7 1 0 9 9 6 4 6 5 1 1 1 5 4\n",
      " 7 4 9 6 9 9 9 7 5 6 8 0 7 1 7 2 1 9 0 3 0 7 6 9 3 7 1 6 1 9 3 2 5 1 1 6 8\n",
      " 4 7 4 0 9 0 2 8 5 8 2 7 1 5 1 3 1 9 1 8 0 8 0 5 6 1 7 0 1 3 5 6 2 1 1 0 1\n",
      " 3 8 2 0 3 9 5 6 0 1 2 3 0 8 5 7 1 2 4 6 1 5 5 0 4 3 6 4 2 9 0 7 0 9 1 7 9\n",
      " 3 8 1 1 0 3 7 7 9 8 0 5 1 2 1 5 3 7 3 4 1 1 0 0 4 7 4 0 0 9 2 3 2 4 7 6 1\n",
      " 3 1 4 9 8 5 2 9 0 2 8 9 5 8 3 6 9 8 4 5 8 1 4 5 2 7 8 2 1 0 7 9 7 0 7 9 2\n",
      " 0 0 8 1 0 9 3 7 8 3 4 4 8 3 3 6 1 0 6 7 7 0 6 9 2 2 9 0 7 1 9 3 1 1 9 1 4\n",
      " 4 4 9 1 4 7 6 6 6 6 7 1 3 7 5 1 9 3 4 6 6 4 6 7 3 7 0 2 6 4 3 6 0 6 2 5 8\n",
      " 9 3 0 2 3 7 8 3 7 0 6 6 6 1 9 3 2 0 6 8 5 3 6 7 3 9 9 7 7 8 0 3 6 7 5 8 2\n",
      " 8 0 5 7 1 5 6 8 0 7 6 5 4 1 6 9 8 1 6 6 7 6 6 2 7 8 7 4 4 3 9 6 6 1 5 6 8\n",
      " 2 4 1 0 1 9 3 5 2 6 7 1 2 8 1 1 8 6 7 0 9 4 2 9 4 2 6 9 4 0 0 3 7 6 2 2 0\n",
      " 0 3 6 8 5 1 0 1 8 1 2 7 9 6 6 8 8 9 2 1 6 2 5 5 3 5 0 2 2 3 2 8 7 0 5 9 1\n",
      " 7 3 1 6 4 4 8 6 8 6 5 6 9 5 1 2 9 2 8 2 1 1 6 9 8 5 8 2 3 2 3 2 2 0 6 7 7\n",
      " 1 5 1 8 3 9 6 8 8 6 5 6 0 7 6 8 4 0 3 4 6 3 8 9 9 3 2 3 6 1 0 7 8 9 1 4 7\n",
      " 1 2 5 6 1 0 8 0 0 7 9 3 7 3 5 2 9 2 5 0 2 7 1 3 1 7 3 6 4 8 0 6 2 1 1 5 9\n",
      " 5 9 8 0 2 9 8 8 4 2 8 1 6 0 9 5 5 1 2 9 2 0 4 1 5 6 8 6 2 0 1 5 2 7 7 4 4\n",
      " 0 7 0 1 3 4 1 4 4 6 2 1 4 0 4 1 0 6 1 6 1 4 0 6 5 8 3 4 4 0 1 3 4 7 6 4 9\n",
      " 6 8 1 2 2 3 9 8 0 8 6 1 2 8 0 6 6 9 6 3 1 9 0 3 0 6 7 4 6 3 0 1 7 2 0 7 6\n",
      " 7 8 7 0 1 7 8 7 9 4 3 6 9 4 6 9 6 5 4 4 5 3 7 7 6 9 4 4 4 2 1 3 0 2 3 6 3\n",
      " 2 6 7 4 6 5 1 4 4 9 2 4 7 2 6 0 8 1 0 9 6 1 5 1 8 7 8 1 8 7 5 6 2 7 1 5 9\n",
      " 0 9 6 9 2 2 0 2 7 7 1 8 0 4 5 9 2 6 7 1 8 6 1 0 1 3 9 3 3 2 6 8 1 5 5 6 0\n",
      " 0] [6 4 8 5 0 1 3 6 4 8 3 6 5 1 7 0 1 8 9 2 6 3 8 5 7 4 7 7 7 8 5 3 3 1 7 7 8\n",
      " 0 3 3 4 4 8 6 7 5 6 1 8 9 3 8 1 7 6 5 5 7 3 3 7 8 7 7 1 6 3 9 1 5 1 9 3 1\n",
      " 7 5 3 8 5 6 8 1 1 0 3 4 0 8 5 2 7 5 3 9 5 9 0 2 6 3 8 3 2 2 6 8 5 7 6 1 9\n",
      " 0 1 2 0 9 4 1 7 8 4 7 1 2 9 3 8 2 7 2 4 4 1 4 9 8 0 3 2 5 4 6 3 3 1 8 1 9\n",
      " 6 8 3 6 2 9 3 3 6 4 2 4 1 9 1 4 0 8 4 7 9 2 1 6 6 1 9 2 4 9 0 4 4 3 7 8 4\n",
      " 7 5 2 9 3 4 1 1 8 5 1 4 0 1 6 6 3 0 0 0 7 1 3 2 8 7 6 8 5 6 8 9 0 7 3 2 1\n",
      " 2 6 8 4 0 0 9 5 3 4 3 3 0 3 7 7 8 6 4 6 9 6 5 9 1 0 9 4 6 4 6 5 1 1 1 5 5\n",
      " 7 4 9 8 9 9 9 7 5 6 8 0 7 1 7 2 1 9 0 5 0 7 6 9 3 7 1 5 1 9 1 2 5 1 1 6 8\n",
      " 4 7 4 0 9 0 2 8 5 8 7 7 1 5 1 3 1 9 1 5 0 8 0 5 6 1 3 0 1 3 5 6 2 1 1 0 1\n",
      " 3 8 2 0 3 5 3 6 0 1 9 3 0 8 9 7 1 2 4 6 1 5 5 0 4 3 6 4 2 9 0 7 0 9 1 7 9\n",
      " 1 8 1 1 0 3 7 7 9 8 9 3 1 2 1 5 5 7 8 4 1 1 0 0 4 7 4 0 0 4 2 3 2 4 7 6 1\n",
      " 9 1 4 4 8 5 2 4 2 2 8 9 5 8 8 6 4 8 4 5 8 1 9 5 2 7 8 2 1 0 7 9 7 0 7 9 2\n",
      " 0 0 8 1 0 9 3 7 8 3 4 4 8 3 3 1 1 0 6 7 7 0 6 9 2 2 9 0 7 1 9 3 1 1 9 1 4\n",
      " 4 4 7 1 4 7 6 6 6 6 7 1 6 7 5 1 7 3 4 6 6 4 6 7 3 7 0 2 6 7 3 6 5 6 2 5 8\n",
      " 5 3 0 2 3 7 8 3 7 0 6 6 6 1 9 5 2 0 5 8 5 3 6 7 3 9 9 7 7 3 0 3 6 7 5 8 2\n",
      " 8 0 5 7 1 5 6 8 0 9 0 5 4 1 6 9 8 1 2 6 7 6 6 2 7 8 7 2 0 3 9 6 2 1 5 6 8\n",
      " 2 4 1 5 1 9 3 6 2 6 7 1 2 8 1 1 8 6 7 0 9 4 2 9 4 2 6 9 4 0 0 3 7 6 2 2 0\n",
      " 0 3 6 8 5 1 0 1 5 1 2 7 9 6 6 8 8 9 8 1 6 2 5 5 3 3 0 0 2 3 2 9 3 0 5 9 1\n",
      " 7 3 1 2 4 4 8 6 8 6 0 6 9 5 1 2 9 2 9 2 1 1 6 9 3 5 8 5 3 2 3 2 2 0 6 7 7\n",
      " 1 5 1 8 3 9 6 1 8 6 5 2 0 7 6 5 4 0 3 4 6 3 8 9 9 3 2 5 6 1 0 4 8 9 1 4 7\n",
      " 1 2 5 6 1 0 8 0 0 5 9 3 7 3 5 2 9 1 3 0 2 9 1 3 1 7 3 6 4 8 0 2 2 1 1 5 9\n",
      " 0 9 8 0 2 9 8 5 4 2 1 1 6 0 9 5 5 1 2 4 2 0 4 1 5 6 8 6 2 0 1 5 7 7 7 4 4\n",
      " 0 7 0 1 3 4 1 4 4 6 2 1 4 0 4 1 0 6 1 6 1 4 0 6 1 8 8 6 4 4 1 3 4 7 6 4 9\n",
      " 6 8 1 3 2 7 9 8 0 9 6 1 2 8 5 6 6 9 6 3 1 9 0 3 0 6 7 9 6 3 0 2 7 2 0 7 6\n",
      " 7 8 7 0 1 7 8 3 9 4 3 6 9 4 6 9 6 5 4 4 5 3 7 7 6 4 4 4 4 2 1 3 0 2 1 5 2\n",
      " 2 4 7 4 3 5 1 4 4 9 2 4 7 2 6 0 8 1 0 8 5 1 5 1 8 7 5 1 8 7 5 6 2 7 1 3 9\n",
      " 0 9 6 9 7 2 0 2 7 7 1 8 0 4 5 9 2 6 7 1 8 0 1 0 1 3 9 3 3 2 6 0 1 5 5 6 0\n",
      " 0]\n"
     ]
    },
    {
     "data": {
      "text/plain": [
       "0.866"
      ]
     },
     "execution_count": 17,
     "metadata": {},
     "output_type": "execute_result"
    }
   ],
   "source": [
    "dev_predictions = make_predictions(X_dev, W1, b1, W2, b2)\n",
    "get_accuracy(dev_predictions, Y_dev)"
   ]
  },
  {
   "cell_type": "code",
   "execution_count": 25,
   "id": "beecd142",
   "metadata": {},
   "outputs": [
    {
     "name": "stdout",
     "output_type": "stream",
     "text": [
      "Prediction:  [0]\n",
      "Label:  0\n"
     ]
    },
    {
     "data": {
      "image/png": "[encoded data removed]",
      "text/plain": [
       "<Figure size 432x288 with 1 Axes>"
      ]
     },
     "metadata": {
      "needs_background": "light"
     },
     "output_type": "display_data"
    }
   ],
   "source": [
    "test_prediction(212, W1, b1, W2, b2)"
   ]
  },
  {
   "cell_type": "code",
   "execution_count": null,
   "id": "78495021",
   "metadata": {},
   "outputs": [],
   "source": []
  }
 ],
 "metadata": {
  "kernelspec": {
   "display_name": "Python 3 (ipykernel)",
   "language": "python",
   "name": "python3"
  },
  "language_info": {
   "codemirror_mode": {
    "name": "ipython",
    "version": 3
   },
   "file_extension": ".py",
   "mimetype": "text/x-python",
   "name": "python",
   "nbconvert_exporter": "python",
   "pygments_lexer": "ipython3",
   "version": "3.9.7"
  }
 },
 "nbformat": 4,
 "nbformat_minor": 5
}
