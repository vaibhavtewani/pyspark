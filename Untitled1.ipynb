{
 "cells": [
  {
   "cell_type": "code",
   "execution_count": 24,
   "id": "0ec070a8",
   "metadata": {
    "ExecuteTime": {
     "end_time": "2022-08-02T01:00:16.538058Z",
     "start_time": "2022-08-02T01:00:16.521832Z"
    }
   },
   "outputs": [],
   "source": [
    "\n",
    "def rotateclockwise(arr):\n",
    "    x = arr[len(arr)-1]\n",
    "    y = np.concatenate((x,(arr[:len(arr)-1])))\n",
    "    return y"
   ]
  },
  {
   "cell_type": "code",
   "execution_count": 25,
   "id": "8114776f",
   "metadata": {
    "ExecuteTime": {
     "end_time": "2022-08-02T01:00:18.073480Z",
     "start_time": "2022-08-02T01:00:18.031253Z"
    }
   },
   "outputs": [
    {
     "name": "stdout",
     "output_type": "stream",
     "text": [
      "[0 1 2 3 4]\n"
     ]
    },
    {
     "ename": "ValueError",
     "evalue": "zero-dimensional arrays cannot be concatenated",
     "output_type": "error",
     "traceback": [
      "\u001b[1;31m---------------------------------------------------------------------------\u001b[0m",
      "\u001b[1;31mValueError\u001b[0m                                Traceback (most recent call last)",
      "\u001b[1;32m~\\AppData\\Local\\Temp/ipykernel_2424/4277337372.py\u001b[0m in \u001b[0;36m<module>\u001b[1;34m\u001b[0m\n\u001b[0;32m      2\u001b[0m \u001b[0mtest_Array\u001b[0m \u001b[1;33m=\u001b[0m \u001b[0mnp\u001b[0m\u001b[1;33m.\u001b[0m\u001b[0marange\u001b[0m\u001b[1;33m(\u001b[0m\u001b[1;36m5\u001b[0m\u001b[1;33m)\u001b[0m\u001b[1;33m\u001b[0m\u001b[1;33m\u001b[0m\u001b[0m\n\u001b[0;32m      3\u001b[0m \u001b[0mprint\u001b[0m\u001b[1;33m(\u001b[0m\u001b[0mtest_Array\u001b[0m\u001b[1;33m)\u001b[0m\u001b[1;33m\u001b[0m\u001b[1;33m\u001b[0m\u001b[0m\n\u001b[1;32m----> 4\u001b[1;33m \u001b[0mprint\u001b[0m\u001b[1;33m(\u001b[0m\u001b[0mrotateclockwise\u001b[0m\u001b[1;33m(\u001b[0m\u001b[0mtest_Array\u001b[0m\u001b[1;33m)\u001b[0m\u001b[1;33m)\u001b[0m\u001b[1;33m\u001b[0m\u001b[1;33m\u001b[0m\u001b[0m\n\u001b[0m",
      "\u001b[1;32m~\\AppData\\Local\\Temp/ipykernel_2424/3715090029.py\u001b[0m in \u001b[0;36mrotateclockwise\u001b[1;34m(arr)\u001b[0m\n\u001b[0;32m      1\u001b[0m \u001b[1;32mdef\u001b[0m \u001b[0mrotateclockwise\u001b[0m\u001b[1;33m(\u001b[0m\u001b[0marr\u001b[0m\u001b[1;33m)\u001b[0m\u001b[1;33m:\u001b[0m\u001b[1;33m\u001b[0m\u001b[1;33m\u001b[0m\u001b[0m\n\u001b[0;32m      2\u001b[0m     \u001b[0mx\u001b[0m \u001b[1;33m=\u001b[0m \u001b[0marr\u001b[0m\u001b[1;33m[\u001b[0m\u001b[0mlen\u001b[0m\u001b[1;33m(\u001b[0m\u001b[0marr\u001b[0m\u001b[1;33m)\u001b[0m\u001b[1;33m-\u001b[0m\u001b[1;36m1\u001b[0m\u001b[1;33m]\u001b[0m\u001b[1;33m\u001b[0m\u001b[1;33m\u001b[0m\u001b[0m\n\u001b[1;32m----> 3\u001b[1;33m     \u001b[0my\u001b[0m \u001b[1;33m=\u001b[0m \u001b[0mnp\u001b[0m\u001b[1;33m.\u001b[0m\u001b[0mconcatenate\u001b[0m\u001b[1;33m(\u001b[0m\u001b[1;33m(\u001b[0m\u001b[0mx\u001b[0m\u001b[1;33m,\u001b[0m\u001b[1;33m(\u001b[0m\u001b[0marr\u001b[0m\u001b[1;33m[\u001b[0m\u001b[1;33m:\u001b[0m\u001b[0mlen\u001b[0m\u001b[1;33m(\u001b[0m\u001b[0marr\u001b[0m\u001b[1;33m)\u001b[0m\u001b[1;33m-\u001b[0m\u001b[1;36m1\u001b[0m\u001b[1;33m]\u001b[0m\u001b[1;33m)\u001b[0m\u001b[1;33m)\u001b[0m\u001b[1;33m)\u001b[0m\u001b[1;33m\u001b[0m\u001b[1;33m\u001b[0m\u001b[0m\n\u001b[0m\u001b[0;32m      4\u001b[0m     \u001b[1;32mreturn\u001b[0m \u001b[0my\u001b[0m\u001b[1;33m\u001b[0m\u001b[1;33m\u001b[0m\u001b[0m\n",
      "\u001b[1;32m<__array_function__ internals>\u001b[0m in \u001b[0;36mconcatenate\u001b[1;34m(*args, **kwargs)\u001b[0m\n",
      "\u001b[1;31mValueError\u001b[0m: zero-dimensional arrays cannot be concatenated"
     ]
    }
   ],
   "source": [
    "import numpy as np\n",
    "test_Array = np.arange(5)\n",
    "print(test_Array)\n",
    "print(rotateclockwise(test_Array))"
   ]
  },
  {
   "cell_type": "code",
   "execution_count": 78,
   "id": "ed9cc876",
   "metadata": {
    "ExecuteTime": {
     "end_time": "2022-09-07T08:15:00.482383Z",
     "start_time": "2022-09-07T08:15:00.470935Z"
    }
   },
   "outputs": [
    {
     "data": {
      "text/plain": [
       "{0: 19, 1: 5, 2: 1, 5: 4, 3: 2, 4: 1}"
      ]
     },
     "execution_count": 78,
     "metadata": {},
     "output_type": "execute_result"
    }
   ],
   "source": [
    "s = 'himynameisvaibhsav'\n",
    "s[1]\n",
    "c = dict()\n",
    "\n",
    "type(d)\n",
    "d"
   ]
  },
  {
   "cell_type": "code",
   "execution_count": 88,
   "id": "e6040695",
   "metadata": {
    "ExecuteTime": {
     "end_time": "2022-09-07T08:19:57.693266Z",
     "start_time": "2022-09-07T08:19:57.667684Z"
    },
    "scrolled": true
   },
   "outputs": [
    {
     "data": {
      "text/plain": [
       "array([1, 0, 0, 5, 3, 1, 0, 4, 3, 5])"
      ]
     },
     "execution_count": 88,
     "metadata": {},
     "output_type": "execute_result"
    }
   ],
   "source": [
    "import numpy as np\n",
    "np.random.seed(1)\n",
    "b= np.random.randint(0,6,10)\n",
    "a = b[::-1]\n",
    "a"
   ]
  },
  {
   "cell_type": "code",
   "execution_count": 89,
   "id": "c0227868",
   "metadata": {
    "ExecuteTime": {
     "end_time": "2022-09-07T08:19:58.683129Z",
     "start_time": "2022-09-07T08:19:58.666244Z"
    }
   },
   "outputs": [
    {
     "data": {
      "text/plain": [
       "array([5, 3, 4, 0, 1, 3, 5, 0, 0, 1])"
      ]
     },
     "execution_count": 89,
     "metadata": {},
     "output_type": "execute_result"
    }
   ],
   "source": [
    "import numpy as np\n",
    "np.random.seed(1)\n",
    "list_1 = np.random.randint(0,6,10)\n",
    "list_1"
   ]
  },
  {
   "cell_type": "code",
   "execution_count": 92,
   "id": "6ff01c6d",
   "metadata": {
    "ExecuteTime": {
     "end_time": "2022-09-07T08:20:21.951809Z",
     "start_time": "2022-09-07T08:20:21.938097Z"
    }
   },
   "outputs": [
    {
     "data": {
      "text/plain": [
       "{}"
      ]
     },
     "execution_count": 92,
     "metadata": {},
     "output_type": "execute_result"
    }
   ],
   "source": [
    "c = dict()\n",
    "c"
   ]
  },
  {
   "cell_type": "code",
   "execution_count": 93,
   "id": "a61c1c8a",
   "metadata": {
    "ExecuteTime": {
     "end_time": "2022-09-07T08:20:25.928148Z",
     "start_time": "2022-09-07T08:20:25.920770Z"
    }
   },
   "outputs": [],
   "source": [
    "dic = dict()"
   ]
  },
  {
   "cell_type": "code",
   "execution_count": 94,
   "id": "04877992",
   "metadata": {
    "ExecuteTime": {
     "end_time": "2022-09-07T08:20:27.843570Z",
     "start_time": "2022-09-07T08:20:27.827569Z"
    }
   },
   "outputs": [
    {
     "name": "stdout",
     "output_type": "stream",
     "text": [
      "True\n"
     ]
    }
   ],
   "source": [
    "# for i in range(len(a)):\n",
    "#     print(a[i])\n",
    "import numpy as np\n",
    "np.random.seed(1)\n",
    "b = np.random.randint(0,6,10)\n",
    "for i in range(len(b)):\n",
    "    if a[i] in c:  \n",
    "        c[a[i]] += 1\n",
    "    else:\n",
    "        c[a[i]] = 1\n",
    "\n",
    "    if(list_1[i]) in dic:\n",
    "        dic[list_1[i]] += 1\n",
    "    else:\n",
    "        dic[list_1[i]] = 1   \n",
    "        \n",
    "print(c==dic)"
   ]
  },
  {
   "cell_type": "code",
   "execution_count": 72,
   "id": "b9fb1505",
   "metadata": {
    "ExecuteTime": {
     "end_time": "2022-09-07T07:44:17.522233Z",
     "start_time": "2022-09-07T07:44:17.509268Z"
    }
   },
   "outputs": [
    {
     "name": "stdout",
     "output_type": "stream",
     "text": [
      "{5: 4, 3: 4, 4: 2, 0: 6, 1: 4}\n",
      "{2: 1, 0: 4, 1: 1, 3: 2, 5: 2}\n"
     ]
    }
   ],
   "source": [
    "print(c)\n",
    "print(dic)"
   ]
  },
  {
   "cell_type": "code",
   "execution_count": 82,
   "id": "a12ad77d",
   "metadata": {
    "ExecuteTime": {
     "end_time": "2022-09-07T08:15:38.500027Z",
     "start_time": "2022-09-07T08:15:38.492886Z"
    }
   },
   "outputs": [],
   "source": [
    "dic = dict()"
   ]
  },
  {
   "cell_type": "code",
   "execution_count": null,
   "id": "f9cd7251",
   "metadata": {},
   "outputs": [],
   "source": []
  },
  {
   "cell_type": "code",
   "execution_count": 18,
   "id": "08e28e92",
   "metadata": {
    "ExecuteTime": {
     "end_time": "2022-09-06T22:20:42.479339Z",
     "start_time": "2022-09-06T22:20:42.458297Z"
    }
   },
   "outputs": [
    {
     "ename": "TypeError",
     "evalue": "unsupported operand type(s) for +: 'dict' and 'str'",
     "output_type": "error",
     "traceback": [
      "\u001b[1;31m---------------------------------------------------------------------------\u001b[0m",
      "\u001b[1;31mTypeError\u001b[0m                                 Traceback (most recent call last)",
      "\u001b[1;32m~\\AppData\\Local\\Temp/ipykernel_6796/49370029.py\u001b[0m in \u001b[0;36m<module>\u001b[1;34m\u001b[0m\n\u001b[0;32m      1\u001b[0m \u001b[1;32mfor\u001b[0m \u001b[0mi\u001b[0m \u001b[1;32min\u001b[0m \u001b[0mrange\u001b[0m\u001b[1;33m(\u001b[0m\u001b[0mlen\u001b[0m\u001b[1;33m(\u001b[0m\u001b[0ms\u001b[0m\u001b[1;33m)\u001b[0m\u001b[1;33m)\u001b[0m\u001b[1;33m:\u001b[0m\u001b[1;33m\u001b[0m\u001b[1;33m\u001b[0m\u001b[0m\n\u001b[0;32m      2\u001b[0m     \u001b[1;32mif\u001b[0m \u001b[0ms\u001b[0m\u001b[1;33m[\u001b[0m\u001b[0mi\u001b[0m\u001b[1;33m]\u001b[0m \u001b[1;32min\u001b[0m \u001b[0md\u001b[0m \u001b[1;33m:\u001b[0m\u001b[1;33m\u001b[0m\u001b[1;33m\u001b[0m\u001b[0m\n\u001b[1;32m----> 3\u001b[1;33m         \u001b[0md\u001b[0m \u001b[1;33m=\u001b[0m \u001b[0md\u001b[0m \u001b[1;33m+\u001b[0m \u001b[0ms\u001b[0m\u001b[1;33m[\u001b[0m\u001b[0mi\u001b[0m\u001b[1;33m]\u001b[0m\u001b[1;33m\u001b[0m\u001b[1;33m\u001b[0m\u001b[0m\n\u001b[0m\u001b[0;32m      4\u001b[0m     \u001b[1;32melse\u001b[0m\u001b[1;33m:\u001b[0m\u001b[1;33m\u001b[0m\u001b[1;33m\u001b[0m\u001b[0m\n\u001b[0;32m      5\u001b[0m         \u001b[0md\u001b[0m\u001b[1;33m[\u001b[0m\u001b[0ms\u001b[0m\u001b[1;33m[\u001b[0m\u001b[0mi\u001b[0m\u001b[1;33m]\u001b[0m\u001b[1;33m]\u001b[0m \u001b[1;33m=\u001b[0m \u001b[1;36m1\u001b[0m\u001b[1;33m\u001b[0m\u001b[1;33m\u001b[0m\u001b[0m\n",
      "\u001b[1;31mTypeError\u001b[0m: unsupported operand type(s) for +: 'dict' and 'str'"
     ]
    }
   ],
   "source": [
    "for i in range(len(s)):\n",
    "    if s[i] in d :\n",
    "        d = d + s[i]\n",
    "    else:\n",
    "        d[s[i]] = 1 \n",
    "print(d)\n",
    "type(d)"
   ]
  },
  {
   "cell_type": "code",
   "execution_count": null,
   "id": "06fd336b",
   "metadata": {},
   "outputs": [],
   "source": [
    "import numpy as np\n",
    "np.random.seed(1)\n",
    "b = np.random.randint(0,6,10)\n",
    "for i in range(len(b)):\n",
    "    if a[i] in c:  \n",
    "        c[a[i]] += 1\n",
    "    else:\n",
    "        c[a[i]] = 1\n",
    "\n",
    "    if(list_1[i]) in dic:\n",
    "        dic[list_1[i]] += 1\n",
    "    else:\n",
    "        dic[list_1[i]] = 1   "
   ]
  },
  {
   "cell_type": "code",
   "execution_count": 100,
   "id": "a0f77c1d",
   "metadata": {
    "ExecuteTime": {
     "end_time": "2022-09-07T17:54:54.548744Z",
     "start_time": "2022-09-07T17:54:54.536113Z"
    }
   },
   "outputs": [
    {
     "name": "stdout",
     "output_type": "stream",
     "text": [
      "{1: 2, 0: 3, 5: 2, 3: 2, 4: 1}\n"
     ]
    },
    {
     "data": {
      "text/plain": [
       "{5: 2, 3: 2, 4: 1, 0: 3, 1: 2}"
      ]
     },
     "execution_count": 100,
     "metadata": {},
     "output_type": "execute_result"
    }
   ],
   "source": [
    "print(c)\n",
    "dic"
   ]
  },
  {
   "cell_type": "code",
   "execution_count": 108,
   "id": "b302a6cc",
   "metadata": {
    "ExecuteTime": {
     "end_time": "2022-09-07T18:03:28.483726Z",
     "start_time": "2022-09-07T18:03:28.472019Z"
    }
   },
   "outputs": [],
   "source": [
    "str_1 = 'catac'\n",
    "str_2 = 'cctaa'\n",
    "dict_1 = dict()"
   ]
  },
  {
   "cell_type": "code",
   "execution_count": 110,
   "id": "8b7301d8",
   "metadata": {
    "ExecuteTime": {
     "end_time": "2022-09-07T18:04:37.299409Z",
     "start_time": "2022-09-07T18:04:37.278678Z"
    }
   },
   "outputs": [
    {
     "ename": "TypeError",
     "evalue": "unsupported operand type(s) for +=: 'dict' and 'str'",
     "output_type": "error",
     "traceback": [
      "\u001b[1;31m---------------------------------------------------------------------------\u001b[0m",
      "\u001b[1;31mTypeError\u001b[0m                                 Traceback (most recent call last)",
      "\u001b[1;32m~\\AppData\\Local\\Temp/ipykernel_6796/1096054579.py\u001b[0m in \u001b[0;36m<module>\u001b[1;34m\u001b[0m\n\u001b[0;32m      1\u001b[0m \u001b[1;32mfor\u001b[0m \u001b[0mi\u001b[0m \u001b[1;32min\u001b[0m \u001b[0mrange\u001b[0m\u001b[1;33m(\u001b[0m\u001b[0mlen\u001b[0m\u001b[1;33m(\u001b[0m\u001b[0mstr_1\u001b[0m\u001b[1;33m)\u001b[0m\u001b[1;33m)\u001b[0m\u001b[1;33m:\u001b[0m\u001b[1;33m\u001b[0m\u001b[1;33m\u001b[0m\u001b[0m\n\u001b[1;32m----> 2\u001b[1;33m         \u001b[0mdict_1\u001b[0m \u001b[1;33m+=\u001b[0m \u001b[0mstr_1\u001b[0m\u001b[1;33m[\u001b[0m\u001b[0mi\u001b[0m\u001b[1;33m]\u001b[0m\u001b[1;33m\u001b[0m\u001b[1;33m\u001b[0m\u001b[0m\n\u001b[0m\u001b[0;32m      3\u001b[0m \u001b[1;33m\u001b[0m\u001b[0m\n\u001b[0;32m      4\u001b[0m \u001b[0mprint\u001b[0m\u001b[1;33m(\u001b[0m\u001b[0mdict_1\u001b[0m \u001b[1;33m,\u001b[0m \u001b[0mtype\u001b[0m\u001b[1;33m(\u001b[0m\u001b[0marr\u001b[0m\u001b[1;33m)\u001b[0m\u001b[1;33m)\u001b[0m\u001b[1;33m\u001b[0m\u001b[1;33m\u001b[0m\u001b[0m\n",
      "\u001b[1;31mTypeError\u001b[0m: unsupported operand type(s) for +=: 'dict' and 'str'"
     ]
    }
   ],
   "source": [
    "for i in range(len(str_1)):\n",
    "    if dict_1[str_1[i]] in dict_1:\n",
    "        pass\n",
    "    else:\n",
    "        dict_1 += 1\n",
    "        \n",
    "print(dict_1 , type(arr))"
   ]
  },
  {
   "cell_type": "code",
   "execution_count": 111,
   "id": "95010d84",
   "metadata": {
    "ExecuteTime": {
     "end_time": "2022-09-08T12:56:45.928730Z",
     "start_time": "2022-09-08T12:56:45.905503Z"
    }
   },
   "outputs": [
    {
     "data": {
      "text/plain": [
       "'catac'"
      ]
     },
     "execution_count": 111,
     "metadata": {},
     "output_type": "execute_result"
    }
   ],
   "source": [
    "str_1"
   ]
  },
  {
   "cell_type": "code",
   "execution_count": 112,
   "id": "8f7a2303",
   "metadata": {
    "ExecuteTime": {
     "end_time": "2022-09-08T12:57:09.524278Z",
     "start_time": "2022-09-08T12:57:09.514694Z"
    }
   },
   "outputs": [
    {
     "data": {
      "text/plain": [
       "'cctaa'"
      ]
     },
     "execution_count": 112,
     "metadata": {},
     "output_type": "execute_result"
    }
   ],
   "source": [
    "str_2"
   ]
  },
  {
   "cell_type": "code",
   "execution_count": 114,
   "id": "fba170f7",
   "metadata": {
    "ExecuteTime": {
     "end_time": "2022-09-08T12:57:45.226131Z",
     "start_time": "2022-09-08T12:57:45.212926Z"
    }
   },
   "outputs": [],
   "source": [
    "dict1 = dict()"
   ]
  },
  {
   "cell_type": "code",
   "execution_count": 130,
   "id": "e3c21d10",
   "metadata": {
    "ExecuteTime": {
     "end_time": "2022-09-08T13:28:45.807040Z",
     "start_time": "2022-09-08T13:28:45.788622Z"
    }
   },
   "outputs": [
    {
     "name": "stdout",
     "output_type": "stream",
     "text": [
      "True\n"
     ]
    }
   ],
   "source": [
    "for i in range(len(str_1)):\n",
    "    if str_1[i] in dict1:\n",
    "        dict1[str_1[i]] += 1 \n",
    "    else:\n",
    "        dict1[str_1[i]] = 1\n",
    "        \n",
    "    if str_2[i] in dict1:\n",
    "        dict1[str_2[i]] += 1\n",
    "    else:\n",
    "        print(False)\n",
    "        \n",
    "\n",
    "for i in dict1.values():\n",
    "    if i % 2 == 0:\n",
    "        v = True\n",
    "    else:\n",
    "        v = False\n",
    "print(v)\n",
    "\n",
    "    \n",
    "\n",
    "#   if dict1.values % 2 == 0:\n",
    "#     print(True)\n",
    "# else:\n",
    "#     print(False)\n",
    "    "
   ]
  },
  {
   "cell_type": "code",
   "execution_count": 132,
   "id": "3d562b41",
   "metadata": {
    "ExecuteTime": {
     "end_time": "2022-09-08T16:00:22.324456Z",
     "start_time": "2022-09-08T16:00:22.301518Z"
    }
   },
   "outputs": [
    {
     "data": {
      "text/plain": [
       "array([5, 3, 4, 0, 1, 3, 5, 0, 0, 1])"
      ]
     },
     "execution_count": 132,
     "metadata": {},
     "output_type": "execute_result"
    }
   ],
   "source": [
    "list_1"
   ]
  },
  {
   "cell_type": "code",
   "execution_count": 136,
   "id": "e4253f1d",
   "metadata": {
    "ExecuteTime": {
     "end_time": "2022-09-08T16:05:12.009352Z",
     "start_time": "2022-09-08T16:05:11.990404Z"
    }
   },
   "outputs": [],
   "source": [
    "list2 = [2,5,6,8,99,6,3]"
   ]
  },
  {
   "cell_type": "code",
   "execution_count": 141,
   "id": "ab0745ce",
   "metadata": {
    "ExecuteTime": {
     "end_time": "2022-09-08T16:06:05.572187Z",
     "start_time": "2022-09-08T16:06:05.550246Z"
    }
   },
   "outputs": [
    {
     "data": {
      "text/plain": [
       "2"
      ]
     },
     "execution_count": 141,
     "metadata": {},
     "output_type": "execute_result"
    }
   ],
   "source": [
    "list2.index(6)"
   ]
  },
  {
   "cell_type": "code",
   "execution_count": 142,
   "id": "8e595f4a",
   "metadata": {
    "ExecuteTime": {
     "end_time": "2022-09-08T16:23:21.470165Z",
     "start_time": "2022-09-08T16:23:21.452212Z"
    }
   },
   "outputs": [],
   "source": [
    "x = set()"
   ]
  },
  {
   "cell_type": "code",
   "execution_count": null,
   "id": "8c448ff4",
   "metadata": {},
   "outputs": [],
   "source": []
  },
  {
   "cell_type": "code",
   "execution_count": null,
   "id": "27b0742e",
   "metadata": {},
   "outputs": [],
   "source": []
  },
  {
   "cell_type": "code",
   "execution_count": null,
   "id": "455cbaf6",
   "metadata": {},
   "outputs": [],
   "source": []
  },
  {
   "cell_type": "code",
   "execution_count": 144,
   "id": "07fb9592",
   "metadata": {
    "ExecuteTime": {
     "end_time": "2022-09-08T16:35:01.389011Z",
     "start_time": "2022-09-08T16:35:01.347126Z"
    }
   },
   "outputs": [
    {
     "ename": "NameError",
     "evalue": "name 'List' is not defined",
     "output_type": "error",
     "traceback": [
      "\u001b[1;31m---------------------------------------------------------------------------\u001b[0m",
      "\u001b[1;31mNameError\u001b[0m                                 Traceback (most recent call last)",
      "\u001b[1;32m~\\AppData\\Local\\Temp/ipykernel_6796/2150714870.py\u001b[0m in \u001b[0;36m<module>\u001b[1;34m\u001b[0m\n\u001b[1;32m----> 1\u001b[1;33m \u001b[1;32mclass\u001b[0m \u001b[0mSolution\u001b[0m\u001b[1;33m:\u001b[0m\u001b[1;33m\u001b[0m\u001b[1;33m\u001b[0m\u001b[0m\n\u001b[0m\u001b[0;32m      2\u001b[0m     \u001b[1;32mdef\u001b[0m \u001b[0mtwoSum\u001b[0m\u001b[1;33m(\u001b[0m\u001b[0mself\u001b[0m\u001b[1;33m,\u001b[0m \u001b[0mnums\u001b[0m\u001b[1;33m:\u001b[0m \u001b[0mList\u001b[0m\u001b[1;33m[\u001b[0m\u001b[0mint\u001b[0m\u001b[1;33m]\u001b[0m\u001b[1;33m,\u001b[0m \u001b[0mtarget\u001b[0m\u001b[1;33m:\u001b[0m \u001b[0mint\u001b[0m\u001b[1;33m)\u001b[0m \u001b[1;33m->\u001b[0m \u001b[0mList\u001b[0m\u001b[1;33m[\u001b[0m\u001b[0mint\u001b[0m\u001b[1;33m]\u001b[0m\u001b[1;33m:\u001b[0m\u001b[1;33m\u001b[0m\u001b[1;33m\u001b[0m\u001b[0m\n\u001b[0;32m      3\u001b[0m         \u001b[0mself\u001b[0m\u001b[1;33m.\u001b[0m\u001b[0mnums\u001b[0m \u001b[1;33m=\u001b[0m \u001b[0mnums\u001b[0m\u001b[1;33m\u001b[0m\u001b[1;33m\u001b[0m\u001b[0m\n\u001b[0;32m      4\u001b[0m         \u001b[0mself\u001b[0m\u001b[1;33m.\u001b[0m\u001b[0mlist\u001b[0m \u001b[1;33m=\u001b[0m \u001b[0mList\u001b[0m\u001b[1;33m\u001b[0m\u001b[1;33m\u001b[0m\u001b[0m\n\u001b[0;32m      5\u001b[0m         \u001b[0mself\u001b[0m\u001b[1;33m.\u001b[0m\u001b[0mtarget\u001b[0m \u001b[1;33m=\u001b[0m \u001b[0mtarget\u001b[0m\u001b[1;33m\u001b[0m\u001b[1;33m\u001b[0m\u001b[0m\n",
      "\u001b[1;32m~\\AppData\\Local\\Temp/ipykernel_6796/2150714870.py\u001b[0m in \u001b[0;36mSolution\u001b[1;34m()\u001b[0m\n\u001b[0;32m      1\u001b[0m \u001b[1;32mclass\u001b[0m \u001b[0mSolution\u001b[0m\u001b[1;33m:\u001b[0m\u001b[1;33m\u001b[0m\u001b[1;33m\u001b[0m\u001b[0m\n\u001b[1;32m----> 2\u001b[1;33m     \u001b[1;32mdef\u001b[0m \u001b[0mtwoSum\u001b[0m\u001b[1;33m(\u001b[0m\u001b[0mself\u001b[0m\u001b[1;33m,\u001b[0m \u001b[0mnums\u001b[0m\u001b[1;33m:\u001b[0m \u001b[0mList\u001b[0m\u001b[1;33m[\u001b[0m\u001b[0mint\u001b[0m\u001b[1;33m]\u001b[0m\u001b[1;33m,\u001b[0m \u001b[0mtarget\u001b[0m\u001b[1;33m:\u001b[0m \u001b[0mint\u001b[0m\u001b[1;33m)\u001b[0m \u001b[1;33m->\u001b[0m \u001b[0mList\u001b[0m\u001b[1;33m[\u001b[0m\u001b[0mint\u001b[0m\u001b[1;33m]\u001b[0m\u001b[1;33m:\u001b[0m\u001b[1;33m\u001b[0m\u001b[1;33m\u001b[0m\u001b[0m\n\u001b[0m\u001b[0;32m      3\u001b[0m         \u001b[0mself\u001b[0m\u001b[1;33m.\u001b[0m\u001b[0mnums\u001b[0m \u001b[1;33m=\u001b[0m \u001b[0mnums\u001b[0m\u001b[1;33m\u001b[0m\u001b[1;33m\u001b[0m\u001b[0m\n\u001b[0;32m      4\u001b[0m         \u001b[0mself\u001b[0m\u001b[1;33m.\u001b[0m\u001b[0mlist\u001b[0m \u001b[1;33m=\u001b[0m \u001b[0mList\u001b[0m\u001b[1;33m\u001b[0m\u001b[1;33m\u001b[0m\u001b[0m\n\u001b[0;32m      5\u001b[0m         \u001b[0mself\u001b[0m\u001b[1;33m.\u001b[0m\u001b[0mtarget\u001b[0m \u001b[1;33m=\u001b[0m \u001b[0mtarget\u001b[0m\u001b[1;33m\u001b[0m\u001b[1;33m\u001b[0m\u001b[0m\n",
      "\u001b[1;31mNameError\u001b[0m: name 'List' is not defined"
     ]
    }
   ],
   "source": [
    "class Solution:\n",
    "    def twoSum(self, nums: List[int], target: int) -> List[int]:\n",
    "        self.nums = nums\n",
    "        self.list = List\n",
    "        self.target = target \n",
    "        \n",
    "        self.list = []\n",
    "        for i in range(0,len(self.nums)):\n",
    "            v = self.nums[i] - target\n",
    "            if v in nums:\n",
    "                self.list.append(i)\n",
    "                print(i)\n",
    "                break\n",
    "        for i in range(len(self.nums)):\n",
    "            if v == self.nums[i]:\n",
    "                self.list.append(i)\n",
    "        return self.list    \n",
    "         "
   ]
  },
  {
   "cell_type": "code",
   "execution_count": 145,
   "id": "18b1ea30",
   "metadata": {
    "ExecuteTime": {
     "end_time": "2022-09-08T20:23:06.294689Z",
     "start_time": "2022-09-08T20:23:06.239319Z"
    }
   },
   "outputs": [
    {
     "data": {
      "text/plain": [
       "{5: 2, 3: 2, 4: 1, 0: 3, 1: 2}"
      ]
     },
     "execution_count": 145,
     "metadata": {},
     "output_type": "execute_result"
    }
   ],
   "source": [
    "dic"
   ]
  },
  {
   "cell_type": "code",
   "execution_count": 146,
   "id": "9540e67f",
   "metadata": {
    "ExecuteTime": {
     "end_time": "2022-09-08T20:38:53.057448Z",
     "start_time": "2022-09-08T20:38:53.042489Z"
    }
   },
   "outputs": [
    {
     "data": {
      "text/plain": [
       "dict"
      ]
     },
     "execution_count": 146,
     "metadata": {},
     "output_type": "execute_result"
    }
   ],
   "source": [
    "dict"
   ]
  },
  {
   "cell_type": "code",
   "execution_count": 147,
   "id": "75da80c4",
   "metadata": {
    "ExecuteTime": {
     "end_time": "2022-09-08T20:38:59.005920Z",
     "start_time": "2022-09-08T20:38:58.982976Z"
    }
   },
   "outputs": [
    {
     "data": {
      "text/plain": [
       "{'c': 48, 'a': 48, 't': 24}"
      ]
     },
     "execution_count": 147,
     "metadata": {},
     "output_type": "execute_result"
    }
   ],
   "source": [
    "dict1"
   ]
  },
  {
   "cell_type": "code",
   "execution_count": 149,
   "id": "5c89f901",
   "metadata": {
    "ExecuteTime": {
     "end_time": "2022-09-08T20:40:42.367850Z",
     "start_time": "2022-09-08T20:40:42.359873Z"
    }
   },
   "outputs": [],
   "source": [
    "dict1['c'] = 1"
   ]
  },
  {
   "cell_type": "code",
   "execution_count": 150,
   "id": "3633e2c6",
   "metadata": {
    "ExecuteTime": {
     "end_time": "2022-09-08T20:40:55.466291Z",
     "start_time": "2022-09-08T20:40:55.452328Z"
    }
   },
   "outputs": [
    {
     "data": {
      "text/plain": [
       "{'c': 1, 'a': 48, 't': 24}"
      ]
     },
     "execution_count": 150,
     "metadata": {},
     "output_type": "execute_result"
    }
   ],
   "source": [
    "dict1"
   ]
  },
  {
   "cell_type": "code",
   "execution_count": 151,
   "id": "bcf41522",
   "metadata": {
    "ExecuteTime": {
     "end_time": "2022-09-08T20:41:16.803591Z",
     "start_time": "2022-09-08T20:41:16.785637Z"
    }
   },
   "outputs": [],
   "source": [
    "dict1['c'] += 1"
   ]
  },
  {
   "cell_type": "code",
   "execution_count": 152,
   "id": "089643ac",
   "metadata": {
    "ExecuteTime": {
     "end_time": "2022-09-08T20:41:34.838400Z",
     "start_time": "2022-09-08T20:41:34.819451Z"
    }
   },
   "outputs": [
    {
     "data": {
      "text/plain": [
       "{'c': 2, 'a': 48, 't': 24}"
      ]
     },
     "execution_count": 152,
     "metadata": {},
     "output_type": "execute_result"
    }
   ],
   "source": [
    "dict1"
   ]
  },
  {
   "cell_type": "code",
   "execution_count": 153,
   "id": "b26a79d4",
   "metadata": {
    "ExecuteTime": {
     "end_time": "2022-09-08T20:41:55.319907Z",
     "start_time": "2022-09-08T20:41:55.297960Z"
    }
   },
   "outputs": [
    {
     "ename": "TypeError",
     "evalue": "unsupported operand type(s) for +=: 'int' and 'str'",
     "output_type": "error",
     "traceback": [
      "\u001b[1;31m---------------------------------------------------------------------------\u001b[0m",
      "\u001b[1;31mTypeError\u001b[0m                                 Traceback (most recent call last)",
      "\u001b[1;32m~\\AppData\\Local\\Temp/ipykernel_6796/1071823007.py\u001b[0m in \u001b[0;36m<module>\u001b[1;34m\u001b[0m\n\u001b[1;32m----> 1\u001b[1;33m \u001b[0mdict1\u001b[0m\u001b[1;33m[\u001b[0m\u001b[1;34m'c'\u001b[0m\u001b[1;33m]\u001b[0m \u001b[1;33m+=\u001b[0m \u001b[1;34m'test'\u001b[0m\u001b[1;33m\u001b[0m\u001b[1;33m\u001b[0m\u001b[0m\n\u001b[0m",
      "\u001b[1;31mTypeError\u001b[0m: unsupported operand type(s) for +=: 'int' and 'str'"
     ]
    }
   ],
   "source": [
    "dict1['c'] += 'test'"
   ]
  },
  {
   "cell_type": "code",
   "execution_count": 154,
   "id": "03c4966b",
   "metadata": {
    "ExecuteTime": {
     "end_time": "2022-09-08T20:42:47.819707Z",
     "start_time": "2022-09-08T20:42:47.813721Z"
    }
   },
   "outputs": [],
   "source": [
    "dict1['c'] = []"
   ]
  },
  {
   "cell_type": "code",
   "execution_count": 155,
   "id": "64192a5c",
   "metadata": {
    "ExecuteTime": {
     "end_time": "2022-09-08T20:42:53.038463Z",
     "start_time": "2022-09-08T20:42:53.015515Z"
    }
   },
   "outputs": [
    {
     "data": {
      "text/plain": [
       "{'c': [], 'a': 48, 't': 24}"
      ]
     },
     "execution_count": 155,
     "metadata": {},
     "output_type": "execute_result"
    }
   ],
   "source": [
    "dict1"
   ]
  },
  {
   "cell_type": "code",
   "execution_count": 156,
   "id": "c15a1bf9",
   "metadata": {
    "ExecuteTime": {
     "end_time": "2022-09-08T20:43:23.860414Z",
     "start_time": "2022-09-08T20:43:23.840466Z"
    }
   },
   "outputs": [],
   "source": [
    "dict1['c'].append('hi')"
   ]
  },
  {
   "cell_type": "code",
   "execution_count": 157,
   "id": "e6a6e81f",
   "metadata": {
    "ExecuteTime": {
     "end_time": "2022-09-08T20:43:29.342929Z",
     "start_time": "2022-09-08T20:43:29.321984Z"
    }
   },
   "outputs": [
    {
     "data": {
      "text/plain": [
       "{'c': ['hi'], 'a': 48, 't': 24}"
      ]
     },
     "execution_count": 157,
     "metadata": {},
     "output_type": "execute_result"
    }
   ],
   "source": [
    "dict1"
   ]
  },
  {
   "cell_type": "code",
   "execution_count": 158,
   "id": "b71a1ceb",
   "metadata": {
    "ExecuteTime": {
     "end_time": "2022-09-08T20:43:58.749699Z",
     "start_time": "2022-09-08T20:43:58.737732Z"
    }
   },
   "outputs": [],
   "source": [
    "dict1['c'].append('hii')"
   ]
  },
  {
   "cell_type": "code",
   "execution_count": 159,
   "id": "d90884f2",
   "metadata": {
    "ExecuteTime": {
     "end_time": "2022-09-08T20:44:03.518344Z",
     "start_time": "2022-09-08T20:44:03.499392Z"
    }
   },
   "outputs": [
    {
     "data": {
      "text/plain": [
       "{'c': ['hi', 'hii'], 'a': 48, 't': 24}"
      ]
     },
     "execution_count": 159,
     "metadata": {},
     "output_type": "execute_result"
    }
   ],
   "source": [
    "dict1"
   ]
  },
  {
   "cell_type": "code",
   "execution_count": 160,
   "id": "f4252503",
   "metadata": {
    "ExecuteTime": {
     "end_time": "2022-09-08T20:52:33.573811Z",
     "start_time": "2022-09-08T20:52:33.562842Z"
    }
   },
   "outputs": [
    {
     "data": {
      "text/plain": [
       "<function dict.values>"
      ]
     },
     "execution_count": 160,
     "metadata": {},
     "output_type": "execute_result"
    }
   ],
   "source": [
    "dict1.values"
   ]
  },
  {
   "cell_type": "code",
   "execution_count": 161,
   "id": "259d1812",
   "metadata": {
    "ExecuteTime": {
     "end_time": "2022-09-08T20:52:49.592606Z",
     "start_time": "2022-09-08T20:52:49.570661Z"
    }
   },
   "outputs": [
    {
     "data": {
      "text/plain": [
       "dict_values([['hi', 'hii'], 48, 24])"
      ]
     },
     "execution_count": 161,
     "metadata": {},
     "output_type": "execute_result"
    }
   ],
   "source": [
    "dict1.values()"
   ]
  },
  {
   "cell_type": "code",
   "execution_count": 163,
   "id": "20f69aff",
   "metadata": {
    "ExecuteTime": {
     "end_time": "2022-09-08T20:53:18.142695Z",
     "start_time": "2022-09-08T20:53:18.134715Z"
    }
   },
   "outputs": [
    {
     "name": "stdout",
     "output_type": "stream",
     "text": [
      "dict_values([['hi', 'hii'], 48, 24])\n"
     ]
    }
   ],
   "source": [
    "print(dict1.values())"
   ]
  },
  {
   "cell_type": "code",
   "execution_count": 185,
   "id": "475258ef",
   "metadata": {
    "ExecuteTime": {
     "end_time": "2022-09-08T21:10:34.942587Z",
     "start_time": "2022-09-08T21:10:34.914660Z"
    }
   },
   "outputs": [
    {
     "ename": "AttributeError",
     "evalue": "'str' object has no attribute 'sorted'",
     "output_type": "error",
     "traceback": [
      "\u001b[1;31m---------------------------------------------------------------------------\u001b[0m",
      "\u001b[1;31mAttributeError\u001b[0m                            Traceback (most recent call last)",
      "\u001b[1;32m~\\AppData\\Local\\Temp/ipykernel_6796/3665040326.py\u001b[0m in \u001b[0;36m<module>\u001b[1;34m\u001b[0m\n\u001b[1;32m----> 1\u001b[1;33m \u001b[0mstr_1\u001b[0m\u001b[1;33m.\u001b[0m\u001b[0msorted\u001b[0m\u001b[1;33m(\u001b[0m\u001b[1;33m)\u001b[0m\u001b[1;33m\u001b[0m\u001b[1;33m\u001b[0m\u001b[0m\n\u001b[0m",
      "\u001b[1;31mAttributeError\u001b[0m: 'str' object has no attribute 'sorted'"
     ]
    }
   ],
   "source": [
    "str_1."
   ]
  },
  {
   "cell_type": "code",
   "execution_count": 191,
   "id": "17b23713",
   "metadata": {
    "ExecuteTime": {
     "end_time": "2022-09-08T21:17:59.632148Z",
     "start_time": "2022-09-08T21:17:59.621180Z"
    }
   },
   "outputs": [
    {
     "data": {
      "text/plain": [
       "str"
      ]
     },
     "execution_count": 191,
     "metadata": {},
     "output_type": "execute_result"
    }
   ],
   "source": [
    "s = str(''.join(sorted(str_1)))\n",
    "type(s)"
   ]
  },
  {
   "cell_type": "code",
   "execution_count": 173,
   "id": "2dba4b47",
   "metadata": {
    "ExecuteTime": {
     "end_time": "2022-09-08T21:03:37.243665Z",
     "start_time": "2022-09-08T21:03:37.232694Z"
    }
   },
   "outputs": [
    {
     "data": {
      "text/plain": [
       "['catac']"
      ]
     },
     "execution_count": 173,
     "metadata": {},
     "output_type": "execute_result"
    }
   ],
   "source": [
    "sorted()"
   ]
  },
  {
   "cell_type": "code",
   "execution_count": null,
   "id": "82267797",
   "metadata": {},
   "outputs": [],
   "source": []
  }
 ],
 "metadata": {
  "kernelspec": {
   "display_name": "Python 3 (ipykernel)",
   "language": "python",
   "name": "python3"
  },
  "language_info": {
   "codemirror_mode": {
    "name": "ipython",
    "version": 3
   },
   "file_extension": ".py",
   "mimetype": "text/x-python",
   "name": "python",
   "nbconvert_exporter": "python",
   "pygments_lexer": "ipython3",
   "version": "3.9.7"
  },
  "toc": {
   "base_numbering": 1,
   "nav_menu": {},
   "number_sections": true,
   "sideBar": true,
   "skip_h1_title": false,
   "title_cell": "Table of Contents",
   "title_sidebar": "Contents",
   "toc_cell": false,
   "toc_position": {},
   "toc_section_display": true,
   "toc_window_display": false
  }
 },
 "nbformat": 4,
 "nbformat_minor": 5
}
